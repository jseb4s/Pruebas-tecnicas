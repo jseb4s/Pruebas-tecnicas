{
 "cells": [
  {
   "cell_type": "code",
   "execution_count": 84,
   "metadata": {},
   "outputs": [],
   "source": [
    "import pandas as pd\n",
    "import matplotlib.pyplot as plt\n",
    "import numpy as np\n",
    "import plotly.express as px\n",
    "import plotly.graph_objects as go\n",
    "from scipy.stats import norm"
   ]
  },
  {
   "cell_type": "markdown",
   "metadata": {},
   "source": [
    "## Cargue de datos"
   ]
  },
  {
   "cell_type": "code",
   "execution_count": 85,
   "metadata": {},
   "outputs": [],
   "source": [
    "data = pd.read_csv(\"data/data_01.txt\", sep=\"\\t\")\n",
    "df_prom = data.copy()"
   ]
  },
  {
   "cell_type": "markdown",
   "metadata": {},
   "source": [
    "# EDA"
   ]
  },
  {
   "cell_type": "code",
   "execution_count": 86,
   "metadata": {},
   "outputs": [
    {
     "name": "stdout",
     "output_type": "stream",
     "text": [
      "(775466, 3)\n"
     ]
    },
    {
     "data": {
      "text/html": [
       "<div>\n",
       "<style scoped>\n",
       "    .dataframe tbody tr th:only-of-type {\n",
       "        vertical-align: middle;\n",
       "    }\n",
       "\n",
       "    .dataframe tbody tr th {\n",
       "        vertical-align: top;\n",
       "    }\n",
       "\n",
       "    .dataframe thead th {\n",
       "        text-align: right;\n",
       "    }\n",
       "</style>\n",
       "<table border=\"1\" class=\"dataframe\">\n",
       "  <thead>\n",
       "    <tr style=\"text-align: right;\">\n",
       "      <th></th>\n",
       "      <th>fecha</th>\n",
       "      <th>idTerminal</th>\n",
       "      <th>oper</th>\n",
       "    </tr>\n",
       "  </thead>\n",
       "  <tbody>\n",
       "    <tr>\n",
       "      <th>0</th>\n",
       "      <td>2017-01-31 08:19:33.000</td>\n",
       "      <td>1828</td>\n",
       "      <td>0</td>\n",
       "    </tr>\n",
       "    <tr>\n",
       "      <th>1</th>\n",
       "      <td>2017-01-31 08:47:16.000</td>\n",
       "      <td>1828</td>\n",
       "      <td>1</td>\n",
       "    </tr>\n",
       "    <tr>\n",
       "      <th>2</th>\n",
       "      <td>2017-01-31 08:48:07.000</td>\n",
       "      <td>1828</td>\n",
       "      <td>1</td>\n",
       "    </tr>\n",
       "    <tr>\n",
       "      <th>3</th>\n",
       "      <td>2017-01-31 08:48:58.000</td>\n",
       "      <td>1828</td>\n",
       "      <td>1</td>\n",
       "    </tr>\n",
       "    <tr>\n",
       "      <th>4</th>\n",
       "      <td>2017-01-31 08:49:53.000</td>\n",
       "      <td>1828</td>\n",
       "      <td>1</td>\n",
       "    </tr>\n",
       "    <tr>\n",
       "      <th>5</th>\n",
       "      <td>2017-01-31 08:51:35.000</td>\n",
       "      <td>1593</td>\n",
       "      <td>0</td>\n",
       "    </tr>\n",
       "    <tr>\n",
       "      <th>6</th>\n",
       "      <td>2017-01-31 08:52:45.000</td>\n",
       "      <td>1593</td>\n",
       "      <td>1</td>\n",
       "    </tr>\n",
       "    <tr>\n",
       "      <th>7</th>\n",
       "      <td>2017-01-31 08:53:33.000</td>\n",
       "      <td>1593</td>\n",
       "      <td>1</td>\n",
       "    </tr>\n",
       "    <tr>\n",
       "      <th>8</th>\n",
       "      <td>2017-01-31 08:53:53.000</td>\n",
       "      <td>1746</td>\n",
       "      <td>0</td>\n",
       "    </tr>\n",
       "    <tr>\n",
       "      <th>9</th>\n",
       "      <td>2017-01-31 08:54:33.000</td>\n",
       "      <td>1593</td>\n",
       "      <td>1</td>\n",
       "    </tr>\n",
       "  </tbody>\n",
       "</table>\n",
       "</div>"
      ],
      "text/plain": [
       "                     fecha  idTerminal  oper\n",
       "0  2017-01-31 08:19:33.000        1828     0\n",
       "1  2017-01-31 08:47:16.000        1828     1\n",
       "2  2017-01-31 08:48:07.000        1828     1\n",
       "3  2017-01-31 08:48:58.000        1828     1\n",
       "4  2017-01-31 08:49:53.000        1828     1\n",
       "5  2017-01-31 08:51:35.000        1593     0\n",
       "6  2017-01-31 08:52:45.000        1593     1\n",
       "7  2017-01-31 08:53:33.000        1593     1\n",
       "8  2017-01-31 08:53:53.000        1746     0\n",
       "9  2017-01-31 08:54:33.000        1593     1"
      ]
     },
     "execution_count": 86,
     "metadata": {},
     "output_type": "execute_result"
    }
   ],
   "source": [
    "print(data.shape)\n",
    "data.head(10)"
   ]
  },
  {
   "cell_type": "markdown",
   "metadata": {},
   "source": [
    "Se observa que se cuenta con un total de 775.466 registros de transacciones."
   ]
  },
  {
   "cell_type": "code",
   "execution_count": 87,
   "metadata": {},
   "outputs": [
    {
     "data": {
      "text/plain": [
       "fecha         object\n",
       "idTerminal     int64\n",
       "oper           int64\n",
       "dtype: object"
      ]
     },
     "execution_count": 87,
     "metadata": {},
     "output_type": "execute_result"
    }
   ],
   "source": [
    "data.dtypes"
   ]
  },
  {
   "cell_type": "markdown",
   "metadata": {},
   "source": [
    "Al revisar el tipo de datos, se observa que la columna fecha no está en el formato adecuado, por lo que se requiere hacer el respectivo ajuste. Además, sería util transformar las variables de ___idTerminal___ y ___oper___ a string por motivos de visualización."
   ]
  },
  {
   "cell_type": "code",
   "execution_count": 88,
   "metadata": {},
   "outputs": [],
   "source": [
    "data['fecha'] = pd.to_datetime(data['fecha'])\n",
    "data['idTerminal'] = data['idTerminal'].astype(str)\n",
    "data['oper'] = data['oper'].astype(str)\n",
    "data.set_index('fecha', inplace=True)"
   ]
  },
  {
   "cell_type": "markdown",
   "metadata": {},
   "source": [
    "### Verificación datos nulos"
   ]
  },
  {
   "cell_type": "code",
   "execution_count": 92,
   "metadata": {},
   "outputs": [
    {
     "data": {
      "text/plain": [
       "idTerminal    0\n",
       "oper          0\n",
       "dtype: int64"
      ]
     },
     "execution_count": 92,
     "metadata": {},
     "output_type": "execute_result"
    }
   ],
   "source": [
    "data.isna().sum()"
   ]
  },
  {
   "cell_type": "markdown",
   "metadata": {},
   "source": [
    "### Histórico de transacciones quincenales"
   ]
  },
  {
   "cell_type": "code",
   "execution_count": 89,
   "metadata": {},
   "outputs": [
    {
     "data": {
      "application/vnd.plotly.v1+json": {
       "config": {
        "plotlyServerURL": "https://plot.ly"
       },
       "data": [
        {
         "hovertemplate": "Fecha=%{x}<br>Transacciones=%{y}<extra></extra>",
         "legendgroup": "",
         "line": {
          "color": "#636efa",
          "dash": "solid"
         },
         "marker": {
          "symbol": "circle"
         },
         "mode": "lines",
         "name": "",
         "orientation": "v",
         "showlegend": false,
         "type": "scatter",
         "x": [
          "2017-02-05T00:00:00",
          "2017-02-12T00:00:00",
          "2017-02-19T00:00:00",
          "2017-02-26T00:00:00",
          "2017-03-05T00:00:00",
          "2017-03-12T00:00:00",
          "2017-03-19T00:00:00",
          "2017-03-26T00:00:00",
          "2017-04-02T00:00:00",
          "2017-04-09T00:00:00",
          "2017-04-16T00:00:00",
          "2017-04-23T00:00:00",
          "2017-04-30T00:00:00",
          "2017-05-07T00:00:00",
          "2017-05-14T00:00:00",
          "2017-05-21T00:00:00",
          "2017-05-28T00:00:00",
          "2017-06-04T00:00:00"
         ],
         "xaxis": "x",
         "y": [
          46585,
          38709,
          44861,
          36725,
          64796,
          38659,
          49833,
          31679,
          56883,
          52095,
          32352,
          37656,
          51355,
          50168,
          37641,
          42761,
          37642,
          25066
         ],
         "yaxis": "y"
        }
       ],
       "layout": {
        "legend": {
         "tracegroupgap": 0
        },
        "template": {
         "data": {
          "bar": [
           {
            "error_x": {
             "color": "#2a3f5f"
            },
            "error_y": {
             "color": "#2a3f5f"
            },
            "marker": {
             "line": {
              "color": "#E5ECF6",
              "width": 0.5
             },
             "pattern": {
              "fillmode": "overlay",
              "size": 10,
              "solidity": 0.2
             }
            },
            "type": "bar"
           }
          ],
          "barpolar": [
           {
            "marker": {
             "line": {
              "color": "#E5ECF6",
              "width": 0.5
             },
             "pattern": {
              "fillmode": "overlay",
              "size": 10,
              "solidity": 0.2
             }
            },
            "type": "barpolar"
           }
          ],
          "carpet": [
           {
            "aaxis": {
             "endlinecolor": "#2a3f5f",
             "gridcolor": "white",
             "linecolor": "white",
             "minorgridcolor": "white",
             "startlinecolor": "#2a3f5f"
            },
            "baxis": {
             "endlinecolor": "#2a3f5f",
             "gridcolor": "white",
             "linecolor": "white",
             "minorgridcolor": "white",
             "startlinecolor": "#2a3f5f"
            },
            "type": "carpet"
           }
          ],
          "choropleth": [
           {
            "colorbar": {
             "outlinewidth": 0,
             "ticks": ""
            },
            "type": "choropleth"
           }
          ],
          "contour": [
           {
            "colorbar": {
             "outlinewidth": 0,
             "ticks": ""
            },
            "colorscale": [
             [
              0,
              "#0d0887"
             ],
             [
              0.1111111111111111,
              "#46039f"
             ],
             [
              0.2222222222222222,
              "#7201a8"
             ],
             [
              0.3333333333333333,
              "#9c179e"
             ],
             [
              0.4444444444444444,
              "#bd3786"
             ],
             [
              0.5555555555555556,
              "#d8576b"
             ],
             [
              0.6666666666666666,
              "#ed7953"
             ],
             [
              0.7777777777777778,
              "#fb9f3a"
             ],
             [
              0.8888888888888888,
              "#fdca26"
             ],
             [
              1,
              "#f0f921"
             ]
            ],
            "type": "contour"
           }
          ],
          "contourcarpet": [
           {
            "colorbar": {
             "outlinewidth": 0,
             "ticks": ""
            },
            "type": "contourcarpet"
           }
          ],
          "heatmap": [
           {
            "colorbar": {
             "outlinewidth": 0,
             "ticks": ""
            },
            "colorscale": [
             [
              0,
              "#0d0887"
             ],
             [
              0.1111111111111111,
              "#46039f"
             ],
             [
              0.2222222222222222,
              "#7201a8"
             ],
             [
              0.3333333333333333,
              "#9c179e"
             ],
             [
              0.4444444444444444,
              "#bd3786"
             ],
             [
              0.5555555555555556,
              "#d8576b"
             ],
             [
              0.6666666666666666,
              "#ed7953"
             ],
             [
              0.7777777777777778,
              "#fb9f3a"
             ],
             [
              0.8888888888888888,
              "#fdca26"
             ],
             [
              1,
              "#f0f921"
             ]
            ],
            "type": "heatmap"
           }
          ],
          "heatmapgl": [
           {
            "colorbar": {
             "outlinewidth": 0,
             "ticks": ""
            },
            "colorscale": [
             [
              0,
              "#0d0887"
             ],
             [
              0.1111111111111111,
              "#46039f"
             ],
             [
              0.2222222222222222,
              "#7201a8"
             ],
             [
              0.3333333333333333,
              "#9c179e"
             ],
             [
              0.4444444444444444,
              "#bd3786"
             ],
             [
              0.5555555555555556,
              "#d8576b"
             ],
             [
              0.6666666666666666,
              "#ed7953"
             ],
             [
              0.7777777777777778,
              "#fb9f3a"
             ],
             [
              0.8888888888888888,
              "#fdca26"
             ],
             [
              1,
              "#f0f921"
             ]
            ],
            "type": "heatmapgl"
           }
          ],
          "histogram": [
           {
            "marker": {
             "pattern": {
              "fillmode": "overlay",
              "size": 10,
              "solidity": 0.2
             }
            },
            "type": "histogram"
           }
          ],
          "histogram2d": [
           {
            "colorbar": {
             "outlinewidth": 0,
             "ticks": ""
            },
            "colorscale": [
             [
              0,
              "#0d0887"
             ],
             [
              0.1111111111111111,
              "#46039f"
             ],
             [
              0.2222222222222222,
              "#7201a8"
             ],
             [
              0.3333333333333333,
              "#9c179e"
             ],
             [
              0.4444444444444444,
              "#bd3786"
             ],
             [
              0.5555555555555556,
              "#d8576b"
             ],
             [
              0.6666666666666666,
              "#ed7953"
             ],
             [
              0.7777777777777778,
              "#fb9f3a"
             ],
             [
              0.8888888888888888,
              "#fdca26"
             ],
             [
              1,
              "#f0f921"
             ]
            ],
            "type": "histogram2d"
           }
          ],
          "histogram2dcontour": [
           {
            "colorbar": {
             "outlinewidth": 0,
             "ticks": ""
            },
            "colorscale": [
             [
              0,
              "#0d0887"
             ],
             [
              0.1111111111111111,
              "#46039f"
             ],
             [
              0.2222222222222222,
              "#7201a8"
             ],
             [
              0.3333333333333333,
              "#9c179e"
             ],
             [
              0.4444444444444444,
              "#bd3786"
             ],
             [
              0.5555555555555556,
              "#d8576b"
             ],
             [
              0.6666666666666666,
              "#ed7953"
             ],
             [
              0.7777777777777778,
              "#fb9f3a"
             ],
             [
              0.8888888888888888,
              "#fdca26"
             ],
             [
              1,
              "#f0f921"
             ]
            ],
            "type": "histogram2dcontour"
           }
          ],
          "mesh3d": [
           {
            "colorbar": {
             "outlinewidth": 0,
             "ticks": ""
            },
            "type": "mesh3d"
           }
          ],
          "parcoords": [
           {
            "line": {
             "colorbar": {
              "outlinewidth": 0,
              "ticks": ""
             }
            },
            "type": "parcoords"
           }
          ],
          "pie": [
           {
            "automargin": true,
            "type": "pie"
           }
          ],
          "scatter": [
           {
            "fillpattern": {
             "fillmode": "overlay",
             "size": 10,
             "solidity": 0.2
            },
            "type": "scatter"
           }
          ],
          "scatter3d": [
           {
            "line": {
             "colorbar": {
              "outlinewidth": 0,
              "ticks": ""
             }
            },
            "marker": {
             "colorbar": {
              "outlinewidth": 0,
              "ticks": ""
             }
            },
            "type": "scatter3d"
           }
          ],
          "scattercarpet": [
           {
            "marker": {
             "colorbar": {
              "outlinewidth": 0,
              "ticks": ""
             }
            },
            "type": "scattercarpet"
           }
          ],
          "scattergeo": [
           {
            "marker": {
             "colorbar": {
              "outlinewidth": 0,
              "ticks": ""
             }
            },
            "type": "scattergeo"
           }
          ],
          "scattergl": [
           {
            "marker": {
             "colorbar": {
              "outlinewidth": 0,
              "ticks": ""
             }
            },
            "type": "scattergl"
           }
          ],
          "scattermapbox": [
           {
            "marker": {
             "colorbar": {
              "outlinewidth": 0,
              "ticks": ""
             }
            },
            "type": "scattermapbox"
           }
          ],
          "scatterpolar": [
           {
            "marker": {
             "colorbar": {
              "outlinewidth": 0,
              "ticks": ""
             }
            },
            "type": "scatterpolar"
           }
          ],
          "scatterpolargl": [
           {
            "marker": {
             "colorbar": {
              "outlinewidth": 0,
              "ticks": ""
             }
            },
            "type": "scatterpolargl"
           }
          ],
          "scatterternary": [
           {
            "marker": {
             "colorbar": {
              "outlinewidth": 0,
              "ticks": ""
             }
            },
            "type": "scatterternary"
           }
          ],
          "surface": [
           {
            "colorbar": {
             "outlinewidth": 0,
             "ticks": ""
            },
            "colorscale": [
             [
              0,
              "#0d0887"
             ],
             [
              0.1111111111111111,
              "#46039f"
             ],
             [
              0.2222222222222222,
              "#7201a8"
             ],
             [
              0.3333333333333333,
              "#9c179e"
             ],
             [
              0.4444444444444444,
              "#bd3786"
             ],
             [
              0.5555555555555556,
              "#d8576b"
             ],
             [
              0.6666666666666666,
              "#ed7953"
             ],
             [
              0.7777777777777778,
              "#fb9f3a"
             ],
             [
              0.8888888888888888,
              "#fdca26"
             ],
             [
              1,
              "#f0f921"
             ]
            ],
            "type": "surface"
           }
          ],
          "table": [
           {
            "cells": {
             "fill": {
              "color": "#EBF0F8"
             },
             "line": {
              "color": "white"
             }
            },
            "header": {
             "fill": {
              "color": "#C8D4E3"
             },
             "line": {
              "color": "white"
             }
            },
            "type": "table"
           }
          ]
         },
         "layout": {
          "annotationdefaults": {
           "arrowcolor": "#2a3f5f",
           "arrowhead": 0,
           "arrowwidth": 1
          },
          "autotypenumbers": "strict",
          "coloraxis": {
           "colorbar": {
            "outlinewidth": 0,
            "ticks": ""
           }
          },
          "colorscale": {
           "diverging": [
            [
             0,
             "#8e0152"
            ],
            [
             0.1,
             "#c51b7d"
            ],
            [
             0.2,
             "#de77ae"
            ],
            [
             0.3,
             "#f1b6da"
            ],
            [
             0.4,
             "#fde0ef"
            ],
            [
             0.5,
             "#f7f7f7"
            ],
            [
             0.6,
             "#e6f5d0"
            ],
            [
             0.7,
             "#b8e186"
            ],
            [
             0.8,
             "#7fbc41"
            ],
            [
             0.9,
             "#4d9221"
            ],
            [
             1,
             "#276419"
            ]
           ],
           "sequential": [
            [
             0,
             "#0d0887"
            ],
            [
             0.1111111111111111,
             "#46039f"
            ],
            [
             0.2222222222222222,
             "#7201a8"
            ],
            [
             0.3333333333333333,
             "#9c179e"
            ],
            [
             0.4444444444444444,
             "#bd3786"
            ],
            [
             0.5555555555555556,
             "#d8576b"
            ],
            [
             0.6666666666666666,
             "#ed7953"
            ],
            [
             0.7777777777777778,
             "#fb9f3a"
            ],
            [
             0.8888888888888888,
             "#fdca26"
            ],
            [
             1,
             "#f0f921"
            ]
           ],
           "sequentialminus": [
            [
             0,
             "#0d0887"
            ],
            [
             0.1111111111111111,
             "#46039f"
            ],
            [
             0.2222222222222222,
             "#7201a8"
            ],
            [
             0.3333333333333333,
             "#9c179e"
            ],
            [
             0.4444444444444444,
             "#bd3786"
            ],
            [
             0.5555555555555556,
             "#d8576b"
            ],
            [
             0.6666666666666666,
             "#ed7953"
            ],
            [
             0.7777777777777778,
             "#fb9f3a"
            ],
            [
             0.8888888888888888,
             "#fdca26"
            ],
            [
             1,
             "#f0f921"
            ]
           ]
          },
          "colorway": [
           "#636efa",
           "#EF553B",
           "#00cc96",
           "#ab63fa",
           "#FFA15A",
           "#19d3f3",
           "#FF6692",
           "#B6E880",
           "#FF97FF",
           "#FECB52"
          ],
          "font": {
           "color": "#2a3f5f"
          },
          "geo": {
           "bgcolor": "white",
           "lakecolor": "white",
           "landcolor": "#E5ECF6",
           "showlakes": true,
           "showland": true,
           "subunitcolor": "white"
          },
          "hoverlabel": {
           "align": "left"
          },
          "hovermode": "closest",
          "mapbox": {
           "style": "light"
          },
          "paper_bgcolor": "white",
          "plot_bgcolor": "#E5ECF6",
          "polar": {
           "angularaxis": {
            "gridcolor": "white",
            "linecolor": "white",
            "ticks": ""
           },
           "bgcolor": "#E5ECF6",
           "radialaxis": {
            "gridcolor": "white",
            "linecolor": "white",
            "ticks": ""
           }
          },
          "scene": {
           "xaxis": {
            "backgroundcolor": "#E5ECF6",
            "gridcolor": "white",
            "gridwidth": 2,
            "linecolor": "white",
            "showbackground": true,
            "ticks": "",
            "zerolinecolor": "white"
           },
           "yaxis": {
            "backgroundcolor": "#E5ECF6",
            "gridcolor": "white",
            "gridwidth": 2,
            "linecolor": "white",
            "showbackground": true,
            "ticks": "",
            "zerolinecolor": "white"
           },
           "zaxis": {
            "backgroundcolor": "#E5ECF6",
            "gridcolor": "white",
            "gridwidth": 2,
            "linecolor": "white",
            "showbackground": true,
            "ticks": "",
            "zerolinecolor": "white"
           }
          },
          "shapedefaults": {
           "line": {
            "color": "#2a3f5f"
           }
          },
          "ternary": {
           "aaxis": {
            "gridcolor": "white",
            "linecolor": "white",
            "ticks": ""
           },
           "baxis": {
            "gridcolor": "white",
            "linecolor": "white",
            "ticks": ""
           },
           "bgcolor": "#E5ECF6",
           "caxis": {
            "gridcolor": "white",
            "linecolor": "white",
            "ticks": ""
           }
          },
          "title": {
           "x": 0.05
          },
          "xaxis": {
           "automargin": true,
           "gridcolor": "white",
           "linecolor": "white",
           "ticks": "",
           "title": {
            "standoff": 15
           },
           "zerolinecolor": "white",
           "zerolinewidth": 2
          },
          "yaxis": {
           "automargin": true,
           "gridcolor": "white",
           "linecolor": "white",
           "ticks": "",
           "title": {
            "standoff": 15
           },
           "zerolinecolor": "white",
           "zerolinewidth": 2
          }
         }
        },
        "title": {
         "text": "Histórico de transacciones"
        },
        "xaxis": {
         "anchor": "y",
         "domain": [
          0,
          1
         ],
         "title": {
          "text": "Fecha"
         }
        },
        "yaxis": {
         "anchor": "x",
         "domain": [
          0,
          1
         ],
         "title": {
          "text": "Transacciones"
         }
        }
       }
      }
     },
     "metadata": {},
     "output_type": "display_data"
    }
   ],
   "source": [
    "df_grouped = data.resample('1W').size().reset_index(name='count')\n",
    "fig = px.line(df_grouped, x='fecha', y='count', title='Histórico de transacciones',\n",
    "              labels={'fecha': 'Fecha', 'count': 'Transacciones'})\n",
    "fig.show()"
   ]
  },
  {
   "cell_type": "markdown",
   "metadata": {},
   "source": [
    "De acuerdo con el gráfico, se puede observar que el histórico de transacciones no tiene una tendencia clara en el periodo de 4 meses analizados. Se observa cierta volatilidad en el volumen transaccional, y aunque en los primeros meses registran algunos picos y caidas recurrentes, estas no se mantienen despues de principios de abril. Por último, se observa que hacia la ultima semana se mayo se presenta una fuerte caida, ubicando el volumen transaccional en su punto más bajo del periodo analizado."
   ]
  },
  {
   "cell_type": "markdown",
   "metadata": {},
   "source": [
    "### Promedio de transacciones diarias por terminal y tipo de operación"
   ]
  },
  {
   "cell_type": "code",
   "execution_count": 125,
   "metadata": {},
   "outputs": [
    {
     "data": {
      "text/html": [
       "<div>\n",
       "<style scoped>\n",
       "    .dataframe tbody tr th:only-of-type {\n",
       "        vertical-align: middle;\n",
       "    }\n",
       "\n",
       "    .dataframe tbody tr th {\n",
       "        vertical-align: top;\n",
       "    }\n",
       "\n",
       "    .dataframe thead th {\n",
       "        text-align: right;\n",
       "    }\n",
       "</style>\n",
       "<table border=\"1\" class=\"dataframe\">\n",
       "  <thead>\n",
       "    <tr style=\"text-align: right;\">\n",
       "      <th></th>\n",
       "      <th>idTerminal</th>\n",
       "      <th>oper</th>\n",
       "      <th>Transacciones</th>\n",
       "    </tr>\n",
       "  </thead>\n",
       "  <tbody>\n",
       "    <tr>\n",
       "      <th>378</th>\n",
       "      <td>1774</td>\n",
       "      <td>0</td>\n",
       "      <td>147.024793</td>\n",
       "    </tr>\n",
       "    <tr>\n",
       "      <th>379</th>\n",
       "      <td>1774</td>\n",
       "      <td>1</td>\n",
       "      <td>28.308333</td>\n",
       "    </tr>\n",
       "    <tr>\n",
       "      <th>399</th>\n",
       "      <td>1774</td>\n",
       "      <td>3</td>\n",
       "      <td>54.933884</td>\n",
       "    </tr>\n",
       "    <tr>\n",
       "      <th>403</th>\n",
       "      <td>1774</td>\n",
       "      <td>4</td>\n",
       "      <td>10.715517</td>\n",
       "    </tr>\n",
       "    <tr>\n",
       "      <th>408</th>\n",
       "      <td>1774</td>\n",
       "      <td>7</td>\n",
       "      <td>10.789916</td>\n",
       "    </tr>\n",
       "    <tr>\n",
       "      <th>660</th>\n",
       "      <td>1908</td>\n",
       "      <td>0</td>\n",
       "      <td>131.140496</td>\n",
       "    </tr>\n",
       "    <tr>\n",
       "      <th>661</th>\n",
       "      <td>1908</td>\n",
       "      <td>1</td>\n",
       "      <td>20.391667</td>\n",
       "    </tr>\n",
       "    <tr>\n",
       "      <th>675</th>\n",
       "      <td>1908</td>\n",
       "      <td>3</td>\n",
       "      <td>52.462810</td>\n",
       "    </tr>\n",
       "    <tr>\n",
       "      <th>680</th>\n",
       "      <td>1908</td>\n",
       "      <td>4</td>\n",
       "      <td>19.909091</td>\n",
       "    </tr>\n",
       "    <tr>\n",
       "      <th>684</th>\n",
       "      <td>1908</td>\n",
       "      <td>7</td>\n",
       "      <td>16.533333</td>\n",
       "    </tr>\n",
       "    <tr>\n",
       "      <th>687</th>\n",
       "      <td>1910</td>\n",
       "      <td>0</td>\n",
       "      <td>135.495868</td>\n",
       "    </tr>\n",
       "    <tr>\n",
       "      <th>688</th>\n",
       "      <td>1910</td>\n",
       "      <td>1</td>\n",
       "      <td>16.136752</td>\n",
       "    </tr>\n",
       "    <tr>\n",
       "      <th>706</th>\n",
       "      <td>1910</td>\n",
       "      <td>3</td>\n",
       "      <td>31.247934</td>\n",
       "    </tr>\n",
       "    <tr>\n",
       "      <th>709</th>\n",
       "      <td>1910</td>\n",
       "      <td>4</td>\n",
       "      <td>7.500000</td>\n",
       "    </tr>\n",
       "    <tr>\n",
       "      <th>714</th>\n",
       "      <td>1910</td>\n",
       "      <td>7</td>\n",
       "      <td>19.313559</td>\n",
       "    </tr>\n",
       "    <tr>\n",
       "      <th>935</th>\n",
       "      <td>1964</td>\n",
       "      <td>0</td>\n",
       "      <td>130.166667</td>\n",
       "    </tr>\n",
       "    <tr>\n",
       "      <th>936</th>\n",
       "      <td>1964</td>\n",
       "      <td>1</td>\n",
       "      <td>28.110169</td>\n",
       "    </tr>\n",
       "    <tr>\n",
       "      <th>954</th>\n",
       "      <td>1964</td>\n",
       "      <td>3</td>\n",
       "      <td>53.441667</td>\n",
       "    </tr>\n",
       "    <tr>\n",
       "      <th>957</th>\n",
       "      <td>1964</td>\n",
       "      <td>4</td>\n",
       "      <td>15.663866</td>\n",
       "    </tr>\n",
       "    <tr>\n",
       "      <th>961</th>\n",
       "      <td>1964</td>\n",
       "      <td>7</td>\n",
       "      <td>9.775000</td>\n",
       "    </tr>\n",
       "    <tr>\n",
       "      <th>1022</th>\n",
       "      <td>1980</td>\n",
       "      <td>0</td>\n",
       "      <td>101.371901</td>\n",
       "    </tr>\n",
       "    <tr>\n",
       "      <th>1023</th>\n",
       "      <td>1980</td>\n",
       "      <td>1</td>\n",
       "      <td>34.371901</td>\n",
       "    </tr>\n",
       "    <tr>\n",
       "      <th>1039</th>\n",
       "      <td>1980</td>\n",
       "      <td>3</td>\n",
       "      <td>28.166667</td>\n",
       "    </tr>\n",
       "    <tr>\n",
       "      <th>1042</th>\n",
       "      <td>1980</td>\n",
       "      <td>4</td>\n",
       "      <td>6.150442</td>\n",
       "    </tr>\n",
       "    <tr>\n",
       "      <th>1045</th>\n",
       "      <td>1980</td>\n",
       "      <td>7</td>\n",
       "      <td>13.694215</td>\n",
       "    </tr>\n",
       "  </tbody>\n",
       "</table>\n",
       "</div>"
      ],
      "text/plain": [
       "     idTerminal oper  Transacciones\n",
       "378        1774    0     147.024793\n",
       "379        1774    1      28.308333\n",
       "399        1774    3      54.933884\n",
       "403        1774    4      10.715517\n",
       "408        1774    7      10.789916\n",
       "660        1908    0     131.140496\n",
       "661        1908    1      20.391667\n",
       "675        1908    3      52.462810\n",
       "680        1908    4      19.909091\n",
       "684        1908    7      16.533333\n",
       "687        1910    0     135.495868\n",
       "688        1910    1      16.136752\n",
       "706        1910    3      31.247934\n",
       "709        1910    4       7.500000\n",
       "714        1910    7      19.313559\n",
       "935        1964    0     130.166667\n",
       "936        1964    1      28.110169\n",
       "954        1964    3      53.441667\n",
       "957        1964    4      15.663866\n",
       "961        1964    7       9.775000\n",
       "1022       1980    0     101.371901\n",
       "1023       1980    1      34.371901\n",
       "1039       1980    3      28.166667\n",
       "1042       1980    4       6.150442\n",
       "1045       1980    7      13.694215"
      ]
     },
     "execution_count": 125,
     "metadata": {},
     "output_type": "execute_result"
    }
   ],
   "source": [
    "df_prom['fecha'] = pd.to_datetime(df_prom['fecha'])\n",
    "df_prom['fecha'] = df_prom['fecha'].dt.date\n",
    "df_prom['idTerminal'] = df_prom['idTerminal'].astype(str)\n",
    "df_prom['oper'] = df_prom['oper'].astype(str)\n",
    "\n",
    "df_agrupado = df_prom.groupby(['idTerminal', 'oper', 'fecha']).size().reset_index(name='Transacciones')\n",
    "\n",
    "pivot_table = df_agrupado.pivot_table(\n",
    "    values='Transacciones', \n",
    "    index=['idTerminal', 'oper'], \n",
    "    aggfunc='mean'\n",
    ").reset_index()\n",
    "\n",
    "\n",
    "terms = [\"1774\", \"1908\", \"1964\", \"1910\", \"1980\"]\n",
    "ops = [\"0\", \"3\", \"1\", \"7\", \"4\"]\n",
    "\n",
    "pivot_filtrado = pivot_table[\n",
    "    pivot_table['idTerminal'].isin(terms) & \n",
    "    pivot_table['oper'].isin(ops)]\n",
    "\n",
    "pivot_filtrado"
   ]
  },
  {
   "cell_type": "code",
   "execution_count": 126,
   "metadata": {},
   "outputs": [
    {
     "name": "stderr",
     "output_type": "stream",
     "text": [
      "c:\\Users\\jmoncada43\\OneDrive - Cementos Argos S.A\\Documentos\\Platzi\\DataScience\\Prueba\\env\\Lib\\site-packages\\plotly\\express\\_core.py:2065: FutureWarning:\n",
      "\n",
      "When grouping with a length-1 list-like, you will need to pass a length-1 tuple to get_group in a future version of pandas. Pass `(name,)` instead of `name` to silence this warning.\n",
      "\n"
     ]
    },
    {
     "data": {
      "application/vnd.plotly.v1+json": {
       "config": {
        "plotlyServerURL": "https://plot.ly"
       },
       "data": [
        {
         "hovertemplate": "oper=0<br>idTerminal=%{x}<br>Transacciones=%{y}<extra></extra>",
         "legendgroup": "0",
         "line": {
          "color": "#636efa",
          "dash": "solid"
         },
         "marker": {
          "symbol": "circle"
         },
         "mode": "markers+lines",
         "name": "0",
         "orientation": "v",
         "showlegend": true,
         "type": "scatter",
         "x": [
          "1774",
          "1908",
          "1910",
          "1964",
          "1980"
         ],
         "xaxis": "x",
         "y": [
          147.02479338842974,
          131.1404958677686,
          135.49586776859505,
          130.16666666666666,
          101.37190082644628
         ],
         "yaxis": "y"
        },
        {
         "hovertemplate": "oper=1<br>idTerminal=%{x}<br>Transacciones=%{y}<extra></extra>",
         "legendgroup": "1",
         "line": {
          "color": "#EF553B",
          "dash": "solid"
         },
         "marker": {
          "symbol": "circle"
         },
         "mode": "markers+lines",
         "name": "1",
         "orientation": "v",
         "showlegend": true,
         "type": "scatter",
         "x": [
          "1774",
          "1908",
          "1910",
          "1964",
          "1980"
         ],
         "xaxis": "x",
         "y": [
          28.308333333333334,
          20.391666666666666,
          16.136752136752136,
          28.110169491525422,
          34.37190082644628
         ],
         "yaxis": "y"
        },
        {
         "hovertemplate": "oper=3<br>idTerminal=%{x}<br>Transacciones=%{y}<extra></extra>",
         "legendgroup": "3",
         "line": {
          "color": "#00cc96",
          "dash": "solid"
         },
         "marker": {
          "symbol": "circle"
         },
         "mode": "markers+lines",
         "name": "3",
         "orientation": "v",
         "showlegend": true,
         "type": "scatter",
         "x": [
          "1774",
          "1908",
          "1910",
          "1964",
          "1980"
         ],
         "xaxis": "x",
         "y": [
          54.93388429752066,
          52.46280991735537,
          31.24793388429752,
          53.44166666666667,
          28.166666666666668
         ],
         "yaxis": "y"
        },
        {
         "hovertemplate": "oper=4<br>idTerminal=%{x}<br>Transacciones=%{y}<extra></extra>",
         "legendgroup": "4",
         "line": {
          "color": "#ab63fa",
          "dash": "solid"
         },
         "marker": {
          "symbol": "circle"
         },
         "mode": "markers+lines",
         "name": "4",
         "orientation": "v",
         "showlegend": true,
         "type": "scatter",
         "x": [
          "1774",
          "1908",
          "1910",
          "1964",
          "1980"
         ],
         "xaxis": "x",
         "y": [
          10.71551724137931,
          19.90909090909091,
          7.5,
          15.663865546218487,
          6.150442477876106
         ],
         "yaxis": "y"
        },
        {
         "hovertemplate": "oper=7<br>idTerminal=%{x}<br>Transacciones=%{y}<extra></extra>",
         "legendgroup": "7",
         "line": {
          "color": "#FFA15A",
          "dash": "solid"
         },
         "marker": {
          "symbol": "circle"
         },
         "mode": "markers+lines",
         "name": "7",
         "orientation": "v",
         "showlegend": true,
         "type": "scatter",
         "x": [
          "1774",
          "1908",
          "1910",
          "1964",
          "1980"
         ],
         "xaxis": "x",
         "y": [
          10.789915966386555,
          16.533333333333335,
          19.3135593220339,
          9.775,
          13.694214876033058
         ],
         "yaxis": "y"
        }
       ],
       "layout": {
        "legend": {
         "title": {
          "text": "oper"
         },
         "tracegroupgap": 0
        },
        "template": {
         "data": {
          "bar": [
           {
            "error_x": {
             "color": "#2a3f5f"
            },
            "error_y": {
             "color": "#2a3f5f"
            },
            "marker": {
             "line": {
              "color": "#E5ECF6",
              "width": 0.5
             },
             "pattern": {
              "fillmode": "overlay",
              "size": 10,
              "solidity": 0.2
             }
            },
            "type": "bar"
           }
          ],
          "barpolar": [
           {
            "marker": {
             "line": {
              "color": "#E5ECF6",
              "width": 0.5
             },
             "pattern": {
              "fillmode": "overlay",
              "size": 10,
              "solidity": 0.2
             }
            },
            "type": "barpolar"
           }
          ],
          "carpet": [
           {
            "aaxis": {
             "endlinecolor": "#2a3f5f",
             "gridcolor": "white",
             "linecolor": "white",
             "minorgridcolor": "white",
             "startlinecolor": "#2a3f5f"
            },
            "baxis": {
             "endlinecolor": "#2a3f5f",
             "gridcolor": "white",
             "linecolor": "white",
             "minorgridcolor": "white",
             "startlinecolor": "#2a3f5f"
            },
            "type": "carpet"
           }
          ],
          "choropleth": [
           {
            "colorbar": {
             "outlinewidth": 0,
             "ticks": ""
            },
            "type": "choropleth"
           }
          ],
          "contour": [
           {
            "colorbar": {
             "outlinewidth": 0,
             "ticks": ""
            },
            "colorscale": [
             [
              0,
              "#0d0887"
             ],
             [
              0.1111111111111111,
              "#46039f"
             ],
             [
              0.2222222222222222,
              "#7201a8"
             ],
             [
              0.3333333333333333,
              "#9c179e"
             ],
             [
              0.4444444444444444,
              "#bd3786"
             ],
             [
              0.5555555555555556,
              "#d8576b"
             ],
             [
              0.6666666666666666,
              "#ed7953"
             ],
             [
              0.7777777777777778,
              "#fb9f3a"
             ],
             [
              0.8888888888888888,
              "#fdca26"
             ],
             [
              1,
              "#f0f921"
             ]
            ],
            "type": "contour"
           }
          ],
          "contourcarpet": [
           {
            "colorbar": {
             "outlinewidth": 0,
             "ticks": ""
            },
            "type": "contourcarpet"
           }
          ],
          "heatmap": [
           {
            "colorbar": {
             "outlinewidth": 0,
             "ticks": ""
            },
            "colorscale": [
             [
              0,
              "#0d0887"
             ],
             [
              0.1111111111111111,
              "#46039f"
             ],
             [
              0.2222222222222222,
              "#7201a8"
             ],
             [
              0.3333333333333333,
              "#9c179e"
             ],
             [
              0.4444444444444444,
              "#bd3786"
             ],
             [
              0.5555555555555556,
              "#d8576b"
             ],
             [
              0.6666666666666666,
              "#ed7953"
             ],
             [
              0.7777777777777778,
              "#fb9f3a"
             ],
             [
              0.8888888888888888,
              "#fdca26"
             ],
             [
              1,
              "#f0f921"
             ]
            ],
            "type": "heatmap"
           }
          ],
          "heatmapgl": [
           {
            "colorbar": {
             "outlinewidth": 0,
             "ticks": ""
            },
            "colorscale": [
             [
              0,
              "#0d0887"
             ],
             [
              0.1111111111111111,
              "#46039f"
             ],
             [
              0.2222222222222222,
              "#7201a8"
             ],
             [
              0.3333333333333333,
              "#9c179e"
             ],
             [
              0.4444444444444444,
              "#bd3786"
             ],
             [
              0.5555555555555556,
              "#d8576b"
             ],
             [
              0.6666666666666666,
              "#ed7953"
             ],
             [
              0.7777777777777778,
              "#fb9f3a"
             ],
             [
              0.8888888888888888,
              "#fdca26"
             ],
             [
              1,
              "#f0f921"
             ]
            ],
            "type": "heatmapgl"
           }
          ],
          "histogram": [
           {
            "marker": {
             "pattern": {
              "fillmode": "overlay",
              "size": 10,
              "solidity": 0.2
             }
            },
            "type": "histogram"
           }
          ],
          "histogram2d": [
           {
            "colorbar": {
             "outlinewidth": 0,
             "ticks": ""
            },
            "colorscale": [
             [
              0,
              "#0d0887"
             ],
             [
              0.1111111111111111,
              "#46039f"
             ],
             [
              0.2222222222222222,
              "#7201a8"
             ],
             [
              0.3333333333333333,
              "#9c179e"
             ],
             [
              0.4444444444444444,
              "#bd3786"
             ],
             [
              0.5555555555555556,
              "#d8576b"
             ],
             [
              0.6666666666666666,
              "#ed7953"
             ],
             [
              0.7777777777777778,
              "#fb9f3a"
             ],
             [
              0.8888888888888888,
              "#fdca26"
             ],
             [
              1,
              "#f0f921"
             ]
            ],
            "type": "histogram2d"
           }
          ],
          "histogram2dcontour": [
           {
            "colorbar": {
             "outlinewidth": 0,
             "ticks": ""
            },
            "colorscale": [
             [
              0,
              "#0d0887"
             ],
             [
              0.1111111111111111,
              "#46039f"
             ],
             [
              0.2222222222222222,
              "#7201a8"
             ],
             [
              0.3333333333333333,
              "#9c179e"
             ],
             [
              0.4444444444444444,
              "#bd3786"
             ],
             [
              0.5555555555555556,
              "#d8576b"
             ],
             [
              0.6666666666666666,
              "#ed7953"
             ],
             [
              0.7777777777777778,
              "#fb9f3a"
             ],
             [
              0.8888888888888888,
              "#fdca26"
             ],
             [
              1,
              "#f0f921"
             ]
            ],
            "type": "histogram2dcontour"
           }
          ],
          "mesh3d": [
           {
            "colorbar": {
             "outlinewidth": 0,
             "ticks": ""
            },
            "type": "mesh3d"
           }
          ],
          "parcoords": [
           {
            "line": {
             "colorbar": {
              "outlinewidth": 0,
              "ticks": ""
             }
            },
            "type": "parcoords"
           }
          ],
          "pie": [
           {
            "automargin": true,
            "type": "pie"
           }
          ],
          "scatter": [
           {
            "fillpattern": {
             "fillmode": "overlay",
             "size": 10,
             "solidity": 0.2
            },
            "type": "scatter"
           }
          ],
          "scatter3d": [
           {
            "line": {
             "colorbar": {
              "outlinewidth": 0,
              "ticks": ""
             }
            },
            "marker": {
             "colorbar": {
              "outlinewidth": 0,
              "ticks": ""
             }
            },
            "type": "scatter3d"
           }
          ],
          "scattercarpet": [
           {
            "marker": {
             "colorbar": {
              "outlinewidth": 0,
              "ticks": ""
             }
            },
            "type": "scattercarpet"
           }
          ],
          "scattergeo": [
           {
            "marker": {
             "colorbar": {
              "outlinewidth": 0,
              "ticks": ""
             }
            },
            "type": "scattergeo"
           }
          ],
          "scattergl": [
           {
            "marker": {
             "colorbar": {
              "outlinewidth": 0,
              "ticks": ""
             }
            },
            "type": "scattergl"
           }
          ],
          "scattermapbox": [
           {
            "marker": {
             "colorbar": {
              "outlinewidth": 0,
              "ticks": ""
             }
            },
            "type": "scattermapbox"
           }
          ],
          "scatterpolar": [
           {
            "marker": {
             "colorbar": {
              "outlinewidth": 0,
              "ticks": ""
             }
            },
            "type": "scatterpolar"
           }
          ],
          "scatterpolargl": [
           {
            "marker": {
             "colorbar": {
              "outlinewidth": 0,
              "ticks": ""
             }
            },
            "type": "scatterpolargl"
           }
          ],
          "scatterternary": [
           {
            "marker": {
             "colorbar": {
              "outlinewidth": 0,
              "ticks": ""
             }
            },
            "type": "scatterternary"
           }
          ],
          "surface": [
           {
            "colorbar": {
             "outlinewidth": 0,
             "ticks": ""
            },
            "colorscale": [
             [
              0,
              "#0d0887"
             ],
             [
              0.1111111111111111,
              "#46039f"
             ],
             [
              0.2222222222222222,
              "#7201a8"
             ],
             [
              0.3333333333333333,
              "#9c179e"
             ],
             [
              0.4444444444444444,
              "#bd3786"
             ],
             [
              0.5555555555555556,
              "#d8576b"
             ],
             [
              0.6666666666666666,
              "#ed7953"
             ],
             [
              0.7777777777777778,
              "#fb9f3a"
             ],
             [
              0.8888888888888888,
              "#fdca26"
             ],
             [
              1,
              "#f0f921"
             ]
            ],
            "type": "surface"
           }
          ],
          "table": [
           {
            "cells": {
             "fill": {
              "color": "#EBF0F8"
             },
             "line": {
              "color": "white"
             }
            },
            "header": {
             "fill": {
              "color": "#C8D4E3"
             },
             "line": {
              "color": "white"
             }
            },
            "type": "table"
           }
          ]
         },
         "layout": {
          "annotationdefaults": {
           "arrowcolor": "#2a3f5f",
           "arrowhead": 0,
           "arrowwidth": 1
          },
          "autotypenumbers": "strict",
          "coloraxis": {
           "colorbar": {
            "outlinewidth": 0,
            "ticks": ""
           }
          },
          "colorscale": {
           "diverging": [
            [
             0,
             "#8e0152"
            ],
            [
             0.1,
             "#c51b7d"
            ],
            [
             0.2,
             "#de77ae"
            ],
            [
             0.3,
             "#f1b6da"
            ],
            [
             0.4,
             "#fde0ef"
            ],
            [
             0.5,
             "#f7f7f7"
            ],
            [
             0.6,
             "#e6f5d0"
            ],
            [
             0.7,
             "#b8e186"
            ],
            [
             0.8,
             "#7fbc41"
            ],
            [
             0.9,
             "#4d9221"
            ],
            [
             1,
             "#276419"
            ]
           ],
           "sequential": [
            [
             0,
             "#0d0887"
            ],
            [
             0.1111111111111111,
             "#46039f"
            ],
            [
             0.2222222222222222,
             "#7201a8"
            ],
            [
             0.3333333333333333,
             "#9c179e"
            ],
            [
             0.4444444444444444,
             "#bd3786"
            ],
            [
             0.5555555555555556,
             "#d8576b"
            ],
            [
             0.6666666666666666,
             "#ed7953"
            ],
            [
             0.7777777777777778,
             "#fb9f3a"
            ],
            [
             0.8888888888888888,
             "#fdca26"
            ],
            [
             1,
             "#f0f921"
            ]
           ],
           "sequentialminus": [
            [
             0,
             "#0d0887"
            ],
            [
             0.1111111111111111,
             "#46039f"
            ],
            [
             0.2222222222222222,
             "#7201a8"
            ],
            [
             0.3333333333333333,
             "#9c179e"
            ],
            [
             0.4444444444444444,
             "#bd3786"
            ],
            [
             0.5555555555555556,
             "#d8576b"
            ],
            [
             0.6666666666666666,
             "#ed7953"
            ],
            [
             0.7777777777777778,
             "#fb9f3a"
            ],
            [
             0.8888888888888888,
             "#fdca26"
            ],
            [
             1,
             "#f0f921"
            ]
           ]
          },
          "colorway": [
           "#636efa",
           "#EF553B",
           "#00cc96",
           "#ab63fa",
           "#FFA15A",
           "#19d3f3",
           "#FF6692",
           "#B6E880",
           "#FF97FF",
           "#FECB52"
          ],
          "font": {
           "color": "#2a3f5f"
          },
          "geo": {
           "bgcolor": "white",
           "lakecolor": "white",
           "landcolor": "#E5ECF6",
           "showlakes": true,
           "showland": true,
           "subunitcolor": "white"
          },
          "hoverlabel": {
           "align": "left"
          },
          "hovermode": "closest",
          "mapbox": {
           "style": "light"
          },
          "paper_bgcolor": "white",
          "plot_bgcolor": "#E5ECF6",
          "polar": {
           "angularaxis": {
            "gridcolor": "white",
            "linecolor": "white",
            "ticks": ""
           },
           "bgcolor": "#E5ECF6",
           "radialaxis": {
            "gridcolor": "white",
            "linecolor": "white",
            "ticks": ""
           }
          },
          "scene": {
           "xaxis": {
            "backgroundcolor": "#E5ECF6",
            "gridcolor": "white",
            "gridwidth": 2,
            "linecolor": "white",
            "showbackground": true,
            "ticks": "",
            "zerolinecolor": "white"
           },
           "yaxis": {
            "backgroundcolor": "#E5ECF6",
            "gridcolor": "white",
            "gridwidth": 2,
            "linecolor": "white",
            "showbackground": true,
            "ticks": "",
            "zerolinecolor": "white"
           },
           "zaxis": {
            "backgroundcolor": "#E5ECF6",
            "gridcolor": "white",
            "gridwidth": 2,
            "linecolor": "white",
            "showbackground": true,
            "ticks": "",
            "zerolinecolor": "white"
           }
          },
          "shapedefaults": {
           "line": {
            "color": "#2a3f5f"
           }
          },
          "ternary": {
           "aaxis": {
            "gridcolor": "white",
            "linecolor": "white",
            "ticks": ""
           },
           "baxis": {
            "gridcolor": "white",
            "linecolor": "white",
            "ticks": ""
           },
           "bgcolor": "#E5ECF6",
           "caxis": {
            "gridcolor": "white",
            "linecolor": "white",
            "ticks": ""
           }
          },
          "title": {
           "x": 0.05
          },
          "xaxis": {
           "automargin": true,
           "gridcolor": "white",
           "linecolor": "white",
           "ticks": "",
           "title": {
            "standoff": 15
           },
           "zerolinecolor": "white",
           "zerolinewidth": 2
          },
          "yaxis": {
           "automargin": true,
           "gridcolor": "white",
           "linecolor": "white",
           "ticks": "",
           "title": {
            "standoff": 15
           },
           "zerolinecolor": "white",
           "zerolinewidth": 2
          }
         }
        },
        "title": {
         "text": "Promedio de transacciones diarias por terminal y tipo de transacción"
        },
        "xaxis": {
         "anchor": "y",
         "domain": [
          0,
          1
         ],
         "title": {
          "text": "idTerminal"
         }
        },
        "yaxis": {
         "anchor": "x",
         "domain": [
          0,
          1
         ],
         "title": {
          "text": "Transacciones"
         }
        }
       }
      }
     },
     "metadata": {},
     "output_type": "display_data"
    }
   ],
   "source": [
    "fig = px.line(pivot_filtrado, x='idTerminal', y='Transacciones', color='oper', markers='o', title=\"Promedio de transacciones diarias por terminal y tipo de transacción\")\n",
    "fig.show()"
   ]
  },
  {
   "cell_type": "markdown",
   "metadata": {},
   "source": [
    "Los resultados indican como la operación 0 tiene una demanda diaria promedio muy superior respecto a las demás operaciones, rondando un promedio por terminal entre 100 y 150 operaciones diarias. Por otro lado, las otras 4 operaciones con mayor demanda muestran niveles promedio similares, situandose en un rango diario entre las 8 y 50 operaciones aproximadamente."
   ]
  },
  {
   "cell_type": "markdown",
   "metadata": {},
   "source": [
    "### Histograma"
   ]
  },
  {
   "cell_type": "code",
   "execution_count": 90,
   "metadata": {},
   "outputs": [
    {
     "data": {
      "application/vnd.plotly.v1+json": {
       "config": {
        "plotlyServerURL": "https://plot.ly"
       },
       "data": [
        {
         "alignmentgroup": "True",
         "bingroup": "x",
         "hovertemplate": "Transacciones=%{x}<br>count=%{y}<extra></extra>",
         "legendgroup": "",
         "marker": {
          "color": "#636efa",
          "pattern": {
           "shape": ""
          }
         },
         "name": "",
         "nbinsx": 6,
         "offsetgroup": "",
         "orientation": "v",
         "showlegend": false,
         "type": "histogram",
         "x": [
          46585,
          83570,
          101521,
          88492,
          88562,
          84447,
          89011,
          87809,
          80403,
          25066
         ],
         "xaxis": "x",
         "yaxis": "y"
        }
       ],
       "layout": {
        "barmode": "relative",
        "height": 400,
        "legend": {
         "tracegroupgap": 0
        },
        "template": {
         "data": {
          "bar": [
           {
            "error_x": {
             "color": "#2a3f5f"
            },
            "error_y": {
             "color": "#2a3f5f"
            },
            "marker": {
             "line": {
              "color": "#E5ECF6",
              "width": 0.5
             },
             "pattern": {
              "fillmode": "overlay",
              "size": 10,
              "solidity": 0.2
             }
            },
            "type": "bar"
           }
          ],
          "barpolar": [
           {
            "marker": {
             "line": {
              "color": "#E5ECF6",
              "width": 0.5
             },
             "pattern": {
              "fillmode": "overlay",
              "size": 10,
              "solidity": 0.2
             }
            },
            "type": "barpolar"
           }
          ],
          "carpet": [
           {
            "aaxis": {
             "endlinecolor": "#2a3f5f",
             "gridcolor": "white",
             "linecolor": "white",
             "minorgridcolor": "white",
             "startlinecolor": "#2a3f5f"
            },
            "baxis": {
             "endlinecolor": "#2a3f5f",
             "gridcolor": "white",
             "linecolor": "white",
             "minorgridcolor": "white",
             "startlinecolor": "#2a3f5f"
            },
            "type": "carpet"
           }
          ],
          "choropleth": [
           {
            "colorbar": {
             "outlinewidth": 0,
             "ticks": ""
            },
            "type": "choropleth"
           }
          ],
          "contour": [
           {
            "colorbar": {
             "outlinewidth": 0,
             "ticks": ""
            },
            "colorscale": [
             [
              0,
              "#0d0887"
             ],
             [
              0.1111111111111111,
              "#46039f"
             ],
             [
              0.2222222222222222,
              "#7201a8"
             ],
             [
              0.3333333333333333,
              "#9c179e"
             ],
             [
              0.4444444444444444,
              "#bd3786"
             ],
             [
              0.5555555555555556,
              "#d8576b"
             ],
             [
              0.6666666666666666,
              "#ed7953"
             ],
             [
              0.7777777777777778,
              "#fb9f3a"
             ],
             [
              0.8888888888888888,
              "#fdca26"
             ],
             [
              1,
              "#f0f921"
             ]
            ],
            "type": "contour"
           }
          ],
          "contourcarpet": [
           {
            "colorbar": {
             "outlinewidth": 0,
             "ticks": ""
            },
            "type": "contourcarpet"
           }
          ],
          "heatmap": [
           {
            "colorbar": {
             "outlinewidth": 0,
             "ticks": ""
            },
            "colorscale": [
             [
              0,
              "#0d0887"
             ],
             [
              0.1111111111111111,
              "#46039f"
             ],
             [
              0.2222222222222222,
              "#7201a8"
             ],
             [
              0.3333333333333333,
              "#9c179e"
             ],
             [
              0.4444444444444444,
              "#bd3786"
             ],
             [
              0.5555555555555556,
              "#d8576b"
             ],
             [
              0.6666666666666666,
              "#ed7953"
             ],
             [
              0.7777777777777778,
              "#fb9f3a"
             ],
             [
              0.8888888888888888,
              "#fdca26"
             ],
             [
              1,
              "#f0f921"
             ]
            ],
            "type": "heatmap"
           }
          ],
          "heatmapgl": [
           {
            "colorbar": {
             "outlinewidth": 0,
             "ticks": ""
            },
            "colorscale": [
             [
              0,
              "#0d0887"
             ],
             [
              0.1111111111111111,
              "#46039f"
             ],
             [
              0.2222222222222222,
              "#7201a8"
             ],
             [
              0.3333333333333333,
              "#9c179e"
             ],
             [
              0.4444444444444444,
              "#bd3786"
             ],
             [
              0.5555555555555556,
              "#d8576b"
             ],
             [
              0.6666666666666666,
              "#ed7953"
             ],
             [
              0.7777777777777778,
              "#fb9f3a"
             ],
             [
              0.8888888888888888,
              "#fdca26"
             ],
             [
              1,
              "#f0f921"
             ]
            ],
            "type": "heatmapgl"
           }
          ],
          "histogram": [
           {
            "marker": {
             "pattern": {
              "fillmode": "overlay",
              "size": 10,
              "solidity": 0.2
             }
            },
            "type": "histogram"
           }
          ],
          "histogram2d": [
           {
            "colorbar": {
             "outlinewidth": 0,
             "ticks": ""
            },
            "colorscale": [
             [
              0,
              "#0d0887"
             ],
             [
              0.1111111111111111,
              "#46039f"
             ],
             [
              0.2222222222222222,
              "#7201a8"
             ],
             [
              0.3333333333333333,
              "#9c179e"
             ],
             [
              0.4444444444444444,
              "#bd3786"
             ],
             [
              0.5555555555555556,
              "#d8576b"
             ],
             [
              0.6666666666666666,
              "#ed7953"
             ],
             [
              0.7777777777777778,
              "#fb9f3a"
             ],
             [
              0.8888888888888888,
              "#fdca26"
             ],
             [
              1,
              "#f0f921"
             ]
            ],
            "type": "histogram2d"
           }
          ],
          "histogram2dcontour": [
           {
            "colorbar": {
             "outlinewidth": 0,
             "ticks": ""
            },
            "colorscale": [
             [
              0,
              "#0d0887"
             ],
             [
              0.1111111111111111,
              "#46039f"
             ],
             [
              0.2222222222222222,
              "#7201a8"
             ],
             [
              0.3333333333333333,
              "#9c179e"
             ],
             [
              0.4444444444444444,
              "#bd3786"
             ],
             [
              0.5555555555555556,
              "#d8576b"
             ],
             [
              0.6666666666666666,
              "#ed7953"
             ],
             [
              0.7777777777777778,
              "#fb9f3a"
             ],
             [
              0.8888888888888888,
              "#fdca26"
             ],
             [
              1,
              "#f0f921"
             ]
            ],
            "type": "histogram2dcontour"
           }
          ],
          "mesh3d": [
           {
            "colorbar": {
             "outlinewidth": 0,
             "ticks": ""
            },
            "type": "mesh3d"
           }
          ],
          "parcoords": [
           {
            "line": {
             "colorbar": {
              "outlinewidth": 0,
              "ticks": ""
             }
            },
            "type": "parcoords"
           }
          ],
          "pie": [
           {
            "automargin": true,
            "type": "pie"
           }
          ],
          "scatter": [
           {
            "fillpattern": {
             "fillmode": "overlay",
             "size": 10,
             "solidity": 0.2
            },
            "type": "scatter"
           }
          ],
          "scatter3d": [
           {
            "line": {
             "colorbar": {
              "outlinewidth": 0,
              "ticks": ""
             }
            },
            "marker": {
             "colorbar": {
              "outlinewidth": 0,
              "ticks": ""
             }
            },
            "type": "scatter3d"
           }
          ],
          "scattercarpet": [
           {
            "marker": {
             "colorbar": {
              "outlinewidth": 0,
              "ticks": ""
             }
            },
            "type": "scattercarpet"
           }
          ],
          "scattergeo": [
           {
            "marker": {
             "colorbar": {
              "outlinewidth": 0,
              "ticks": ""
             }
            },
            "type": "scattergeo"
           }
          ],
          "scattergl": [
           {
            "marker": {
             "colorbar": {
              "outlinewidth": 0,
              "ticks": ""
             }
            },
            "type": "scattergl"
           }
          ],
          "scattermapbox": [
           {
            "marker": {
             "colorbar": {
              "outlinewidth": 0,
              "ticks": ""
             }
            },
            "type": "scattermapbox"
           }
          ],
          "scatterpolar": [
           {
            "marker": {
             "colorbar": {
              "outlinewidth": 0,
              "ticks": ""
             }
            },
            "type": "scatterpolar"
           }
          ],
          "scatterpolargl": [
           {
            "marker": {
             "colorbar": {
              "outlinewidth": 0,
              "ticks": ""
             }
            },
            "type": "scatterpolargl"
           }
          ],
          "scatterternary": [
           {
            "marker": {
             "colorbar": {
              "outlinewidth": 0,
              "ticks": ""
             }
            },
            "type": "scatterternary"
           }
          ],
          "surface": [
           {
            "colorbar": {
             "outlinewidth": 0,
             "ticks": ""
            },
            "colorscale": [
             [
              0,
              "#0d0887"
             ],
             [
              0.1111111111111111,
              "#46039f"
             ],
             [
              0.2222222222222222,
              "#7201a8"
             ],
             [
              0.3333333333333333,
              "#9c179e"
             ],
             [
              0.4444444444444444,
              "#bd3786"
             ],
             [
              0.5555555555555556,
              "#d8576b"
             ],
             [
              0.6666666666666666,
              "#ed7953"
             ],
             [
              0.7777777777777778,
              "#fb9f3a"
             ],
             [
              0.8888888888888888,
              "#fdca26"
             ],
             [
              1,
              "#f0f921"
             ]
            ],
            "type": "surface"
           }
          ],
          "table": [
           {
            "cells": {
             "fill": {
              "color": "#EBF0F8"
             },
             "line": {
              "color": "white"
             }
            },
            "header": {
             "fill": {
              "color": "#C8D4E3"
             },
             "line": {
              "color": "white"
             }
            },
            "type": "table"
           }
          ]
         },
         "layout": {
          "annotationdefaults": {
           "arrowcolor": "#2a3f5f",
           "arrowhead": 0,
           "arrowwidth": 1
          },
          "autotypenumbers": "strict",
          "coloraxis": {
           "colorbar": {
            "outlinewidth": 0,
            "ticks": ""
           }
          },
          "colorscale": {
           "diverging": [
            [
             0,
             "#8e0152"
            ],
            [
             0.1,
             "#c51b7d"
            ],
            [
             0.2,
             "#de77ae"
            ],
            [
             0.3,
             "#f1b6da"
            ],
            [
             0.4,
             "#fde0ef"
            ],
            [
             0.5,
             "#f7f7f7"
            ],
            [
             0.6,
             "#e6f5d0"
            ],
            [
             0.7,
             "#b8e186"
            ],
            [
             0.8,
             "#7fbc41"
            ],
            [
             0.9,
             "#4d9221"
            ],
            [
             1,
             "#276419"
            ]
           ],
           "sequential": [
            [
             0,
             "#0d0887"
            ],
            [
             0.1111111111111111,
             "#46039f"
            ],
            [
             0.2222222222222222,
             "#7201a8"
            ],
            [
             0.3333333333333333,
             "#9c179e"
            ],
            [
             0.4444444444444444,
             "#bd3786"
            ],
            [
             0.5555555555555556,
             "#d8576b"
            ],
            [
             0.6666666666666666,
             "#ed7953"
            ],
            [
             0.7777777777777778,
             "#fb9f3a"
            ],
            [
             0.8888888888888888,
             "#fdca26"
            ],
            [
             1,
             "#f0f921"
            ]
           ],
           "sequentialminus": [
            [
             0,
             "#0d0887"
            ],
            [
             0.1111111111111111,
             "#46039f"
            ],
            [
             0.2222222222222222,
             "#7201a8"
            ],
            [
             0.3333333333333333,
             "#9c179e"
            ],
            [
             0.4444444444444444,
             "#bd3786"
            ],
            [
             0.5555555555555556,
             "#d8576b"
            ],
            [
             0.6666666666666666,
             "#ed7953"
            ],
            [
             0.7777777777777778,
             "#fb9f3a"
            ],
            [
             0.8888888888888888,
             "#fdca26"
            ],
            [
             1,
             "#f0f921"
            ]
           ]
          },
          "colorway": [
           "#636efa",
           "#EF553B",
           "#00cc96",
           "#ab63fa",
           "#FFA15A",
           "#19d3f3",
           "#FF6692",
           "#B6E880",
           "#FF97FF",
           "#FECB52"
          ],
          "font": {
           "color": "#2a3f5f"
          },
          "geo": {
           "bgcolor": "white",
           "lakecolor": "white",
           "landcolor": "#E5ECF6",
           "showlakes": true,
           "showland": true,
           "subunitcolor": "white"
          },
          "hoverlabel": {
           "align": "left"
          },
          "hovermode": "closest",
          "mapbox": {
           "style": "light"
          },
          "paper_bgcolor": "white",
          "plot_bgcolor": "#E5ECF6",
          "polar": {
           "angularaxis": {
            "gridcolor": "white",
            "linecolor": "white",
            "ticks": ""
           },
           "bgcolor": "#E5ECF6",
           "radialaxis": {
            "gridcolor": "white",
            "linecolor": "white",
            "ticks": ""
           }
          },
          "scene": {
           "xaxis": {
            "backgroundcolor": "#E5ECF6",
            "gridcolor": "white",
            "gridwidth": 2,
            "linecolor": "white",
            "showbackground": true,
            "ticks": "",
            "zerolinecolor": "white"
           },
           "yaxis": {
            "backgroundcolor": "#E5ECF6",
            "gridcolor": "white",
            "gridwidth": 2,
            "linecolor": "white",
            "showbackground": true,
            "ticks": "",
            "zerolinecolor": "white"
           },
           "zaxis": {
            "backgroundcolor": "#E5ECF6",
            "gridcolor": "white",
            "gridwidth": 2,
            "linecolor": "white",
            "showbackground": true,
            "ticks": "",
            "zerolinecolor": "white"
           }
          },
          "shapedefaults": {
           "line": {
            "color": "#2a3f5f"
           }
          },
          "ternary": {
           "aaxis": {
            "gridcolor": "white",
            "linecolor": "white",
            "ticks": ""
           },
           "baxis": {
            "gridcolor": "white",
            "linecolor": "white",
            "ticks": ""
           },
           "bgcolor": "#E5ECF6",
           "caxis": {
            "gridcolor": "white",
            "linecolor": "white",
            "ticks": ""
           }
          },
          "title": {
           "x": 0.05
          },
          "xaxis": {
           "automargin": true,
           "gridcolor": "white",
           "linecolor": "white",
           "ticks": "",
           "title": {
            "standoff": 15
           },
           "zerolinecolor": "white",
           "zerolinewidth": 2
          },
          "yaxis": {
           "automargin": true,
           "gridcolor": "white",
           "linecolor": "white",
           "ticks": "",
           "title": {
            "standoff": 15
           },
           "zerolinecolor": "white",
           "zerolinewidth": 2
          }
         }
        },
        "title": {
         "text": "Histograma de transacciones quincenales"
        },
        "width": 600,
        "xaxis": {
         "anchor": "y",
         "domain": [
          0,
          1
         ],
         "title": {
          "text": "Transacciones"
         }
        },
        "yaxis": {
         "anchor": "x",
         "domain": [
          0,
          1
         ],
         "title": {
          "text": "Recuento quincenal"
         }
        }
       }
      }
     },
     "metadata": {},
     "output_type": "display_data"
    }
   ],
   "source": [
    "df_grouped = data.resample('2W').size().reset_index(name='count')\n",
    "fig = px.histogram(df_grouped, x='count', nbins=6, title='Histograma de transacciones quincenales',\n",
    "                   labels={'count': 'Transacciones'})\n",
    "\n",
    "fig.update_layout(width=600, height=400) \n",
    "fig.update_yaxes(title_text=\"Recuento quincenal\")\n",
    "fig.show()"
   ]
  },
  {
   "cell_type": "markdown",
   "metadata": {},
   "source": [
    "Al análizar el histograma, se observa que durante 7 periodos quincenales se registro un volumen de entre 80.000 y 100.000 transacciones, siendo este el intervalo más recurrente. Se destaca que en ninguna quincena se presentó un volumen entre las 60.000 y 80.000 transacciones, pues el restante se ubica entre las 20.000 y 60.000 y las 100.000 y 120.000"
   ]
  },
  {
   "cell_type": "markdown",
   "metadata": {},
   "source": [
    "### Curva de distribución normal"
   ]
  },
  {
   "cell_type": "code",
   "execution_count": 91,
   "metadata": {},
   "outputs": [
    {
     "data": {
      "application/vnd.plotly.v1+json": {
       "config": {
        "plotlyServerURL": "https://plot.ly"
       },
       "data": [
        {
         "mode": "lines",
         "name": "Distribución normal",
         "type": "scatter",
         "x": [
          25066,
          25142.53153153153,
          25219.063063063062,
          25295.594594594593,
          25372.126126126124,
          25448.65765765766,
          25525.18918918919,
          25601.72072072072,
          25678.252252252252,
          25754.783783783783,
          25831.315315315314,
          25907.846846846845,
          25984.37837837838,
          26060.90990990991,
          26137.441441441442,
          26213.972972972973,
          26290.504504504504,
          26367.036036036036,
          26443.567567567567,
          26520.099099099098,
          26596.63063063063,
          26673.162162162163,
          26749.693693693695,
          26826.225225225226,
          26902.756756756757,
          26979.288288288288,
          27055.81981981982,
          27132.35135135135,
          27208.882882882885,
          27285.414414414416,
          27361.945945945947,
          27438.477477477478,
          27515.00900900901,
          27591.54054054054,
          27668.07207207207,
          27744.603603603602,
          27821.135135135133,
          27897.666666666668,
          27974.1981981982,
          28050.72972972973,
          28127.26126126126,
          28203.792792792792,
          28280.324324324323,
          28356.855855855854,
          28433.38738738739,
          28509.91891891892,
          28586.45045045045,
          28662.981981981982,
          28739.513513513513,
          28816.045045045044,
          28892.576576576575,
          28969.108108108107,
          29045.639639639638,
          29122.171171171172,
          29198.702702702703,
          29275.234234234234,
          29351.765765765766,
          29428.297297297297,
          29504.828828828828,
          29581.360360360362,
          29657.891891891893,
          29734.423423423425,
          29810.954954954956,
          29887.486486486487,
          29964.018018018018,
          30040.54954954955,
          30117.08108108108,
          30193.61261261261,
          30270.144144144142,
          30346.675675675673,
          30423.207207207208,
          30499.73873873874,
          30576.27027027027,
          30652.8018018018,
          30729.333333333332,
          30805.864864864867,
          30882.396396396398,
          30958.92792792793,
          31035.45945945946,
          31111.99099099099,
          31188.522522522522,
          31265.054054054053,
          31341.585585585584,
          31418.117117117115,
          31494.648648648646,
          31571.180180180178,
          31647.711711711712,
          31724.243243243243,
          31800.774774774774,
          31877.306306306305,
          31953.837837837837,
          32030.36936936937,
          32106.900900900902,
          32183.432432432433,
          32259.963963963964,
          32336.495495495496,
          32413.027027027027,
          32489.558558558558,
          32566.09009009009,
          32642.62162162162,
          32719.15315315315,
          32795.68468468468,
          32872.21621621621,
          32948.74774774775,
          33025.279279279275,
          33101.81081081081,
          33178.342342342345,
          33254.873873873876,
          33331.40540540541,
          33407.93693693694,
          33484.46846846847,
          33561,
          33637.53153153153,
          33714.06306306306,
          33790.59459459459,
          33867.126126126124,
          33943.657657657655,
          34020.18918918919,
          34096.720720720725,
          34173.25225225225,
          34249.78378378379,
          34326.31531531531,
          34402.84684684685,
          34479.37837837838,
          34555.90990990991,
          34632.44144144144,
          34708.97297297297,
          34785.504504504504,
          34862.036036036036,
          34938.56756756757,
          35015.0990990991,
          35091.63063063063,
          35168.16216216216,
          35244.69369369369,
          35321.22522522522,
          35397.75675675676,
          35474.288288288284,
          35550.81981981982,
          35627.351351351346,
          35703.882882882885,
          35780.414414414416,
          35856.94594594595,
          35933.47747747748,
          36010.00900900901,
          36086.54054054054,
          36163.07207207207,
          36239.6036036036,
          36316.13513513513,
          36392.666666666664,
          36469.198198198195,
          36545.729729729734,
          36622.26126126126,
          36698.792792792796,
          36775.32432432432,
          36851.85585585586,
          36928.38738738739,
          37004.91891891892,
          37081.45045045045,
          37157.98198198198,
          37234.51351351351,
          37311.045045045044,
          37387.576576576575,
          37464.10810810811,
          37540.63963963964,
          37617.17117117117,
          37693.7027027027,
          37770.23423423423,
          37846.76576576577,
          37923.29729729729,
          37999.82882882883,
          38076.360360360355,
          38152.89189189189,
          38229.423423423425,
          38305.954954954956,
          38382.48648648649,
          38459.01801801802,
          38535.54954954955,
          38612.08108108108,
          38688.61261261261,
          38765.14414414414,
          38841.67567567567,
          38918.207207207204,
          38994.73873873874,
          39071.270270270266,
          39147.801801801805,
          39224.33333333333,
          39300.86486486487,
          39377.3963963964,
          39453.92792792793,
          39530.45945945946,
          39606.99099099099,
          39683.52252252252,
          39760.05405405405,
          39836.585585585584,
          39913.117117117115,
          39989.64864864865,
          40066.18018018018,
          40142.71171171171,
          40219.24324324324,
          40295.77477477478,
          40372.3063063063,
          40448.83783783784,
          40525.369369369364,
          40601.9009009009,
          40678.43243243243,
          40754.963963963964,
          40831.495495495496,
          40908.02702702703,
          40984.55855855856,
          41061.09009009009,
          41137.62162162162,
          41214.15315315315,
          41290.68468468468,
          41367.21621621621,
          41443.74774774775,
          41520.279279279275,
          41596.81081081081,
          41673.34234234234,
          41749.873873873876,
          41826.4054054054,
          41902.93693693694,
          41979.46846846847,
          42056,
          42132.53153153153,
          42209.06306306306,
          42285.59459459459,
          42362.126126126124,
          42438.657657657655,
          42515.18918918919,
          42591.720720720725,
          42668.25225225225,
          42744.78378378379,
          42821.31531531531,
          42897.84684684685,
          42974.37837837837,
          43050.90990990991,
          43127.44144144144,
          43203.97297297297,
          43280.504504504504,
          43357.036036036036,
          43433.56756756757,
          43510.0990990991,
          43586.63063063063,
          43663.16216216216,
          43739.69369369369,
          43816.22522522522,
          43892.75675675676,
          43969.288288288284,
          44045.81981981982,
          44122.351351351346,
          44198.882882882885,
          44275.41441441441,
          44351.94594594595,
          44428.47747747748,
          44505.00900900901,
          44581.54054054054,
          44658.07207207207,
          44734.6036036036,
          44811.13513513513,
          44887.666666666664,
          44964.198198198195,
          45040.729729729734,
          45117.26126126126,
          45193.792792792796,
          45270.32432432432,
          45346.85585585586,
          45423.38738738738,
          45499.91891891892,
          45576.45045045045,
          45652.98198198198,
          45729.51351351351,
          45806.045045045044,
          45882.576576576575,
          45959.10810810811,
          46035.63963963964,
          46112.17117117117,
          46188.7027027027,
          46265.23423423423,
          46341.76576576577,
          46418.29729729729,
          46494.82882882883,
          46571.360360360355,
          46647.89189189189,
          46724.42342342342,
          46800.954954954956,
          46877.48648648649,
          46954.01801801802,
          47030.54954954955,
          47107.08108108108,
          47183.61261261261,
          47260.14414414414,
          47336.67567567567,
          47413.207207207204,
          47489.73873873874,
          47566.270270270266,
          47642.801801801805,
          47719.33333333333,
          47795.86486486487,
          47872.39639639639,
          47948.92792792793,
          48025.45945945946,
          48101.99099099099,
          48178.52252252252,
          48255.05405405405,
          48331.585585585584,
          48408.117117117115,
          48484.64864864865,
          48561.18018018018,
          48637.71171171171,
          48714.24324324324,
          48790.77477477478,
          48867.3063063063,
          48943.83783783784,
          49020.369369369364,
          49096.9009009009,
          49173.432432432426,
          49249.963963963964,
          49326.495495495496,
          49403.02702702703,
          49479.55855855856,
          49556.09009009009,
          49632.62162162162,
          49709.15315315315,
          49785.68468468468,
          49862.21621621621,
          49938.74774774775,
          50015.279279279275,
          50091.81081081081,
          50168.34234234234,
          50244.873873873876,
          50321.4054054054,
          50397.93693693694,
          50474.46846846847,
          50551,
          50627.53153153153,
          50704.06306306306,
          50780.59459459459,
          50857.126126126124,
          50933.657657657655,
          51010.18918918919,
          51086.72072072072,
          51163.25225225225,
          51239.78378378379,
          51316.31531531531,
          51392.84684684685,
          51469.37837837837,
          51545.90990990991,
          51622.441441441435,
          51698.97297297297,
          51775.504504504504,
          51852.036036036036,
          51928.56756756757,
          52005.0990990991,
          52081.63063063063,
          52158.16216216216,
          52234.69369369369,
          52311.22522522522,
          52387.75675675676,
          52464.288288288284,
          52540.81981981982,
          52617.351351351346,
          52693.882882882885,
          52770.41441441441,
          52846.94594594595,
          52923.47747747748,
          53000.00900900901,
          53076.54054054054,
          53153.07207207207,
          53229.6036036036,
          53306.13513513513,
          53382.666666666664,
          53459.198198198195,
          53535.72972972973,
          53612.26126126126,
          53688.792792792796,
          53765.32432432432,
          53841.85585585586,
          53918.38738738738,
          53994.91891891892,
          54071.450450450444,
          54147.98198198198,
          54224.51351351351,
          54301.045045045044,
          54377.576576576575,
          54454.10810810811,
          54530.63963963964,
          54607.17117117117,
          54683.7027027027,
          54760.23423423423,
          54836.76576576577,
          54913.29729729729,
          54989.82882882883,
          55066.360360360355,
          55142.89189189189,
          55219.42342342342,
          55295.954954954956,
          55372.48648648649,
          55449.01801801802,
          55525.54954954955,
          55602.08108108108,
          55678.61261261261,
          55755.14414414414,
          55831.67567567567,
          55908.207207207204,
          55984.738738738735,
          56061.270270270266,
          56137.801801801805,
          56214.33333333333,
          56290.86486486487,
          56367.39639639639,
          56443.92792792793,
          56520.45945945945,
          56596.99099099099,
          56673.52252252252,
          56750.05405405405,
          56826.585585585584,
          56903.117117117115,
          56979.64864864865,
          57056.18018018018,
          57132.71171171171,
          57209.24324324324,
          57285.77477477478,
          57362.3063063063,
          57438.83783783784,
          57515.369369369364,
          57591.9009009009,
          57668.432432432426,
          57744.963963963964,
          57821.495495495496,
          57898.02702702703,
          57974.55855855856,
          58051.09009009009,
          58127.62162162162,
          58204.15315315315,
          58280.68468468468,
          58357.21621621621,
          58433.747747747744,
          58510.279279279275,
          58586.810810810806,
          58663.34234234234,
          58739.873873873876,
          58816.40540540541,
          58892.93693693694,
          58969.46846846847,
          59046,
          59122.53153153153,
          59199.06306306306,
          59275.59459459459,
          59352.126126126124,
          59428.657657657655,
          59505.18918918919,
          59581.72072072072,
          59658.25225225225,
          59734.78378378378,
          59811.31531531531,
          59887.84684684684,
          59964.37837837837,
          60040.90990990991,
          60117.44144144144,
          60193.97297297297,
          60270.504504504504,
          60347.036036036036,
          60423.56756756757,
          60500.0990990991,
          60576.63063063063,
          60653.16216216216,
          60729.69369369369,
          60806.22522522522,
          60882.75675675675,
          60959.288288288284,
          61035.819819819815,
          61112.351351351346,
          61188.882882882885,
          61265.414414414416,
          61341.94594594595,
          61418.47747747748,
          61495.00900900901,
          61571.54054054054,
          61648.07207207207,
          61724.6036036036,
          61801.13513513513,
          61877.666666666664,
          61954.198198198195,
          62030.72972972973,
          62107.26126126126,
          62183.79279279279,
          62260.32432432432,
          62336.85585585585,
          62413.38738738738,
          62489.91891891892,
          62566.45045045045,
          62642.98198198198,
          62719.51351351351,
          62796.045045045044,
          62872.576576576575,
          62949.10810810811,
          63025.63963963964,
          63102.17117117117,
          63178.7027027027,
          63255.23423423423,
          63331.76576576576,
          63408.29729729729,
          63484.828828828824,
          63561.360360360355,
          63637.89189189189,
          63714.423423423425,
          63790.954954954956,
          63867.48648648649,
          63944.01801801802,
          64020.54954954955,
          64097.08108108108,
          64173.61261261261,
          64250.14414414414,
          64326.67567567567,
          64403.207207207204,
          64479.738738738735,
          64556.270270270266,
          64632.8018018018,
          64709.33333333333,
          64785.86486486486,
          64862.39639639639,
          64938.92792792793,
          65015.45945945946,
          65091.99099099099,
          65168.52252252252,
          65245.05405405405,
          65321.585585585584,
          65398.117117117115,
          65474.64864864865,
          65551.18018018018,
          65627.71171171172,
          65704.24324324324,
          65780.77477477476,
          65857.3063063063,
          65933.83783783784,
          66010.36936936936,
          66086.9009009009,
          66163.43243243243,
          66239.96396396396,
          66316.4954954955,
          66393.02702702703,
          66469.55855855855,
          66546.09009009009,
          66622.62162162163,
          66699.15315315315,
          66775.68468468467,
          66852.21621621621,
          66928.74774774775,
          67005.27927927928,
          67081.8108108108,
          67158.34234234234,
          67234.87387387388,
          67311.4054054054,
          67387.93693693694,
          67464.46846846846,
          67541,
          67617.53153153154,
          67694.06306306306,
          67770.59459459459,
          67847.12612612612,
          67923.65765765766,
          68000.18918918919,
          68076.72072072071,
          68153.25225225225,
          68229.78378378379,
          68306.31531531531,
          68382.84684684683,
          68459.37837837837,
          68535.90990990991,
          68612.44144144145,
          68688.97297297297,
          68765.5045045045,
          68842.03603603604,
          68918.56756756757,
          68995.0990990991,
          69071.63063063062,
          69148.16216216216,
          69224.6936936937,
          69301.22522522522,
          69377.75675675675,
          69454.28828828828,
          69530.81981981982,
          69607.35135135135,
          69683.88288288287,
          69760.41441441441,
          69836.94594594595,
          69913.47747747749,
          69990.00900900901,
          70066.54054054053,
          70143.07207207207,
          70219.60360360361,
          70296.13513513513,
          70372.66666666666,
          70449.1981981982,
          70525.72972972973,
          70602.26126126126,
          70678.79279279278,
          70755.32432432432,
          70831.85585585586,
          70908.38738738738,
          70984.91891891892,
          71061.45045045044,
          71137.98198198198,
          71214.51351351352,
          71291.04504504504,
          71367.57657657657,
          71444.1081081081,
          71520.63963963964,
          71597.17117117117,
          71673.70270270269,
          71750.23423423423,
          71826.76576576577,
          71903.2972972973,
          71979.82882882882,
          72056.36036036036,
          72132.8918918919,
          72209.42342342342,
          72285.95495495496,
          72362.48648648648,
          72439.01801801802,
          72515.54954954956,
          72592.08108108108,
          72668.6126126126,
          72745.14414414414,
          72821.67567567568,
          72898.2072072072,
          72974.73873873873,
          73051.27027027027,
          73127.8018018018,
          73204.33333333333,
          73280.86486486485,
          73357.39639639639,
          73433.92792792793,
          73510.45945945947,
          73586.99099099099,
          73663.52252252251,
          73740.05405405405,
          73816.58558558559,
          73893.11711711712,
          73969.64864864864,
          74046.18018018018,
          74122.71171171172,
          74199.24324324324,
          74275.77477477476,
          74352.3063063063,
          74428.83783783784,
          74505.36936936936,
          74581.90090090089,
          74658.43243243243,
          74734.96396396396,
          74811.4954954955,
          74888.02702702703,
          74964.55855855855,
          75041.09009009009,
          75117.62162162163,
          75194.15315315315,
          75270.68468468467,
          75347.21621621621,
          75423.74774774775,
          75500.27927927928,
          75576.8108108108,
          75653.34234234234,
          75729.87387387388,
          75806.4054054054,
          75882.93693693694,
          75959.46846846846,
          76036,
          76112.53153153154,
          76189.06306306306,
          76265.59459459459,
          76342.12612612612,
          76418.65765765766,
          76495.18918918919,
          76571.72072072071,
          76648.25225225225,
          76724.78378378379,
          76801.31531531531,
          76877.84684684683,
          76954.37837837837,
          77030.90990990991,
          77107.44144144144,
          77183.97297297297,
          77260.5045045045,
          77337.03603603604,
          77413.56756756757,
          77490.0990990991,
          77566.63063063062,
          77643.16216216216,
          77719.6936936937,
          77796.22522522522,
          77872.75675675675,
          77949.28828828828,
          78025.81981981982,
          78102.35135135135,
          78178.88288288287,
          78255.41441441441,
          78331.94594594595,
          78408.47747747749,
          78485.00900900901,
          78561.54054054053,
          78638.07207207207,
          78714.60360360361,
          78791.13513513513,
          78867.66666666666,
          78944.1981981982,
          79020.72972972973,
          79097.26126126126,
          79173.79279279278,
          79250.32432432432,
          79326.85585585586,
          79403.38738738738,
          79479.9189189189,
          79556.45045045044,
          79632.98198198198,
          79709.51351351352,
          79786.04504504504,
          79862.57657657657,
          79939.1081081081,
          80015.63963963964,
          80092.17117117117,
          80168.70270270269,
          80245.23423423423,
          80321.76576576577,
          80398.2972972973,
          80474.82882882882,
          80551.36036036036,
          80627.8918918919,
          80704.42342342342,
          80780.95495495496,
          80857.48648648648,
          80934.01801801802,
          81010.54954954956,
          81087.08108108108,
          81163.6126126126,
          81240.14414414414,
          81316.67567567568,
          81393.2072072072,
          81469.73873873873,
          81546.27027027027,
          81622.8018018018,
          81699.33333333333,
          81775.86486486485,
          81852.39639639639,
          81928.92792792793,
          82005.45945945945,
          82081.99099099099,
          82158.52252252251,
          82235.05405405405,
          82311.58558558559,
          82388.11711711712,
          82464.64864864864,
          82541.18018018018,
          82617.71171171172,
          82694.24324324324,
          82770.77477477476,
          82847.3063063063,
          82923.83783783784,
          83000.36936936936,
          83076.90090090089,
          83153.43243243243,
          83229.96396396396,
          83306.4954954955,
          83383.02702702703,
          83459.55855855855,
          83536.09009009009,
          83612.62162162163,
          83689.15315315315,
          83765.68468468467,
          83842.21621621621,
          83918.74774774775,
          83995.27927927928,
          84071.8108108108,
          84148.34234234234,
          84224.87387387388,
          84301.4054054054,
          84377.93693693692,
          84454.46846846846,
          84531,
          84607.53153153154,
          84684.06306306306,
          84760.59459459459,
          84837.12612612612,
          84913.65765765766,
          84990.18918918919,
          85066.72072072071,
          85143.25225225225,
          85219.78378378379,
          85296.31531531531,
          85372.84684684683,
          85449.37837837837,
          85525.90990990991,
          85602.44144144144,
          85678.97297297297,
          85755.5045045045,
          85832.03603603604,
          85908.56756756757,
          85985.0990990991,
          86061.63063063062,
          86138.16216216216,
          86214.6936936937,
          86291.22522522522,
          86367.75675675675,
          86444.28828828828,
          86520.81981981982,
          86597.35135135135,
          86673.88288288287,
          86750.41441441441,
          86826.94594594595,
          86903.47747747747,
          86980.00900900901,
          87056.54054054053,
          87133.07207207207,
          87209.60360360361,
          87286.13513513513,
          87362.66666666666,
          87439.1981981982,
          87515.72972972973,
          87592.26126126126,
          87668.79279279278,
          87745.32432432432,
          87821.85585585586,
          87898.38738738738,
          87974.9189189189,
          88051.45045045044,
          88127.98198198198,
          88204.51351351352,
          88281.04504504504,
          88357.57657657657,
          88434.1081081081,
          88510.63963963964,
          88587.17117117117,
          88663.70270270269,
          88740.23423423423,
          88816.76576576577,
          88893.2972972973,
          88969.82882882882,
          89046.36036036036,
          89122.8918918919,
          89199.42342342342,
          89275.95495495494,
          89352.48648648648,
          89429.01801801802,
          89505.54954954956,
          89582.08108108108,
          89658.6126126126,
          89735.14414414414,
          89811.67567567568,
          89888.2072072072,
          89964.73873873873,
          90041.27027027027,
          90117.8018018018,
          90194.33333333333,
          90270.86486486485,
          90347.39639639639,
          90423.92792792793,
          90500.45945945945,
          90576.99099099099,
          90653.52252252251,
          90730.05405405405,
          90806.58558558558,
          90883.11711711712,
          90959.64864864864,
          91036.18018018018,
          91112.7117117117,
          91189.24324324324,
          91265.77477477478,
          91342.3063063063,
          91418.83783783784,
          91495.36936936936,
          91571.9009009009,
          91648.43243243243,
          91724.96396396396,
          91801.49549549549,
          91878.02702702703,
          91954.55855855855,
          92031.09009009009,
          92107.62162162161,
          92184.15315315315,
          92260.68468468467,
          92337.21621621621,
          92413.74774774775,
          92490.27927927928,
          92566.81081081081,
          92643.34234234234,
          92719.87387387388,
          92796.4054054054,
          92872.93693693694,
          92949.46846846846,
          93026,
          93102.53153153152,
          93179.06306306306,
          93255.59459459459,
          93332.12612612612,
          93408.65765765765,
          93485.18918918919,
          93561.72072072071,
          93638.25225225225,
          93714.78378378379,
          93791.31531531531,
          93867.84684684685,
          93944.37837837837,
          94020.90990990991,
          94097.44144144144,
          94173.97297297297,
          94250.5045045045,
          94327.03603603604,
          94403.56756756756,
          94480.0990990991,
          94556.63063063062,
          94633.16216216216,
          94709.69369369368,
          94786.22522522522,
          94862.75675675675,
          94939.28828828828,
          95015.81981981982,
          95092.35135135135,
          95168.88288288288,
          95245.41441441441,
          95321.94594594595,
          95398.47747747747,
          95475.00900900901,
          95551.54054054053,
          95628.07207207207,
          95704.6036036036,
          95781.13513513513,
          95857.66666666666,
          95934.1981981982,
          96010.72972972972,
          96087.26126126126,
          96163.7927927928,
          96240.32432432432,
          96316.85585585586,
          96393.38738738738,
          96469.91891891892,
          96546.45045045044,
          96622.98198198198,
          96699.5135135135,
          96776.04504504504,
          96852.57657657657,
          96929.1081081081,
          97005.63963963963,
          97082.17117117117,
          97158.70270270269,
          97235.23423423423,
          97311.76576576577,
          97388.2972972973,
          97464.82882882883,
          97541.36036036036,
          97617.8918918919,
          97694.42342342342,
          97770.95495495496,
          97847.48648648648,
          97924.01801801802,
          98000.54954954954,
          98077.08108108108,
          98153.6126126126,
          98230.14414414414,
          98306.67567567567,
          98383.2072072072,
          98459.73873873873,
          98536.27027027027,
          98612.8018018018,
          98689.33333333333,
          98765.86486486487,
          98842.39639639639,
          98918.92792792793,
          98995.45945945945,
          99071.99099099099,
          99148.52252252251,
          99225.05405405405,
          99301.58558558558,
          99378.11711711712,
          99454.64864864864,
          99531.18018018018,
          99607.7117117117,
          99684.24324324324,
          99760.77477477476,
          99837.3063063063,
          99913.83783783784,
          99990.36936936936,
          100066.9009009009,
          100143.43243243243,
          100219.96396396396,
          100296.49549549549,
          100373.02702702703,
          100449.55855855855,
          100526.09009009009,
          100602.62162162161,
          100679.15315315315,
          100755.68468468467,
          100832.21621621621,
          100908.74774774774,
          100985.27927927928,
          101061.81081081081,
          101138.34234234234,
          101214.87387387388,
          101291.4054054054,
          101367.93693693694,
          101444.46846846846,
          101521
         ],
         "y": [
          0.0000013388369664118957,
          0.0000013488298518400406,
          0.000001358882576178705,
          0.000001368995366408431,
          0.0000013791684492374376,
          0.0000013894020510897121,
          0.000001399696398093035,
          0.0000014100517160669385,
          0.000001420468230510569,
          0.0000014309461665905043,
          0.0000014414857491284796,
          0.0000014520872025890583,
          0.0000014627507510672097,
          0.0000014734766182758348,
          0.000001484265027533217,
          0.000001495116201750392,
          0.0000015060303634184624,
          0.000001517007734595825,
          0.0000015280485368953489,
          0.0000015391529914714654,
          0.0000015503213190072035,
          0.0000015615537397011402,
          0.0000015728504732543058,
          0.000001584211738856992,
          0.0000015956377551755294,
          0.0000016071287403389526,
          0.000001618684911925642,
          0.0000016303064869498677,
          0.0000016419936818482882,
          0.000001653746712466365,
          0.000001665565794044733,
          0.0000016774511412054857,
          0.0000016894029679384123,
          0.0000017014214875871535,
          0.0000017135069128353164,
          0.000001725659455692507,
          0.0000017378793274803107,
          0.0000017501667388182015,
          0.0000017625218996093978,
          0.0000017749450190266672,
          0.0000017874363054980354,
          0.0000017999959666924777,
          0.0000018126242095055148,
          0.0000018253212400447872,
          0.0000018380872636155269,
          0.0000018509224847060026,
          0.0000018638271069729072,
          0.0000018768013332266682,
          0.0000018898453654167214,
          0.0000019029594046167096,
          0.000001916143651009654,
          0.0000019293983038730415,
          0.0000019427235615638786,
          0.0000019561196215036726,
          0.0000019695866801633915,
          0.0000019831249330483273,
          0.000001996734574682959,
          0.000002010415798595712,
          0.0000020241687973037158,
          0.000002037993762297469,
          0.0000020518908840254946,
          0.000002065860351878914,
          0.0000020799023541759953,
          0.0000020940170781466473,
          0.000002108204709916864,
          0.0000021224654344931233,
          0.0000021367994357467538,
          0.0000021512068963982383,
          0.000002165687998001494,
          0.0000021802429209280844,
          0.0000021948718443514177,
          0.0000022095749462308914,
          0.0000022243524032959792,
          0.000002239204391030319,
          0.000002254131083655715,
          0.000002269132654116148,
          0.000002284209274061703,
          0.000002299361113832494,
          0.0000023145883424425447,
          0.0000023298911275636255,
          0.0000023452696355090603,
          0.0000023607240312175123,
          0.000002376254478236714,
          0.0000023918611387071927,
          0.000002407544173345939,
          0.00000242330374143007,
          0.0000024391400007804434,
          0.00000245505310774525,
          0.000002471043217183598,
          0.0000024871104824490287,
          0.0000025032550553730587,
          0.000002519477086248645,
          0.000002535776723813678,
          0.000002552154115234409,
          0.0000025686094060888795,
          0.0000025851427403503295,
          0.00000260175426037057,
          0.0000026184441068633603,
          0.000002635212418887741,
          0.000002652059333831377,
          0.00000266898498739386,
          0.0000026859895135700165,
          0.000002703073044633186,
          0.0000027202357111185006,
          0.000002737477641806134,
          0.0000027547989637045692,
          0.0000027721998020338168,
          0.0000027896802802086617,
          0.000002807240519821883,
          0.0000028248806406274654,
          0.000002842600760523812,
          0.000002860400995536958,
          0.0000028782814598037616,
          0.000002896242265555113,
          0.0000029142835230991272,
          0.0000029324053408043505,
          0.0000029506078250829504,
          0.0000029688910803739264,
          0.0000029872552091263064,
          0.000003005700311782355,
          0.000003024226486760803,
          0.0000030428338304400396,
          0.0000030615224371413717,
          0.000003080292399112231,
          0.0000030991438065094446,
          0.0000031180767473824742,
          0.000003137091307656694,
          0.000003156187571116677,
          0.0000031753656193894798,
          0.0000031946255319279685,
          0.0000032139673859941382,
          0.0000032333912566424684,
          0.0000032528972167032854,
          0.000003272485336766149,
          0.000003292155685163265,
          0.0000033119083279529144,
          0.0000033317433289029048,
          0.0000033516607494740706,
          0.000003371660648803749,
          0.000003391743083689349,
          0.0000034119081085718888,
          0.0000034321557755196036,
          0.0000034524861342115785,
          0.0000034728992319213877,
          0.0000034933951135008047,
          0.0000035139738213635257,
          0.0000035346353954689278,
          0.000003555379873305886,
          0.000003576207289876596,
          0.0000035971176776804753,
          0.0000036181110666980753,
          0.000003639187484375045,
          0.000003660346955606163,
          0.0000036815895027193638,
          0.0000037029151454598702,
          0.0000037243239009743216,
          0.0000037458157837949963,
          0.0000037673908058240433,
          0.0000037890489763178075,
          0.000003810790301871168,
          0.000003832614786401962,
          0.000003854522431135453,
          0.000003876513234588854,
          0.0000038985871925559166,
          0.000003920744298091567,
          0.000003942984541496624,
          0.000003965307910302564,
          0.000003987714389256357,
          0.000004010203960305352,
          0.000004032776602582273,
          0.000004055432292390219,
          0.000004078171003187799,
          0.000004100992705574284,
          0.000004123897367274863,
          0.000004146884953125974,
          0.000004169955425060685,
          0.0000041931087420941726,
          0.0000042163448603092825,
          0.00000423966373284214,
          0.000004263065309867884,
          0.000004286549538586433,
          0.000004310116363208394,
          0.000004333765724940988,
          0.000004357497561974121,
          0.00000438131180946652,
          0.000004405208399531931,
          0.000004429187261225469,
          0.000004453248320529989,
          0.000004477391500342609,
          0.000004501616720461289,
          0.00000452592389757153,
          0.00000455031294523315,
          0.000004574783773867176,
          0.000004599336290742829,
          0.0000046239703999646,
          0.000004648686002459457,
          0.000004673482995964116,
          0.000004698361275012466,
          0.000004723320730923044,
          0.000004748361251786679,
          0.000004773482722454189,
          0.000004798685024524243,
          0.00000482396803633128,
          0.0000048493316329336,
          0.000004874775686101508,
          0.000004900300064305634,
          0.000004925904632705334,
          0.0000049515892531372185,
          0.000004977353784103806,
          0.0000050031980807623005,
          0.000005029121994913477,
          0.000005055125374990719,
          0.000005081208066049154,
          0.000005107369909754936,
          0.000005133610744374649,
          0.000005159930404764829,
          0.000005186328722361667,
          0.0000052128055251707575,
          0.000005239360637757083,
          0.0000052659938812350375,
          0.000005292705073258678,
          0.0000053194940280120325,
          0.000005346360556199607,
          0.000005373304465037002,
          0.000005400325558241688,
          0.0000054274236360239106,
          0.0000054545984950777445,
          0.000005481849928572318,
          0.0000055091777261431354,
          0.000005536581673883601,
          0.0000055640615543366455,
          0.000005591617146486563,
          0.00000561924822575092,
          0.000005646954563972715,
          0.000005674735929412589,
          0.0000057025920867413,
          0.0000057305227970322584,
          0.000005758527817754285,
          0.00000578660690276452,
          0.000005814759802301449,
          0.000005842986262978169,
          0.000005871286027775739,
          0.0000058996588360367525,
          0.000005928104423459058,
          0.000005956622522089628,
          0.000005985212860318646,
          0.000006013875162873698,
          0.000006042609150814191,
          0.000006071414541525934,
          0.000006100291048715844,
          0.0000061292383824069225,
          0.000006158256248933282,
          0.000006187344350935491,
          0.000006216502387355966,
          0.000006245730053434638,
          0.000006275027040704751,
          0.00000630439303698886,
          0.000006333827726395004,
          0.000006363330789313067,
          0.000006392901902411335,
          0.000006422540738633207,
          0.000006452246967194141,
          0.00000648202025357873,
          0.000006511860259538039,
          0.000006541766643087053,
          0.000006571739058502398,
          0.000006601777156320163,
          0.000006631880583334025,
          0.000006662048982593457,
          0.0000066922819934022175,
          0.000006722579251316994,
          0.000006752940388146244,
          0.00000678336503194927,
          0.000006813852807035434,
          0.000006844403333963642,
          0.000006875016229541964,
          0.000006905691106827511,
          0.0000069364275751264815,
          0.000006967225239994423,
          0.000006998083703236691,
          0.000007029002562909148,
          0.000007059981413318999,
          0.0000070910198450259305,
          0.000007122117444843348,
          0.000007153273795839943,
          0.000007184488477341347,
          0.000007215761064932106,
          0.0000072470911304577885,
          0.000007278478242027356,
          0.0000073099219640157046,
          0.000007341421857066471,
          0.000007372977478094997,
          0.000007404588380291557,
          0.000007436254113124786,
          0.000007467974222345293,
          0.000007499748249989567,
          0.000007531575734384004,
          0.000007563456210149254,
          0.0000075953892082046906,
          0.000007627374255773196,
          0.000007659410876386073,
          0.00000769149858988826,
          0.000007723636912443723,
          0.000007755825356541072,
          0.000007788063430999423,
          0.000007820350640974458,
          0.000007852686487964734,
          0.000007885070469818198,
          0.000007917502080738929,
          0.000007949980811294129,
          0.000007982506148421307,
          0.0000080150775754357,
          0.000008047694572037963,
          0.000008080356614321998,
          0.00000811306317478312,
          0.000008145813722326338,
          0.000008178607722274985,
          0.000008211444636379456,
          0.000008244323922826277,
          0.000008277245036247339,
          0.000008310207427729405,
          0.0000083432105448238,
          0.000008376253831556393,
          0.000008409336728437748,
          0.00000844245867247355,
          0.00000847561909717526,
          0.000008508817432570951,
          0.000008542053105216472,
          0.00000857532553820673,
          0.000008608634151187311,
          0.000008641978360366245,
          0.000008675357578526089,
          0.000008708771215036138,
          0.000008742218675864983,
          0.000008775699363593228,
          0.000008809212677426448,
          0.000008842758013208413,
          0.000008876334763434505,
          0.00000890994231726541,
          0.000008943580060540996,
          0.000008977247375794471,
          0.000009010943642266737,
          0.000009044668235921006,
          0.000009078420529457609,
          0.000009112199892329121,
          0.000009146005690755584,
          0.000009179837287740117,
          0.000009213694043084624,
          0.000009247575313405839,
          0.000009281480452151513,
          0.000009315408809616923,
          0.000009349359732961531,
          0.000009383332566225936,
          0.000009417326650349012,
          0.000009451341323185315,
          0.000009485375919522687,
          0.000009519429771100123,
          0.000009553502206625839,
          0.000009587592551795574,
          0.000009621700129311173,
          0.000009655824258899289,
          0.000009689964257330446,
          0.000009724119438438208,
          0.000009758289113138688,
          0.00000979247258945017,
          0.000009826669172513063,
          0.000009860878164610012,
          0.000009895098865186262,
          0.000009929330570870247,
          0.000009963572575494387,
          0.000009997824170116132,
          0.000010032084643039212,
          0.00001006635327983513,
          0.000010100629363364844,
          0.0000101349121738007,
          0.00001016920098864858,
          0.000010203495082770263,
          0.000010237793728405993,
          0.00001027209619519733,
          0.0000103064017502101,
          0.000010340709657957701,
          0.000010375019180424501,
          0.000010409329577089554,
          0.00001044364010495045,
          0.000010477950018547443,
          0.000010512258569987735,
          0.000010546565008970019,
          0.000010580868582809212,
          0.000010615168536461392,
          0.000010649464112548966,
          0.000010683754551386018,
          0.0000107180390910039,
          0.000010752316967176989,
          0.000010786587413448696,
          0.00001082084966115762,
          0.000010855102939463979,
          0.000010889346475376162,
          0.000010923579493777563,
          0.000010957801217453547,
          0.000010992010867118668,
          0.00001102620766144403,
          0.00001106039081708491,
          0.000011094559548708523,
          0.000011128713069022,
          0.000011162850588800575,
          0.000011196971316915922,
          0.000011231074460364747,
          0.000011265159224297475,
          0.000011299224812047262,
          0.000011333270425159023,
          0.000011367295263418815,
          0.000011401298524883265,
          0.000011435279405909282,
          0.000011469237101183882,
          0.000011503170803754236,
          0.000011537079705057865,
          0.000011570962994953044,
          0.000011604819861749355,
          0.000011638649492238416,
          0.00001167245107172481,
          0.000011706223784057146,
          0.000011739966811659326,
          0.000011773679335561932,
          0.000011807360535433868,
          0.000011841009589614036,
          0.000011874625675143313,
          0.000011908207967796576,
          0.000011941755642114984,
          0.000011975267871438315,
          0.000012008743827937564,
          0.000012042182682647617,
          0.000012075583605500129,
          0.00001210894576535651,
          0.000012142268330041109,
          0.000012175550466374505,
          0.000012208791340206961,
          0.000012241990116452031,
          0.000012275145959120292,
          0.000012308258031353233,
          0.000012341325495457272,
          0.000012374347512937916,
          0.000012407323244534045,
          0.000012440251850252358,
          0.000012473132489401925,
          0.000012505964320628869,
          0.000012538746501951182,
          0.00001257147819079369,
          0.000012604158544023082,
          0.000012636786717983138,
          0.000012669361868530013,
          0.000012701883151067667,
          0.000012734349720583424,
          0.000012766760731683608,
          0.000012799115338629324,
          0.00001283141269537234,
          0.000012863651955591064,
          0.000012895832272726647,
          0.000012927952800019176,
          0.000012960012690543962,
          0.00001299201109724796,
          0.000013023947172986241,
          0.00001305582007055861,
          0.000013087628942746262,
          0.00001311937294234857,
          0.000013151051222219947,
          0.000013182662935306809,
          0.00001321420723468458,
          0.000013245683273594838,
          0.000013277090205482496,
          0.00001330842718403309,
          0.00001333969336321011,
          0.00001337088789729244,
          0.00001340200994091185,
          0.000013433058649090543,
          0.00001346403317727881,
          0.000013494932681392708,
          0.000013525756317851822,
          0.000013556503243617068,
          0.000013587172616228584,
          0.000013617763593843641,
          0.000013648275335274634,
          0.000013678707000027102,
          0.000013709057748337813,
          0.000013739326741212884,
          0.000013769513140465943,
          0.000013799616108756345,
          0.000013829634809627403,
          0.000013859568407544691,
          0.00001388941606793433,
          0.000013919176957221349,
          0.000013948850242868056,
          0.00001397843509341244,
          0.000014007930678506588,
          0.000014037336168955135,
          0.00001406665073675372,
          0.000014095873555127473,
          0.000014125003798569504,
          0.000014154040642879413,
          0.000014182983265201785,
          0.000014211830844064738,
          0.000014240582559418419,
          0.000014269237592673551,
          0.000014297795126739936,
          0.000014326254346064993,
          0.000014354614436672264,
          0.000014382874586199906,
          0.000014411033983939211,
          0.000014439091820873069,
          0.000014467047289714429,
          0.000014494899584944753,
          0.000014522647902852433,
          0.000014550291441571192,
          0.000014577829401118462,
          0.000014605260983433712,
          0.000014632585392416785,
          0.00001465980183396615,
          0.000014686909516017153,
          0.000014713907648580233,
          0.00001474079544377906,
          0.000014767572115888662,
          0.00001479423688137349,
          0.000014820788958925452,
          0.000014847227569501843,
          0.0000148735519363633,
          0.000014899761285111631,
          0.000014925854843727618,
          0.000014951831842608755,
          0.000014977691514606903,
          0.000015003433095065897,
          0.000015029055821859084,
          0.000015054558935426768,
          0.000015079941678813593,
          0.000015105203297705864,
          0.000015130343040468755,
          0.000015155360158183448,
          0.000015180253904684199,
          0.000015205023536595315,
          0.000015229668313367992,
          0.000015254187497317157,
          0.0000152785803536581,
          0.000015302846150543102,
          0.000015326984159097904,
          0.000015350993653458112,
          0.000015374873910805462,
          0.000015398624211403978,
          0.000015422243838636073,
          0.000015445732079038475,
          0.00001546908822233804,
          0.00001549231156148749,
          0.000015515401392701005,
          0.000015538357015489677,
          0.00001556117773269687,
          0.000015583862850533403,
          0.00001560641167861268,
          0.0000156288235299856,
          0.00001565109772117539,
          0.000015673233572212272,
          0.000015695230406668006,
          0.00001571708755169028,
          0.000015738804338036944,
          0.000015760380100110137,
          0.00001578181417599018,
          0.00001580310590746944,
          0.000015824254640085913,
          0.000015845259723156734,
          0.000015866120509811467,
          0.000015886836357025323,
          0.000015907406625652083,
          0.00001592783068045697,
          0.00001594810789014929,
          0.000015968237627414907,
          0.000015988219268948572,
          0.000016008052195486048,
          0.000016027735791836064,
          0.00001604726944691207,
          0.000016066652553763864,
          0.000016085884509608964,
          0.00001610496471586383,
          0.000016123892578174896,
          0.000016142667506449395,
          0.000016161288914886,
          0.000016179756222005265,
          0.00001619806885067985,
          0.000016216226228164584,
          0.000016234227786126296,
          0.000016252072960673415,
          0.00001626976119238543,
          0.00001628729192634207,
          0.000016304664612152335,
          0.000016321878703983252,
          0.000016338933660588453,
          0.00001635582894533651,
          0.0000163725640262391,
          0.000016389138375978873,
          0.000016405551471937146,
          0.000016421802796221353,
          0.000016437891835692283,
          0.000016453818081991062,
          0.000016469581031565903,
          0.000016485180185698653,
          0.000016500615050531075,
          0.00001651588513709089,
          0.000016530989961317602,
          0.000016545929044088044,
          0.000016560701911241716,
          0.000016575308093605864,
          0.000016589747127020295,
          0.00001660401855236196,
          0.000016618121915569283,
          0.00001663205676766623,
          0.000016645822664786127,
          0.00001665941916819522,
          0.00001667284584431597,
          0.0000166861022647501,
          0.000016699188006301374,
          0.000016712102650998103,
          0.000016724845786115384,
          0.00001673741700419711,
          0.000016749815903077642,
          0.000016762042085903288,
          0.00001677409516115344,
          0.00001678597474266148,
          0.000016797680449635394,
          0.000016809211906678136,
          0.000016820568743807643,
          0.000016831750596476665,
          0.00001684275710559225,
          0.000016853587917534944,
          0.00001686424268417776,
          0.000016874721062904787,
          0.00001688502271662959,
          0.00001689514731381325,
          0.000016905094528482164,
          0.000016914864040245528,
          0.000016924455534312538,
          0.000016933868701509302,
          0.000016943103238295432,
          0.00001695215884678038,
          0.000016961035234739418,
          0.000016969732115629398,
          0.000016978249208604134,
          0.00001698658623852954,
          0.000016994742935998417,
          0.000017002719037344986,
          0.000017010514284659087,
          0.000017018128425800073,
          0.000017025561214410397,
          0.000017032812409928917,
          0.000017039881777603846,
          0.000017046769088505445,
          0.00001705347411953835,
          0.000017059996653453645,
          0.000017066336478860568,
          0.000017072493390237952,
          0.00001707846718794531,
          0.000017084257678233637,
          0.000017089864673255876,
          0.000017095287991077076,
          0.00001710052745568423,
          0.0000171055828969958,
          0.000017110454150870916,
          0.000017115141059118255,
          0.00001711964346950461,
          0.00001712396123576312,
          0.000017128094217601205,
          0.00001713204228070815,
          0.000017135805296762384,
          0.000017139383143438437,
          0.000017142775704413547,
          0.000017145982869373992,
          0.000017149004534021058,
          0.00001715184060007667,
          0.00001715449097528875,
          0.000017156955573436212,
          0.000017159234314333615,
          0.00001716132712383553,
          0.000017163233933840576,
          0.00001716495468229507,
          0.000017166489313196435,
          0.00001716783777659621,
          0.000017169000028602786,
          0.000017169976031383744,
          0.00001717076575316796,
          0.00001717136916824729,
          0.000017171786256977987,
          0.000017172017005781746,
          0.000017172061407146465,
          0.00001717191945962663,
          0.000017171591167843413,
          0.0000171710765424844,
          0.000017170375600303033,
          0.00001716948836411769,
          0.000017168414862810442,
          0.0000171671551313255,
          0.0000171657092106673,
          0.000017164077147898306,
          0.000017162258996136426,
          0.000017160254814552147,
          0.000017158064668365336,
          0.000017155688628841674,
          0.000017153126773288824,
          0.000017150379185052206,
          0.00001714744595351051,
          0.000017144327174070822,
          0.00001714102294816347,
          0.000017137533383236527,
          0.00001713385859274997,
          0.00001712999869616955,
          0.000017125953818960307,
          0.000017121724092579784,
          0.0000171173096544709,
          0.000017112710648054503,
          0.00001710792722272161,
          0.000017102959533825317,
          0.000017097807742672386,
          0.000017092472016514526,
          0.000017086952528539336,
          0.000017081249457860938,
          0.000017075362989510278,
          0.00001706929331442515,
          0.00001706304062943983,
          0.000017056605137274495,
          0.00001704998704652421,
          0.000017043186571647694,
          0.000017036203932955735,
          0.00001702903935659929,
          0.000017021693074557264,
          0.000017014165324624023,
          0.00001700645635039653,
          0.00001699856640126124,
          0.000016990495732380627,
          0.00001698224460467945,
          0.000016973813284830677,
          0.000016965202045241148,
          0.000016956411164036867,
          0.000016947440925048072,
          0.000016938291617793928,
          0.000016928963537466985,
          0.000016919456984917266,
          0.00001690977226663614,
          0.000016899909694739827,
          0.00001688986958695263,
          0.000016879652266589894,
          0.000016869258062540654,
          0.000016858687309249967,
          0.000016847940346701,
          0.00001683701752039682,
          0.000016825919181341836,
          0.000016814645686023046,
          0.000016803197396390935,
          0.00001679157467984011,
          0.000016779777909189647,
          0.000016767807462663173,
          0.00001675566372386865,
          0.000016743347081777888,
          0.00001673085793070578,
          0.00001671819667028927,
          0.000016705363705466047,
          0.000016692359446452948,
          0.000016679184308724116,
          0.000016665838712988882,
          0.000016652323085169372,
          0.000016638637856377867,
          0.00001662478346289386,
          0.00001661076034614092,
          0.00001659656895266322,
          0.000016582209734101873,
          0.00001656768314717095,
          0.000016552989653633288,
          0.000016538129720276055,
          0.000016523103818886008,
          0.00001650791242622454,
          0.0000164925560240025,
          0.000016477035098854712,
          0.000016461350142314296,
          0.000016445501650786733,
          0.000016429490125523678,
          0.000016413316072596573,
          0.000016396980002869955,
          0.00001638048243197463,
          0.000016363823880280495,
          0.000016347004872869236,
          0.000016330025939506756,
          0.000016312887614615352,
          0.000016295590437245712,
          0.000016278134951048653,
          0.000016260521704246684,
          0.00001624275124960531,
          0.000016224824144404128,
          0.000016206740950407723,
          0.000016188502233836352,
          0.000016170108565336418,
          0.000016151560519950707,
          0.000016132858677088486,
          0.000016114003620495304,
          0.000016094995938222716,
          0.00001607583622259768,
          0.000016056525070191845,
          0.0000160370630817906,
          0.00001601745086236199,
          0.000015997689021025358,
          0.00001597777817101986,
          0.00001595771892967278,
          0.000015937511918367668,
          0.000015917157762512286,
          0.000015896657091506384,
          0.00001587601053870929,
          0.000015855218741407345,
          0.000015834282340781168,
          0.00001581320198187271,
          0.00001579197831355221,
          0.00001577061198848493,
          0.00001574910366309775,
          0.000015727453997545633,
          0.000015705663655677847,
          0.00001568373330500414,
          0.000015661663616660716,
          0.000015639455265376024,
          0.000015617108929436458,
          0.000015594625290651875,
          0.00001557200503432102,
          0.000015549248849196745,
          0.00001552635742745112,
          0.000015503331464640448,
          0.000015480171659670078,
          0.000015456878714759138,
          0.000015433453335405134,
          0.000015409896230348393,
          0.000015386208111536428,
          0.00001536238969408816,
          0.000015338441696258014,
          0.00001531436483939993,
          0.00001529015984793121,
          0.000015265827449296337,
          0.000015241368373930608,
          0.000015216783355223693,
          0.000015192073129483093,
          0.000015167238435897524,
          0.000015142280016500149,
          0.000015117198616131747,
          0.0000150919949824038,
          0.000015066669865661475,
          0.000015041224018946531,
          0.000015015658197960115,
          0.000014989973161025505,
          0.000014964169669050764,
          0.000014938248485491327,
          0.000014912210376312495,
          0.000014886056109951864,
          0.000014859786457281695,
          0.00001483340219157122,
          0.000014806904088448866,
          0.000014780292925864421,
          0.00001475356948405116,
          0.000014726734545487906,
          0.000014699788894861035,
          0.000014672733319026413,
          0.00001464556860697133,
          0.00001461829554977633,
          0.000014590914940577068,
          0.00001456342757452604,
          0.000014535834248754366,
          0.000014508135762333466,
          0.000014480332916236744,
          0.000014452426513301214,
          0.000014424417358189137,
          0.000014396306257349602,
          0.000014368094018980056,
          0.000014339781452987912,
          0.000014311369370952015,
          0.000014282858586084202,
          0.000014254249913190773,
          0.000014225544168634,
          0.000014196742170293586,
          0.000014167844737528178,
          0.000014138852691136797,
          0.000014109766853320368,
          0.000014080588047643148,
          0.000014051317098994243,
          0.000014021954833549075,
          0.00001399250207873091,
          0.000013962959663172355,
          0.00001393332841667688,
          0.00001390360917018038,
          0.000013873802755712727,
          0.00001384391000635939,
          0.000013813931756222994,
          0.000013783868840385026,
          0.000013753722094867443,
          0.000013723492356594435,
          0.000013693180463354108,
          0.000013662787253760304,
          0.000013632313567214377,
          0.000013601760243867097,
          0.00001357112812458049,
          0.000013540418050889844,
          0.000013509630864965659,
          0.000013478767409575728,
          0.000013447828528047219,
          0.000013416815064228839,
          0.000013385727862453052,
          0.000013354567767498338,
          0.000013323335624551572,
          0.000013292032279170372,
          0.00001326065857724564,
          0.000013229215364964032,
          0.000013197703488770637,
          0.00001316612379533161,
          0.000013134477131496993,
          0.00001310276434426351,
          0.000013070986280737528,
          0.000013039143788098036,
          0.000013007237713559775,
          0.000012975268904336388,
          0.000012943238207603712,
          0.000012911146470463143,
          0.000012878994539905069,
          0.000012846783262772465,
          0.000012814513485724513,
          0.000012782186055200384,
          0.000012749801817383058,
          0.000012717361618163337,
          0.00001268486630310386,
          0.000012652316717403341,
          0.000012619713705860777,
          0.000012587058112839949,
          0.000012554350782233849,
          0.000012521592557429376,
          0.000012488784281272052,
          0.000012455926796030923,
          0.000012423020943363549,
          0.000012390067564281108,
          0.000012357067499113678,
          0.00001232402158747558,
          0.000012290930668230933,
          0.000012257795579459235,
          0.000012224617158421214,
          0.000012191396241524664,
          0.000012158133664290571,
          0.000012124830261319229,
          0.000012091486866256649,
          0.000012058104311760974,
          0.000012024683429469142,
          0.000011991225049963636,
          0.000011957730002739409,
          0.000011924199116170964,
          0.00001189063321747955,
          0.00001185703313270057,
          0.000011823399686651092,
          0.000011789733702897549,
          0.000011756036003723581,
          0.000011722307410098064,
          0.00001168854874164325,
          0.000011654760816603142,
          0.00001162094445181196,
          0.000011587100462662845,
          0.00001155322966307667,
          0.00001151933286547107,
          0.0000114854108807296,
          0.000011451464518171123,
          0.000011417494585519293,
          0.000011383501888872309,
          0.000011349487232672773,
          0.000011315451419677739,
          0.000011281395250928989,
          0.000011247319525723433,
          0.000011213225041583732,
          0.000011179112594229073,
          0.000011144982977546179,
          0.000011110836983560436,
          0.000011076675402407291,
          0.00001104249902230375,
          0.000011008308629520171,
          0.000010974105008352135,
          0.000010939888941092614,
          0.000010905661208004261,
          0.000010871422587291947,
          0.000010837173855075438,
          0.000010802915785362351,
          0.000010768649150021234,
          0.00001073437471875486,
          0.000010700093259073789,
          0.00001066580553627003,
          0.000010631512313391009,
          0.000010597214351213642,
          0.000010562912408218714,
          0.000010528607240565372,
          0.00001049429960206592,
          0.000010459990244160707,
          0.000010425679915893363,
          0.000010391369363886113,
          0.000010357059332315422,
          0.00001032275056288772,
          0.0000102884437948155,
          0.000010254139764793482,
          0.000010219839206975077,
          0.000010185542852949055,
          0.000010151251431716398,
          0.00001011696566966743,
          0.00001008268629055908
         ]
        }
       ],
       "layout": {
        "height": 400,
        "showlegend": true,
        "template": {
         "data": {
          "bar": [
           {
            "error_x": {
             "color": "#2a3f5f"
            },
            "error_y": {
             "color": "#2a3f5f"
            },
            "marker": {
             "line": {
              "color": "#E5ECF6",
              "width": 0.5
             },
             "pattern": {
              "fillmode": "overlay",
              "size": 10,
              "solidity": 0.2
             }
            },
            "type": "bar"
           }
          ],
          "barpolar": [
           {
            "marker": {
             "line": {
              "color": "#E5ECF6",
              "width": 0.5
             },
             "pattern": {
              "fillmode": "overlay",
              "size": 10,
              "solidity": 0.2
             }
            },
            "type": "barpolar"
           }
          ],
          "carpet": [
           {
            "aaxis": {
             "endlinecolor": "#2a3f5f",
             "gridcolor": "white",
             "linecolor": "white",
             "minorgridcolor": "white",
             "startlinecolor": "#2a3f5f"
            },
            "baxis": {
             "endlinecolor": "#2a3f5f",
             "gridcolor": "white",
             "linecolor": "white",
             "minorgridcolor": "white",
             "startlinecolor": "#2a3f5f"
            },
            "type": "carpet"
           }
          ],
          "choropleth": [
           {
            "colorbar": {
             "outlinewidth": 0,
             "ticks": ""
            },
            "type": "choropleth"
           }
          ],
          "contour": [
           {
            "colorbar": {
             "outlinewidth": 0,
             "ticks": ""
            },
            "colorscale": [
             [
              0,
              "#0d0887"
             ],
             [
              0.1111111111111111,
              "#46039f"
             ],
             [
              0.2222222222222222,
              "#7201a8"
             ],
             [
              0.3333333333333333,
              "#9c179e"
             ],
             [
              0.4444444444444444,
              "#bd3786"
             ],
             [
              0.5555555555555556,
              "#d8576b"
             ],
             [
              0.6666666666666666,
              "#ed7953"
             ],
             [
              0.7777777777777778,
              "#fb9f3a"
             ],
             [
              0.8888888888888888,
              "#fdca26"
             ],
             [
              1,
              "#f0f921"
             ]
            ],
            "type": "contour"
           }
          ],
          "contourcarpet": [
           {
            "colorbar": {
             "outlinewidth": 0,
             "ticks": ""
            },
            "type": "contourcarpet"
           }
          ],
          "heatmap": [
           {
            "colorbar": {
             "outlinewidth": 0,
             "ticks": ""
            },
            "colorscale": [
             [
              0,
              "#0d0887"
             ],
             [
              0.1111111111111111,
              "#46039f"
             ],
             [
              0.2222222222222222,
              "#7201a8"
             ],
             [
              0.3333333333333333,
              "#9c179e"
             ],
             [
              0.4444444444444444,
              "#bd3786"
             ],
             [
              0.5555555555555556,
              "#d8576b"
             ],
             [
              0.6666666666666666,
              "#ed7953"
             ],
             [
              0.7777777777777778,
              "#fb9f3a"
             ],
             [
              0.8888888888888888,
              "#fdca26"
             ],
             [
              1,
              "#f0f921"
             ]
            ],
            "type": "heatmap"
           }
          ],
          "heatmapgl": [
           {
            "colorbar": {
             "outlinewidth": 0,
             "ticks": ""
            },
            "colorscale": [
             [
              0,
              "#0d0887"
             ],
             [
              0.1111111111111111,
              "#46039f"
             ],
             [
              0.2222222222222222,
              "#7201a8"
             ],
             [
              0.3333333333333333,
              "#9c179e"
             ],
             [
              0.4444444444444444,
              "#bd3786"
             ],
             [
              0.5555555555555556,
              "#d8576b"
             ],
             [
              0.6666666666666666,
              "#ed7953"
             ],
             [
              0.7777777777777778,
              "#fb9f3a"
             ],
             [
              0.8888888888888888,
              "#fdca26"
             ],
             [
              1,
              "#f0f921"
             ]
            ],
            "type": "heatmapgl"
           }
          ],
          "histogram": [
           {
            "marker": {
             "pattern": {
              "fillmode": "overlay",
              "size": 10,
              "solidity": 0.2
             }
            },
            "type": "histogram"
           }
          ],
          "histogram2d": [
           {
            "colorbar": {
             "outlinewidth": 0,
             "ticks": ""
            },
            "colorscale": [
             [
              0,
              "#0d0887"
             ],
             [
              0.1111111111111111,
              "#46039f"
             ],
             [
              0.2222222222222222,
              "#7201a8"
             ],
             [
              0.3333333333333333,
              "#9c179e"
             ],
             [
              0.4444444444444444,
              "#bd3786"
             ],
             [
              0.5555555555555556,
              "#d8576b"
             ],
             [
              0.6666666666666666,
              "#ed7953"
             ],
             [
              0.7777777777777778,
              "#fb9f3a"
             ],
             [
              0.8888888888888888,
              "#fdca26"
             ],
             [
              1,
              "#f0f921"
             ]
            ],
            "type": "histogram2d"
           }
          ],
          "histogram2dcontour": [
           {
            "colorbar": {
             "outlinewidth": 0,
             "ticks": ""
            },
            "colorscale": [
             [
              0,
              "#0d0887"
             ],
             [
              0.1111111111111111,
              "#46039f"
             ],
             [
              0.2222222222222222,
              "#7201a8"
             ],
             [
              0.3333333333333333,
              "#9c179e"
             ],
             [
              0.4444444444444444,
              "#bd3786"
             ],
             [
              0.5555555555555556,
              "#d8576b"
             ],
             [
              0.6666666666666666,
              "#ed7953"
             ],
             [
              0.7777777777777778,
              "#fb9f3a"
             ],
             [
              0.8888888888888888,
              "#fdca26"
             ],
             [
              1,
              "#f0f921"
             ]
            ],
            "type": "histogram2dcontour"
           }
          ],
          "mesh3d": [
           {
            "colorbar": {
             "outlinewidth": 0,
             "ticks": ""
            },
            "type": "mesh3d"
           }
          ],
          "parcoords": [
           {
            "line": {
             "colorbar": {
              "outlinewidth": 0,
              "ticks": ""
             }
            },
            "type": "parcoords"
           }
          ],
          "pie": [
           {
            "automargin": true,
            "type": "pie"
           }
          ],
          "scatter": [
           {
            "fillpattern": {
             "fillmode": "overlay",
             "size": 10,
             "solidity": 0.2
            },
            "type": "scatter"
           }
          ],
          "scatter3d": [
           {
            "line": {
             "colorbar": {
              "outlinewidth": 0,
              "ticks": ""
             }
            },
            "marker": {
             "colorbar": {
              "outlinewidth": 0,
              "ticks": ""
             }
            },
            "type": "scatter3d"
           }
          ],
          "scattercarpet": [
           {
            "marker": {
             "colorbar": {
              "outlinewidth": 0,
              "ticks": ""
             }
            },
            "type": "scattercarpet"
           }
          ],
          "scattergeo": [
           {
            "marker": {
             "colorbar": {
              "outlinewidth": 0,
              "ticks": ""
             }
            },
            "type": "scattergeo"
           }
          ],
          "scattergl": [
           {
            "marker": {
             "colorbar": {
              "outlinewidth": 0,
              "ticks": ""
             }
            },
            "type": "scattergl"
           }
          ],
          "scattermapbox": [
           {
            "marker": {
             "colorbar": {
              "outlinewidth": 0,
              "ticks": ""
             }
            },
            "type": "scattermapbox"
           }
          ],
          "scatterpolar": [
           {
            "marker": {
             "colorbar": {
              "outlinewidth": 0,
              "ticks": ""
             }
            },
            "type": "scatterpolar"
           }
          ],
          "scatterpolargl": [
           {
            "marker": {
             "colorbar": {
              "outlinewidth": 0,
              "ticks": ""
             }
            },
            "type": "scatterpolargl"
           }
          ],
          "scatterternary": [
           {
            "marker": {
             "colorbar": {
              "outlinewidth": 0,
              "ticks": ""
             }
            },
            "type": "scatterternary"
           }
          ],
          "surface": [
           {
            "colorbar": {
             "outlinewidth": 0,
             "ticks": ""
            },
            "colorscale": [
             [
              0,
              "#0d0887"
             ],
             [
              0.1111111111111111,
              "#46039f"
             ],
             [
              0.2222222222222222,
              "#7201a8"
             ],
             [
              0.3333333333333333,
              "#9c179e"
             ],
             [
              0.4444444444444444,
              "#bd3786"
             ],
             [
              0.5555555555555556,
              "#d8576b"
             ],
             [
              0.6666666666666666,
              "#ed7953"
             ],
             [
              0.7777777777777778,
              "#fb9f3a"
             ],
             [
              0.8888888888888888,
              "#fdca26"
             ],
             [
              1,
              "#f0f921"
             ]
            ],
            "type": "surface"
           }
          ],
          "table": [
           {
            "cells": {
             "fill": {
              "color": "#EBF0F8"
             },
             "line": {
              "color": "white"
             }
            },
            "header": {
             "fill": {
              "color": "#C8D4E3"
             },
             "line": {
              "color": "white"
             }
            },
            "type": "table"
           }
          ]
         },
         "layout": {
          "annotationdefaults": {
           "arrowcolor": "#2a3f5f",
           "arrowhead": 0,
           "arrowwidth": 1
          },
          "autotypenumbers": "strict",
          "coloraxis": {
           "colorbar": {
            "outlinewidth": 0,
            "ticks": ""
           }
          },
          "colorscale": {
           "diverging": [
            [
             0,
             "#8e0152"
            ],
            [
             0.1,
             "#c51b7d"
            ],
            [
             0.2,
             "#de77ae"
            ],
            [
             0.3,
             "#f1b6da"
            ],
            [
             0.4,
             "#fde0ef"
            ],
            [
             0.5,
             "#f7f7f7"
            ],
            [
             0.6,
             "#e6f5d0"
            ],
            [
             0.7,
             "#b8e186"
            ],
            [
             0.8,
             "#7fbc41"
            ],
            [
             0.9,
             "#4d9221"
            ],
            [
             1,
             "#276419"
            ]
           ],
           "sequential": [
            [
             0,
             "#0d0887"
            ],
            [
             0.1111111111111111,
             "#46039f"
            ],
            [
             0.2222222222222222,
             "#7201a8"
            ],
            [
             0.3333333333333333,
             "#9c179e"
            ],
            [
             0.4444444444444444,
             "#bd3786"
            ],
            [
             0.5555555555555556,
             "#d8576b"
            ],
            [
             0.6666666666666666,
             "#ed7953"
            ],
            [
             0.7777777777777778,
             "#fb9f3a"
            ],
            [
             0.8888888888888888,
             "#fdca26"
            ],
            [
             1,
             "#f0f921"
            ]
           ],
           "sequentialminus": [
            [
             0,
             "#0d0887"
            ],
            [
             0.1111111111111111,
             "#46039f"
            ],
            [
             0.2222222222222222,
             "#7201a8"
            ],
            [
             0.3333333333333333,
             "#9c179e"
            ],
            [
             0.4444444444444444,
             "#bd3786"
            ],
            [
             0.5555555555555556,
             "#d8576b"
            ],
            [
             0.6666666666666666,
             "#ed7953"
            ],
            [
             0.7777777777777778,
             "#fb9f3a"
            ],
            [
             0.8888888888888888,
             "#fdca26"
            ],
            [
             1,
             "#f0f921"
            ]
           ]
          },
          "colorway": [
           "#636efa",
           "#EF553B",
           "#00cc96",
           "#ab63fa",
           "#FFA15A",
           "#19d3f3",
           "#FF6692",
           "#B6E880",
           "#FF97FF",
           "#FECB52"
          ],
          "font": {
           "color": "#2a3f5f"
          },
          "geo": {
           "bgcolor": "white",
           "lakecolor": "white",
           "landcolor": "#E5ECF6",
           "showlakes": true,
           "showland": true,
           "subunitcolor": "white"
          },
          "hoverlabel": {
           "align": "left"
          },
          "hovermode": "closest",
          "mapbox": {
           "style": "light"
          },
          "paper_bgcolor": "white",
          "plot_bgcolor": "#E5ECF6",
          "polar": {
           "angularaxis": {
            "gridcolor": "white",
            "linecolor": "white",
            "ticks": ""
           },
           "bgcolor": "#E5ECF6",
           "radialaxis": {
            "gridcolor": "white",
            "linecolor": "white",
            "ticks": ""
           }
          },
          "scene": {
           "xaxis": {
            "backgroundcolor": "#E5ECF6",
            "gridcolor": "white",
            "gridwidth": 2,
            "linecolor": "white",
            "showbackground": true,
            "ticks": "",
            "zerolinecolor": "white"
           },
           "yaxis": {
            "backgroundcolor": "#E5ECF6",
            "gridcolor": "white",
            "gridwidth": 2,
            "linecolor": "white",
            "showbackground": true,
            "ticks": "",
            "zerolinecolor": "white"
           },
           "zaxis": {
            "backgroundcolor": "#E5ECF6",
            "gridcolor": "white",
            "gridwidth": 2,
            "linecolor": "white",
            "showbackground": true,
            "ticks": "",
            "zerolinecolor": "white"
           }
          },
          "shapedefaults": {
           "line": {
            "color": "#2a3f5f"
           }
          },
          "ternary": {
           "aaxis": {
            "gridcolor": "white",
            "linecolor": "white",
            "ticks": ""
           },
           "baxis": {
            "gridcolor": "white",
            "linecolor": "white",
            "ticks": ""
           },
           "bgcolor": "#E5ECF6",
           "caxis": {
            "gridcolor": "white",
            "linecolor": "white",
            "ticks": ""
           }
          },
          "title": {
           "x": 0.05
          },
          "xaxis": {
           "automargin": true,
           "gridcolor": "white",
           "linecolor": "white",
           "ticks": "",
           "title": {
            "standoff": 15
           },
           "zerolinecolor": "white",
           "zerolinewidth": 2
          },
          "yaxis": {
           "automargin": true,
           "gridcolor": "white",
           "linecolor": "white",
           "ticks": "",
           "title": {
            "standoff": 15
           },
           "zerolinecolor": "white",
           "zerolinewidth": 2
          }
         }
        },
        "title": {
         "text": "Curva de la distribución normal"
        },
        "width": 600,
        "xaxis": {
         "title": {
          "text": "Transacciones"
         }
        },
        "yaxis": {
         "title": {
          "text": "Densidad de probabilidad"
         }
        }
       }
      }
     },
     "metadata": {},
     "output_type": "display_data"
    }
   ],
   "source": [
    "df_grouped = data.resample('2W').size().reset_index(name='count')\n",
    "media = df_grouped['count'].mean()\n",
    "desviacion_estandar = df_grouped['count'].std()\n",
    "\n",
    "x_values = np.linspace(df_grouped['count'].min(), df_grouped['count'].max(), 1000)\n",
    "y_values = norm.pdf(x_values, media, desviacion_estandar)\n",
    "\n",
    "\n",
    "fig = go.Figure()\n",
    "fig.add_trace(go.Scatter(x=x_values, y=y_values, mode='lines', name='Distribución normal'))\n",
    "fig.update_layout(title='Curva de la distribución normal',\n",
    "                  xaxis_title='Transacciones',\n",
    "                  yaxis_title='Densidad de probabilidad',\n",
    "                  showlegend=True)\n",
    "fig.update_layout(width=600, height=400) \n",
    "\n",
    "fig.show()"
   ]
  },
  {
   "cell_type": "markdown",
   "metadata": {},
   "source": [
    "De acuerdo con la curva de la distribución normal, se puede observar que el volumen transaccional tiene un comportamiento aproximadamente normal con un sesgo a la derecha, indicando que los datos se concentran hacia la cola derecha de la distribución."
   ]
  },
  {
   "cell_type": "markdown",
   "metadata": {},
   "source": [
    "Se detalla que el conjunto de datos analizados no contiene datos nulos o vacios."
   ]
  },
  {
   "cell_type": "markdown",
   "metadata": {},
   "source": [
    "### Transacciones en el tiempo"
   ]
  },
  {
   "cell_type": "code",
   "execution_count": 93,
   "metadata": {},
   "outputs": [
    {
     "data": {
      "text/html": [
       "<div>\n",
       "<style scoped>\n",
       "    .dataframe tbody tr th:only-of-type {\n",
       "        vertical-align: middle;\n",
       "    }\n",
       "\n",
       "    .dataframe tbody tr th {\n",
       "        vertical-align: top;\n",
       "    }\n",
       "\n",
       "    .dataframe thead th {\n",
       "        text-align: right;\n",
       "    }\n",
       "</style>\n",
       "<table border=\"1\" class=\"dataframe\">\n",
       "  <thead>\n",
       "    <tr style=\"text-align: right;\">\n",
       "      <th></th>\n",
       "      <th>fecha</th>\n",
       "      <th># operaciones</th>\n",
       "    </tr>\n",
       "  </thead>\n",
       "  <tbody>\n",
       "    <tr>\n",
       "      <th>0</th>\n",
       "      <td>2017-02-05</td>\n",
       "      <td>46585</td>\n",
       "    </tr>\n",
       "    <tr>\n",
       "      <th>1</th>\n",
       "      <td>2017-02-19</td>\n",
       "      <td>83570</td>\n",
       "    </tr>\n",
       "    <tr>\n",
       "      <th>2</th>\n",
       "      <td>2017-03-05</td>\n",
       "      <td>101521</td>\n",
       "    </tr>\n",
       "    <tr>\n",
       "      <th>3</th>\n",
       "      <td>2017-03-19</td>\n",
       "      <td>88492</td>\n",
       "    </tr>\n",
       "    <tr>\n",
       "      <th>4</th>\n",
       "      <td>2017-04-02</td>\n",
       "      <td>88562</td>\n",
       "    </tr>\n",
       "    <tr>\n",
       "      <th>5</th>\n",
       "      <td>2017-04-16</td>\n",
       "      <td>84447</td>\n",
       "    </tr>\n",
       "    <tr>\n",
       "      <th>6</th>\n",
       "      <td>2017-04-30</td>\n",
       "      <td>89011</td>\n",
       "    </tr>\n",
       "    <tr>\n",
       "      <th>7</th>\n",
       "      <td>2017-05-14</td>\n",
       "      <td>87809</td>\n",
       "    </tr>\n",
       "    <tr>\n",
       "      <th>8</th>\n",
       "      <td>2017-05-28</td>\n",
       "      <td>80403</td>\n",
       "    </tr>\n",
       "    <tr>\n",
       "      <th>9</th>\n",
       "      <td>2017-06-11</td>\n",
       "      <td>25066</td>\n",
       "    </tr>\n",
       "  </tbody>\n",
       "</table>\n",
       "</div>"
      ],
      "text/plain": [
       "       fecha  # operaciones\n",
       "0 2017-02-05          46585\n",
       "1 2017-02-19          83570\n",
       "2 2017-03-05         101521\n",
       "3 2017-03-19          88492\n",
       "4 2017-04-02          88562\n",
       "5 2017-04-16          84447\n",
       "6 2017-04-30          89011\n",
       "7 2017-05-14          87809\n",
       "8 2017-05-28          80403\n",
       "9 2017-06-11          25066"
      ]
     },
     "execution_count": 93,
     "metadata": {},
     "output_type": "execute_result"
    }
   ],
   "source": [
    "period_table = data.resample('2W').size().reset_index(name='# operaciones')\n",
    "period_table.rename(columns={'index': 'quincena'}, inplace=True)\n",
    "period_table"
   ]
  },
  {
   "cell_type": "code",
   "execution_count": 94,
   "metadata": {},
   "outputs": [
    {
     "data": {
      "application/vnd.plotly.v1+json": {
       "config": {
        "plotlyServerURL": "https://plot.ly"
       },
       "data": [
        {
         "alignmentgroup": "True",
         "hovertemplate": "x=%{x}<br># operaciones=%{y}<extra></extra>",
         "legendgroup": "",
         "marker": {
          "color": "#636efa",
          "pattern": {
           "shape": ""
          }
         },
         "name": "",
         "offsetgroup": "",
         "orientation": "v",
         "showlegend": false,
         "textposition": "auto",
         "type": "bar",
         "x": [
          "2017-02-05",
          "2017-02-19",
          "2017-03-05",
          "2017-03-19",
          "2017-04-02",
          "2017-04-16",
          "2017-04-30",
          "2017-05-14",
          "2017-05-28",
          "2017-06-11"
         ],
         "xaxis": "x",
         "y": [
          46585,
          83570,
          101521,
          88492,
          88562,
          84447,
          89011,
          87809,
          80403,
          25066
         ],
         "yaxis": "y"
        }
       ],
       "layout": {
        "barmode": "relative",
        "height": 400,
        "legend": {
         "tracegroupgap": 0
        },
        "margin": {
         "t": 60
        },
        "template": {
         "data": {
          "bar": [
           {
            "error_x": {
             "color": "#2a3f5f"
            },
            "error_y": {
             "color": "#2a3f5f"
            },
            "marker": {
             "line": {
              "color": "#E5ECF6",
              "width": 0.5
             },
             "pattern": {
              "fillmode": "overlay",
              "size": 10,
              "solidity": 0.2
             }
            },
            "type": "bar"
           }
          ],
          "barpolar": [
           {
            "marker": {
             "line": {
              "color": "#E5ECF6",
              "width": 0.5
             },
             "pattern": {
              "fillmode": "overlay",
              "size": 10,
              "solidity": 0.2
             }
            },
            "type": "barpolar"
           }
          ],
          "carpet": [
           {
            "aaxis": {
             "endlinecolor": "#2a3f5f",
             "gridcolor": "white",
             "linecolor": "white",
             "minorgridcolor": "white",
             "startlinecolor": "#2a3f5f"
            },
            "baxis": {
             "endlinecolor": "#2a3f5f",
             "gridcolor": "white",
             "linecolor": "white",
             "minorgridcolor": "white",
             "startlinecolor": "#2a3f5f"
            },
            "type": "carpet"
           }
          ],
          "choropleth": [
           {
            "colorbar": {
             "outlinewidth": 0,
             "ticks": ""
            },
            "type": "choropleth"
           }
          ],
          "contour": [
           {
            "colorbar": {
             "outlinewidth": 0,
             "ticks": ""
            },
            "colorscale": [
             [
              0,
              "#0d0887"
             ],
             [
              0.1111111111111111,
              "#46039f"
             ],
             [
              0.2222222222222222,
              "#7201a8"
             ],
             [
              0.3333333333333333,
              "#9c179e"
             ],
             [
              0.4444444444444444,
              "#bd3786"
             ],
             [
              0.5555555555555556,
              "#d8576b"
             ],
             [
              0.6666666666666666,
              "#ed7953"
             ],
             [
              0.7777777777777778,
              "#fb9f3a"
             ],
             [
              0.8888888888888888,
              "#fdca26"
             ],
             [
              1,
              "#f0f921"
             ]
            ],
            "type": "contour"
           }
          ],
          "contourcarpet": [
           {
            "colorbar": {
             "outlinewidth": 0,
             "ticks": ""
            },
            "type": "contourcarpet"
           }
          ],
          "heatmap": [
           {
            "colorbar": {
             "outlinewidth": 0,
             "ticks": ""
            },
            "colorscale": [
             [
              0,
              "#0d0887"
             ],
             [
              0.1111111111111111,
              "#46039f"
             ],
             [
              0.2222222222222222,
              "#7201a8"
             ],
             [
              0.3333333333333333,
              "#9c179e"
             ],
             [
              0.4444444444444444,
              "#bd3786"
             ],
             [
              0.5555555555555556,
              "#d8576b"
             ],
             [
              0.6666666666666666,
              "#ed7953"
             ],
             [
              0.7777777777777778,
              "#fb9f3a"
             ],
             [
              0.8888888888888888,
              "#fdca26"
             ],
             [
              1,
              "#f0f921"
             ]
            ],
            "type": "heatmap"
           }
          ],
          "heatmapgl": [
           {
            "colorbar": {
             "outlinewidth": 0,
             "ticks": ""
            },
            "colorscale": [
             [
              0,
              "#0d0887"
             ],
             [
              0.1111111111111111,
              "#46039f"
             ],
             [
              0.2222222222222222,
              "#7201a8"
             ],
             [
              0.3333333333333333,
              "#9c179e"
             ],
             [
              0.4444444444444444,
              "#bd3786"
             ],
             [
              0.5555555555555556,
              "#d8576b"
             ],
             [
              0.6666666666666666,
              "#ed7953"
             ],
             [
              0.7777777777777778,
              "#fb9f3a"
             ],
             [
              0.8888888888888888,
              "#fdca26"
             ],
             [
              1,
              "#f0f921"
             ]
            ],
            "type": "heatmapgl"
           }
          ],
          "histogram": [
           {
            "marker": {
             "pattern": {
              "fillmode": "overlay",
              "size": 10,
              "solidity": 0.2
             }
            },
            "type": "histogram"
           }
          ],
          "histogram2d": [
           {
            "colorbar": {
             "outlinewidth": 0,
             "ticks": ""
            },
            "colorscale": [
             [
              0,
              "#0d0887"
             ],
             [
              0.1111111111111111,
              "#46039f"
             ],
             [
              0.2222222222222222,
              "#7201a8"
             ],
             [
              0.3333333333333333,
              "#9c179e"
             ],
             [
              0.4444444444444444,
              "#bd3786"
             ],
             [
              0.5555555555555556,
              "#d8576b"
             ],
             [
              0.6666666666666666,
              "#ed7953"
             ],
             [
              0.7777777777777778,
              "#fb9f3a"
             ],
             [
              0.8888888888888888,
              "#fdca26"
             ],
             [
              1,
              "#f0f921"
             ]
            ],
            "type": "histogram2d"
           }
          ],
          "histogram2dcontour": [
           {
            "colorbar": {
             "outlinewidth": 0,
             "ticks": ""
            },
            "colorscale": [
             [
              0,
              "#0d0887"
             ],
             [
              0.1111111111111111,
              "#46039f"
             ],
             [
              0.2222222222222222,
              "#7201a8"
             ],
             [
              0.3333333333333333,
              "#9c179e"
             ],
             [
              0.4444444444444444,
              "#bd3786"
             ],
             [
              0.5555555555555556,
              "#d8576b"
             ],
             [
              0.6666666666666666,
              "#ed7953"
             ],
             [
              0.7777777777777778,
              "#fb9f3a"
             ],
             [
              0.8888888888888888,
              "#fdca26"
             ],
             [
              1,
              "#f0f921"
             ]
            ],
            "type": "histogram2dcontour"
           }
          ],
          "mesh3d": [
           {
            "colorbar": {
             "outlinewidth": 0,
             "ticks": ""
            },
            "type": "mesh3d"
           }
          ],
          "parcoords": [
           {
            "line": {
             "colorbar": {
              "outlinewidth": 0,
              "ticks": ""
             }
            },
            "type": "parcoords"
           }
          ],
          "pie": [
           {
            "automargin": true,
            "type": "pie"
           }
          ],
          "scatter": [
           {
            "fillpattern": {
             "fillmode": "overlay",
             "size": 10,
             "solidity": 0.2
            },
            "type": "scatter"
           }
          ],
          "scatter3d": [
           {
            "line": {
             "colorbar": {
              "outlinewidth": 0,
              "ticks": ""
             }
            },
            "marker": {
             "colorbar": {
              "outlinewidth": 0,
              "ticks": ""
             }
            },
            "type": "scatter3d"
           }
          ],
          "scattercarpet": [
           {
            "marker": {
             "colorbar": {
              "outlinewidth": 0,
              "ticks": ""
             }
            },
            "type": "scattercarpet"
           }
          ],
          "scattergeo": [
           {
            "marker": {
             "colorbar": {
              "outlinewidth": 0,
              "ticks": ""
             }
            },
            "type": "scattergeo"
           }
          ],
          "scattergl": [
           {
            "marker": {
             "colorbar": {
              "outlinewidth": 0,
              "ticks": ""
             }
            },
            "type": "scattergl"
           }
          ],
          "scattermapbox": [
           {
            "marker": {
             "colorbar": {
              "outlinewidth": 0,
              "ticks": ""
             }
            },
            "type": "scattermapbox"
           }
          ],
          "scatterpolar": [
           {
            "marker": {
             "colorbar": {
              "outlinewidth": 0,
              "ticks": ""
             }
            },
            "type": "scatterpolar"
           }
          ],
          "scatterpolargl": [
           {
            "marker": {
             "colorbar": {
              "outlinewidth": 0,
              "ticks": ""
             }
            },
            "type": "scatterpolargl"
           }
          ],
          "scatterternary": [
           {
            "marker": {
             "colorbar": {
              "outlinewidth": 0,
              "ticks": ""
             }
            },
            "type": "scatterternary"
           }
          ],
          "surface": [
           {
            "colorbar": {
             "outlinewidth": 0,
             "ticks": ""
            },
            "colorscale": [
             [
              0,
              "#0d0887"
             ],
             [
              0.1111111111111111,
              "#46039f"
             ],
             [
              0.2222222222222222,
              "#7201a8"
             ],
             [
              0.3333333333333333,
              "#9c179e"
             ],
             [
              0.4444444444444444,
              "#bd3786"
             ],
             [
              0.5555555555555556,
              "#d8576b"
             ],
             [
              0.6666666666666666,
              "#ed7953"
             ],
             [
              0.7777777777777778,
              "#fb9f3a"
             ],
             [
              0.8888888888888888,
              "#fdca26"
             ],
             [
              1,
              "#f0f921"
             ]
            ],
            "type": "surface"
           }
          ],
          "table": [
           {
            "cells": {
             "fill": {
              "color": "#EBF0F8"
             },
             "line": {
              "color": "white"
             }
            },
            "header": {
             "fill": {
              "color": "#C8D4E3"
             },
             "line": {
              "color": "white"
             }
            },
            "type": "table"
           }
          ]
         },
         "layout": {
          "annotationdefaults": {
           "arrowcolor": "#2a3f5f",
           "arrowhead": 0,
           "arrowwidth": 1
          },
          "autotypenumbers": "strict",
          "coloraxis": {
           "colorbar": {
            "outlinewidth": 0,
            "ticks": ""
           }
          },
          "colorscale": {
           "diverging": [
            [
             0,
             "#8e0152"
            ],
            [
             0.1,
             "#c51b7d"
            ],
            [
             0.2,
             "#de77ae"
            ],
            [
             0.3,
             "#f1b6da"
            ],
            [
             0.4,
             "#fde0ef"
            ],
            [
             0.5,
             "#f7f7f7"
            ],
            [
             0.6,
             "#e6f5d0"
            ],
            [
             0.7,
             "#b8e186"
            ],
            [
             0.8,
             "#7fbc41"
            ],
            [
             0.9,
             "#4d9221"
            ],
            [
             1,
             "#276419"
            ]
           ],
           "sequential": [
            [
             0,
             "#0d0887"
            ],
            [
             0.1111111111111111,
             "#46039f"
            ],
            [
             0.2222222222222222,
             "#7201a8"
            ],
            [
             0.3333333333333333,
             "#9c179e"
            ],
            [
             0.4444444444444444,
             "#bd3786"
            ],
            [
             0.5555555555555556,
             "#d8576b"
            ],
            [
             0.6666666666666666,
             "#ed7953"
            ],
            [
             0.7777777777777778,
             "#fb9f3a"
            ],
            [
             0.8888888888888888,
             "#fdca26"
            ],
            [
             1,
             "#f0f921"
            ]
           ],
           "sequentialminus": [
            [
             0,
             "#0d0887"
            ],
            [
             0.1111111111111111,
             "#46039f"
            ],
            [
             0.2222222222222222,
             "#7201a8"
            ],
            [
             0.3333333333333333,
             "#9c179e"
            ],
            [
             0.4444444444444444,
             "#bd3786"
            ],
            [
             0.5555555555555556,
             "#d8576b"
            ],
            [
             0.6666666666666666,
             "#ed7953"
            ],
            [
             0.7777777777777778,
             "#fb9f3a"
            ],
            [
             0.8888888888888888,
             "#fdca26"
            ],
            [
             1,
             "#f0f921"
            ]
           ]
          },
          "colorway": [
           "#636efa",
           "#EF553B",
           "#00cc96",
           "#ab63fa",
           "#FFA15A",
           "#19d3f3",
           "#FF6692",
           "#B6E880",
           "#FF97FF",
           "#FECB52"
          ],
          "font": {
           "color": "#2a3f5f"
          },
          "geo": {
           "bgcolor": "white",
           "lakecolor": "white",
           "landcolor": "#E5ECF6",
           "showlakes": true,
           "showland": true,
           "subunitcolor": "white"
          },
          "hoverlabel": {
           "align": "left"
          },
          "hovermode": "closest",
          "mapbox": {
           "style": "light"
          },
          "paper_bgcolor": "white",
          "plot_bgcolor": "#E5ECF6",
          "polar": {
           "angularaxis": {
            "gridcolor": "white",
            "linecolor": "white",
            "ticks": ""
           },
           "bgcolor": "#E5ECF6",
           "radialaxis": {
            "gridcolor": "white",
            "linecolor": "white",
            "ticks": ""
           }
          },
          "scene": {
           "xaxis": {
            "backgroundcolor": "#E5ECF6",
            "gridcolor": "white",
            "gridwidth": 2,
            "linecolor": "white",
            "showbackground": true,
            "ticks": "",
            "zerolinecolor": "white"
           },
           "yaxis": {
            "backgroundcolor": "#E5ECF6",
            "gridcolor": "white",
            "gridwidth": 2,
            "linecolor": "white",
            "showbackground": true,
            "ticks": "",
            "zerolinecolor": "white"
           },
           "zaxis": {
            "backgroundcolor": "#E5ECF6",
            "gridcolor": "white",
            "gridwidth": 2,
            "linecolor": "white",
            "showbackground": true,
            "ticks": "",
            "zerolinecolor": "white"
           }
          },
          "shapedefaults": {
           "line": {
            "color": "#2a3f5f"
           }
          },
          "ternary": {
           "aaxis": {
            "gridcolor": "white",
            "linecolor": "white",
            "ticks": ""
           },
           "baxis": {
            "gridcolor": "white",
            "linecolor": "white",
            "ticks": ""
           },
           "bgcolor": "#E5ECF6",
           "caxis": {
            "gridcolor": "white",
            "linecolor": "white",
            "ticks": ""
           }
          },
          "title": {
           "x": 0.05
          },
          "xaxis": {
           "automargin": true,
           "gridcolor": "white",
           "linecolor": "white",
           "ticks": "",
           "title": {
            "standoff": 15
           },
           "zerolinecolor": "white",
           "zerolinewidth": 2
          },
          "yaxis": {
           "automargin": true,
           "gridcolor": "white",
           "linecolor": "white",
           "ticks": "",
           "title": {
            "standoff": 15
           },
           "zerolinecolor": "white",
           "zerolinewidth": 2
          }
         }
        },
        "width": 600,
        "xaxis": {
         "anchor": "y",
         "domain": [
          0,
          1
         ],
         "tickmode": "array",
         "ticktext": [
          "2017-02-05",
          "2017-02-19",
          "2017-03-05",
          "2017-03-19",
          "2017-04-02",
          "2017-04-16",
          "2017-04-30",
          "2017-05-14",
          "2017-05-28",
          "2017-06-11"
         ],
         "tickvals": [
          "2017-02-05",
          "2017-02-19",
          "2017-03-05",
          "2017-03-19",
          "2017-04-02",
          "2017-04-16",
          "2017-04-30",
          "2017-05-14",
          "2017-05-28",
          "2017-06-11"
         ],
         "title": {
          "text": "x"
         }
        },
        "yaxis": {
         "anchor": "x",
         "domain": [
          0,
          1
         ],
         "title": {
          "text": "# operaciones"
         }
        }
       }
      }
     },
     "metadata": {},
     "output_type": "display_data"
    }
   ],
   "source": [
    "fig = px.bar(period_table, x=period_table['fecha'].astype(str), y='# operaciones')\n",
    "fig.update_layout(xaxis={'tickmode': 'array', 'tickvals': period_table['fecha'].astype(str).unique(), 'ticktext': period_table['fecha'].astype(str).unique()},\n",
    "                    width=600, height=400)\n",
    "fig.show()"
   ]
  },
  {
   "cell_type": "markdown",
   "metadata": {},
   "source": [
    "Al obervar el volumen transaccional de forma quincenal, se observa que en la primera quincena del año el volumen es considerablemente bajo respecto a los meses siguientes, sin embargo, la ultima quincena es la que presenta un valor más bajo en volumen, alcanzando cerca de 25.000 transacciones. En las demás quincenas, se observa cierta estabilidad en el volumen con pequeñas fluctuaciones."
   ]
  },
  {
   "cell_type": "markdown",
   "metadata": {},
   "source": [
    "### Transacciones por terminal"
   ]
  },
  {
   "cell_type": "code",
   "execution_count": 95,
   "metadata": {},
   "outputs": [
    {
     "data": {
      "text/html": [
       "<div>\n",
       "<style scoped>\n",
       "    .dataframe tbody tr th:only-of-type {\n",
       "        vertical-align: middle;\n",
       "    }\n",
       "\n",
       "    .dataframe tbody tr th {\n",
       "        vertical-align: top;\n",
       "    }\n",
       "\n",
       "    .dataframe thead th {\n",
       "        text-align: right;\n",
       "    }\n",
       "</style>\n",
       "<table border=\"1\" class=\"dataframe\">\n",
       "  <thead>\n",
       "    <tr style=\"text-align: right;\">\n",
       "      <th></th>\n",
       "      <th># operaciones</th>\n",
       "      <th>Pareto (%)</th>\n",
       "    </tr>\n",
       "    <tr>\n",
       "      <th>idTerminal</th>\n",
       "      <th></th>\n",
       "      <th></th>\n",
       "    </tr>\n",
       "  </thead>\n",
       "  <tbody>\n",
       "    <tr>\n",
       "      <th>1774</th>\n",
       "      <td>32122</td>\n",
       "      <td>4.14</td>\n",
       "    </tr>\n",
       "    <tr>\n",
       "      <th>1908</th>\n",
       "      <td>30933</td>\n",
       "      <td>8.13</td>\n",
       "    </tr>\n",
       "    <tr>\n",
       "      <th>1964</th>\n",
       "      <td>29999</td>\n",
       "      <td>12.00</td>\n",
       "    </tr>\n",
       "    <tr>\n",
       "      <th>1910</th>\n",
       "      <td>26789</td>\n",
       "      <td>15.45</td>\n",
       "    </tr>\n",
       "    <tr>\n",
       "      <th>1980</th>\n",
       "      <td>25243</td>\n",
       "      <td>18.71</td>\n",
       "    </tr>\n",
       "    <tr>\n",
       "      <th>1741</th>\n",
       "      <td>23278</td>\n",
       "      <td>21.71</td>\n",
       "    </tr>\n",
       "    <tr>\n",
       "      <th>1593</th>\n",
       "      <td>23014</td>\n",
       "      <td>24.68</td>\n",
       "    </tr>\n",
       "    <tr>\n",
       "      <th>1824</th>\n",
       "      <td>22295</td>\n",
       "      <td>27.55</td>\n",
       "    </tr>\n",
       "    <tr>\n",
       "      <th>1864</th>\n",
       "      <td>21649</td>\n",
       "      <td>30.35</td>\n",
       "    </tr>\n",
       "    <tr>\n",
       "      <th>1946</th>\n",
       "      <td>21405</td>\n",
       "      <td>33.11</td>\n",
       "    </tr>\n",
       "    <tr>\n",
       "      <th>1896</th>\n",
       "      <td>21403</td>\n",
       "      <td>35.87</td>\n",
       "    </tr>\n",
       "    <tr>\n",
       "      <th>1944</th>\n",
       "      <td>20831</td>\n",
       "      <td>38.55</td>\n",
       "    </tr>\n",
       "    <tr>\n",
       "      <th>1805</th>\n",
       "      <td>20504</td>\n",
       "      <td>41.20</td>\n",
       "    </tr>\n",
       "    <tr>\n",
       "      <th>1575</th>\n",
       "      <td>20448</td>\n",
       "      <td>43.83</td>\n",
       "    </tr>\n",
       "    <tr>\n",
       "      <th>1746</th>\n",
       "      <td>20067</td>\n",
       "      <td>46.42</td>\n",
       "    </tr>\n",
       "    <tr>\n",
       "      <th>1828</th>\n",
       "      <td>19576</td>\n",
       "      <td>48.95</td>\n",
       "    </tr>\n",
       "    <tr>\n",
       "      <th>1577</th>\n",
       "      <td>18998</td>\n",
       "      <td>51.40</td>\n",
       "    </tr>\n",
       "    <tr>\n",
       "      <th>1987</th>\n",
       "      <td>18635</td>\n",
       "      <td>53.80</td>\n",
       "    </tr>\n",
       "    <tr>\n",
       "      <th>1971</th>\n",
       "      <td>18081</td>\n",
       "      <td>56.13</td>\n",
       "    </tr>\n",
       "    <tr>\n",
       "      <th>1996</th>\n",
       "      <td>17820</td>\n",
       "      <td>58.43</td>\n",
       "    </tr>\n",
       "    <tr>\n",
       "      <th>1827</th>\n",
       "      <td>17259</td>\n",
       "      <td>60.65</td>\n",
       "    </tr>\n",
       "    <tr>\n",
       "      <th>1919</th>\n",
       "      <td>16865</td>\n",
       "      <td>62.83</td>\n",
       "    </tr>\n",
       "    <tr>\n",
       "      <th>1922</th>\n",
       "      <td>16778</td>\n",
       "      <td>64.99</td>\n",
       "    </tr>\n",
       "    <tr>\n",
       "      <th>1772</th>\n",
       "      <td>16494</td>\n",
       "      <td>67.12</td>\n",
       "    </tr>\n",
       "    <tr>\n",
       "      <th>1963</th>\n",
       "      <td>16429</td>\n",
       "      <td>69.24</td>\n",
       "    </tr>\n",
       "    <tr>\n",
       "      <th>1981</th>\n",
       "      <td>16323</td>\n",
       "      <td>71.34</td>\n",
       "    </tr>\n",
       "    <tr>\n",
       "      <th>1928</th>\n",
       "      <td>16049</td>\n",
       "      <td>73.41</td>\n",
       "    </tr>\n",
       "    <tr>\n",
       "      <th>1929</th>\n",
       "      <td>15956</td>\n",
       "      <td>75.47</td>\n",
       "    </tr>\n",
       "    <tr>\n",
       "      <th>1994</th>\n",
       "      <td>15108</td>\n",
       "      <td>77.42</td>\n",
       "    </tr>\n",
       "    <tr>\n",
       "      <th>1991</th>\n",
       "      <td>13061</td>\n",
       "      <td>79.10</td>\n",
       "    </tr>\n",
       "    <tr>\n",
       "      <th>1882</th>\n",
       "      <td>12849</td>\n",
       "      <td>80.76</td>\n",
       "    </tr>\n",
       "    <tr>\n",
       "      <th>1759</th>\n",
       "      <td>11503</td>\n",
       "      <td>82.24</td>\n",
       "    </tr>\n",
       "    <tr>\n",
       "      <th>1537</th>\n",
       "      <td>11346</td>\n",
       "      <td>83.71</td>\n",
       "    </tr>\n",
       "    <tr>\n",
       "      <th>1582</th>\n",
       "      <td>11224</td>\n",
       "      <td>85.15</td>\n",
       "    </tr>\n",
       "    <tr>\n",
       "      <th>1574</th>\n",
       "      <td>10791</td>\n",
       "      <td>86.54</td>\n",
       "    </tr>\n",
       "    <tr>\n",
       "      <th>1875</th>\n",
       "      <td>10695</td>\n",
       "      <td>87.92</td>\n",
       "    </tr>\n",
       "    <tr>\n",
       "      <th>1973</th>\n",
       "      <td>10543</td>\n",
       "      <td>89.28</td>\n",
       "    </tr>\n",
       "    <tr>\n",
       "      <th>1995</th>\n",
       "      <td>10335</td>\n",
       "      <td>90.62</td>\n",
       "    </tr>\n",
       "    <tr>\n",
       "      <th>1594</th>\n",
       "      <td>10258</td>\n",
       "      <td>91.94</td>\n",
       "    </tr>\n",
       "    <tr>\n",
       "      <th>1816</th>\n",
       "      <td>9794</td>\n",
       "      <td>93.20</td>\n",
       "    </tr>\n",
       "    <tr>\n",
       "      <th>1953</th>\n",
       "      <td>9232</td>\n",
       "      <td>94.39</td>\n",
       "    </tr>\n",
       "    <tr>\n",
       "      <th>1597</th>\n",
       "      <td>9188</td>\n",
       "      <td>95.58</td>\n",
       "    </tr>\n",
       "    <tr>\n",
       "      <th>1993</th>\n",
       "      <td>8794</td>\n",
       "      <td>96.71</td>\n",
       "    </tr>\n",
       "    <tr>\n",
       "      <th>1997</th>\n",
       "      <td>8498</td>\n",
       "      <td>97.81</td>\n",
       "    </tr>\n",
       "    <tr>\n",
       "      <th>1986</th>\n",
       "      <td>8183</td>\n",
       "      <td>98.86</td>\n",
       "    </tr>\n",
       "    <tr>\n",
       "      <th>1507</th>\n",
       "      <td>4496</td>\n",
       "      <td>99.44</td>\n",
       "    </tr>\n",
       "    <tr>\n",
       "      <th>1515</th>\n",
       "      <td>4325</td>\n",
       "      <td>100.00</td>\n",
       "    </tr>\n",
       "  </tbody>\n",
       "</table>\n",
       "</div>"
      ],
      "text/plain": [
       "            # operaciones  Pareto (%)\n",
       "idTerminal                           \n",
       "1774                32122        4.14\n",
       "1908                30933        8.13\n",
       "1964                29999       12.00\n",
       "1910                26789       15.45\n",
       "1980                25243       18.71\n",
       "1741                23278       21.71\n",
       "1593                23014       24.68\n",
       "1824                22295       27.55\n",
       "1864                21649       30.35\n",
       "1946                21405       33.11\n",
       "1896                21403       35.87\n",
       "1944                20831       38.55\n",
       "1805                20504       41.20\n",
       "1575                20448       43.83\n",
       "1746                20067       46.42\n",
       "1828                19576       48.95\n",
       "1577                18998       51.40\n",
       "1987                18635       53.80\n",
       "1971                18081       56.13\n",
       "1996                17820       58.43\n",
       "1827                17259       60.65\n",
       "1919                16865       62.83\n",
       "1922                16778       64.99\n",
       "1772                16494       67.12\n",
       "1963                16429       69.24\n",
       "1981                16323       71.34\n",
       "1928                16049       73.41\n",
       "1929                15956       75.47\n",
       "1994                15108       77.42\n",
       "1991                13061       79.10\n",
       "1882                12849       80.76\n",
       "1759                11503       82.24\n",
       "1537                11346       83.71\n",
       "1582                11224       85.15\n",
       "1574                10791       86.54\n",
       "1875                10695       87.92\n",
       "1973                10543       89.28\n",
       "1995                10335       90.62\n",
       "1594                10258       91.94\n",
       "1816                 9794       93.20\n",
       "1953                 9232       94.39\n",
       "1597                 9188       95.58\n",
       "1993                 8794       96.71\n",
       "1997                 8498       97.81\n",
       "1986                 8183       98.86\n",
       "1507                 4496       99.44\n",
       "1515                 4325      100.00"
      ]
     },
     "execution_count": 95,
     "metadata": {},
     "output_type": "execute_result"
    }
   ],
   "source": [
    "term_table = data.pivot_table(index='idTerminal', aggfunc='size', fill_value=0).reset_index(name='# operaciones').set_index('idTerminal').sort_values(\n",
    "    by='# operaciones', ascending=False)\n",
    "term_table['Pareto (%)'] = round(term_table['# operaciones'].cumsum() / term_table['# operaciones'].sum() * 100, 2)\n",
    "term_table"
   ]
  },
  {
   "cell_type": "code",
   "execution_count": 96,
   "metadata": {},
   "outputs": [
    {
     "data": {
      "application/vnd.plotly.v1+json": {
       "config": {
        "plotlyServerURL": "https://plot.ly"
       },
       "data": [
        {
         "alignmentgroup": "True",
         "hovertemplate": "idTerminal=%{x}<br># operaciones=%{y}<extra></extra>",
         "legendgroup": "",
         "marker": {
          "color": "#636efa",
          "pattern": {
           "shape": ""
          }
         },
         "name": "",
         "offsetgroup": "",
         "orientation": "v",
         "showlegend": false,
         "textposition": "auto",
         "type": "bar",
         "x": [
          "1774",
          "1908",
          "1964",
          "1910",
          "1980",
          "1741",
          "1593",
          "1824",
          "1864",
          "1946",
          "1896",
          "1944",
          "1805",
          "1575",
          "1746",
          "1828",
          "1577",
          "1987",
          "1971",
          "1996",
          "1827",
          "1919",
          "1922",
          "1772",
          "1963",
          "1981",
          "1928",
          "1929",
          "1994",
          "1991",
          "1882",
          "1759",
          "1537",
          "1582",
          "1574",
          "1875",
          "1973",
          "1995",
          "1594",
          "1816",
          "1953",
          "1597",
          "1993",
          "1997",
          "1986",
          "1507",
          "1515"
         ],
         "xaxis": "x",
         "y": [
          32122,
          30933,
          29999,
          26789,
          25243,
          23278,
          23014,
          22295,
          21649,
          21405,
          21403,
          20831,
          20504,
          20448,
          20067,
          19576,
          18998,
          18635,
          18081,
          17820,
          17259,
          16865,
          16778,
          16494,
          16429,
          16323,
          16049,
          15956,
          15108,
          13061,
          12849,
          11503,
          11346,
          11224,
          10791,
          10695,
          10543,
          10335,
          10258,
          9794,
          9232,
          9188,
          8794,
          8498,
          8183,
          4496,
          4325
         ],
         "yaxis": "y"
        }
       ],
       "layout": {
        "barmode": "relative",
        "legend": {
         "tracegroupgap": 0
        },
        "template": {
         "data": {
          "bar": [
           {
            "error_x": {
             "color": "#2a3f5f"
            },
            "error_y": {
             "color": "#2a3f5f"
            },
            "marker": {
             "line": {
              "color": "#E5ECF6",
              "width": 0.5
             },
             "pattern": {
              "fillmode": "overlay",
              "size": 10,
              "solidity": 0.2
             }
            },
            "type": "bar"
           }
          ],
          "barpolar": [
           {
            "marker": {
             "line": {
              "color": "#E5ECF6",
              "width": 0.5
             },
             "pattern": {
              "fillmode": "overlay",
              "size": 10,
              "solidity": 0.2
             }
            },
            "type": "barpolar"
           }
          ],
          "carpet": [
           {
            "aaxis": {
             "endlinecolor": "#2a3f5f",
             "gridcolor": "white",
             "linecolor": "white",
             "minorgridcolor": "white",
             "startlinecolor": "#2a3f5f"
            },
            "baxis": {
             "endlinecolor": "#2a3f5f",
             "gridcolor": "white",
             "linecolor": "white",
             "minorgridcolor": "white",
             "startlinecolor": "#2a3f5f"
            },
            "type": "carpet"
           }
          ],
          "choropleth": [
           {
            "colorbar": {
             "outlinewidth": 0,
             "ticks": ""
            },
            "type": "choropleth"
           }
          ],
          "contour": [
           {
            "colorbar": {
             "outlinewidth": 0,
             "ticks": ""
            },
            "colorscale": [
             [
              0,
              "#0d0887"
             ],
             [
              0.1111111111111111,
              "#46039f"
             ],
             [
              0.2222222222222222,
              "#7201a8"
             ],
             [
              0.3333333333333333,
              "#9c179e"
             ],
             [
              0.4444444444444444,
              "#bd3786"
             ],
             [
              0.5555555555555556,
              "#d8576b"
             ],
             [
              0.6666666666666666,
              "#ed7953"
             ],
             [
              0.7777777777777778,
              "#fb9f3a"
             ],
             [
              0.8888888888888888,
              "#fdca26"
             ],
             [
              1,
              "#f0f921"
             ]
            ],
            "type": "contour"
           }
          ],
          "contourcarpet": [
           {
            "colorbar": {
             "outlinewidth": 0,
             "ticks": ""
            },
            "type": "contourcarpet"
           }
          ],
          "heatmap": [
           {
            "colorbar": {
             "outlinewidth": 0,
             "ticks": ""
            },
            "colorscale": [
             [
              0,
              "#0d0887"
             ],
             [
              0.1111111111111111,
              "#46039f"
             ],
             [
              0.2222222222222222,
              "#7201a8"
             ],
             [
              0.3333333333333333,
              "#9c179e"
             ],
             [
              0.4444444444444444,
              "#bd3786"
             ],
             [
              0.5555555555555556,
              "#d8576b"
             ],
             [
              0.6666666666666666,
              "#ed7953"
             ],
             [
              0.7777777777777778,
              "#fb9f3a"
             ],
             [
              0.8888888888888888,
              "#fdca26"
             ],
             [
              1,
              "#f0f921"
             ]
            ],
            "type": "heatmap"
           }
          ],
          "heatmapgl": [
           {
            "colorbar": {
             "outlinewidth": 0,
             "ticks": ""
            },
            "colorscale": [
             [
              0,
              "#0d0887"
             ],
             [
              0.1111111111111111,
              "#46039f"
             ],
             [
              0.2222222222222222,
              "#7201a8"
             ],
             [
              0.3333333333333333,
              "#9c179e"
             ],
             [
              0.4444444444444444,
              "#bd3786"
             ],
             [
              0.5555555555555556,
              "#d8576b"
             ],
             [
              0.6666666666666666,
              "#ed7953"
             ],
             [
              0.7777777777777778,
              "#fb9f3a"
             ],
             [
              0.8888888888888888,
              "#fdca26"
             ],
             [
              1,
              "#f0f921"
             ]
            ],
            "type": "heatmapgl"
           }
          ],
          "histogram": [
           {
            "marker": {
             "pattern": {
              "fillmode": "overlay",
              "size": 10,
              "solidity": 0.2
             }
            },
            "type": "histogram"
           }
          ],
          "histogram2d": [
           {
            "colorbar": {
             "outlinewidth": 0,
             "ticks": ""
            },
            "colorscale": [
             [
              0,
              "#0d0887"
             ],
             [
              0.1111111111111111,
              "#46039f"
             ],
             [
              0.2222222222222222,
              "#7201a8"
             ],
             [
              0.3333333333333333,
              "#9c179e"
             ],
             [
              0.4444444444444444,
              "#bd3786"
             ],
             [
              0.5555555555555556,
              "#d8576b"
             ],
             [
              0.6666666666666666,
              "#ed7953"
             ],
             [
              0.7777777777777778,
              "#fb9f3a"
             ],
             [
              0.8888888888888888,
              "#fdca26"
             ],
             [
              1,
              "#f0f921"
             ]
            ],
            "type": "histogram2d"
           }
          ],
          "histogram2dcontour": [
           {
            "colorbar": {
             "outlinewidth": 0,
             "ticks": ""
            },
            "colorscale": [
             [
              0,
              "#0d0887"
             ],
             [
              0.1111111111111111,
              "#46039f"
             ],
             [
              0.2222222222222222,
              "#7201a8"
             ],
             [
              0.3333333333333333,
              "#9c179e"
             ],
             [
              0.4444444444444444,
              "#bd3786"
             ],
             [
              0.5555555555555556,
              "#d8576b"
             ],
             [
              0.6666666666666666,
              "#ed7953"
             ],
             [
              0.7777777777777778,
              "#fb9f3a"
             ],
             [
              0.8888888888888888,
              "#fdca26"
             ],
             [
              1,
              "#f0f921"
             ]
            ],
            "type": "histogram2dcontour"
           }
          ],
          "mesh3d": [
           {
            "colorbar": {
             "outlinewidth": 0,
             "ticks": ""
            },
            "type": "mesh3d"
           }
          ],
          "parcoords": [
           {
            "line": {
             "colorbar": {
              "outlinewidth": 0,
              "ticks": ""
             }
            },
            "type": "parcoords"
           }
          ],
          "pie": [
           {
            "automargin": true,
            "type": "pie"
           }
          ],
          "scatter": [
           {
            "fillpattern": {
             "fillmode": "overlay",
             "size": 10,
             "solidity": 0.2
            },
            "type": "scatter"
           }
          ],
          "scatter3d": [
           {
            "line": {
             "colorbar": {
              "outlinewidth": 0,
              "ticks": ""
             }
            },
            "marker": {
             "colorbar": {
              "outlinewidth": 0,
              "ticks": ""
             }
            },
            "type": "scatter3d"
           }
          ],
          "scattercarpet": [
           {
            "marker": {
             "colorbar": {
              "outlinewidth": 0,
              "ticks": ""
             }
            },
            "type": "scattercarpet"
           }
          ],
          "scattergeo": [
           {
            "marker": {
             "colorbar": {
              "outlinewidth": 0,
              "ticks": ""
             }
            },
            "type": "scattergeo"
           }
          ],
          "scattergl": [
           {
            "marker": {
             "colorbar": {
              "outlinewidth": 0,
              "ticks": ""
             }
            },
            "type": "scattergl"
           }
          ],
          "scattermapbox": [
           {
            "marker": {
             "colorbar": {
              "outlinewidth": 0,
              "ticks": ""
             }
            },
            "type": "scattermapbox"
           }
          ],
          "scatterpolar": [
           {
            "marker": {
             "colorbar": {
              "outlinewidth": 0,
              "ticks": ""
             }
            },
            "type": "scatterpolar"
           }
          ],
          "scatterpolargl": [
           {
            "marker": {
             "colorbar": {
              "outlinewidth": 0,
              "ticks": ""
             }
            },
            "type": "scatterpolargl"
           }
          ],
          "scatterternary": [
           {
            "marker": {
             "colorbar": {
              "outlinewidth": 0,
              "ticks": ""
             }
            },
            "type": "scatterternary"
           }
          ],
          "surface": [
           {
            "colorbar": {
             "outlinewidth": 0,
             "ticks": ""
            },
            "colorscale": [
             [
              0,
              "#0d0887"
             ],
             [
              0.1111111111111111,
              "#46039f"
             ],
             [
              0.2222222222222222,
              "#7201a8"
             ],
             [
              0.3333333333333333,
              "#9c179e"
             ],
             [
              0.4444444444444444,
              "#bd3786"
             ],
             [
              0.5555555555555556,
              "#d8576b"
             ],
             [
              0.6666666666666666,
              "#ed7953"
             ],
             [
              0.7777777777777778,
              "#fb9f3a"
             ],
             [
              0.8888888888888888,
              "#fdca26"
             ],
             [
              1,
              "#f0f921"
             ]
            ],
            "type": "surface"
           }
          ],
          "table": [
           {
            "cells": {
             "fill": {
              "color": "#EBF0F8"
             },
             "line": {
              "color": "white"
             }
            },
            "header": {
             "fill": {
              "color": "#C8D4E3"
             },
             "line": {
              "color": "white"
             }
            },
            "type": "table"
           }
          ]
         },
         "layout": {
          "annotationdefaults": {
           "arrowcolor": "#2a3f5f",
           "arrowhead": 0,
           "arrowwidth": 1
          },
          "autotypenumbers": "strict",
          "coloraxis": {
           "colorbar": {
            "outlinewidth": 0,
            "ticks": ""
           }
          },
          "colorscale": {
           "diverging": [
            [
             0,
             "#8e0152"
            ],
            [
             0.1,
             "#c51b7d"
            ],
            [
             0.2,
             "#de77ae"
            ],
            [
             0.3,
             "#f1b6da"
            ],
            [
             0.4,
             "#fde0ef"
            ],
            [
             0.5,
             "#f7f7f7"
            ],
            [
             0.6,
             "#e6f5d0"
            ],
            [
             0.7,
             "#b8e186"
            ],
            [
             0.8,
             "#7fbc41"
            ],
            [
             0.9,
             "#4d9221"
            ],
            [
             1,
             "#276419"
            ]
           ],
           "sequential": [
            [
             0,
             "#0d0887"
            ],
            [
             0.1111111111111111,
             "#46039f"
            ],
            [
             0.2222222222222222,
             "#7201a8"
            ],
            [
             0.3333333333333333,
             "#9c179e"
            ],
            [
             0.4444444444444444,
             "#bd3786"
            ],
            [
             0.5555555555555556,
             "#d8576b"
            ],
            [
             0.6666666666666666,
             "#ed7953"
            ],
            [
             0.7777777777777778,
             "#fb9f3a"
            ],
            [
             0.8888888888888888,
             "#fdca26"
            ],
            [
             1,
             "#f0f921"
            ]
           ],
           "sequentialminus": [
            [
             0,
             "#0d0887"
            ],
            [
             0.1111111111111111,
             "#46039f"
            ],
            [
             0.2222222222222222,
             "#7201a8"
            ],
            [
             0.3333333333333333,
             "#9c179e"
            ],
            [
             0.4444444444444444,
             "#bd3786"
            ],
            [
             0.5555555555555556,
             "#d8576b"
            ],
            [
             0.6666666666666666,
             "#ed7953"
            ],
            [
             0.7777777777777778,
             "#fb9f3a"
            ],
            [
             0.8888888888888888,
             "#fdca26"
            ],
            [
             1,
             "#f0f921"
            ]
           ]
          },
          "colorway": [
           "#636efa",
           "#EF553B",
           "#00cc96",
           "#ab63fa",
           "#FFA15A",
           "#19d3f3",
           "#FF6692",
           "#B6E880",
           "#FF97FF",
           "#FECB52"
          ],
          "font": {
           "color": "#2a3f5f"
          },
          "geo": {
           "bgcolor": "white",
           "lakecolor": "white",
           "landcolor": "#E5ECF6",
           "showlakes": true,
           "showland": true,
           "subunitcolor": "white"
          },
          "hoverlabel": {
           "align": "left"
          },
          "hovermode": "closest",
          "mapbox": {
           "style": "light"
          },
          "paper_bgcolor": "white",
          "plot_bgcolor": "#E5ECF6",
          "polar": {
           "angularaxis": {
            "gridcolor": "white",
            "linecolor": "white",
            "ticks": ""
           },
           "bgcolor": "#E5ECF6",
           "radialaxis": {
            "gridcolor": "white",
            "linecolor": "white",
            "ticks": ""
           }
          },
          "scene": {
           "xaxis": {
            "backgroundcolor": "#E5ECF6",
            "gridcolor": "white",
            "gridwidth": 2,
            "linecolor": "white",
            "showbackground": true,
            "ticks": "",
            "zerolinecolor": "white"
           },
           "yaxis": {
            "backgroundcolor": "#E5ECF6",
            "gridcolor": "white",
            "gridwidth": 2,
            "linecolor": "white",
            "showbackground": true,
            "ticks": "",
            "zerolinecolor": "white"
           },
           "zaxis": {
            "backgroundcolor": "#E5ECF6",
            "gridcolor": "white",
            "gridwidth": 2,
            "linecolor": "white",
            "showbackground": true,
            "ticks": "",
            "zerolinecolor": "white"
           }
          },
          "shapedefaults": {
           "line": {
            "color": "#2a3f5f"
           }
          },
          "ternary": {
           "aaxis": {
            "gridcolor": "white",
            "linecolor": "white",
            "ticks": ""
           },
           "baxis": {
            "gridcolor": "white",
            "linecolor": "white",
            "ticks": ""
           },
           "bgcolor": "#E5ECF6",
           "caxis": {
            "gridcolor": "white",
            "linecolor": "white",
            "ticks": ""
           }
          },
          "title": {
           "x": 0.05
          },
          "xaxis": {
           "automargin": true,
           "gridcolor": "white",
           "linecolor": "white",
           "ticks": "",
           "title": {
            "standoff": 15
           },
           "zerolinecolor": "white",
           "zerolinewidth": 2
          },
          "yaxis": {
           "automargin": true,
           "gridcolor": "white",
           "linecolor": "white",
           "ticks": "",
           "title": {
            "standoff": 15
           },
           "zerolinecolor": "white",
           "zerolinewidth": 2
          }
         }
        },
        "title": {
         "text": "Transacciones por terminal"
        },
        "xaxis": {
         "anchor": "y",
         "domain": [
          0,
          1
         ],
         "title": {
          "text": "idTerminal"
         }
        },
        "yaxis": {
         "anchor": "x",
         "domain": [
          0,
          1
         ],
         "title": {
          "text": "# operaciones"
         }
        }
       }
      }
     },
     "metadata": {},
     "output_type": "display_data"
    }
   ],
   "source": [
    "fig=px.bar(term_table, x=term_table.index, y='# operaciones', title='Transacciones por terminal')\n",
    "fig.show()"
   ]
  },
  {
   "cell_type": "markdown",
   "metadata": {},
   "source": [
    "Al observar las transacciones por terminal, se destaca que las terminales _1774_, _1908_, _1964_, _1910_ y _1980_ son las que registran un mayor volumen transaccional con \t_32.122_, _30.933_, _29.999_, _26.789_ y _25.243_, respectivamente. Al realizar un análisis de pareto, se observa que estas 5 terminales abarcan cerca el 18.7% del total de transacciones registradas, destacandose así su relevancia entre las terminales elegidas para realizar transacciones.\n",
    "\n",
    "Por otro lado, las terminales con una menor demanda son las terminales _1515_ y _1507_, registrando en total _4.325_ y _4.496_ transacciones, respectivamente. Lo cual indica el bajo uso de estas terminales para la realización de transacciones."
   ]
  },
  {
   "cell_type": "markdown",
   "metadata": {},
   "source": [
    "### Transacciones por tipo de operación"
   ]
  },
  {
   "cell_type": "code",
   "execution_count": 97,
   "metadata": {},
   "outputs": [
    {
     "data": {
      "text/html": [
       "<div>\n",
       "<style scoped>\n",
       "    .dataframe tbody tr th:only-of-type {\n",
       "        vertical-align: middle;\n",
       "    }\n",
       "\n",
       "    .dataframe tbody tr th {\n",
       "        vertical-align: top;\n",
       "    }\n",
       "\n",
       "    .dataframe thead th {\n",
       "        text-align: right;\n",
       "    }\n",
       "</style>\n",
       "<table border=\"1\" class=\"dataframe\">\n",
       "  <thead>\n",
       "    <tr style=\"text-align: right;\">\n",
       "      <th></th>\n",
       "      <th># operaciones</th>\n",
       "      <th>Pareto (%)</th>\n",
       "    </tr>\n",
       "    <tr>\n",
       "      <th>oper</th>\n",
       "      <th></th>\n",
       "      <th></th>\n",
       "    </tr>\n",
       "  </thead>\n",
       "  <tbody>\n",
       "    <tr>\n",
       "      <th>0</th>\n",
       "      <td>423929</td>\n",
       "      <td>54.67</td>\n",
       "    </tr>\n",
       "    <tr>\n",
       "      <th>3</th>\n",
       "      <td>127399</td>\n",
       "      <td>71.10</td>\n",
       "    </tr>\n",
       "    <tr>\n",
       "      <th>1</th>\n",
       "      <td>79195</td>\n",
       "      <td>81.31</td>\n",
       "    </tr>\n",
       "    <tr>\n",
       "      <th>7</th>\n",
       "      <td>50662</td>\n",
       "      <td>87.84</td>\n",
       "    </tr>\n",
       "    <tr>\n",
       "      <th>4</th>\n",
       "      <td>35817</td>\n",
       "      <td>92.46</td>\n",
       "    </tr>\n",
       "    <tr>\n",
       "      <th>5</th>\n",
       "      <td>16124</td>\n",
       "      <td>94.54</td>\n",
       "    </tr>\n",
       "    <tr>\n",
       "      <th>2</th>\n",
       "      <td>7526</td>\n",
       "      <td>95.51</td>\n",
       "    </tr>\n",
       "    <tr>\n",
       "      <th>10</th>\n",
       "      <td>6988</td>\n",
       "      <td>96.41</td>\n",
       "    </tr>\n",
       "    <tr>\n",
       "      <th>6</th>\n",
       "      <td>6066</td>\n",
       "      <td>97.19</td>\n",
       "    </tr>\n",
       "    <tr>\n",
       "      <th>9</th>\n",
       "      <td>4600</td>\n",
       "      <td>97.79</td>\n",
       "    </tr>\n",
       "    <tr>\n",
       "      <th>14</th>\n",
       "      <td>3674</td>\n",
       "      <td>98.26</td>\n",
       "    </tr>\n",
       "    <tr>\n",
       "      <th>12</th>\n",
       "      <td>3535</td>\n",
       "      <td>98.72</td>\n",
       "    </tr>\n",
       "    <tr>\n",
       "      <th>8</th>\n",
       "      <td>3292</td>\n",
       "      <td>99.14</td>\n",
       "    </tr>\n",
       "    <tr>\n",
       "      <th>13</th>\n",
       "      <td>1710</td>\n",
       "      <td>99.36</td>\n",
       "    </tr>\n",
       "    <tr>\n",
       "      <th>21</th>\n",
       "      <td>1016</td>\n",
       "      <td>99.49</td>\n",
       "    </tr>\n",
       "    <tr>\n",
       "      <th>19</th>\n",
       "      <td>733</td>\n",
       "      <td>99.59</td>\n",
       "    </tr>\n",
       "    <tr>\n",
       "      <th>26</th>\n",
       "      <td>729</td>\n",
       "      <td>99.68</td>\n",
       "    </tr>\n",
       "    <tr>\n",
       "      <th>16</th>\n",
       "      <td>391</td>\n",
       "      <td>99.73</td>\n",
       "    </tr>\n",
       "    <tr>\n",
       "      <th>23</th>\n",
       "      <td>341</td>\n",
       "      <td>99.78</td>\n",
       "    </tr>\n",
       "    <tr>\n",
       "      <th>15</th>\n",
       "      <td>333</td>\n",
       "      <td>99.82</td>\n",
       "    </tr>\n",
       "    <tr>\n",
       "      <th>18</th>\n",
       "      <td>300</td>\n",
       "      <td>99.86</td>\n",
       "    </tr>\n",
       "    <tr>\n",
       "      <th>25</th>\n",
       "      <td>242</td>\n",
       "      <td>99.89</td>\n",
       "    </tr>\n",
       "    <tr>\n",
       "      <th>11</th>\n",
       "      <td>210</td>\n",
       "      <td>99.92</td>\n",
       "    </tr>\n",
       "    <tr>\n",
       "      <th>28</th>\n",
       "      <td>129</td>\n",
       "      <td>99.93</td>\n",
       "    </tr>\n",
       "    <tr>\n",
       "      <th>20</th>\n",
       "      <td>103</td>\n",
       "      <td>99.95</td>\n",
       "    </tr>\n",
       "    <tr>\n",
       "      <th>24</th>\n",
       "      <td>88</td>\n",
       "      <td>99.96</td>\n",
       "    </tr>\n",
       "    <tr>\n",
       "      <th>31</th>\n",
       "      <td>77</td>\n",
       "      <td>99.97</td>\n",
       "    </tr>\n",
       "    <tr>\n",
       "      <th>22</th>\n",
       "      <td>29</td>\n",
       "      <td>99.97</td>\n",
       "    </tr>\n",
       "    <tr>\n",
       "      <th>36</th>\n",
       "      <td>28</td>\n",
       "      <td>99.97</td>\n",
       "    </tr>\n",
       "    <tr>\n",
       "      <th>34</th>\n",
       "      <td>28</td>\n",
       "      <td>99.98</td>\n",
       "    </tr>\n",
       "    <tr>\n",
       "      <th>29</th>\n",
       "      <td>23</td>\n",
       "      <td>99.98</td>\n",
       "    </tr>\n",
       "    <tr>\n",
       "      <th>17</th>\n",
       "      <td>23</td>\n",
       "      <td>99.98</td>\n",
       "    </tr>\n",
       "    <tr>\n",
       "      <th>39</th>\n",
       "      <td>18</td>\n",
       "      <td>99.99</td>\n",
       "    </tr>\n",
       "    <tr>\n",
       "      <th>32</th>\n",
       "      <td>18</td>\n",
       "      <td>99.99</td>\n",
       "    </tr>\n",
       "    <tr>\n",
       "      <th>38</th>\n",
       "      <td>17</td>\n",
       "      <td>99.99</td>\n",
       "    </tr>\n",
       "    <tr>\n",
       "      <th>35</th>\n",
       "      <td>16</td>\n",
       "      <td>99.99</td>\n",
       "    </tr>\n",
       "    <tr>\n",
       "      <th>41</th>\n",
       "      <td>16</td>\n",
       "      <td>99.99</td>\n",
       "    </tr>\n",
       "    <tr>\n",
       "      <th>27</th>\n",
       "      <td>12</td>\n",
       "      <td>100.00</td>\n",
       "    </tr>\n",
       "    <tr>\n",
       "      <th>40</th>\n",
       "      <td>6</td>\n",
       "      <td>100.00</td>\n",
       "    </tr>\n",
       "    <tr>\n",
       "      <th>42</th>\n",
       "      <td>6</td>\n",
       "      <td>100.00</td>\n",
       "    </tr>\n",
       "    <tr>\n",
       "      <th>37</th>\n",
       "      <td>5</td>\n",
       "      <td>100.00</td>\n",
       "    </tr>\n",
       "    <tr>\n",
       "      <th>30</th>\n",
       "      <td>4</td>\n",
       "      <td>100.00</td>\n",
       "    </tr>\n",
       "    <tr>\n",
       "      <th>43</th>\n",
       "      <td>3</td>\n",
       "      <td>100.00</td>\n",
       "    </tr>\n",
       "    <tr>\n",
       "      <th>44</th>\n",
       "      <td>3</td>\n",
       "      <td>100.00</td>\n",
       "    </tr>\n",
       "    <tr>\n",
       "      <th>33</th>\n",
       "      <td>1</td>\n",
       "      <td>100.00</td>\n",
       "    </tr>\n",
       "    <tr>\n",
       "      <th>45</th>\n",
       "      <td>1</td>\n",
       "      <td>100.00</td>\n",
       "    </tr>\n",
       "  </tbody>\n",
       "</table>\n",
       "</div>"
      ],
      "text/plain": [
       "      # operaciones  Pareto (%)\n",
       "oper                           \n",
       "0            423929       54.67\n",
       "3            127399       71.10\n",
       "1             79195       81.31\n",
       "7             50662       87.84\n",
       "4             35817       92.46\n",
       "5             16124       94.54\n",
       "2              7526       95.51\n",
       "10             6988       96.41\n",
       "6              6066       97.19\n",
       "9              4600       97.79\n",
       "14             3674       98.26\n",
       "12             3535       98.72\n",
       "8              3292       99.14\n",
       "13             1710       99.36\n",
       "21             1016       99.49\n",
       "19              733       99.59\n",
       "26              729       99.68\n",
       "16              391       99.73\n",
       "23              341       99.78\n",
       "15              333       99.82\n",
       "18              300       99.86\n",
       "25              242       99.89\n",
       "11              210       99.92\n",
       "28              129       99.93\n",
       "20              103       99.95\n",
       "24               88       99.96\n",
       "31               77       99.97\n",
       "22               29       99.97\n",
       "36               28       99.97\n",
       "34               28       99.98\n",
       "29               23       99.98\n",
       "17               23       99.98\n",
       "39               18       99.99\n",
       "32               18       99.99\n",
       "38               17       99.99\n",
       "35               16       99.99\n",
       "41               16       99.99\n",
       "27               12      100.00\n",
       "40                6      100.00\n",
       "42                6      100.00\n",
       "37                5      100.00\n",
       "30                4      100.00\n",
       "43                3      100.00\n",
       "44                3      100.00\n",
       "33                1      100.00\n",
       "45                1      100.00"
      ]
     },
     "execution_count": 97,
     "metadata": {},
     "output_type": "execute_result"
    }
   ],
   "source": [
    "import pandas as pd\n",
    "\n",
    "ops_table = data.pivot_table(index='oper', aggfunc='size', fill_value=0).reset_index(name='# operaciones').set_index('oper').sort_values(\n",
    "    by='# operaciones', ascending=False)\n",
    "ops_table['Pareto (%)'] = round(ops_table['# operaciones'].cumsum() / ops_table['# operaciones'].sum() * 100, 2)\n",
    "ops_table\n"
   ]
  },
  {
   "cell_type": "code",
   "execution_count": 98,
   "metadata": {},
   "outputs": [
    {
     "data": {
      "application/vnd.plotly.v1+json": {
       "config": {
        "plotlyServerURL": "https://plot.ly"
       },
       "data": [
        {
         "alignmentgroup": "True",
         "hovertemplate": "oper=%{x}<br># operaciones=%{y}<extra></extra>",
         "legendgroup": "",
         "marker": {
          "color": "#636efa",
          "pattern": {
           "shape": ""
          }
         },
         "name": "",
         "offsetgroup": "",
         "orientation": "v",
         "showlegend": false,
         "textposition": "auto",
         "type": "bar",
         "x": [
          "0",
          "3",
          "1",
          "7",
          "4",
          "5",
          "2",
          "10",
          "6",
          "9",
          "14",
          "12",
          "8",
          "13",
          "21",
          "19",
          "26",
          "16",
          "23",
          "15",
          "18",
          "25",
          "11",
          "28",
          "20",
          "24",
          "31",
          "22",
          "36",
          "34",
          "29",
          "17",
          "39",
          "32",
          "38",
          "35",
          "41",
          "27",
          "40",
          "42",
          "37",
          "30",
          "43",
          "44",
          "33",
          "45"
         ],
         "xaxis": "x",
         "y": [
          423929,
          127399,
          79195,
          50662,
          35817,
          16124,
          7526,
          6988,
          6066,
          4600,
          3674,
          3535,
          3292,
          1710,
          1016,
          733,
          729,
          391,
          341,
          333,
          300,
          242,
          210,
          129,
          103,
          88,
          77,
          29,
          28,
          28,
          23,
          23,
          18,
          18,
          17,
          16,
          16,
          12,
          6,
          6,
          5,
          4,
          3,
          3,
          1,
          1
         ],
         "yaxis": "y"
        }
       ],
       "layout": {
        "barmode": "relative",
        "legend": {
         "tracegroupgap": 0
        },
        "template": {
         "data": {
          "bar": [
           {
            "error_x": {
             "color": "#2a3f5f"
            },
            "error_y": {
             "color": "#2a3f5f"
            },
            "marker": {
             "line": {
              "color": "#E5ECF6",
              "width": 0.5
             },
             "pattern": {
              "fillmode": "overlay",
              "size": 10,
              "solidity": 0.2
             }
            },
            "type": "bar"
           }
          ],
          "barpolar": [
           {
            "marker": {
             "line": {
              "color": "#E5ECF6",
              "width": 0.5
             },
             "pattern": {
              "fillmode": "overlay",
              "size": 10,
              "solidity": 0.2
             }
            },
            "type": "barpolar"
           }
          ],
          "carpet": [
           {
            "aaxis": {
             "endlinecolor": "#2a3f5f",
             "gridcolor": "white",
             "linecolor": "white",
             "minorgridcolor": "white",
             "startlinecolor": "#2a3f5f"
            },
            "baxis": {
             "endlinecolor": "#2a3f5f",
             "gridcolor": "white",
             "linecolor": "white",
             "minorgridcolor": "white",
             "startlinecolor": "#2a3f5f"
            },
            "type": "carpet"
           }
          ],
          "choropleth": [
           {
            "colorbar": {
             "outlinewidth": 0,
             "ticks": ""
            },
            "type": "choropleth"
           }
          ],
          "contour": [
           {
            "colorbar": {
             "outlinewidth": 0,
             "ticks": ""
            },
            "colorscale": [
             [
              0,
              "#0d0887"
             ],
             [
              0.1111111111111111,
              "#46039f"
             ],
             [
              0.2222222222222222,
              "#7201a8"
             ],
             [
              0.3333333333333333,
              "#9c179e"
             ],
             [
              0.4444444444444444,
              "#bd3786"
             ],
             [
              0.5555555555555556,
              "#d8576b"
             ],
             [
              0.6666666666666666,
              "#ed7953"
             ],
             [
              0.7777777777777778,
              "#fb9f3a"
             ],
             [
              0.8888888888888888,
              "#fdca26"
             ],
             [
              1,
              "#f0f921"
             ]
            ],
            "type": "contour"
           }
          ],
          "contourcarpet": [
           {
            "colorbar": {
             "outlinewidth": 0,
             "ticks": ""
            },
            "type": "contourcarpet"
           }
          ],
          "heatmap": [
           {
            "colorbar": {
             "outlinewidth": 0,
             "ticks": ""
            },
            "colorscale": [
             [
              0,
              "#0d0887"
             ],
             [
              0.1111111111111111,
              "#46039f"
             ],
             [
              0.2222222222222222,
              "#7201a8"
             ],
             [
              0.3333333333333333,
              "#9c179e"
             ],
             [
              0.4444444444444444,
              "#bd3786"
             ],
             [
              0.5555555555555556,
              "#d8576b"
             ],
             [
              0.6666666666666666,
              "#ed7953"
             ],
             [
              0.7777777777777778,
              "#fb9f3a"
             ],
             [
              0.8888888888888888,
              "#fdca26"
             ],
             [
              1,
              "#f0f921"
             ]
            ],
            "type": "heatmap"
           }
          ],
          "heatmapgl": [
           {
            "colorbar": {
             "outlinewidth": 0,
             "ticks": ""
            },
            "colorscale": [
             [
              0,
              "#0d0887"
             ],
             [
              0.1111111111111111,
              "#46039f"
             ],
             [
              0.2222222222222222,
              "#7201a8"
             ],
             [
              0.3333333333333333,
              "#9c179e"
             ],
             [
              0.4444444444444444,
              "#bd3786"
             ],
             [
              0.5555555555555556,
              "#d8576b"
             ],
             [
              0.6666666666666666,
              "#ed7953"
             ],
             [
              0.7777777777777778,
              "#fb9f3a"
             ],
             [
              0.8888888888888888,
              "#fdca26"
             ],
             [
              1,
              "#f0f921"
             ]
            ],
            "type": "heatmapgl"
           }
          ],
          "histogram": [
           {
            "marker": {
             "pattern": {
              "fillmode": "overlay",
              "size": 10,
              "solidity": 0.2
             }
            },
            "type": "histogram"
           }
          ],
          "histogram2d": [
           {
            "colorbar": {
             "outlinewidth": 0,
             "ticks": ""
            },
            "colorscale": [
             [
              0,
              "#0d0887"
             ],
             [
              0.1111111111111111,
              "#46039f"
             ],
             [
              0.2222222222222222,
              "#7201a8"
             ],
             [
              0.3333333333333333,
              "#9c179e"
             ],
             [
              0.4444444444444444,
              "#bd3786"
             ],
             [
              0.5555555555555556,
              "#d8576b"
             ],
             [
              0.6666666666666666,
              "#ed7953"
             ],
             [
              0.7777777777777778,
              "#fb9f3a"
             ],
             [
              0.8888888888888888,
              "#fdca26"
             ],
             [
              1,
              "#f0f921"
             ]
            ],
            "type": "histogram2d"
           }
          ],
          "histogram2dcontour": [
           {
            "colorbar": {
             "outlinewidth": 0,
             "ticks": ""
            },
            "colorscale": [
             [
              0,
              "#0d0887"
             ],
             [
              0.1111111111111111,
              "#46039f"
             ],
             [
              0.2222222222222222,
              "#7201a8"
             ],
             [
              0.3333333333333333,
              "#9c179e"
             ],
             [
              0.4444444444444444,
              "#bd3786"
             ],
             [
              0.5555555555555556,
              "#d8576b"
             ],
             [
              0.6666666666666666,
              "#ed7953"
             ],
             [
              0.7777777777777778,
              "#fb9f3a"
             ],
             [
              0.8888888888888888,
              "#fdca26"
             ],
             [
              1,
              "#f0f921"
             ]
            ],
            "type": "histogram2dcontour"
           }
          ],
          "mesh3d": [
           {
            "colorbar": {
             "outlinewidth": 0,
             "ticks": ""
            },
            "type": "mesh3d"
           }
          ],
          "parcoords": [
           {
            "line": {
             "colorbar": {
              "outlinewidth": 0,
              "ticks": ""
             }
            },
            "type": "parcoords"
           }
          ],
          "pie": [
           {
            "automargin": true,
            "type": "pie"
           }
          ],
          "scatter": [
           {
            "fillpattern": {
             "fillmode": "overlay",
             "size": 10,
             "solidity": 0.2
            },
            "type": "scatter"
           }
          ],
          "scatter3d": [
           {
            "line": {
             "colorbar": {
              "outlinewidth": 0,
              "ticks": ""
             }
            },
            "marker": {
             "colorbar": {
              "outlinewidth": 0,
              "ticks": ""
             }
            },
            "type": "scatter3d"
           }
          ],
          "scattercarpet": [
           {
            "marker": {
             "colorbar": {
              "outlinewidth": 0,
              "ticks": ""
             }
            },
            "type": "scattercarpet"
           }
          ],
          "scattergeo": [
           {
            "marker": {
             "colorbar": {
              "outlinewidth": 0,
              "ticks": ""
             }
            },
            "type": "scattergeo"
           }
          ],
          "scattergl": [
           {
            "marker": {
             "colorbar": {
              "outlinewidth": 0,
              "ticks": ""
             }
            },
            "type": "scattergl"
           }
          ],
          "scattermapbox": [
           {
            "marker": {
             "colorbar": {
              "outlinewidth": 0,
              "ticks": ""
             }
            },
            "type": "scattermapbox"
           }
          ],
          "scatterpolar": [
           {
            "marker": {
             "colorbar": {
              "outlinewidth": 0,
              "ticks": ""
             }
            },
            "type": "scatterpolar"
           }
          ],
          "scatterpolargl": [
           {
            "marker": {
             "colorbar": {
              "outlinewidth": 0,
              "ticks": ""
             }
            },
            "type": "scatterpolargl"
           }
          ],
          "scatterternary": [
           {
            "marker": {
             "colorbar": {
              "outlinewidth": 0,
              "ticks": ""
             }
            },
            "type": "scatterternary"
           }
          ],
          "surface": [
           {
            "colorbar": {
             "outlinewidth": 0,
             "ticks": ""
            },
            "colorscale": [
             [
              0,
              "#0d0887"
             ],
             [
              0.1111111111111111,
              "#46039f"
             ],
             [
              0.2222222222222222,
              "#7201a8"
             ],
             [
              0.3333333333333333,
              "#9c179e"
             ],
             [
              0.4444444444444444,
              "#bd3786"
             ],
             [
              0.5555555555555556,
              "#d8576b"
             ],
             [
              0.6666666666666666,
              "#ed7953"
             ],
             [
              0.7777777777777778,
              "#fb9f3a"
             ],
             [
              0.8888888888888888,
              "#fdca26"
             ],
             [
              1,
              "#f0f921"
             ]
            ],
            "type": "surface"
           }
          ],
          "table": [
           {
            "cells": {
             "fill": {
              "color": "#EBF0F8"
             },
             "line": {
              "color": "white"
             }
            },
            "header": {
             "fill": {
              "color": "#C8D4E3"
             },
             "line": {
              "color": "white"
             }
            },
            "type": "table"
           }
          ]
         },
         "layout": {
          "annotationdefaults": {
           "arrowcolor": "#2a3f5f",
           "arrowhead": 0,
           "arrowwidth": 1
          },
          "autotypenumbers": "strict",
          "coloraxis": {
           "colorbar": {
            "outlinewidth": 0,
            "ticks": ""
           }
          },
          "colorscale": {
           "diverging": [
            [
             0,
             "#8e0152"
            ],
            [
             0.1,
             "#c51b7d"
            ],
            [
             0.2,
             "#de77ae"
            ],
            [
             0.3,
             "#f1b6da"
            ],
            [
             0.4,
             "#fde0ef"
            ],
            [
             0.5,
             "#f7f7f7"
            ],
            [
             0.6,
             "#e6f5d0"
            ],
            [
             0.7,
             "#b8e186"
            ],
            [
             0.8,
             "#7fbc41"
            ],
            [
             0.9,
             "#4d9221"
            ],
            [
             1,
             "#276419"
            ]
           ],
           "sequential": [
            [
             0,
             "#0d0887"
            ],
            [
             0.1111111111111111,
             "#46039f"
            ],
            [
             0.2222222222222222,
             "#7201a8"
            ],
            [
             0.3333333333333333,
             "#9c179e"
            ],
            [
             0.4444444444444444,
             "#bd3786"
            ],
            [
             0.5555555555555556,
             "#d8576b"
            ],
            [
             0.6666666666666666,
             "#ed7953"
            ],
            [
             0.7777777777777778,
             "#fb9f3a"
            ],
            [
             0.8888888888888888,
             "#fdca26"
            ],
            [
             1,
             "#f0f921"
            ]
           ],
           "sequentialminus": [
            [
             0,
             "#0d0887"
            ],
            [
             0.1111111111111111,
             "#46039f"
            ],
            [
             0.2222222222222222,
             "#7201a8"
            ],
            [
             0.3333333333333333,
             "#9c179e"
            ],
            [
             0.4444444444444444,
             "#bd3786"
            ],
            [
             0.5555555555555556,
             "#d8576b"
            ],
            [
             0.6666666666666666,
             "#ed7953"
            ],
            [
             0.7777777777777778,
             "#fb9f3a"
            ],
            [
             0.8888888888888888,
             "#fdca26"
            ],
            [
             1,
             "#f0f921"
            ]
           ]
          },
          "colorway": [
           "#636efa",
           "#EF553B",
           "#00cc96",
           "#ab63fa",
           "#FFA15A",
           "#19d3f3",
           "#FF6692",
           "#B6E880",
           "#FF97FF",
           "#FECB52"
          ],
          "font": {
           "color": "#2a3f5f"
          },
          "geo": {
           "bgcolor": "white",
           "lakecolor": "white",
           "landcolor": "#E5ECF6",
           "showlakes": true,
           "showland": true,
           "subunitcolor": "white"
          },
          "hoverlabel": {
           "align": "left"
          },
          "hovermode": "closest",
          "mapbox": {
           "style": "light"
          },
          "paper_bgcolor": "white",
          "plot_bgcolor": "#E5ECF6",
          "polar": {
           "angularaxis": {
            "gridcolor": "white",
            "linecolor": "white",
            "ticks": ""
           },
           "bgcolor": "#E5ECF6",
           "radialaxis": {
            "gridcolor": "white",
            "linecolor": "white",
            "ticks": ""
           }
          },
          "scene": {
           "xaxis": {
            "backgroundcolor": "#E5ECF6",
            "gridcolor": "white",
            "gridwidth": 2,
            "linecolor": "white",
            "showbackground": true,
            "ticks": "",
            "zerolinecolor": "white"
           },
           "yaxis": {
            "backgroundcolor": "#E5ECF6",
            "gridcolor": "white",
            "gridwidth": 2,
            "linecolor": "white",
            "showbackground": true,
            "ticks": "",
            "zerolinecolor": "white"
           },
           "zaxis": {
            "backgroundcolor": "#E5ECF6",
            "gridcolor": "white",
            "gridwidth": 2,
            "linecolor": "white",
            "showbackground": true,
            "ticks": "",
            "zerolinecolor": "white"
           }
          },
          "shapedefaults": {
           "line": {
            "color": "#2a3f5f"
           }
          },
          "ternary": {
           "aaxis": {
            "gridcolor": "white",
            "linecolor": "white",
            "ticks": ""
           },
           "baxis": {
            "gridcolor": "white",
            "linecolor": "white",
            "ticks": ""
           },
           "bgcolor": "#E5ECF6",
           "caxis": {
            "gridcolor": "white",
            "linecolor": "white",
            "ticks": ""
           }
          },
          "title": {
           "x": 0.05
          },
          "xaxis": {
           "automargin": true,
           "gridcolor": "white",
           "linecolor": "white",
           "ticks": "",
           "title": {
            "standoff": 15
           },
           "zerolinecolor": "white",
           "zerolinewidth": 2
          },
          "yaxis": {
           "automargin": true,
           "gridcolor": "white",
           "linecolor": "white",
           "ticks": "",
           "title": {
            "standoff": 15
           },
           "zerolinecolor": "white",
           "zerolinewidth": 2
          }
         }
        },
        "title": {
         "text": "Transacciones por tipo de operación"
        },
        "xaxis": {
         "anchor": "y",
         "domain": [
          0,
          1
         ],
         "title": {
          "text": "oper"
         }
        },
        "yaxis": {
         "anchor": "x",
         "domain": [
          0,
          1
         ],
         "title": {
          "text": "# operaciones"
         }
        }
       }
      }
     },
     "metadata": {},
     "output_type": "display_data"
    }
   ],
   "source": [
    "fig=px.bar(ops_table, x=ops_table.index, y='# operaciones', title=\"Transacciones por tipo de operación\")\n",
    "fig.show()"
   ]
  },
  {
   "cell_type": "markdown",
   "metadata": {},
   "source": [
    "Al observar las transacciones por tipo de operación, se destaca que las operaciones _0_, _3_, _1_, _7_ y _4_ son las que registran un mayor volumen transaccional con _423.929_, _127.399_, _79.195_, _50.662_ y _35.817_, respectivamente. Al realizar un análisis de pareto, se observa que estas 5 operaciones abarcan cerca el 92.5% del total de transacciones registradas, destacandose así su relevancia entre las terminales elegidas para realizar transacciones. De hecho, la operación 0 tiene la particularidad de abarcar el 54.67% de las operaciones.\n",
    "\n",
    "Por otro lado, las operaciones con una menor demanda son las _33_ y _45_, registrando cada una tan solo una transaccion. Lo cual indica el bajo uso de estas operaciones."
   ]
  },
  {
   "cell_type": "markdown",
   "metadata": {},
   "source": [
    "### Volumen por terminal y tipo de operación"
   ]
  },
  {
   "cell_type": "code",
   "execution_count": 99,
   "metadata": {},
   "outputs": [
    {
     "data": {
      "text/html": [
       "<div>\n",
       "<style scoped>\n",
       "    .dataframe tbody tr th:only-of-type {\n",
       "        vertical-align: middle;\n",
       "    }\n",
       "\n",
       "    .dataframe tbody tr th {\n",
       "        vertical-align: top;\n",
       "    }\n",
       "\n",
       "    .dataframe thead th {\n",
       "        text-align: right;\n",
       "    }\n",
       "</style>\n",
       "<table border=\"1\" class=\"dataframe\">\n",
       "  <thead>\n",
       "    <tr style=\"text-align: right;\">\n",
       "      <th>oper</th>\n",
       "      <th>0</th>\n",
       "      <th>3</th>\n",
       "      <th>1</th>\n",
       "      <th>7</th>\n",
       "      <th>4</th>\n",
       "      <th>5</th>\n",
       "      <th>2</th>\n",
       "      <th>10</th>\n",
       "      <th>6</th>\n",
       "      <th>9</th>\n",
       "      <th>...</th>\n",
       "      <th>41</th>\n",
       "      <th>27</th>\n",
       "      <th>40</th>\n",
       "      <th>42</th>\n",
       "      <th>37</th>\n",
       "      <th>30</th>\n",
       "      <th>43</th>\n",
       "      <th>44</th>\n",
       "      <th>33</th>\n",
       "      <th>45</th>\n",
       "    </tr>\n",
       "    <tr>\n",
       "      <th>idTerminal</th>\n",
       "      <th></th>\n",
       "      <th></th>\n",
       "      <th></th>\n",
       "      <th></th>\n",
       "      <th></th>\n",
       "      <th></th>\n",
       "      <th></th>\n",
       "      <th></th>\n",
       "      <th></th>\n",
       "      <th></th>\n",
       "      <th></th>\n",
       "      <th></th>\n",
       "      <th></th>\n",
       "      <th></th>\n",
       "      <th></th>\n",
       "      <th></th>\n",
       "      <th></th>\n",
       "      <th></th>\n",
       "      <th></th>\n",
       "      <th></th>\n",
       "      <th></th>\n",
       "    </tr>\n",
       "  </thead>\n",
       "  <tbody>\n",
       "    <tr>\n",
       "      <th>1774</th>\n",
       "      <td>17790</td>\n",
       "      <td>6647</td>\n",
       "      <td>3397</td>\n",
       "      <td>1284</td>\n",
       "      <td>1243</td>\n",
       "      <td>169</td>\n",
       "      <td>29</td>\n",
       "      <td>139</td>\n",
       "      <td>354</td>\n",
       "      <td>210</td>\n",
       "      <td>...</td>\n",
       "      <td>1</td>\n",
       "      <td>0</td>\n",
       "      <td>0</td>\n",
       "      <td>0</td>\n",
       "      <td>0</td>\n",
       "      <td>0</td>\n",
       "      <td>0</td>\n",
       "      <td>1</td>\n",
       "      <td>0</td>\n",
       "      <td>0</td>\n",
       "    </tr>\n",
       "    <tr>\n",
       "      <th>1908</th>\n",
       "      <td>15868</td>\n",
       "      <td>6348</td>\n",
       "      <td>2447</td>\n",
       "      <td>1984</td>\n",
       "      <td>2409</td>\n",
       "      <td>394</td>\n",
       "      <td>22</td>\n",
       "      <td>469</td>\n",
       "      <td>357</td>\n",
       "      <td>189</td>\n",
       "      <td>...</td>\n",
       "      <td>1</td>\n",
       "      <td>0</td>\n",
       "      <td>0</td>\n",
       "      <td>0</td>\n",
       "      <td>0</td>\n",
       "      <td>0</td>\n",
       "      <td>0</td>\n",
       "      <td>0</td>\n",
       "      <td>1</td>\n",
       "      <td>0</td>\n",
       "    </tr>\n",
       "    <tr>\n",
       "      <th>1964</th>\n",
       "      <td>15620</td>\n",
       "      <td>6413</td>\n",
       "      <td>3317</td>\n",
       "      <td>1173</td>\n",
       "      <td>1864</td>\n",
       "      <td>279</td>\n",
       "      <td>354</td>\n",
       "      <td>157</td>\n",
       "      <td>293</td>\n",
       "      <td>159</td>\n",
       "      <td>...</td>\n",
       "      <td>0</td>\n",
       "      <td>0</td>\n",
       "      <td>0</td>\n",
       "      <td>0</td>\n",
       "      <td>0</td>\n",
       "      <td>0</td>\n",
       "      <td>1</td>\n",
       "      <td>0</td>\n",
       "      <td>0</td>\n",
       "      <td>0</td>\n",
       "    </tr>\n",
       "    <tr>\n",
       "      <th>1910</th>\n",
       "      <td>16395</td>\n",
       "      <td>3781</td>\n",
       "      <td>1888</td>\n",
       "      <td>2279</td>\n",
       "      <td>870</td>\n",
       "      <td>502</td>\n",
       "      <td>84</td>\n",
       "      <td>224</td>\n",
       "      <td>143</td>\n",
       "      <td>142</td>\n",
       "      <td>...</td>\n",
       "      <td>2</td>\n",
       "      <td>0</td>\n",
       "      <td>0</td>\n",
       "      <td>0</td>\n",
       "      <td>0</td>\n",
       "      <td>0</td>\n",
       "      <td>0</td>\n",
       "      <td>1</td>\n",
       "      <td>0</td>\n",
       "      <td>0</td>\n",
       "    </tr>\n",
       "    <tr>\n",
       "      <th>1980</th>\n",
       "      <td>12266</td>\n",
       "      <td>3380</td>\n",
       "      <td>4159</td>\n",
       "      <td>1657</td>\n",
       "      <td>695</td>\n",
       "      <td>430</td>\n",
       "      <td>1815</td>\n",
       "      <td>127</td>\n",
       "      <td>133</td>\n",
       "      <td>102</td>\n",
       "      <td>...</td>\n",
       "      <td>0</td>\n",
       "      <td>0</td>\n",
       "      <td>0</td>\n",
       "      <td>0</td>\n",
       "      <td>0</td>\n",
       "      <td>3</td>\n",
       "      <td>0</td>\n",
       "      <td>0</td>\n",
       "      <td>0</td>\n",
       "      <td>0</td>\n",
       "    </tr>\n",
       "    <tr>\n",
       "      <th>1741</th>\n",
       "      <td>11266</td>\n",
       "      <td>5576</td>\n",
       "      <td>2341</td>\n",
       "      <td>1129</td>\n",
       "      <td>1537</td>\n",
       "      <td>375</td>\n",
       "      <td>303</td>\n",
       "      <td>134</td>\n",
       "      <td>269</td>\n",
       "      <td>141</td>\n",
       "      <td>...</td>\n",
       "      <td>0</td>\n",
       "      <td>0</td>\n",
       "      <td>0</td>\n",
       "      <td>0</td>\n",
       "      <td>0</td>\n",
       "      <td>0</td>\n",
       "      <td>0</td>\n",
       "      <td>0</td>\n",
       "      <td>0</td>\n",
       "      <td>0</td>\n",
       "    </tr>\n",
       "    <tr>\n",
       "      <th>1593</th>\n",
       "      <td>12420</td>\n",
       "      <td>3475</td>\n",
       "      <td>2773</td>\n",
       "      <td>1526</td>\n",
       "      <td>785</td>\n",
       "      <td>777</td>\n",
       "      <td>126</td>\n",
       "      <td>306</td>\n",
       "      <td>186</td>\n",
       "      <td>96</td>\n",
       "      <td>...</td>\n",
       "      <td>0</td>\n",
       "      <td>1</td>\n",
       "      <td>0</td>\n",
       "      <td>0</td>\n",
       "      <td>0</td>\n",
       "      <td>0</td>\n",
       "      <td>0</td>\n",
       "      <td>0</td>\n",
       "      <td>0</td>\n",
       "      <td>0</td>\n",
       "    </tr>\n",
       "    <tr>\n",
       "      <th>1824</th>\n",
       "      <td>11388</td>\n",
       "      <td>4875</td>\n",
       "      <td>2087</td>\n",
       "      <td>860</td>\n",
       "      <td>1664</td>\n",
       "      <td>364</td>\n",
       "      <td>45</td>\n",
       "      <td>139</td>\n",
       "      <td>320</td>\n",
       "      <td>137</td>\n",
       "      <td>...</td>\n",
       "      <td>0</td>\n",
       "      <td>1</td>\n",
       "      <td>0</td>\n",
       "      <td>0</td>\n",
       "      <td>0</td>\n",
       "      <td>0</td>\n",
       "      <td>0</td>\n",
       "      <td>0</td>\n",
       "      <td>0</td>\n",
       "      <td>0</td>\n",
       "    </tr>\n",
       "    <tr>\n",
       "      <th>1864</th>\n",
       "      <td>10379</td>\n",
       "      <td>4340</td>\n",
       "      <td>1839</td>\n",
       "      <td>2154</td>\n",
       "      <td>1183</td>\n",
       "      <td>501</td>\n",
       "      <td>13</td>\n",
       "      <td>341</td>\n",
       "      <td>253</td>\n",
       "      <td>168</td>\n",
       "      <td>...</td>\n",
       "      <td>1</td>\n",
       "      <td>0</td>\n",
       "      <td>0</td>\n",
       "      <td>0</td>\n",
       "      <td>0</td>\n",
       "      <td>0</td>\n",
       "      <td>0</td>\n",
       "      <td>0</td>\n",
       "      <td>0</td>\n",
       "      <td>0</td>\n",
       "    </tr>\n",
       "    <tr>\n",
       "      <th>1946</th>\n",
       "      <td>11160</td>\n",
       "      <td>3831</td>\n",
       "      <td>1767</td>\n",
       "      <td>1281</td>\n",
       "      <td>1804</td>\n",
       "      <td>511</td>\n",
       "      <td>27</td>\n",
       "      <td>205</td>\n",
       "      <td>193</td>\n",
       "      <td>151</td>\n",
       "      <td>...</td>\n",
       "      <td>0</td>\n",
       "      <td>0</td>\n",
       "      <td>0</td>\n",
       "      <td>0</td>\n",
       "      <td>0</td>\n",
       "      <td>0</td>\n",
       "      <td>0</td>\n",
       "      <td>0</td>\n",
       "      <td>0</td>\n",
       "      <td>0</td>\n",
       "    </tr>\n",
       "    <tr>\n",
       "      <th>1896</th>\n",
       "      <td>13521</td>\n",
       "      <td>2514</td>\n",
       "      <td>1999</td>\n",
       "      <td>1444</td>\n",
       "      <td>544</td>\n",
       "      <td>302</td>\n",
       "      <td>354</td>\n",
       "      <td>125</td>\n",
       "      <td>49</td>\n",
       "      <td>94</td>\n",
       "      <td>...</td>\n",
       "      <td>1</td>\n",
       "      <td>3</td>\n",
       "      <td>1</td>\n",
       "      <td>0</td>\n",
       "      <td>0</td>\n",
       "      <td>0</td>\n",
       "      <td>0</td>\n",
       "      <td>0</td>\n",
       "      <td>0</td>\n",
       "      <td>0</td>\n",
       "    </tr>\n",
       "    <tr>\n",
       "      <th>1944</th>\n",
       "      <td>10562</td>\n",
       "      <td>3978</td>\n",
       "      <td>1894</td>\n",
       "      <td>1766</td>\n",
       "      <td>1107</td>\n",
       "      <td>507</td>\n",
       "      <td>58</td>\n",
       "      <td>299</td>\n",
       "      <td>180</td>\n",
       "      <td>180</td>\n",
       "      <td>...</td>\n",
       "      <td>0</td>\n",
       "      <td>0</td>\n",
       "      <td>0</td>\n",
       "      <td>0</td>\n",
       "      <td>0</td>\n",
       "      <td>0</td>\n",
       "      <td>0</td>\n",
       "      <td>0</td>\n",
       "      <td>0</td>\n",
       "      <td>0</td>\n",
       "    </tr>\n",
       "    <tr>\n",
       "      <th>1805</th>\n",
       "      <td>9615</td>\n",
       "      <td>4518</td>\n",
       "      <td>1907</td>\n",
       "      <td>1381</td>\n",
       "      <td>1537</td>\n",
       "      <td>547</td>\n",
       "      <td>3</td>\n",
       "      <td>204</td>\n",
       "      <td>230</td>\n",
       "      <td>155</td>\n",
       "      <td>...</td>\n",
       "      <td>0</td>\n",
       "      <td>0</td>\n",
       "      <td>0</td>\n",
       "      <td>0</td>\n",
       "      <td>0</td>\n",
       "      <td>0</td>\n",
       "      <td>0</td>\n",
       "      <td>0</td>\n",
       "      <td>0</td>\n",
       "      <td>0</td>\n",
       "    </tr>\n",
       "    <tr>\n",
       "      <th>1575</th>\n",
       "      <td>11402</td>\n",
       "      <td>4131</td>\n",
       "      <td>2047</td>\n",
       "      <td>805</td>\n",
       "      <td>636</td>\n",
       "      <td>421</td>\n",
       "      <td>101</td>\n",
       "      <td>131</td>\n",
       "      <td>89</td>\n",
       "      <td>184</td>\n",
       "      <td>...</td>\n",
       "      <td>0</td>\n",
       "      <td>1</td>\n",
       "      <td>0</td>\n",
       "      <td>0</td>\n",
       "      <td>0</td>\n",
       "      <td>0</td>\n",
       "      <td>0</td>\n",
       "      <td>0</td>\n",
       "      <td>0</td>\n",
       "      <td>0</td>\n",
       "    </tr>\n",
       "    <tr>\n",
       "      <th>1746</th>\n",
       "      <td>12271</td>\n",
       "      <td>3536</td>\n",
       "      <td>1705</td>\n",
       "      <td>891</td>\n",
       "      <td>773</td>\n",
       "      <td>180</td>\n",
       "      <td>73</td>\n",
       "      <td>93</td>\n",
       "      <td>63</td>\n",
       "      <td>126</td>\n",
       "      <td>...</td>\n",
       "      <td>0</td>\n",
       "      <td>0</td>\n",
       "      <td>0</td>\n",
       "      <td>0</td>\n",
       "      <td>0</td>\n",
       "      <td>0</td>\n",
       "      <td>0</td>\n",
       "      <td>0</td>\n",
       "      <td>0</td>\n",
       "      <td>0</td>\n",
       "    </tr>\n",
       "    <tr>\n",
       "      <th>1828</th>\n",
       "      <td>10810</td>\n",
       "      <td>2617</td>\n",
       "      <td>3524</td>\n",
       "      <td>725</td>\n",
       "      <td>602</td>\n",
       "      <td>480</td>\n",
       "      <td>112</td>\n",
       "      <td>96</td>\n",
       "      <td>176</td>\n",
       "      <td>89</td>\n",
       "      <td>...</td>\n",
       "      <td>0</td>\n",
       "      <td>0</td>\n",
       "      <td>0</td>\n",
       "      <td>0</td>\n",
       "      <td>0</td>\n",
       "      <td>0</td>\n",
       "      <td>0</td>\n",
       "      <td>1</td>\n",
       "      <td>0</td>\n",
       "      <td>0</td>\n",
       "    </tr>\n",
       "    <tr>\n",
       "      <th>1577</th>\n",
       "      <td>13628</td>\n",
       "      <td>2132</td>\n",
       "      <td>981</td>\n",
       "      <td>897</td>\n",
       "      <td>409</td>\n",
       "      <td>143</td>\n",
       "      <td>20</td>\n",
       "      <td>98</td>\n",
       "      <td>42</td>\n",
       "      <td>86</td>\n",
       "      <td>...</td>\n",
       "      <td>2</td>\n",
       "      <td>0</td>\n",
       "      <td>2</td>\n",
       "      <td>0</td>\n",
       "      <td>0</td>\n",
       "      <td>0</td>\n",
       "      <td>0</td>\n",
       "      <td>0</td>\n",
       "      <td>0</td>\n",
       "      <td>0</td>\n",
       "    </tr>\n",
       "    <tr>\n",
       "      <th>1987</th>\n",
       "      <td>11072</td>\n",
       "      <td>2321</td>\n",
       "      <td>2071</td>\n",
       "      <td>1157</td>\n",
       "      <td>707</td>\n",
       "      <td>526</td>\n",
       "      <td>33</td>\n",
       "      <td>144</td>\n",
       "      <td>144</td>\n",
       "      <td>75</td>\n",
       "      <td>...</td>\n",
       "      <td>0</td>\n",
       "      <td>1</td>\n",
       "      <td>0</td>\n",
       "      <td>0</td>\n",
       "      <td>0</td>\n",
       "      <td>0</td>\n",
       "      <td>0</td>\n",
       "      <td>0</td>\n",
       "      <td>0</td>\n",
       "      <td>0</td>\n",
       "    </tr>\n",
       "    <tr>\n",
       "      <th>1971</th>\n",
       "      <td>10073</td>\n",
       "      <td>2463</td>\n",
       "      <td>2054</td>\n",
       "      <td>1507</td>\n",
       "      <td>518</td>\n",
       "      <td>346</td>\n",
       "      <td>326</td>\n",
       "      <td>166</td>\n",
       "      <td>85</td>\n",
       "      <td>83</td>\n",
       "      <td>...</td>\n",
       "      <td>0</td>\n",
       "      <td>0</td>\n",
       "      <td>0</td>\n",
       "      <td>0</td>\n",
       "      <td>0</td>\n",
       "      <td>0</td>\n",
       "      <td>0</td>\n",
       "      <td>0</td>\n",
       "      <td>0</td>\n",
       "      <td>0</td>\n",
       "    </tr>\n",
       "    <tr>\n",
       "      <th>1996</th>\n",
       "      <td>10523</td>\n",
       "      <td>2270</td>\n",
       "      <td>1224</td>\n",
       "      <td>1762</td>\n",
       "      <td>671</td>\n",
       "      <td>351</td>\n",
       "      <td>148</td>\n",
       "      <td>221</td>\n",
       "      <td>84</td>\n",
       "      <td>84</td>\n",
       "      <td>...</td>\n",
       "      <td>0</td>\n",
       "      <td>1</td>\n",
       "      <td>1</td>\n",
       "      <td>0</td>\n",
       "      <td>0</td>\n",
       "      <td>0</td>\n",
       "      <td>1</td>\n",
       "      <td>0</td>\n",
       "      <td>0</td>\n",
       "      <td>0</td>\n",
       "    </tr>\n",
       "    <tr>\n",
       "      <th>1827</th>\n",
       "      <td>9895</td>\n",
       "      <td>3560</td>\n",
       "      <td>1810</td>\n",
       "      <td>593</td>\n",
       "      <td>762</td>\n",
       "      <td>98</td>\n",
       "      <td>1</td>\n",
       "      <td>67</td>\n",
       "      <td>88</td>\n",
       "      <td>72</td>\n",
       "      <td>...</td>\n",
       "      <td>0</td>\n",
       "      <td>0</td>\n",
       "      <td>0</td>\n",
       "      <td>0</td>\n",
       "      <td>0</td>\n",
       "      <td>0</td>\n",
       "      <td>0</td>\n",
       "      <td>0</td>\n",
       "      <td>0</td>\n",
       "      <td>0</td>\n",
       "    </tr>\n",
       "    <tr>\n",
       "      <th>1919</th>\n",
       "      <td>9116</td>\n",
       "      <td>2763</td>\n",
       "      <td>1500</td>\n",
       "      <td>1387</td>\n",
       "      <td>768</td>\n",
       "      <td>530</td>\n",
       "      <td>49</td>\n",
       "      <td>218</td>\n",
       "      <td>123</td>\n",
       "      <td>121</td>\n",
       "      <td>...</td>\n",
       "      <td>6</td>\n",
       "      <td>0</td>\n",
       "      <td>2</td>\n",
       "      <td>0</td>\n",
       "      <td>0</td>\n",
       "      <td>0</td>\n",
       "      <td>0</td>\n",
       "      <td>0</td>\n",
       "      <td>0</td>\n",
       "      <td>0</td>\n",
       "    </tr>\n",
       "    <tr>\n",
       "      <th>1922</th>\n",
       "      <td>8349</td>\n",
       "      <td>2940</td>\n",
       "      <td>1267</td>\n",
       "      <td>1281</td>\n",
       "      <td>1318</td>\n",
       "      <td>194</td>\n",
       "      <td>59</td>\n",
       "      <td>225</td>\n",
       "      <td>164</td>\n",
       "      <td>126</td>\n",
       "      <td>...</td>\n",
       "      <td>0</td>\n",
       "      <td>0</td>\n",
       "      <td>0</td>\n",
       "      <td>0</td>\n",
       "      <td>0</td>\n",
       "      <td>0</td>\n",
       "      <td>0</td>\n",
       "      <td>0</td>\n",
       "      <td>0</td>\n",
       "      <td>0</td>\n",
       "    </tr>\n",
       "    <tr>\n",
       "      <th>1772</th>\n",
       "      <td>10654</td>\n",
       "      <td>1759</td>\n",
       "      <td>1415</td>\n",
       "      <td>824</td>\n",
       "      <td>827</td>\n",
       "      <td>304</td>\n",
       "      <td>140</td>\n",
       "      <td>93</td>\n",
       "      <td>64</td>\n",
       "      <td>66</td>\n",
       "      <td>...</td>\n",
       "      <td>0</td>\n",
       "      <td>0</td>\n",
       "      <td>0</td>\n",
       "      <td>0</td>\n",
       "      <td>0</td>\n",
       "      <td>0</td>\n",
       "      <td>0</td>\n",
       "      <td>0</td>\n",
       "      <td>0</td>\n",
       "      <td>0</td>\n",
       "    </tr>\n",
       "    <tr>\n",
       "      <th>1963</th>\n",
       "      <td>11896</td>\n",
       "      <td>1556</td>\n",
       "      <td>691</td>\n",
       "      <td>591</td>\n",
       "      <td>607</td>\n",
       "      <td>651</td>\n",
       "      <td>33</td>\n",
       "      <td>59</td>\n",
       "      <td>42</td>\n",
       "      <td>47</td>\n",
       "      <td>...</td>\n",
       "      <td>0</td>\n",
       "      <td>0</td>\n",
       "      <td>0</td>\n",
       "      <td>0</td>\n",
       "      <td>0</td>\n",
       "      <td>0</td>\n",
       "      <td>0</td>\n",
       "      <td>0</td>\n",
       "      <td>0</td>\n",
       "      <td>0</td>\n",
       "    </tr>\n",
       "    <tr>\n",
       "      <th>1981</th>\n",
       "      <td>7270</td>\n",
       "      <td>3487</td>\n",
       "      <td>1437</td>\n",
       "      <td>1794</td>\n",
       "      <td>1077</td>\n",
       "      <td>370</td>\n",
       "      <td>62</td>\n",
       "      <td>239</td>\n",
       "      <td>199</td>\n",
       "      <td>115</td>\n",
       "      <td>...</td>\n",
       "      <td>0</td>\n",
       "      <td>0</td>\n",
       "      <td>0</td>\n",
       "      <td>0</td>\n",
       "      <td>0</td>\n",
       "      <td>0</td>\n",
       "      <td>0</td>\n",
       "      <td>0</td>\n",
       "      <td>0</td>\n",
       "      <td>0</td>\n",
       "    </tr>\n",
       "    <tr>\n",
       "      <th>1928</th>\n",
       "      <td>7987</td>\n",
       "      <td>2400</td>\n",
       "      <td>1440</td>\n",
       "      <td>1237</td>\n",
       "      <td>820</td>\n",
       "      <td>597</td>\n",
       "      <td>943</td>\n",
       "      <td>146</td>\n",
       "      <td>51</td>\n",
       "      <td>92</td>\n",
       "      <td>...</td>\n",
       "      <td>0</td>\n",
       "      <td>0</td>\n",
       "      <td>0</td>\n",
       "      <td>0</td>\n",
       "      <td>0</td>\n",
       "      <td>0</td>\n",
       "      <td>0</td>\n",
       "      <td>0</td>\n",
       "      <td>0</td>\n",
       "      <td>0</td>\n",
       "    </tr>\n",
       "    <tr>\n",
       "      <th>1929</th>\n",
       "      <td>8690</td>\n",
       "      <td>2126</td>\n",
       "      <td>1836</td>\n",
       "      <td>1503</td>\n",
       "      <td>580</td>\n",
       "      <td>291</td>\n",
       "      <td>138</td>\n",
       "      <td>161</td>\n",
       "      <td>110</td>\n",
       "      <td>73</td>\n",
       "      <td>...</td>\n",
       "      <td>0</td>\n",
       "      <td>0</td>\n",
       "      <td>0</td>\n",
       "      <td>0</td>\n",
       "      <td>1</td>\n",
       "      <td>0</td>\n",
       "      <td>0</td>\n",
       "      <td>0</td>\n",
       "      <td>0</td>\n",
       "      <td>0</td>\n",
       "    </tr>\n",
       "    <tr>\n",
       "      <th>1994</th>\n",
       "      <td>8054</td>\n",
       "      <td>2098</td>\n",
       "      <td>2185</td>\n",
       "      <td>774</td>\n",
       "      <td>509</td>\n",
       "      <td>308</td>\n",
       "      <td>562</td>\n",
       "      <td>72</td>\n",
       "      <td>123</td>\n",
       "      <td>84</td>\n",
       "      <td>...</td>\n",
       "      <td>0</td>\n",
       "      <td>0</td>\n",
       "      <td>0</td>\n",
       "      <td>0</td>\n",
       "      <td>0</td>\n",
       "      <td>1</td>\n",
       "      <td>0</td>\n",
       "      <td>0</td>\n",
       "      <td>0</td>\n",
       "      <td>0</td>\n",
       "    </tr>\n",
       "    <tr>\n",
       "      <th>1991</th>\n",
       "      <td>7116</td>\n",
       "      <td>2014</td>\n",
       "      <td>1461</td>\n",
       "      <td>541</td>\n",
       "      <td>804</td>\n",
       "      <td>306</td>\n",
       "      <td>82</td>\n",
       "      <td>76</td>\n",
       "      <td>154</td>\n",
       "      <td>56</td>\n",
       "      <td>...</td>\n",
       "      <td>1</td>\n",
       "      <td>0</td>\n",
       "      <td>0</td>\n",
       "      <td>1</td>\n",
       "      <td>2</td>\n",
       "      <td>0</td>\n",
       "      <td>0</td>\n",
       "      <td>0</td>\n",
       "      <td>0</td>\n",
       "      <td>0</td>\n",
       "    </tr>\n",
       "    <tr>\n",
       "      <th>1882</th>\n",
       "      <td>7217</td>\n",
       "      <td>1796</td>\n",
       "      <td>1463</td>\n",
       "      <td>910</td>\n",
       "      <td>652</td>\n",
       "      <td>110</td>\n",
       "      <td>131</td>\n",
       "      <td>99</td>\n",
       "      <td>81</td>\n",
       "      <td>80</td>\n",
       "      <td>...</td>\n",
       "      <td>0</td>\n",
       "      <td>0</td>\n",
       "      <td>0</td>\n",
       "      <td>0</td>\n",
       "      <td>0</td>\n",
       "      <td>0</td>\n",
       "      <td>0</td>\n",
       "      <td>0</td>\n",
       "      <td>0</td>\n",
       "      <td>0</td>\n",
       "    </tr>\n",
       "    <tr>\n",
       "      <th>1759</th>\n",
       "      <td>5343</td>\n",
       "      <td>1308</td>\n",
       "      <td>1679</td>\n",
       "      <td>1248</td>\n",
       "      <td>369</td>\n",
       "      <td>521</td>\n",
       "      <td>180</td>\n",
       "      <td>212</td>\n",
       "      <td>127</td>\n",
       "      <td>45</td>\n",
       "      <td>...</td>\n",
       "      <td>0</td>\n",
       "      <td>0</td>\n",
       "      <td>0</td>\n",
       "      <td>0</td>\n",
       "      <td>1</td>\n",
       "      <td>0</td>\n",
       "      <td>0</td>\n",
       "      <td>0</td>\n",
       "      <td>0</td>\n",
       "      <td>0</td>\n",
       "    </tr>\n",
       "    <tr>\n",
       "      <th>1537</th>\n",
       "      <td>5953</td>\n",
       "      <td>2058</td>\n",
       "      <td>1185</td>\n",
       "      <td>612</td>\n",
       "      <td>543</td>\n",
       "      <td>483</td>\n",
       "      <td>32</td>\n",
       "      <td>98</td>\n",
       "      <td>93</td>\n",
       "      <td>97</td>\n",
       "      <td>...</td>\n",
       "      <td>0</td>\n",
       "      <td>0</td>\n",
       "      <td>0</td>\n",
       "      <td>0</td>\n",
       "      <td>0</td>\n",
       "      <td>0</td>\n",
       "      <td>0</td>\n",
       "      <td>0</td>\n",
       "      <td>0</td>\n",
       "      <td>0</td>\n",
       "    </tr>\n",
       "    <tr>\n",
       "      <th>1582</th>\n",
       "      <td>6363</td>\n",
       "      <td>1749</td>\n",
       "      <td>1258</td>\n",
       "      <td>863</td>\n",
       "      <td>266</td>\n",
       "      <td>241</td>\n",
       "      <td>36</td>\n",
       "      <td>94</td>\n",
       "      <td>41</td>\n",
       "      <td>70</td>\n",
       "      <td>...</td>\n",
       "      <td>0</td>\n",
       "      <td>1</td>\n",
       "      <td>0</td>\n",
       "      <td>0</td>\n",
       "      <td>0</td>\n",
       "      <td>0</td>\n",
       "      <td>0</td>\n",
       "      <td>0</td>\n",
       "      <td>0</td>\n",
       "      <td>0</td>\n",
       "    </tr>\n",
       "    <tr>\n",
       "      <th>1574</th>\n",
       "      <td>5770</td>\n",
       "      <td>1548</td>\n",
       "      <td>1193</td>\n",
       "      <td>1126</td>\n",
       "      <td>239</td>\n",
       "      <td>393</td>\n",
       "      <td>35</td>\n",
       "      <td>127</td>\n",
       "      <td>34</td>\n",
       "      <td>46</td>\n",
       "      <td>...</td>\n",
       "      <td>0</td>\n",
       "      <td>0</td>\n",
       "      <td>0</td>\n",
       "      <td>2</td>\n",
       "      <td>0</td>\n",
       "      <td>0</td>\n",
       "      <td>0</td>\n",
       "      <td>0</td>\n",
       "      <td>0</td>\n",
       "      <td>0</td>\n",
       "    </tr>\n",
       "    <tr>\n",
       "      <th>1875</th>\n",
       "      <td>5738</td>\n",
       "      <td>1457</td>\n",
       "      <td>1750</td>\n",
       "      <td>705</td>\n",
       "      <td>273</td>\n",
       "      <td>258</td>\n",
       "      <td>95</td>\n",
       "      <td>85</td>\n",
       "      <td>50</td>\n",
       "      <td>48</td>\n",
       "      <td>...</td>\n",
       "      <td>0</td>\n",
       "      <td>0</td>\n",
       "      <td>0</td>\n",
       "      <td>2</td>\n",
       "      <td>0</td>\n",
       "      <td>0</td>\n",
       "      <td>0</td>\n",
       "      <td>0</td>\n",
       "      <td>0</td>\n",
       "      <td>0</td>\n",
       "    </tr>\n",
       "    <tr>\n",
       "      <th>1973</th>\n",
       "      <td>6137</td>\n",
       "      <td>1483</td>\n",
       "      <td>1046</td>\n",
       "      <td>699</td>\n",
       "      <td>508</td>\n",
       "      <td>181</td>\n",
       "      <td>8</td>\n",
       "      <td>115</td>\n",
       "      <td>115</td>\n",
       "      <td>33</td>\n",
       "      <td>...</td>\n",
       "      <td>0</td>\n",
       "      <td>0</td>\n",
       "      <td>0</td>\n",
       "      <td>0</td>\n",
       "      <td>1</td>\n",
       "      <td>0</td>\n",
       "      <td>0</td>\n",
       "      <td>0</td>\n",
       "      <td>0</td>\n",
       "      <td>1</td>\n",
       "    </tr>\n",
       "    <tr>\n",
       "      <th>1995</th>\n",
       "      <td>4652</td>\n",
       "      <td>1151</td>\n",
       "      <td>1611</td>\n",
       "      <td>1133</td>\n",
       "      <td>448</td>\n",
       "      <td>307</td>\n",
       "      <td>324</td>\n",
       "      <td>200</td>\n",
       "      <td>109</td>\n",
       "      <td>67</td>\n",
       "      <td>...</td>\n",
       "      <td>0</td>\n",
       "      <td>0</td>\n",
       "      <td>0</td>\n",
       "      <td>0</td>\n",
       "      <td>0</td>\n",
       "      <td>0</td>\n",
       "      <td>0</td>\n",
       "      <td>0</td>\n",
       "      <td>0</td>\n",
       "      <td>0</td>\n",
       "    </tr>\n",
       "    <tr>\n",
       "      <th>1594</th>\n",
       "      <td>5515</td>\n",
       "      <td>1384</td>\n",
       "      <td>1437</td>\n",
       "      <td>573</td>\n",
       "      <td>326</td>\n",
       "      <td>321</td>\n",
       "      <td>110</td>\n",
       "      <td>63</td>\n",
       "      <td>84</td>\n",
       "      <td>58</td>\n",
       "      <td>...</td>\n",
       "      <td>1</td>\n",
       "      <td>3</td>\n",
       "      <td>0</td>\n",
       "      <td>1</td>\n",
       "      <td>0</td>\n",
       "      <td>0</td>\n",
       "      <td>0</td>\n",
       "      <td>0</td>\n",
       "      <td>0</td>\n",
       "      <td>0</td>\n",
       "    </tr>\n",
       "    <tr>\n",
       "      <th>1816</th>\n",
       "      <td>6148</td>\n",
       "      <td>1088</td>\n",
       "      <td>893</td>\n",
       "      <td>673</td>\n",
       "      <td>413</td>\n",
       "      <td>155</td>\n",
       "      <td>33</td>\n",
       "      <td>92</td>\n",
       "      <td>43</td>\n",
       "      <td>56</td>\n",
       "      <td>...</td>\n",
       "      <td>0</td>\n",
       "      <td>0</td>\n",
       "      <td>0</td>\n",
       "      <td>0</td>\n",
       "      <td>0</td>\n",
       "      <td>0</td>\n",
       "      <td>0</td>\n",
       "      <td>0</td>\n",
       "      <td>0</td>\n",
       "      <td>0</td>\n",
       "    </tr>\n",
       "    <tr>\n",
       "      <th>1953</th>\n",
       "      <td>4865</td>\n",
       "      <td>1936</td>\n",
       "      <td>792</td>\n",
       "      <td>499</td>\n",
       "      <td>578</td>\n",
       "      <td>99</td>\n",
       "      <td>25</td>\n",
       "      <td>64</td>\n",
       "      <td>110</td>\n",
       "      <td>70</td>\n",
       "      <td>...</td>\n",
       "      <td>0</td>\n",
       "      <td>0</td>\n",
       "      <td>0</td>\n",
       "      <td>0</td>\n",
       "      <td>0</td>\n",
       "      <td>0</td>\n",
       "      <td>1</td>\n",
       "      <td>0</td>\n",
       "      <td>0</td>\n",
       "      <td>0</td>\n",
       "    </tr>\n",
       "    <tr>\n",
       "      <th>1597</th>\n",
       "      <td>5383</td>\n",
       "      <td>1381</td>\n",
       "      <td>969</td>\n",
       "      <td>396</td>\n",
       "      <td>345</td>\n",
       "      <td>195</td>\n",
       "      <td>79</td>\n",
       "      <td>73</td>\n",
       "      <td>63</td>\n",
       "      <td>66</td>\n",
       "      <td>...</td>\n",
       "      <td>0</td>\n",
       "      <td>0</td>\n",
       "      <td>0</td>\n",
       "      <td>0</td>\n",
       "      <td>0</td>\n",
       "      <td>0</td>\n",
       "      <td>0</td>\n",
       "      <td>0</td>\n",
       "      <td>0</td>\n",
       "      <td>0</td>\n",
       "    </tr>\n",
       "    <tr>\n",
       "      <th>1993</th>\n",
       "      <td>5077</td>\n",
       "      <td>717</td>\n",
       "      <td>908</td>\n",
       "      <td>673</td>\n",
       "      <td>327</td>\n",
       "      <td>353</td>\n",
       "      <td>257</td>\n",
       "      <td>86</td>\n",
       "      <td>58</td>\n",
       "      <td>43</td>\n",
       "      <td>...</td>\n",
       "      <td>0</td>\n",
       "      <td>0</td>\n",
       "      <td>0</td>\n",
       "      <td>0</td>\n",
       "      <td>0</td>\n",
       "      <td>0</td>\n",
       "      <td>0</td>\n",
       "      <td>0</td>\n",
       "      <td>0</td>\n",
       "      <td>0</td>\n",
       "    </tr>\n",
       "    <tr>\n",
       "      <th>1997</th>\n",
       "      <td>3932</td>\n",
       "      <td>2026</td>\n",
       "      <td>912</td>\n",
       "      <td>716</td>\n",
       "      <td>251</td>\n",
       "      <td>253</td>\n",
       "      <td>4</td>\n",
       "      <td>118</td>\n",
       "      <td>88</td>\n",
       "      <td>69</td>\n",
       "      <td>...</td>\n",
       "      <td>0</td>\n",
       "      <td>0</td>\n",
       "      <td>0</td>\n",
       "      <td>0</td>\n",
       "      <td>0</td>\n",
       "      <td>0</td>\n",
       "      <td>0</td>\n",
       "      <td>0</td>\n",
       "      <td>0</td>\n",
       "      <td>0</td>\n",
       "    </tr>\n",
       "    <tr>\n",
       "      <th>1986</th>\n",
       "      <td>3421</td>\n",
       "      <td>1651</td>\n",
       "      <td>965</td>\n",
       "      <td>860</td>\n",
       "      <td>361</td>\n",
       "      <td>194</td>\n",
       "      <td>55</td>\n",
       "      <td>159</td>\n",
       "      <td>133</td>\n",
       "      <td>190</td>\n",
       "      <td>...</td>\n",
       "      <td>0</td>\n",
       "      <td>0</td>\n",
       "      <td>0</td>\n",
       "      <td>0</td>\n",
       "      <td>0</td>\n",
       "      <td>0</td>\n",
       "      <td>0</td>\n",
       "      <td>0</td>\n",
       "      <td>0</td>\n",
       "      <td>0</td>\n",
       "    </tr>\n",
       "    <tr>\n",
       "      <th>1507</th>\n",
       "      <td>2068</td>\n",
       "      <td>679</td>\n",
       "      <td>515</td>\n",
       "      <td>582</td>\n",
       "      <td>142</td>\n",
       "      <td>157</td>\n",
       "      <td>7</td>\n",
       "      <td>121</td>\n",
       "      <td>69</td>\n",
       "      <td>50</td>\n",
       "      <td>...</td>\n",
       "      <td>0</td>\n",
       "      <td>0</td>\n",
       "      <td>0</td>\n",
       "      <td>0</td>\n",
       "      <td>0</td>\n",
       "      <td>0</td>\n",
       "      <td>0</td>\n",
       "      <td>0</td>\n",
       "      <td>0</td>\n",
       "      <td>0</td>\n",
       "    </tr>\n",
       "    <tr>\n",
       "      <th>1515</th>\n",
       "      <td>3291</td>\n",
       "      <td>138</td>\n",
       "      <td>156</td>\n",
       "      <td>207</td>\n",
       "      <td>146</td>\n",
       "      <td>149</td>\n",
       "      <td>0</td>\n",
       "      <td>8</td>\n",
       "      <td>7</td>\n",
       "      <td>9</td>\n",
       "      <td>...</td>\n",
       "      <td>0</td>\n",
       "      <td>0</td>\n",
       "      <td>0</td>\n",
       "      <td>0</td>\n",
       "      <td>0</td>\n",
       "      <td>0</td>\n",
       "      <td>0</td>\n",
       "      <td>0</td>\n",
       "      <td>0</td>\n",
       "      <td>0</td>\n",
       "    </tr>\n",
       "  </tbody>\n",
       "</table>\n",
       "<p>47 rows × 46 columns</p>\n",
       "</div>"
      ],
      "text/plain": [
       "oper            0     3     1     7     4    5     2   10    6    9  ...  41  \\\n",
       "idTerminal                                                           ...       \n",
       "1774        17790  6647  3397  1284  1243  169    29  139  354  210  ...   1   \n",
       "1908        15868  6348  2447  1984  2409  394    22  469  357  189  ...   1   \n",
       "1964        15620  6413  3317  1173  1864  279   354  157  293  159  ...   0   \n",
       "1910        16395  3781  1888  2279   870  502    84  224  143  142  ...   2   \n",
       "1980        12266  3380  4159  1657   695  430  1815  127  133  102  ...   0   \n",
       "1741        11266  5576  2341  1129  1537  375   303  134  269  141  ...   0   \n",
       "1593        12420  3475  2773  1526   785  777   126  306  186   96  ...   0   \n",
       "1824        11388  4875  2087   860  1664  364    45  139  320  137  ...   0   \n",
       "1864        10379  4340  1839  2154  1183  501    13  341  253  168  ...   1   \n",
       "1946        11160  3831  1767  1281  1804  511    27  205  193  151  ...   0   \n",
       "1896        13521  2514  1999  1444   544  302   354  125   49   94  ...   1   \n",
       "1944        10562  3978  1894  1766  1107  507    58  299  180  180  ...   0   \n",
       "1805         9615  4518  1907  1381  1537  547     3  204  230  155  ...   0   \n",
       "1575        11402  4131  2047   805   636  421   101  131   89  184  ...   0   \n",
       "1746        12271  3536  1705   891   773  180    73   93   63  126  ...   0   \n",
       "1828        10810  2617  3524   725   602  480   112   96  176   89  ...   0   \n",
       "1577        13628  2132   981   897   409  143    20   98   42   86  ...   2   \n",
       "1987        11072  2321  2071  1157   707  526    33  144  144   75  ...   0   \n",
       "1971        10073  2463  2054  1507   518  346   326  166   85   83  ...   0   \n",
       "1996        10523  2270  1224  1762   671  351   148  221   84   84  ...   0   \n",
       "1827         9895  3560  1810   593   762   98     1   67   88   72  ...   0   \n",
       "1919         9116  2763  1500  1387   768  530    49  218  123  121  ...   6   \n",
       "1922         8349  2940  1267  1281  1318  194    59  225  164  126  ...   0   \n",
       "1772        10654  1759  1415   824   827  304   140   93   64   66  ...   0   \n",
       "1963        11896  1556   691   591   607  651    33   59   42   47  ...   0   \n",
       "1981         7270  3487  1437  1794  1077  370    62  239  199  115  ...   0   \n",
       "1928         7987  2400  1440  1237   820  597   943  146   51   92  ...   0   \n",
       "1929         8690  2126  1836  1503   580  291   138  161  110   73  ...   0   \n",
       "1994         8054  2098  2185   774   509  308   562   72  123   84  ...   0   \n",
       "1991         7116  2014  1461   541   804  306    82   76  154   56  ...   1   \n",
       "1882         7217  1796  1463   910   652  110   131   99   81   80  ...   0   \n",
       "1759         5343  1308  1679  1248   369  521   180  212  127   45  ...   0   \n",
       "1537         5953  2058  1185   612   543  483    32   98   93   97  ...   0   \n",
       "1582         6363  1749  1258   863   266  241    36   94   41   70  ...   0   \n",
       "1574         5770  1548  1193  1126   239  393    35  127   34   46  ...   0   \n",
       "1875         5738  1457  1750   705   273  258    95   85   50   48  ...   0   \n",
       "1973         6137  1483  1046   699   508  181     8  115  115   33  ...   0   \n",
       "1995         4652  1151  1611  1133   448  307   324  200  109   67  ...   0   \n",
       "1594         5515  1384  1437   573   326  321   110   63   84   58  ...   1   \n",
       "1816         6148  1088   893   673   413  155    33   92   43   56  ...   0   \n",
       "1953         4865  1936   792   499   578   99    25   64  110   70  ...   0   \n",
       "1597         5383  1381   969   396   345  195    79   73   63   66  ...   0   \n",
       "1993         5077   717   908   673   327  353   257   86   58   43  ...   0   \n",
       "1997         3932  2026   912   716   251  253     4  118   88   69  ...   0   \n",
       "1986         3421  1651   965   860   361  194    55  159  133  190  ...   0   \n",
       "1507         2068   679   515   582   142  157     7  121   69   50  ...   0   \n",
       "1515         3291   138   156   207   146  149     0    8    7    9  ...   0   \n",
       "\n",
       "oper        27  40  42  37  30  43  44  33  45  \n",
       "idTerminal                                      \n",
       "1774         0   0   0   0   0   0   1   0   0  \n",
       "1908         0   0   0   0   0   0   0   1   0  \n",
       "1964         0   0   0   0   0   1   0   0   0  \n",
       "1910         0   0   0   0   0   0   1   0   0  \n",
       "1980         0   0   0   0   3   0   0   0   0  \n",
       "1741         0   0   0   0   0   0   0   0   0  \n",
       "1593         1   0   0   0   0   0   0   0   0  \n",
       "1824         1   0   0   0   0   0   0   0   0  \n",
       "1864         0   0   0   0   0   0   0   0   0  \n",
       "1946         0   0   0   0   0   0   0   0   0  \n",
       "1896         3   1   0   0   0   0   0   0   0  \n",
       "1944         0   0   0   0   0   0   0   0   0  \n",
       "1805         0   0   0   0   0   0   0   0   0  \n",
       "1575         1   0   0   0   0   0   0   0   0  \n",
       "1746         0   0   0   0   0   0   0   0   0  \n",
       "1828         0   0   0   0   0   0   1   0   0  \n",
       "1577         0   2   0   0   0   0   0   0   0  \n",
       "1987         1   0   0   0   0   0   0   0   0  \n",
       "1971         0   0   0   0   0   0   0   0   0  \n",
       "1996         1   1   0   0   0   1   0   0   0  \n",
       "1827         0   0   0   0   0   0   0   0   0  \n",
       "1919         0   2   0   0   0   0   0   0   0  \n",
       "1922         0   0   0   0   0   0   0   0   0  \n",
       "1772         0   0   0   0   0   0   0   0   0  \n",
       "1963         0   0   0   0   0   0   0   0   0  \n",
       "1981         0   0   0   0   0   0   0   0   0  \n",
       "1928         0   0   0   0   0   0   0   0   0  \n",
       "1929         0   0   0   1   0   0   0   0   0  \n",
       "1994         0   0   0   0   1   0   0   0   0  \n",
       "1991         0   0   1   2   0   0   0   0   0  \n",
       "1882         0   0   0   0   0   0   0   0   0  \n",
       "1759         0   0   0   1   0   0   0   0   0  \n",
       "1537         0   0   0   0   0   0   0   0   0  \n",
       "1582         1   0   0   0   0   0   0   0   0  \n",
       "1574         0   0   2   0   0   0   0   0   0  \n",
       "1875         0   0   2   0   0   0   0   0   0  \n",
       "1973         0   0   0   1   0   0   0   0   1  \n",
       "1995         0   0   0   0   0   0   0   0   0  \n",
       "1594         3   0   1   0   0   0   0   0   0  \n",
       "1816         0   0   0   0   0   0   0   0   0  \n",
       "1953         0   0   0   0   0   1   0   0   0  \n",
       "1597         0   0   0   0   0   0   0   0   0  \n",
       "1993         0   0   0   0   0   0   0   0   0  \n",
       "1997         0   0   0   0   0   0   0   0   0  \n",
       "1986         0   0   0   0   0   0   0   0   0  \n",
       "1507         0   0   0   0   0   0   0   0   0  \n",
       "1515         0   0   0   0   0   0   0   0   0  \n",
       "\n",
       "[47 rows x 46 columns]"
      ]
     },
     "execution_count": 99,
     "metadata": {},
     "output_type": "execute_result"
    }
   ],
   "source": [
    "pivot_table = data.pivot_table(index='idTerminal', columns='oper', aggfunc='size', fill_value=0)\n",
    "pivot_table = pivot_table.loc[pivot_table.sum(axis=1).sort_values(ascending=False).index]\n",
    "pivot_table = pivot_table[pivot_table.sum().sort_values(ascending=False).index]\n",
    "pivot_table"
   ]
  },
  {
   "cell_type": "code",
   "execution_count": 100,
   "metadata": {},
   "outputs": [
    {
     "name": "stderr",
     "output_type": "stream",
     "text": [
      "c:\\Users\\jmoncada43\\OneDrive - Cementos Argos S.A\\Documentos\\Platzi\\DataScience\\Prueba\\env\\Lib\\site-packages\\plotly\\express\\_core.py:2065: FutureWarning:\n",
      "\n",
      "When grouping with a length-1 list-like, you will need to pass a length-1 tuple to get_group in a future version of pandas. Pass `(name,)` instead of `name` to silence this warning.\n",
      "\n"
     ]
    },
    {
     "data": {
      "application/vnd.plotly.v1+json": {
       "config": {
        "plotlyServerURL": "https://plot.ly"
       },
       "data": [
        {
         "alignmentgroup": "True",
         "hovertemplate": "oper=0<br>idTerminal=%{x}<br>count=%{y}<extra></extra>",
         "legendgroup": "0",
         "marker": {
          "color": "#636efa",
          "pattern": {
           "shape": ""
          }
         },
         "name": "0",
         "offsetgroup": "0",
         "orientation": "v",
         "showlegend": true,
         "textposition": "auto",
         "type": "bar",
         "x": [
          "1774",
          "1908",
          "1964",
          "1910",
          "1980",
          "1741",
          "1593",
          "1824",
          "1864",
          "1946",
          "1896",
          "1944",
          "1805",
          "1575",
          "1746",
          "1828",
          "1577",
          "1987",
          "1971",
          "1996",
          "1827",
          "1919",
          "1922",
          "1772",
          "1963",
          "1981",
          "1928",
          "1929",
          "1994",
          "1991",
          "1882",
          "1759",
          "1537",
          "1582",
          "1574",
          "1875",
          "1973",
          "1995",
          "1594",
          "1816",
          "1953",
          "1597",
          "1993",
          "1997",
          "1986",
          "1507",
          "1515"
         ],
         "xaxis": "x",
         "y": [
          17790,
          15868,
          15620,
          16395,
          12266,
          11266,
          12420,
          11388,
          10379,
          11160,
          13521,
          10562,
          9615,
          11402,
          12271,
          10810,
          13628,
          11072,
          10073,
          10523,
          9895,
          9116,
          8349,
          10654,
          11896,
          7270,
          7987,
          8690,
          8054,
          7116,
          7217,
          5343,
          5953,
          6363,
          5770,
          5738,
          6137,
          4652,
          5515,
          6148,
          4865,
          5383,
          5077,
          3932,
          3421,
          2068,
          3291
         ],
         "yaxis": "y"
        },
        {
         "alignmentgroup": "True",
         "hovertemplate": "oper=3<br>idTerminal=%{x}<br>count=%{y}<extra></extra>",
         "legendgroup": "3",
         "marker": {
          "color": "#EF553B",
          "pattern": {
           "shape": ""
          }
         },
         "name": "3",
         "offsetgroup": "3",
         "orientation": "v",
         "showlegend": true,
         "textposition": "auto",
         "type": "bar",
         "x": [
          "1774",
          "1908",
          "1964",
          "1910",
          "1980",
          "1741",
          "1593",
          "1824",
          "1864",
          "1946",
          "1896",
          "1944",
          "1805",
          "1575",
          "1746",
          "1828",
          "1577",
          "1987",
          "1971",
          "1996",
          "1827",
          "1919",
          "1922",
          "1772",
          "1963",
          "1981",
          "1928",
          "1929",
          "1994",
          "1991",
          "1882",
          "1759",
          "1537",
          "1582",
          "1574",
          "1875",
          "1973",
          "1995",
          "1594",
          "1816",
          "1953",
          "1597",
          "1993",
          "1997",
          "1986",
          "1507",
          "1515"
         ],
         "xaxis": "x",
         "y": [
          6647,
          6348,
          6413,
          3781,
          3380,
          5576,
          3475,
          4875,
          4340,
          3831,
          2514,
          3978,
          4518,
          4131,
          3536,
          2617,
          2132,
          2321,
          2463,
          2270,
          3560,
          2763,
          2940,
          1759,
          1556,
          3487,
          2400,
          2126,
          2098,
          2014,
          1796,
          1308,
          2058,
          1749,
          1548,
          1457,
          1483,
          1151,
          1384,
          1088,
          1936,
          1381,
          717,
          2026,
          1651,
          679,
          138
         ],
         "yaxis": "y"
        },
        {
         "alignmentgroup": "True",
         "hovertemplate": "oper=1<br>idTerminal=%{x}<br>count=%{y}<extra></extra>",
         "legendgroup": "1",
         "marker": {
          "color": "#00cc96",
          "pattern": {
           "shape": ""
          }
         },
         "name": "1",
         "offsetgroup": "1",
         "orientation": "v",
         "showlegend": true,
         "textposition": "auto",
         "type": "bar",
         "x": [
          "1774",
          "1908",
          "1964",
          "1910",
          "1980",
          "1741",
          "1593",
          "1824",
          "1864",
          "1946",
          "1896",
          "1944",
          "1805",
          "1575",
          "1746",
          "1828",
          "1577",
          "1987",
          "1971",
          "1996",
          "1827",
          "1919",
          "1922",
          "1772",
          "1963",
          "1981",
          "1928",
          "1929",
          "1994",
          "1991",
          "1882",
          "1759",
          "1537",
          "1582",
          "1574",
          "1875",
          "1973",
          "1995",
          "1594",
          "1816",
          "1953",
          "1597",
          "1993",
          "1997",
          "1986",
          "1507",
          "1515"
         ],
         "xaxis": "x",
         "y": [
          3397,
          2447,
          3317,
          1888,
          4159,
          2341,
          2773,
          2087,
          1839,
          1767,
          1999,
          1894,
          1907,
          2047,
          1705,
          3524,
          981,
          2071,
          2054,
          1224,
          1810,
          1500,
          1267,
          1415,
          691,
          1437,
          1440,
          1836,
          2185,
          1461,
          1463,
          1679,
          1185,
          1258,
          1193,
          1750,
          1046,
          1611,
          1437,
          893,
          792,
          969,
          908,
          912,
          965,
          515,
          156
         ],
         "yaxis": "y"
        },
        {
         "alignmentgroup": "True",
         "hovertemplate": "oper=7<br>idTerminal=%{x}<br>count=%{y}<extra></extra>",
         "legendgroup": "7",
         "marker": {
          "color": "#ab63fa",
          "pattern": {
           "shape": ""
          }
         },
         "name": "7",
         "offsetgroup": "7",
         "orientation": "v",
         "showlegend": true,
         "textposition": "auto",
         "type": "bar",
         "x": [
          "1774",
          "1908",
          "1964",
          "1910",
          "1980",
          "1741",
          "1593",
          "1824",
          "1864",
          "1946",
          "1896",
          "1944",
          "1805",
          "1575",
          "1746",
          "1828",
          "1577",
          "1987",
          "1971",
          "1996",
          "1827",
          "1919",
          "1922",
          "1772",
          "1963",
          "1981",
          "1928",
          "1929",
          "1994",
          "1991",
          "1882",
          "1759",
          "1537",
          "1582",
          "1574",
          "1875",
          "1973",
          "1995",
          "1594",
          "1816",
          "1953",
          "1597",
          "1993",
          "1997",
          "1986",
          "1507",
          "1515"
         ],
         "xaxis": "x",
         "y": [
          1284,
          1984,
          1173,
          2279,
          1657,
          1129,
          1526,
          860,
          2154,
          1281,
          1444,
          1766,
          1381,
          805,
          891,
          725,
          897,
          1157,
          1507,
          1762,
          593,
          1387,
          1281,
          824,
          591,
          1794,
          1237,
          1503,
          774,
          541,
          910,
          1248,
          612,
          863,
          1126,
          705,
          699,
          1133,
          573,
          673,
          499,
          396,
          673,
          716,
          860,
          582,
          207
         ],
         "yaxis": "y"
        },
        {
         "alignmentgroup": "True",
         "hovertemplate": "oper=4<br>idTerminal=%{x}<br>count=%{y}<extra></extra>",
         "legendgroup": "4",
         "marker": {
          "color": "#FFA15A",
          "pattern": {
           "shape": ""
          }
         },
         "name": "4",
         "offsetgroup": "4",
         "orientation": "v",
         "showlegend": true,
         "textposition": "auto",
         "type": "bar",
         "x": [
          "1774",
          "1908",
          "1964",
          "1910",
          "1980",
          "1741",
          "1593",
          "1824",
          "1864",
          "1946",
          "1896",
          "1944",
          "1805",
          "1575",
          "1746",
          "1828",
          "1577",
          "1987",
          "1971",
          "1996",
          "1827",
          "1919",
          "1922",
          "1772",
          "1963",
          "1981",
          "1928",
          "1929",
          "1994",
          "1991",
          "1882",
          "1759",
          "1537",
          "1582",
          "1574",
          "1875",
          "1973",
          "1995",
          "1594",
          "1816",
          "1953",
          "1597",
          "1993",
          "1997",
          "1986",
          "1507",
          "1515"
         ],
         "xaxis": "x",
         "y": [
          1243,
          2409,
          1864,
          870,
          695,
          1537,
          785,
          1664,
          1183,
          1804,
          544,
          1107,
          1537,
          636,
          773,
          602,
          409,
          707,
          518,
          671,
          762,
          768,
          1318,
          827,
          607,
          1077,
          820,
          580,
          509,
          804,
          652,
          369,
          543,
          266,
          239,
          273,
          508,
          448,
          326,
          413,
          578,
          345,
          327,
          251,
          361,
          142,
          146
         ],
         "yaxis": "y"
        },
        {
         "alignmentgroup": "True",
         "hovertemplate": "oper=5<br>idTerminal=%{x}<br>count=%{y}<extra></extra>",
         "legendgroup": "5",
         "marker": {
          "color": "#19d3f3",
          "pattern": {
           "shape": ""
          }
         },
         "name": "5",
         "offsetgroup": "5",
         "orientation": "v",
         "showlegend": true,
         "textposition": "auto",
         "type": "bar",
         "x": [
          "1774",
          "1908",
          "1964",
          "1910",
          "1980",
          "1741",
          "1593",
          "1824",
          "1864",
          "1946",
          "1896",
          "1944",
          "1805",
          "1575",
          "1746",
          "1828",
          "1577",
          "1987",
          "1971",
          "1996",
          "1827",
          "1919",
          "1922",
          "1772",
          "1963",
          "1981",
          "1928",
          "1929",
          "1994",
          "1991",
          "1882",
          "1759",
          "1537",
          "1582",
          "1574",
          "1875",
          "1973",
          "1995",
          "1594",
          "1816",
          "1953",
          "1597",
          "1993",
          "1997",
          "1986",
          "1507",
          "1515"
         ],
         "xaxis": "x",
         "y": [
          169,
          394,
          279,
          502,
          430,
          375,
          777,
          364,
          501,
          511,
          302,
          507,
          547,
          421,
          180,
          480,
          143,
          526,
          346,
          351,
          98,
          530,
          194,
          304,
          651,
          370,
          597,
          291,
          308,
          306,
          110,
          521,
          483,
          241,
          393,
          258,
          181,
          307,
          321,
          155,
          99,
          195,
          353,
          253,
          194,
          157,
          149
         ],
         "yaxis": "y"
        },
        {
         "alignmentgroup": "True",
         "hovertemplate": "oper=2<br>idTerminal=%{x}<br>count=%{y}<extra></extra>",
         "legendgroup": "2",
         "marker": {
          "color": "#FF6692",
          "pattern": {
           "shape": ""
          }
         },
         "name": "2",
         "offsetgroup": "2",
         "orientation": "v",
         "showlegend": true,
         "textposition": "auto",
         "type": "bar",
         "x": [
          "1774",
          "1908",
          "1964",
          "1910",
          "1980",
          "1741",
          "1593",
          "1824",
          "1864",
          "1946",
          "1896",
          "1944",
          "1805",
          "1575",
          "1746",
          "1828",
          "1577",
          "1987",
          "1971",
          "1996",
          "1827",
          "1919",
          "1922",
          "1772",
          "1963",
          "1981",
          "1928",
          "1929",
          "1994",
          "1991",
          "1882",
          "1759",
          "1537",
          "1582",
          "1574",
          "1875",
          "1973",
          "1995",
          "1594",
          "1816",
          "1953",
          "1597",
          "1993",
          "1997",
          "1986",
          "1507",
          "1515"
         ],
         "xaxis": "x",
         "y": [
          29,
          22,
          354,
          84,
          1815,
          303,
          126,
          45,
          13,
          27,
          354,
          58,
          3,
          101,
          73,
          112,
          20,
          33,
          326,
          148,
          1,
          49,
          59,
          140,
          33,
          62,
          943,
          138,
          562,
          82,
          131,
          180,
          32,
          36,
          35,
          95,
          8,
          324,
          110,
          33,
          25,
          79,
          257,
          4,
          55,
          7,
          0
         ],
         "yaxis": "y"
        },
        {
         "alignmentgroup": "True",
         "hovertemplate": "oper=10<br>idTerminal=%{x}<br>count=%{y}<extra></extra>",
         "legendgroup": "10",
         "marker": {
          "color": "#B6E880",
          "pattern": {
           "shape": ""
          }
         },
         "name": "10",
         "offsetgroup": "10",
         "orientation": "v",
         "showlegend": true,
         "textposition": "auto",
         "type": "bar",
         "x": [
          "1774",
          "1908",
          "1964",
          "1910",
          "1980",
          "1741",
          "1593",
          "1824",
          "1864",
          "1946",
          "1896",
          "1944",
          "1805",
          "1575",
          "1746",
          "1828",
          "1577",
          "1987",
          "1971",
          "1996",
          "1827",
          "1919",
          "1922",
          "1772",
          "1963",
          "1981",
          "1928",
          "1929",
          "1994",
          "1991",
          "1882",
          "1759",
          "1537",
          "1582",
          "1574",
          "1875",
          "1973",
          "1995",
          "1594",
          "1816",
          "1953",
          "1597",
          "1993",
          "1997",
          "1986",
          "1507",
          "1515"
         ],
         "xaxis": "x",
         "y": [
          139,
          469,
          157,
          224,
          127,
          134,
          306,
          139,
          341,
          205,
          125,
          299,
          204,
          131,
          93,
          96,
          98,
          144,
          166,
          221,
          67,
          218,
          225,
          93,
          59,
          239,
          146,
          161,
          72,
          76,
          99,
          212,
          98,
          94,
          127,
          85,
          115,
          200,
          63,
          92,
          64,
          73,
          86,
          118,
          159,
          121,
          8
         ],
         "yaxis": "y"
        },
        {
         "alignmentgroup": "True",
         "hovertemplate": "oper=6<br>idTerminal=%{x}<br>count=%{y}<extra></extra>",
         "legendgroup": "6",
         "marker": {
          "color": "#FF97FF",
          "pattern": {
           "shape": ""
          }
         },
         "name": "6",
         "offsetgroup": "6",
         "orientation": "v",
         "showlegend": true,
         "textposition": "auto",
         "type": "bar",
         "x": [
          "1774",
          "1908",
          "1964",
          "1910",
          "1980",
          "1741",
          "1593",
          "1824",
          "1864",
          "1946",
          "1896",
          "1944",
          "1805",
          "1575",
          "1746",
          "1828",
          "1577",
          "1987",
          "1971",
          "1996",
          "1827",
          "1919",
          "1922",
          "1772",
          "1963",
          "1981",
          "1928",
          "1929",
          "1994",
          "1991",
          "1882",
          "1759",
          "1537",
          "1582",
          "1574",
          "1875",
          "1973",
          "1995",
          "1594",
          "1816",
          "1953",
          "1597",
          "1993",
          "1997",
          "1986",
          "1507",
          "1515"
         ],
         "xaxis": "x",
         "y": [
          354,
          357,
          293,
          143,
          133,
          269,
          186,
          320,
          253,
          193,
          49,
          180,
          230,
          89,
          63,
          176,
          42,
          144,
          85,
          84,
          88,
          123,
          164,
          64,
          42,
          199,
          51,
          110,
          123,
          154,
          81,
          127,
          93,
          41,
          34,
          50,
          115,
          109,
          84,
          43,
          110,
          63,
          58,
          88,
          133,
          69,
          7
         ],
         "yaxis": "y"
        },
        {
         "alignmentgroup": "True",
         "hovertemplate": "oper=9<br>idTerminal=%{x}<br>count=%{y}<extra></extra>",
         "legendgroup": "9",
         "marker": {
          "color": "#FECB52",
          "pattern": {
           "shape": ""
          }
         },
         "name": "9",
         "offsetgroup": "9",
         "orientation": "v",
         "showlegend": true,
         "textposition": "auto",
         "type": "bar",
         "x": [
          "1774",
          "1908",
          "1964",
          "1910",
          "1980",
          "1741",
          "1593",
          "1824",
          "1864",
          "1946",
          "1896",
          "1944",
          "1805",
          "1575",
          "1746",
          "1828",
          "1577",
          "1987",
          "1971",
          "1996",
          "1827",
          "1919",
          "1922",
          "1772",
          "1963",
          "1981",
          "1928",
          "1929",
          "1994",
          "1991",
          "1882",
          "1759",
          "1537",
          "1582",
          "1574",
          "1875",
          "1973",
          "1995",
          "1594",
          "1816",
          "1953",
          "1597",
          "1993",
          "1997",
          "1986",
          "1507",
          "1515"
         ],
         "xaxis": "x",
         "y": [
          210,
          189,
          159,
          142,
          102,
          141,
          96,
          137,
          168,
          151,
          94,
          180,
          155,
          184,
          126,
          89,
          86,
          75,
          83,
          84,
          72,
          121,
          126,
          66,
          47,
          115,
          92,
          73,
          84,
          56,
          80,
          45,
          97,
          70,
          46,
          48,
          33,
          67,
          58,
          56,
          70,
          66,
          43,
          69,
          190,
          50,
          9
         ],
         "yaxis": "y"
        },
        {
         "alignmentgroup": "True",
         "hovertemplate": "oper=14<br>idTerminal=%{x}<br>count=%{y}<extra></extra>",
         "legendgroup": "14",
         "marker": {
          "color": "#636efa",
          "pattern": {
           "shape": ""
          }
         },
         "name": "14",
         "offsetgroup": "14",
         "orientation": "v",
         "showlegend": true,
         "textposition": "auto",
         "type": "bar",
         "x": [
          "1774",
          "1908",
          "1964",
          "1910",
          "1980",
          "1741",
          "1593",
          "1824",
          "1864",
          "1946",
          "1896",
          "1944",
          "1805",
          "1575",
          "1746",
          "1828",
          "1577",
          "1987",
          "1971",
          "1996",
          "1827",
          "1919",
          "1922",
          "1772",
          "1963",
          "1981",
          "1928",
          "1929",
          "1994",
          "1991",
          "1882",
          "1759",
          "1537",
          "1582",
          "1574",
          "1875",
          "1973",
          "1995",
          "1594",
          "1816",
          "1953",
          "1597",
          "1993",
          "1997",
          "1986",
          "1507",
          "1515"
         ],
         "xaxis": "x",
         "y": [
          131,
          120,
          143,
          89,
          77,
          78,
          177,
          87,
          183,
          169,
          47,
          57,
          147,
          114,
          109,
          74,
          74,
          155,
          59,
          73,
          79,
          53,
          106,
          75,
          90,
          64,
          53,
          71,
          62,
          132,
          70,
          66,
          61,
          48,
          37,
          38,
          61,
          34,
          73,
          42,
          33,
          34,
          31,
          22,
          34,
          19,
          23
         ],
         "yaxis": "y"
        },
        {
         "alignmentgroup": "True",
         "hovertemplate": "oper=12<br>idTerminal=%{x}<br>count=%{y}<extra></extra>",
         "legendgroup": "12",
         "marker": {
          "color": "#EF553B",
          "pattern": {
           "shape": ""
          }
         },
         "name": "12",
         "offsetgroup": "12",
         "orientation": "v",
         "showlegend": true,
         "textposition": "auto",
         "type": "bar",
         "x": [
          "1774",
          "1908",
          "1964",
          "1910",
          "1980",
          "1741",
          "1593",
          "1824",
          "1864",
          "1946",
          "1896",
          "1944",
          "1805",
          "1575",
          "1746",
          "1828",
          "1577",
          "1987",
          "1971",
          "1996",
          "1827",
          "1919",
          "1922",
          "1772",
          "1963",
          "1981",
          "1928",
          "1929",
          "1994",
          "1991",
          "1882",
          "1759",
          "1537",
          "1582",
          "1574",
          "1875",
          "1973",
          "1995",
          "1594",
          "1816",
          "1953",
          "1597",
          "1993",
          "1997",
          "1986",
          "1507",
          "1515"
         ],
         "xaxis": "x",
         "y": [
          462,
          109,
          65,
          28,
          137,
          50,
          37,
          162,
          53,
          49,
          39,
          31,
          42,
          236,
          77,
          53,
          62,
          31,
          127,
          26,
          40,
          24,
          423,
          39,
          19,
          34,
          130,
          75,
          89,
          136,
          46,
          9,
          17,
          21,
          25,
          30,
          14,
          89,
          43,
          37,
          59,
          37,
          57,
          18,
          28,
          4,
          116
         ],
         "yaxis": "y"
        },
        {
         "alignmentgroup": "True",
         "hovertemplate": "oper=8<br>idTerminal=%{x}<br>count=%{y}<extra></extra>",
         "legendgroup": "8",
         "marker": {
          "color": "#00cc96",
          "pattern": {
           "shape": ""
          }
         },
         "name": "8",
         "offsetgroup": "8",
         "orientation": "v",
         "showlegend": true,
         "textposition": "auto",
         "type": "bar",
         "x": [
          "1774",
          "1908",
          "1964",
          "1910",
          "1980",
          "1741",
          "1593",
          "1824",
          "1864",
          "1946",
          "1896",
          "1944",
          "1805",
          "1575",
          "1746",
          "1828",
          "1577",
          "1987",
          "1971",
          "1996",
          "1827",
          "1919",
          "1922",
          "1772",
          "1963",
          "1981",
          "1928",
          "1929",
          "1994",
          "1991",
          "1882",
          "1759",
          "1537",
          "1582",
          "1574",
          "1875",
          "1973",
          "1995",
          "1594",
          "1816",
          "1953",
          "1597",
          "1993",
          "1997",
          "1986",
          "1507",
          "1515"
         ],
         "xaxis": "x",
         "y": [
          23,
          81,
          25,
          167,
          24,
          41,
          189,
          18,
          127,
          61,
          93,
          112,
          91,
          41,
          44,
          30,
          53,
          60,
          124,
          146,
          71,
          115,
          90,
          35,
          32,
          115,
          43,
          144,
          18,
          36,
          46,
          150,
          52,
          61,
          105,
          45,
          64,
          97,
          59,
          38,
          34,
          24,
          80,
          48,
          66,
          53,
          21
         ],
         "yaxis": "y"
        },
        {
         "alignmentgroup": "True",
         "hovertemplate": "oper=13<br>idTerminal=%{x}<br>count=%{y}<extra></extra>",
         "legendgroup": "13",
         "marker": {
          "color": "#ab63fa",
          "pattern": {
           "shape": ""
          }
         },
         "name": "13",
         "offsetgroup": "13",
         "orientation": "v",
         "showlegend": true,
         "textposition": "auto",
         "type": "bar",
         "x": [
          "1774",
          "1908",
          "1964",
          "1910",
          "1980",
          "1741",
          "1593",
          "1824",
          "1864",
          "1946",
          "1896",
          "1944",
          "1805",
          "1575",
          "1746",
          "1828",
          "1577",
          "1987",
          "1971",
          "1996",
          "1827",
          "1919",
          "1922",
          "1772",
          "1963",
          "1981",
          "1928",
          "1929",
          "1994",
          "1991",
          "1882",
          "1759",
          "1537",
          "1582",
          "1574",
          "1875",
          "1973",
          "1995",
          "1594",
          "1816",
          "1953",
          "1597",
          "1993",
          "1997",
          "1986",
          "1507",
          "1515"
         ],
         "xaxis": "x",
         "y": [
          38,
          7,
          24,
          66,
          19,
          1,
          16,
          50,
          10,
          25,
          78,
          3,
          13,
          11,
          21,
          32,
          231,
          16,
          42,
          88,
          71,
          3,
          26,
          124,
          34,
          10,
          4,
          65,
          18,
          28,
          17,
          93,
          9,
          34,
          55,
          24,
          30,
          16,
          66,
          10,
          15,
          77,
          61,
          8,
          7,
          2,
          12
         ],
         "yaxis": "y"
        },
        {
         "alignmentgroup": "True",
         "hovertemplate": "oper=21<br>idTerminal=%{x}<br>count=%{y}<extra></extra>",
         "legendgroup": "21",
         "marker": {
          "color": "#FFA15A",
          "pattern": {
           "shape": ""
          }
         },
         "name": "21",
         "offsetgroup": "21",
         "orientation": "v",
         "showlegend": true,
         "textposition": "auto",
         "type": "bar",
         "x": [
          "1774",
          "1908",
          "1964",
          "1910",
          "1980",
          "1741",
          "1593",
          "1824",
          "1864",
          "1946",
          "1896",
          "1944",
          "1805",
          "1575",
          "1746",
          "1828",
          "1577",
          "1987",
          "1971",
          "1996",
          "1827",
          "1919",
          "1922",
          "1772",
          "1963",
          "1981",
          "1928",
          "1929",
          "1994",
          "1991",
          "1882",
          "1759",
          "1537",
          "1582",
          "1574",
          "1875",
          "1973",
          "1995",
          "1594",
          "1816",
          "1953",
          "1597",
          "1993",
          "1997",
          "1986",
          "1507",
          "1515"
         ],
         "xaxis": "x",
         "y": [
          27,
          38,
          29,
          18,
          28,
          12,
          36,
          7,
          16,
          29,
          17,
          16,
          39,
          14,
          24,
          54,
          6,
          30,
          11,
          7,
          8,
          15,
          30,
          17,
          32,
          22,
          7,
          24,
          39,
          29,
          65,
          38,
          29,
          20,
          11,
          7,
          11,
          10,
          60,
          6,
          6,
          15,
          4,
          17,
          14,
          16,
          6
         ],
         "yaxis": "y"
        },
        {
         "alignmentgroup": "True",
         "hovertemplate": "oper=19<br>idTerminal=%{x}<br>count=%{y}<extra></extra>",
         "legendgroup": "19",
         "marker": {
          "color": "#19d3f3",
          "pattern": {
           "shape": ""
          }
         },
         "name": "19",
         "offsetgroup": "19",
         "orientation": "v",
         "showlegend": true,
         "textposition": "auto",
         "type": "bar",
         "x": [
          "1774",
          "1908",
          "1964",
          "1910",
          "1980",
          "1741",
          "1593",
          "1824",
          "1864",
          "1946",
          "1896",
          "1944",
          "1805",
          "1575",
          "1746",
          "1828",
          "1577",
          "1987",
          "1971",
          "1996",
          "1827",
          "1919",
          "1922",
          "1772",
          "1963",
          "1981",
          "1928",
          "1929",
          "1994",
          "1991",
          "1882",
          "1759",
          "1537",
          "1582",
          "1574",
          "1875",
          "1973",
          "1995",
          "1594",
          "1816",
          "1953",
          "1597",
          "1993",
          "1997",
          "1986",
          "1507",
          "1515"
         ],
         "xaxis": "x",
         "y": [
          77,
          12,
          30,
          13,
          101,
          12,
          6,
          31,
          9,
          9,
          16,
          7,
          5,
          42,
          9,
          8,
          5,
          6,
          24,
          4,
          9,
          8,
          68,
          9,
          2,
          4,
          36,
          5,
          27,
          27,
          9,
          3,
          1,
          5,
          4,
          13,
          2,
          22,
          10,
          4,
          14,
          7,
          10,
          2,
          0,
          0,
          6
         ],
         "yaxis": "y"
        },
        {
         "alignmentgroup": "True",
         "hovertemplate": "oper=26<br>idTerminal=%{x}<br>count=%{y}<extra></extra>",
         "legendgroup": "26",
         "marker": {
          "color": "#FF6692",
          "pattern": {
           "shape": ""
          }
         },
         "name": "26",
         "offsetgroup": "26",
         "orientation": "v",
         "showlegend": true,
         "textposition": "auto",
         "type": "bar",
         "x": [
          "1774",
          "1908",
          "1964",
          "1910",
          "1980",
          "1741",
          "1593",
          "1824",
          "1864",
          "1946",
          "1896",
          "1944",
          "1805",
          "1575",
          "1746",
          "1828",
          "1577",
          "1987",
          "1971",
          "1996",
          "1827",
          "1919",
          "1922",
          "1772",
          "1963",
          "1981",
          "1928",
          "1929",
          "1994",
          "1991",
          "1882",
          "1759",
          "1537",
          "1582",
          "1574",
          "1875",
          "1973",
          "1995",
          "1594",
          "1816",
          "1953",
          "1597",
          "1993",
          "1997",
          "1986",
          "1507",
          "1515"
         ],
         "xaxis": "x",
         "y": [
          16,
          41,
          16,
          10,
          5,
          3,
          37,
          20,
          28,
          58,
          5,
          36,
          36,
          14,
          14,
          11,
          16,
          28,
          11,
          10,
          1,
          27,
          12,
          8,
          6,
          8,
          18,
          9,
          18,
          11,
          22,
          35,
          10,
          6,
          4,
          4,
          8,
          12,
          17,
          22,
          15,
          4,
          13,
          4,
          13,
          6,
          1
         ],
         "yaxis": "y"
        },
        {
         "alignmentgroup": "True",
         "hovertemplate": "oper=16<br>idTerminal=%{x}<br>count=%{y}<extra></extra>",
         "legendgroup": "16",
         "marker": {
          "color": "#B6E880",
          "pattern": {
           "shape": ""
          }
         },
         "name": "16",
         "offsetgroup": "16",
         "orientation": "v",
         "showlegend": true,
         "textposition": "auto",
         "type": "bar",
         "x": [
          "1774",
          "1908",
          "1964",
          "1910",
          "1980",
          "1741",
          "1593",
          "1824",
          "1864",
          "1946",
          "1896",
          "1944",
          "1805",
          "1575",
          "1746",
          "1828",
          "1577",
          "1987",
          "1971",
          "1996",
          "1827",
          "1919",
          "1922",
          "1772",
          "1963",
          "1981",
          "1928",
          "1929",
          "1994",
          "1991",
          "1882",
          "1759",
          "1537",
          "1582",
          "1574",
          "1875",
          "1973",
          "1995",
          "1594",
          "1816",
          "1953",
          "1597",
          "1993",
          "1997",
          "1986",
          "1507",
          "1515"
         ],
         "xaxis": "x",
         "y": [
          5,
          3,
          3,
          8,
          0,
          0,
          7,
          1,
          7,
          13,
          18,
          7,
          0,
          8,
          16,
          17,
          34,
          14,
          17,
          34,
          11,
          0,
          13,
          5,
          10,
          0,
          0,
          6,
          4,
          3,
          3,
          23,
          0,
          13,
          6,
          25,
          4,
          4,
          23,
          0,
          0,
          12,
          0,
          2,
          8,
          0,
          4
         ],
         "yaxis": "y"
        },
        {
         "alignmentgroup": "True",
         "hovertemplate": "oper=23<br>idTerminal=%{x}<br>count=%{y}<extra></extra>",
         "legendgroup": "23",
         "marker": {
          "color": "#FF97FF",
          "pattern": {
           "shape": ""
          }
         },
         "name": "23",
         "offsetgroup": "23",
         "orientation": "v",
         "showlegend": true,
         "textposition": "auto",
         "type": "bar",
         "x": [
          "1774",
          "1908",
          "1964",
          "1910",
          "1980",
          "1741",
          "1593",
          "1824",
          "1864",
          "1946",
          "1896",
          "1944",
          "1805",
          "1575",
          "1746",
          "1828",
          "1577",
          "1987",
          "1971",
          "1996",
          "1827",
          "1919",
          "1922",
          "1772",
          "1963",
          "1981",
          "1928",
          "1929",
          "1994",
          "1991",
          "1882",
          "1759",
          "1537",
          "1582",
          "1574",
          "1875",
          "1973",
          "1995",
          "1594",
          "1816",
          "1953",
          "1597",
          "1993",
          "1997",
          "1986",
          "1507",
          "1515"
         ],
         "xaxis": "x",
         "y": [
          25,
          9,
          7,
          0,
          51,
          3,
          2,
          16,
          9,
          2,
          10,
          2,
          5,
          11,
          1,
          2,
          3,
          3,
          7,
          4,
          1,
          3,
          44,
          0,
          2,
          5,
          27,
          7,
          3,
          11,
          4,
          2,
          2,
          0,
          1,
          5,
          1,
          13,
          1,
          1,
          3,
          3,
          10,
          2,
          12,
          0,
          6
         ],
         "yaxis": "y"
        },
        {
         "alignmentgroup": "True",
         "hovertemplate": "oper=15<br>idTerminal=%{x}<br>count=%{y}<extra></extra>",
         "legendgroup": "15",
         "marker": {
          "color": "#FECB52",
          "pattern": {
           "shape": ""
          }
         },
         "name": "15",
         "offsetgroup": "15",
         "orientation": "v",
         "showlegend": true,
         "textposition": "auto",
         "type": "bar",
         "x": [
          "1774",
          "1908",
          "1964",
          "1910",
          "1980",
          "1741",
          "1593",
          "1824",
          "1864",
          "1946",
          "1896",
          "1944",
          "1805",
          "1575",
          "1746",
          "1828",
          "1577",
          "1987",
          "1971",
          "1996",
          "1827",
          "1919",
          "1922",
          "1772",
          "1963",
          "1981",
          "1928",
          "1929",
          "1994",
          "1991",
          "1882",
          "1759",
          "1537",
          "1582",
          "1574",
          "1875",
          "1973",
          "1995",
          "1594",
          "1816",
          "1953",
          "1597",
          "1993",
          "1997",
          "1986",
          "1507",
          "1515"
         ],
         "xaxis": "x",
         "y": [
          19,
          4,
          6,
          6,
          11,
          4,
          4,
          4,
          4,
          12,
          14,
          1,
          13,
          0,
          11,
          9,
          4,
          8,
          9,
          11,
          5,
          2,
          5,
          12,
          3,
          0,
          6,
          9,
          18,
          21,
          18,
          7,
          1,
          1,
          6,
          6,
          5,
          4,
          3,
          19,
          4,
          2,
          5,
          3,
          1,
          0,
          13
         ],
         "yaxis": "y"
        },
        {
         "alignmentgroup": "True",
         "hovertemplate": "oper=18<br>idTerminal=%{x}<br>count=%{y}<extra></extra>",
         "legendgroup": "18",
         "marker": {
          "color": "#636efa",
          "pattern": {
           "shape": ""
          }
         },
         "name": "18",
         "offsetgroup": "18",
         "orientation": "v",
         "showlegend": true,
         "textposition": "auto",
         "type": "bar",
         "x": [
          "1774",
          "1908",
          "1964",
          "1910",
          "1980",
          "1741",
          "1593",
          "1824",
          "1864",
          "1946",
          "1896",
          "1944",
          "1805",
          "1575",
          "1746",
          "1828",
          "1577",
          "1987",
          "1971",
          "1996",
          "1827",
          "1919",
          "1922",
          "1772",
          "1963",
          "1981",
          "1928",
          "1929",
          "1994",
          "1991",
          "1882",
          "1759",
          "1537",
          "1582",
          "1574",
          "1875",
          "1973",
          "1995",
          "1594",
          "1816",
          "1953",
          "1597",
          "1993",
          "1997",
          "1986",
          "1507",
          "1515"
         ],
         "xaxis": "x",
         "y": [
          2,
          3,
          3,
          6,
          0,
          0,
          4,
          0,
          6,
          13,
          13,
          7,
          0,
          6,
          11,
          11,
          29,
          7,
          8,
          22,
          10,
          1,
          11,
          5,
          11,
          1,
          0,
          5,
          3,
          5,
          0,
          24,
          0,
          9,
          6,
          19,
          3,
          4,
          13,
          0,
          0,
          7,
          2,
          0,
          8,
          0,
          2
         ],
         "yaxis": "y"
        },
        {
         "alignmentgroup": "True",
         "hovertemplate": "oper=25<br>idTerminal=%{x}<br>count=%{y}<extra></extra>",
         "legendgroup": "25",
         "marker": {
          "color": "#EF553B",
          "pattern": {
           "shape": ""
          }
         },
         "name": "25",
         "offsetgroup": "25",
         "orientation": "v",
         "showlegend": true,
         "textposition": "auto",
         "type": "bar",
         "x": [
          "1774",
          "1908",
          "1964",
          "1910",
          "1980",
          "1741",
          "1593",
          "1824",
          "1864",
          "1946",
          "1896",
          "1944",
          "1805",
          "1575",
          "1746",
          "1828",
          "1577",
          "1987",
          "1971",
          "1996",
          "1827",
          "1919",
          "1922",
          "1772",
          "1963",
          "1981",
          "1928",
          "1929",
          "1994",
          "1991",
          "1882",
          "1759",
          "1537",
          "1582",
          "1574",
          "1875",
          "1973",
          "1995",
          "1594",
          "1816",
          "1953",
          "1597",
          "1993",
          "1997",
          "1986",
          "1507",
          "1515"
         ],
         "xaxis": "x",
         "y": [
          6,
          13,
          6,
          5,
          3,
          2,
          15,
          4,
          11,
          21,
          1,
          10,
          11,
          2,
          8,
          5,
          5,
          6,
          5,
          2,
          0,
          12,
          7,
          3,
          0,
          6,
          11,
          5,
          5,
          2,
          3,
          6,
          1,
          5,
          1,
          1,
          4,
          7,
          3,
          7,
          1,
          1,
          4,
          1,
          3,
          2,
          0
         ],
         "yaxis": "y"
        },
        {
         "alignmentgroup": "True",
         "hovertemplate": "oper=11<br>idTerminal=%{x}<br>count=%{y}<extra></extra>",
         "legendgroup": "11",
         "marker": {
          "color": "#00cc96",
          "pattern": {
           "shape": ""
          }
         },
         "name": "11",
         "offsetgroup": "11",
         "orientation": "v",
         "showlegend": true,
         "textposition": "auto",
         "type": "bar",
         "x": [
          "1774",
          "1908",
          "1964",
          "1910",
          "1980",
          "1741",
          "1593",
          "1824",
          "1864",
          "1946",
          "1896",
          "1944",
          "1805",
          "1575",
          "1746",
          "1828",
          "1577",
          "1987",
          "1971",
          "1996",
          "1827",
          "1919",
          "1922",
          "1772",
          "1963",
          "1981",
          "1928",
          "1929",
          "1994",
          "1991",
          "1882",
          "1759",
          "1537",
          "1582",
          "1574",
          "1875",
          "1973",
          "1995",
          "1594",
          "1816",
          "1953",
          "1597",
          "1993",
          "1997",
          "1986",
          "1507",
          "1515"
         ],
         "xaxis": "x",
         "y": [
          11,
          0,
          5,
          19,
          2,
          0,
          5,
          3,
          7,
          5,
          26,
          1,
          0,
          1,
          2,
          8,
          10,
          5,
          4,
          17,
          3,
          4,
          8,
          4,
          1,
          0,
          0,
          10,
          2,
          0,
          2,
          2,
          6,
          10,
          1,
          1,
          3,
          2,
          1,
          5,
          7,
          2,
          4,
          0,
          0,
          0,
          1
         ],
         "yaxis": "y"
        },
        {
         "alignmentgroup": "True",
         "hovertemplate": "oper=28<br>idTerminal=%{x}<br>count=%{y}<extra></extra>",
         "legendgroup": "28",
         "marker": {
          "color": "#ab63fa",
          "pattern": {
           "shape": ""
          }
         },
         "name": "28",
         "offsetgroup": "28",
         "orientation": "v",
         "showlegend": true,
         "textposition": "auto",
         "type": "bar",
         "x": [
          "1774",
          "1908",
          "1964",
          "1910",
          "1980",
          "1741",
          "1593",
          "1824",
          "1864",
          "1946",
          "1896",
          "1944",
          "1805",
          "1575",
          "1746",
          "1828",
          "1577",
          "1987",
          "1971",
          "1996",
          "1827",
          "1919",
          "1922",
          "1772",
          "1963",
          "1981",
          "1928",
          "1929",
          "1994",
          "1991",
          "1882",
          "1759",
          "1537",
          "1582",
          "1574",
          "1875",
          "1973",
          "1995",
          "1594",
          "1816",
          "1953",
          "1597",
          "1993",
          "1997",
          "1986",
          "1507",
          "1515"
         ],
         "xaxis": "x",
         "y": [
          1,
          0,
          3,
          6,
          15,
          0,
          1,
          7,
          1,
          0,
          27,
          1,
          0,
          0,
          0,
          6,
          5,
          1,
          5,
          4,
          2,
          0,
          3,
          3,
          4,
          1,
          1,
          4,
          1,
          1,
          0,
          5,
          0,
          3,
          4,
          5,
          0,
          5,
          0,
          0,
          1,
          3,
          0,
          0,
          0,
          0,
          0
         ],
         "yaxis": "y"
        },
        {
         "alignmentgroup": "True",
         "hovertemplate": "oper=20<br>idTerminal=%{x}<br>count=%{y}<extra></extra>",
         "legendgroup": "20",
         "marker": {
          "color": "#FFA15A",
          "pattern": {
           "shape": ""
          }
         },
         "name": "20",
         "offsetgroup": "20",
         "orientation": "v",
         "showlegend": true,
         "textposition": "auto",
         "type": "bar",
         "x": [
          "1774",
          "1908",
          "1964",
          "1910",
          "1980",
          "1741",
          "1593",
          "1824",
          "1864",
          "1946",
          "1896",
          "1944",
          "1805",
          "1575",
          "1746",
          "1828",
          "1577",
          "1987",
          "1971",
          "1996",
          "1827",
          "1919",
          "1922",
          "1772",
          "1963",
          "1981",
          "1928",
          "1929",
          "1994",
          "1991",
          "1882",
          "1759",
          "1537",
          "1582",
          "1574",
          "1875",
          "1973",
          "1995",
          "1594",
          "1816",
          "1953",
          "1597",
          "1993",
          "1997",
          "1986",
          "1507",
          "1515"
         ],
         "xaxis": "x",
         "y": [
          7,
          0,
          0,
          12,
          1,
          0,
          0,
          0,
          0,
          0,
          17,
          1,
          1,
          0,
          0,
          3,
          11,
          2,
          1,
          9,
          1,
          1,
          1,
          1,
          3,
          0,
          0,
          1,
          1,
          2,
          0,
          0,
          0,
          2,
          2,
          4,
          2,
          3,
          1,
          2,
          0,
          6,
          5,
          0,
          0,
          0,
          0
         ],
         "yaxis": "y"
        },
        {
         "alignmentgroup": "True",
         "hovertemplate": "oper=24<br>idTerminal=%{x}<br>count=%{y}<extra></extra>",
         "legendgroup": "24",
         "marker": {
          "color": "#19d3f3",
          "pattern": {
           "shape": ""
          }
         },
         "name": "24",
         "offsetgroup": "24",
         "orientation": "v",
         "showlegend": true,
         "textposition": "auto",
         "type": "bar",
         "x": [
          "1774",
          "1908",
          "1964",
          "1910",
          "1980",
          "1741",
          "1593",
          "1824",
          "1864",
          "1946",
          "1896",
          "1944",
          "1805",
          "1575",
          "1746",
          "1828",
          "1577",
          "1987",
          "1971",
          "1996",
          "1827",
          "1919",
          "1922",
          "1772",
          "1963",
          "1981",
          "1928",
          "1929",
          "1994",
          "1991",
          "1882",
          "1759",
          "1537",
          "1582",
          "1574",
          "1875",
          "1973",
          "1995",
          "1594",
          "1816",
          "1953",
          "1597",
          "1993",
          "1997",
          "1986",
          "1507",
          "1515"
         ],
         "xaxis": "x",
         "y": [
          3,
          0,
          0,
          11,
          0,
          0,
          3,
          1,
          1,
          3,
          6,
          3,
          0,
          0,
          2,
          6,
          1,
          3,
          0,
          8,
          0,
          3,
          4,
          3,
          2,
          0,
          0,
          4,
          4,
          0,
          0,
          0,
          2,
          0,
          0,
          0,
          2,
          0,
          1,
          7,
          1,
          1,
          2,
          0,
          0,
          0,
          1
         ],
         "yaxis": "y"
        },
        {
         "alignmentgroup": "True",
         "hovertemplate": "oper=31<br>idTerminal=%{x}<br>count=%{y}<extra></extra>",
         "legendgroup": "31",
         "marker": {
          "color": "#FF6692",
          "pattern": {
           "shape": ""
          }
         },
         "name": "31",
         "offsetgroup": "31",
         "orientation": "v",
         "showlegend": true,
         "textposition": "auto",
         "type": "bar",
         "x": [
          "1774",
          "1908",
          "1964",
          "1910",
          "1980",
          "1741",
          "1593",
          "1824",
          "1864",
          "1946",
          "1896",
          "1944",
          "1805",
          "1575",
          "1746",
          "1828",
          "1577",
          "1987",
          "1971",
          "1996",
          "1827",
          "1919",
          "1922",
          "1772",
          "1963",
          "1981",
          "1928",
          "1929",
          "1994",
          "1991",
          "1882",
          "1759",
          "1537",
          "1582",
          "1574",
          "1875",
          "1973",
          "1995",
          "1594",
          "1816",
          "1953",
          "1597",
          "1993",
          "1997",
          "1986",
          "1507",
          "1515"
         ],
         "xaxis": "x",
         "y": [
          0,
          2,
          0,
          0,
          0,
          0,
          3,
          3,
          2,
          1,
          0,
          5,
          3,
          0,
          2,
          8,
          0,
          2,
          1,
          0,
          0,
          4,
          0,
          1,
          0,
          1,
          0,
          1,
          15,
          0,
          4,
          0,
          0,
          0,
          2,
          4,
          1,
          8,
          1,
          0,
          0,
          0,
          2,
          0,
          0,
          1,
          0
         ],
         "yaxis": "y"
        },
        {
         "alignmentgroup": "True",
         "hovertemplate": "oper=22<br>idTerminal=%{x}<br>count=%{y}<extra></extra>",
         "legendgroup": "22",
         "marker": {
          "color": "#B6E880",
          "pattern": {
           "shape": ""
          }
         },
         "name": "22",
         "offsetgroup": "22",
         "orientation": "v",
         "showlegend": true,
         "textposition": "auto",
         "type": "bar",
         "x": [
          "1774",
          "1908",
          "1964",
          "1910",
          "1980",
          "1741",
          "1593",
          "1824",
          "1864",
          "1946",
          "1896",
          "1944",
          "1805",
          "1575",
          "1746",
          "1828",
          "1577",
          "1987",
          "1971",
          "1996",
          "1827",
          "1919",
          "1922",
          "1772",
          "1963",
          "1981",
          "1928",
          "1929",
          "1994",
          "1991",
          "1882",
          "1759",
          "1537",
          "1582",
          "1574",
          "1875",
          "1973",
          "1995",
          "1594",
          "1816",
          "1953",
          "1597",
          "1993",
          "1997",
          "1986",
          "1507",
          "1515"
         ],
         "xaxis": "x",
         "y": [
          1,
          0,
          0,
          6,
          1,
          0,
          1,
          0,
          1,
          3,
          6,
          0,
          0,
          0,
          1,
          1,
          1,
          0,
          2,
          2,
          0,
          0,
          0,
          0,
          0,
          0,
          0,
          0,
          0,
          0,
          0,
          0,
          0,
          0,
          0,
          0,
          0,
          0,
          1,
          0,
          0,
          0,
          0,
          0,
          0,
          0,
          2
         ],
         "yaxis": "y"
        },
        {
         "alignmentgroup": "True",
         "hovertemplate": "oper=36<br>idTerminal=%{x}<br>count=%{y}<extra></extra>",
         "legendgroup": "36",
         "marker": {
          "color": "#FF97FF",
          "pattern": {
           "shape": ""
          }
         },
         "name": "36",
         "offsetgroup": "36",
         "orientation": "v",
         "showlegend": true,
         "textposition": "auto",
         "type": "bar",
         "x": [
          "1774",
          "1908",
          "1964",
          "1910",
          "1980",
          "1741",
          "1593",
          "1824",
          "1864",
          "1946",
          "1896",
          "1944",
          "1805",
          "1575",
          "1746",
          "1828",
          "1577",
          "1987",
          "1971",
          "1996",
          "1827",
          "1919",
          "1922",
          "1772",
          "1963",
          "1981",
          "1928",
          "1929",
          "1994",
          "1991",
          "1882",
          "1759",
          "1537",
          "1582",
          "1574",
          "1875",
          "1973",
          "1995",
          "1594",
          "1816",
          "1953",
          "1597",
          "1993",
          "1997",
          "1986",
          "1507",
          "1515"
         ],
         "xaxis": "x",
         "y": [
          1,
          0,
          1,
          3,
          1,
          0,
          0,
          0,
          0,
          1,
          4,
          0,
          0,
          0,
          1,
          2,
          2,
          2,
          0,
          0,
          0,
          0,
          1,
          1,
          1,
          0,
          0,
          1,
          1,
          0,
          0,
          0,
          0,
          2,
          2,
          0,
          0,
          0,
          1,
          0,
          0,
          0,
          0,
          0,
          0,
          0,
          0
         ],
         "yaxis": "y"
        },
        {
         "alignmentgroup": "True",
         "hovertemplate": "oper=34<br>idTerminal=%{x}<br>count=%{y}<extra></extra>",
         "legendgroup": "34",
         "marker": {
          "color": "#FECB52",
          "pattern": {
           "shape": ""
          }
         },
         "name": "34",
         "offsetgroup": "34",
         "orientation": "v",
         "showlegend": true,
         "textposition": "auto",
         "type": "bar",
         "x": [
          "1774",
          "1908",
          "1964",
          "1910",
          "1980",
          "1741",
          "1593",
          "1824",
          "1864",
          "1946",
          "1896",
          "1944",
          "1805",
          "1575",
          "1746",
          "1828",
          "1577",
          "1987",
          "1971",
          "1996",
          "1827",
          "1919",
          "1922",
          "1772",
          "1963",
          "1981",
          "1928",
          "1929",
          "1994",
          "1991",
          "1882",
          "1759",
          "1537",
          "1582",
          "1574",
          "1875",
          "1973",
          "1995",
          "1594",
          "1816",
          "1953",
          "1597",
          "1993",
          "1997",
          "1986",
          "1507",
          "1515"
         ],
         "xaxis": "x",
         "y": [
          0,
          0,
          0,
          0,
          0,
          0,
          0,
          0,
          0,
          1,
          2,
          0,
          0,
          0,
          0,
          2,
          0,
          0,
          0,
          0,
          0,
          2,
          0,
          0,
          1,
          1,
          0,
          0,
          0,
          3,
          0,
          3,
          0,
          2,
          3,
          2,
          0,
          0,
          2,
          0,
          0,
          2,
          2,
          0,
          0,
          0,
          0
         ],
         "yaxis": "y"
        },
        {
         "alignmentgroup": "True",
         "hovertemplate": "oper=29<br>idTerminal=%{x}<br>count=%{y}<extra></extra>",
         "legendgroup": "29",
         "marker": {
          "color": "#636efa",
          "pattern": {
           "shape": ""
          }
         },
         "name": "29",
         "offsetgroup": "29",
         "orientation": "v",
         "showlegend": true,
         "textposition": "auto",
         "type": "bar",
         "x": [
          "1774",
          "1908",
          "1964",
          "1910",
          "1980",
          "1741",
          "1593",
          "1824",
          "1864",
          "1946",
          "1896",
          "1944",
          "1805",
          "1575",
          "1746",
          "1828",
          "1577",
          "1987",
          "1971",
          "1996",
          "1827",
          "1919",
          "1922",
          "1772",
          "1963",
          "1981",
          "1928",
          "1929",
          "1994",
          "1991",
          "1882",
          "1759",
          "1537",
          "1582",
          "1574",
          "1875",
          "1973",
          "1995",
          "1594",
          "1816",
          "1953",
          "1597",
          "1993",
          "1997",
          "1986",
          "1507",
          "1515"
         ],
         "xaxis": "x",
         "y": [
          0,
          0,
          1,
          0,
          0,
          1,
          0,
          0,
          0,
          0,
          2,
          0,
          0,
          0,
          1,
          0,
          0,
          2,
          0,
          0,
          0,
          0,
          0,
          2,
          2,
          1,
          0,
          0,
          0,
          0,
          1,
          0,
          0,
          0,
          0,
          1,
          0,
          2,
          2,
          0,
          0,
          0,
          2,
          0,
          0,
          3,
          0
         ],
         "yaxis": "y"
        },
        {
         "alignmentgroup": "True",
         "hovertemplate": "oper=17<br>idTerminal=%{x}<br>count=%{y}<extra></extra>",
         "legendgroup": "17",
         "marker": {
          "color": "#EF553B",
          "pattern": {
           "shape": ""
          }
         },
         "name": "17",
         "offsetgroup": "17",
         "orientation": "v",
         "showlegend": true,
         "textposition": "auto",
         "type": "bar",
         "x": [
          "1774",
          "1908",
          "1964",
          "1910",
          "1980",
          "1741",
          "1593",
          "1824",
          "1864",
          "1946",
          "1896",
          "1944",
          "1805",
          "1575",
          "1746",
          "1828",
          "1577",
          "1987",
          "1971",
          "1996",
          "1827",
          "1919",
          "1922",
          "1772",
          "1963",
          "1981",
          "1928",
          "1929",
          "1994",
          "1991",
          "1882",
          "1759",
          "1537",
          "1582",
          "1574",
          "1875",
          "1973",
          "1995",
          "1594",
          "1816",
          "1953",
          "1597",
          "1993",
          "1997",
          "1986",
          "1507",
          "1515"
         ],
         "xaxis": "x",
         "y": [
          1,
          0,
          1,
          0,
          0,
          0,
          0,
          0,
          2,
          0,
          2,
          0,
          0,
          0,
          1,
          1,
          1,
          1,
          1,
          2,
          0,
          0,
          2,
          0,
          0,
          0,
          0,
          1,
          0,
          0,
          0,
          3,
          0,
          0,
          1,
          0,
          0,
          1,
          1,
          0,
          0,
          1,
          0,
          0,
          0,
          0,
          0
         ],
         "yaxis": "y"
        },
        {
         "alignmentgroup": "True",
         "hovertemplate": "oper=39<br>idTerminal=%{x}<br>count=%{y}<extra></extra>",
         "legendgroup": "39",
         "marker": {
          "color": "#00cc96",
          "pattern": {
           "shape": ""
          }
         },
         "name": "39",
         "offsetgroup": "39",
         "orientation": "v",
         "showlegend": true,
         "textposition": "auto",
         "type": "bar",
         "x": [
          "1774",
          "1908",
          "1964",
          "1910",
          "1980",
          "1741",
          "1593",
          "1824",
          "1864",
          "1946",
          "1896",
          "1944",
          "1805",
          "1575",
          "1746",
          "1828",
          "1577",
          "1987",
          "1971",
          "1996",
          "1827",
          "1919",
          "1922",
          "1772",
          "1963",
          "1981",
          "1928",
          "1929",
          "1994",
          "1991",
          "1882",
          "1759",
          "1537",
          "1582",
          "1574",
          "1875",
          "1973",
          "1995",
          "1594",
          "1816",
          "1953",
          "1597",
          "1993",
          "1997",
          "1986",
          "1507",
          "1515"
         ],
         "xaxis": "x",
         "y": [
          1,
          1,
          0,
          0,
          0,
          0,
          0,
          1,
          0,
          0,
          0,
          0,
          1,
          0,
          0,
          1,
          0,
          0,
          0,
          2,
          0,
          1,
          0,
          0,
          0,
          0,
          0,
          0,
          9,
          0,
          0,
          1,
          0,
          0,
          0,
          0,
          0,
          0,
          0,
          0,
          0,
          0,
          0,
          0,
          0,
          0,
          0
         ],
         "yaxis": "y"
        },
        {
         "alignmentgroup": "True",
         "hovertemplate": "oper=32<br>idTerminal=%{x}<br>count=%{y}<extra></extra>",
         "legendgroup": "32",
         "marker": {
          "color": "#ab63fa",
          "pattern": {
           "shape": ""
          }
         },
         "name": "32",
         "offsetgroup": "32",
         "orientation": "v",
         "showlegend": true,
         "textposition": "auto",
         "type": "bar",
         "x": [
          "1774",
          "1908",
          "1964",
          "1910",
          "1980",
          "1741",
          "1593",
          "1824",
          "1864",
          "1946",
          "1896",
          "1944",
          "1805",
          "1575",
          "1746",
          "1828",
          "1577",
          "1987",
          "1971",
          "1996",
          "1827",
          "1919",
          "1922",
          "1772",
          "1963",
          "1981",
          "1928",
          "1929",
          "1994",
          "1991",
          "1882",
          "1759",
          "1537",
          "1582",
          "1574",
          "1875",
          "1973",
          "1995",
          "1594",
          "1816",
          "1953",
          "1597",
          "1993",
          "1997",
          "1986",
          "1507",
          "1515"
         ],
         "xaxis": "x",
         "y": [
          1,
          1,
          0,
          0,
          0,
          0,
          0,
          0,
          0,
          0,
          6,
          0,
          0,
          0,
          0,
          0,
          2,
          0,
          0,
          2,
          1,
          4,
          0,
          1,
          0,
          0,
          0,
          0,
          0,
          0,
          0,
          0,
          0,
          0,
          0,
          0,
          0,
          0,
          0,
          0,
          0,
          0,
          0,
          0,
          0,
          0,
          0
         ],
         "yaxis": "y"
        },
        {
         "alignmentgroup": "True",
         "hovertemplate": "oper=38<br>idTerminal=%{x}<br>count=%{y}<extra></extra>",
         "legendgroup": "38",
         "marker": {
          "color": "#FFA15A",
          "pattern": {
           "shape": ""
          }
         },
         "name": "38",
         "offsetgroup": "38",
         "orientation": "v",
         "showlegend": true,
         "textposition": "auto",
         "type": "bar",
         "x": [
          "1774",
          "1908",
          "1964",
          "1910",
          "1980",
          "1741",
          "1593",
          "1824",
          "1864",
          "1946",
          "1896",
          "1944",
          "1805",
          "1575",
          "1746",
          "1828",
          "1577",
          "1987",
          "1971",
          "1996",
          "1827",
          "1919",
          "1922",
          "1772",
          "1963",
          "1981",
          "1928",
          "1929",
          "1994",
          "1991",
          "1882",
          "1759",
          "1537",
          "1582",
          "1574",
          "1875",
          "1973",
          "1995",
          "1594",
          "1816",
          "1953",
          "1597",
          "1993",
          "1997",
          "1986",
          "1507",
          "1515"
         ],
         "xaxis": "x",
         "y": [
          0,
          0,
          0,
          0,
          0,
          0,
          0,
          0,
          0,
          0,
          0,
          0,
          0,
          0,
          0,
          0,
          2,
          2,
          2,
          6,
          0,
          0,
          0,
          0,
          0,
          0,
          0,
          0,
          0,
          0,
          0,
          0,
          0,
          0,
          2,
          0,
          1,
          0,
          0,
          0,
          0,
          0,
          0,
          2,
          0,
          0,
          0
         ],
         "yaxis": "y"
        },
        {
         "alignmentgroup": "True",
         "hovertemplate": "oper=35<br>idTerminal=%{x}<br>count=%{y}<extra></extra>",
         "legendgroup": "35",
         "marker": {
          "color": "#19d3f3",
          "pattern": {
           "shape": ""
          }
         },
         "name": "35",
         "offsetgroup": "35",
         "orientation": "v",
         "showlegend": true,
         "textposition": "auto",
         "type": "bar",
         "x": [
          "1774",
          "1908",
          "1964",
          "1910",
          "1980",
          "1741",
          "1593",
          "1824",
          "1864",
          "1946",
          "1896",
          "1944",
          "1805",
          "1575",
          "1746",
          "1828",
          "1577",
          "1987",
          "1971",
          "1996",
          "1827",
          "1919",
          "1922",
          "1772",
          "1963",
          "1981",
          "1928",
          "1929",
          "1994",
          "1991",
          "1882",
          "1759",
          "1537",
          "1582",
          "1574",
          "1875",
          "1973",
          "1995",
          "1594",
          "1816",
          "1953",
          "1597",
          "1993",
          "1997",
          "1986",
          "1507",
          "1515"
         ],
         "xaxis": "x",
         "y": [
          0,
          0,
          1,
          5,
          0,
          0,
          0,
          0,
          0,
          0,
          3,
          0,
          0,
          0,
          1,
          0,
          1,
          0,
          0,
          0,
          0,
          0,
          1,
          0,
          1,
          0,
          0,
          0,
          1,
          0,
          0,
          0,
          1,
          0,
          0,
          0,
          0,
          0,
          0,
          0,
          0,
          0,
          1,
          0,
          0,
          0,
          0
         ],
         "yaxis": "y"
        },
        {
         "alignmentgroup": "True",
         "hovertemplate": "oper=41<br>idTerminal=%{x}<br>count=%{y}<extra></extra>",
         "legendgroup": "41",
         "marker": {
          "color": "#FF6692",
          "pattern": {
           "shape": ""
          }
         },
         "name": "41",
         "offsetgroup": "41",
         "orientation": "v",
         "showlegend": true,
         "textposition": "auto",
         "type": "bar",
         "x": [
          "1774",
          "1908",
          "1964",
          "1910",
          "1980",
          "1741",
          "1593",
          "1824",
          "1864",
          "1946",
          "1896",
          "1944",
          "1805",
          "1575",
          "1746",
          "1828",
          "1577",
          "1987",
          "1971",
          "1996",
          "1827",
          "1919",
          "1922",
          "1772",
          "1963",
          "1981",
          "1928",
          "1929",
          "1994",
          "1991",
          "1882",
          "1759",
          "1537",
          "1582",
          "1574",
          "1875",
          "1973",
          "1995",
          "1594",
          "1816",
          "1953",
          "1597",
          "1993",
          "1997",
          "1986",
          "1507",
          "1515"
         ],
         "xaxis": "x",
         "y": [
          1,
          1,
          0,
          2,
          0,
          0,
          0,
          0,
          1,
          0,
          1,
          0,
          0,
          0,
          0,
          0,
          2,
          0,
          0,
          0,
          0,
          6,
          0,
          0,
          0,
          0,
          0,
          0,
          0,
          1,
          0,
          0,
          0,
          0,
          0,
          0,
          0,
          0,
          1,
          0,
          0,
          0,
          0,
          0,
          0,
          0,
          0
         ],
         "yaxis": "y"
        },
        {
         "alignmentgroup": "True",
         "hovertemplate": "oper=27<br>idTerminal=%{x}<br>count=%{y}<extra></extra>",
         "legendgroup": "27",
         "marker": {
          "color": "#B6E880",
          "pattern": {
           "shape": ""
          }
         },
         "name": "27",
         "offsetgroup": "27",
         "orientation": "v",
         "showlegend": true,
         "textposition": "auto",
         "type": "bar",
         "x": [
          "1774",
          "1908",
          "1964",
          "1910",
          "1980",
          "1741",
          "1593",
          "1824",
          "1864",
          "1946",
          "1896",
          "1944",
          "1805",
          "1575",
          "1746",
          "1828",
          "1577",
          "1987",
          "1971",
          "1996",
          "1827",
          "1919",
          "1922",
          "1772",
          "1963",
          "1981",
          "1928",
          "1929",
          "1994",
          "1991",
          "1882",
          "1759",
          "1537",
          "1582",
          "1574",
          "1875",
          "1973",
          "1995",
          "1594",
          "1816",
          "1953",
          "1597",
          "1993",
          "1997",
          "1986",
          "1507",
          "1515"
         ],
         "xaxis": "x",
         "y": [
          0,
          0,
          0,
          0,
          0,
          0,
          1,
          1,
          0,
          0,
          3,
          0,
          0,
          1,
          0,
          0,
          0,
          1,
          0,
          1,
          0,
          0,
          0,
          0,
          0,
          0,
          0,
          0,
          0,
          0,
          0,
          0,
          0,
          1,
          0,
          0,
          0,
          0,
          3,
          0,
          0,
          0,
          0,
          0,
          0,
          0,
          0
         ],
         "yaxis": "y"
        },
        {
         "alignmentgroup": "True",
         "hovertemplate": "oper=40<br>idTerminal=%{x}<br>count=%{y}<extra></extra>",
         "legendgroup": "40",
         "marker": {
          "color": "#FF97FF",
          "pattern": {
           "shape": ""
          }
         },
         "name": "40",
         "offsetgroup": "40",
         "orientation": "v",
         "showlegend": true,
         "textposition": "auto",
         "type": "bar",
         "x": [
          "1774",
          "1908",
          "1964",
          "1910",
          "1980",
          "1741",
          "1593",
          "1824",
          "1864",
          "1946",
          "1896",
          "1944",
          "1805",
          "1575",
          "1746",
          "1828",
          "1577",
          "1987",
          "1971",
          "1996",
          "1827",
          "1919",
          "1922",
          "1772",
          "1963",
          "1981",
          "1928",
          "1929",
          "1994",
          "1991",
          "1882",
          "1759",
          "1537",
          "1582",
          "1574",
          "1875",
          "1973",
          "1995",
          "1594",
          "1816",
          "1953",
          "1597",
          "1993",
          "1997",
          "1986",
          "1507",
          "1515"
         ],
         "xaxis": "x",
         "y": [
          0,
          0,
          0,
          0,
          0,
          0,
          0,
          0,
          0,
          0,
          1,
          0,
          0,
          0,
          0,
          0,
          2,
          0,
          0,
          1,
          0,
          2,
          0,
          0,
          0,
          0,
          0,
          0,
          0,
          0,
          0,
          0,
          0,
          0,
          0,
          0,
          0,
          0,
          0,
          0,
          0,
          0,
          0,
          0,
          0,
          0,
          0
         ],
         "yaxis": "y"
        },
        {
         "alignmentgroup": "True",
         "hovertemplate": "oper=42<br>idTerminal=%{x}<br>count=%{y}<extra></extra>",
         "legendgroup": "42",
         "marker": {
          "color": "#FECB52",
          "pattern": {
           "shape": ""
          }
         },
         "name": "42",
         "offsetgroup": "42",
         "orientation": "v",
         "showlegend": true,
         "textposition": "auto",
         "type": "bar",
         "x": [
          "1774",
          "1908",
          "1964",
          "1910",
          "1980",
          "1741",
          "1593",
          "1824",
          "1864",
          "1946",
          "1896",
          "1944",
          "1805",
          "1575",
          "1746",
          "1828",
          "1577",
          "1987",
          "1971",
          "1996",
          "1827",
          "1919",
          "1922",
          "1772",
          "1963",
          "1981",
          "1928",
          "1929",
          "1994",
          "1991",
          "1882",
          "1759",
          "1537",
          "1582",
          "1574",
          "1875",
          "1973",
          "1995",
          "1594",
          "1816",
          "1953",
          "1597",
          "1993",
          "1997",
          "1986",
          "1507",
          "1515"
         ],
         "xaxis": "x",
         "y": [
          0,
          0,
          0,
          0,
          0,
          0,
          0,
          0,
          0,
          0,
          0,
          0,
          0,
          0,
          0,
          0,
          0,
          0,
          0,
          0,
          0,
          0,
          0,
          0,
          0,
          0,
          0,
          0,
          0,
          1,
          0,
          0,
          0,
          0,
          2,
          2,
          0,
          0,
          1,
          0,
          0,
          0,
          0,
          0,
          0,
          0,
          0
         ],
         "yaxis": "y"
        },
        {
         "alignmentgroup": "True",
         "hovertemplate": "oper=37<br>idTerminal=%{x}<br>count=%{y}<extra></extra>",
         "legendgroup": "37",
         "marker": {
          "color": "#636efa",
          "pattern": {
           "shape": ""
          }
         },
         "name": "37",
         "offsetgroup": "37",
         "orientation": "v",
         "showlegend": true,
         "textposition": "auto",
         "type": "bar",
         "x": [
          "1774",
          "1908",
          "1964",
          "1910",
          "1980",
          "1741",
          "1593",
          "1824",
          "1864",
          "1946",
          "1896",
          "1944",
          "1805",
          "1575",
          "1746",
          "1828",
          "1577",
          "1987",
          "1971",
          "1996",
          "1827",
          "1919",
          "1922",
          "1772",
          "1963",
          "1981",
          "1928",
          "1929",
          "1994",
          "1991",
          "1882",
          "1759",
          "1537",
          "1582",
          "1574",
          "1875",
          "1973",
          "1995",
          "1594",
          "1816",
          "1953",
          "1597",
          "1993",
          "1997",
          "1986",
          "1507",
          "1515"
         ],
         "xaxis": "x",
         "y": [
          0,
          0,
          0,
          0,
          0,
          0,
          0,
          0,
          0,
          0,
          0,
          0,
          0,
          0,
          0,
          0,
          0,
          0,
          0,
          0,
          0,
          0,
          0,
          0,
          0,
          0,
          0,
          1,
          0,
          2,
          0,
          1,
          0,
          0,
          0,
          0,
          1,
          0,
          0,
          0,
          0,
          0,
          0,
          0,
          0,
          0,
          0
         ],
         "yaxis": "y"
        },
        {
         "alignmentgroup": "True",
         "hovertemplate": "oper=30<br>idTerminal=%{x}<br>count=%{y}<extra></extra>",
         "legendgroup": "30",
         "marker": {
          "color": "#EF553B",
          "pattern": {
           "shape": ""
          }
         },
         "name": "30",
         "offsetgroup": "30",
         "orientation": "v",
         "showlegend": true,
         "textposition": "auto",
         "type": "bar",
         "x": [
          "1774",
          "1908",
          "1964",
          "1910",
          "1980",
          "1741",
          "1593",
          "1824",
          "1864",
          "1946",
          "1896",
          "1944",
          "1805",
          "1575",
          "1746",
          "1828",
          "1577",
          "1987",
          "1971",
          "1996",
          "1827",
          "1919",
          "1922",
          "1772",
          "1963",
          "1981",
          "1928",
          "1929",
          "1994",
          "1991",
          "1882",
          "1759",
          "1537",
          "1582",
          "1574",
          "1875",
          "1973",
          "1995",
          "1594",
          "1816",
          "1953",
          "1597",
          "1993",
          "1997",
          "1986",
          "1507",
          "1515"
         ],
         "xaxis": "x",
         "y": [
          0,
          0,
          0,
          0,
          3,
          0,
          0,
          0,
          0,
          0,
          0,
          0,
          0,
          0,
          0,
          0,
          0,
          0,
          0,
          0,
          0,
          0,
          0,
          0,
          0,
          0,
          0,
          0,
          1,
          0,
          0,
          0,
          0,
          0,
          0,
          0,
          0,
          0,
          0,
          0,
          0,
          0,
          0,
          0,
          0,
          0,
          0
         ],
         "yaxis": "y"
        },
        {
         "alignmentgroup": "True",
         "hovertemplate": "oper=43<br>idTerminal=%{x}<br>count=%{y}<extra></extra>",
         "legendgroup": "43",
         "marker": {
          "color": "#00cc96",
          "pattern": {
           "shape": ""
          }
         },
         "name": "43",
         "offsetgroup": "43",
         "orientation": "v",
         "showlegend": true,
         "textposition": "auto",
         "type": "bar",
         "x": [
          "1774",
          "1908",
          "1964",
          "1910",
          "1980",
          "1741",
          "1593",
          "1824",
          "1864",
          "1946",
          "1896",
          "1944",
          "1805",
          "1575",
          "1746",
          "1828",
          "1577",
          "1987",
          "1971",
          "1996",
          "1827",
          "1919",
          "1922",
          "1772",
          "1963",
          "1981",
          "1928",
          "1929",
          "1994",
          "1991",
          "1882",
          "1759",
          "1537",
          "1582",
          "1574",
          "1875",
          "1973",
          "1995",
          "1594",
          "1816",
          "1953",
          "1597",
          "1993",
          "1997",
          "1986",
          "1507",
          "1515"
         ],
         "xaxis": "x",
         "y": [
          0,
          0,
          1,
          0,
          0,
          0,
          0,
          0,
          0,
          0,
          0,
          0,
          0,
          0,
          0,
          0,
          0,
          0,
          0,
          1,
          0,
          0,
          0,
          0,
          0,
          0,
          0,
          0,
          0,
          0,
          0,
          0,
          0,
          0,
          0,
          0,
          0,
          0,
          0,
          0,
          1,
          0,
          0,
          0,
          0,
          0,
          0
         ],
         "yaxis": "y"
        },
        {
         "alignmentgroup": "True",
         "hovertemplate": "oper=44<br>idTerminal=%{x}<br>count=%{y}<extra></extra>",
         "legendgroup": "44",
         "marker": {
          "color": "#ab63fa",
          "pattern": {
           "shape": ""
          }
         },
         "name": "44",
         "offsetgroup": "44",
         "orientation": "v",
         "showlegend": true,
         "textposition": "auto",
         "type": "bar",
         "x": [
          "1774",
          "1908",
          "1964",
          "1910",
          "1980",
          "1741",
          "1593",
          "1824",
          "1864",
          "1946",
          "1896",
          "1944",
          "1805",
          "1575",
          "1746",
          "1828",
          "1577",
          "1987",
          "1971",
          "1996",
          "1827",
          "1919",
          "1922",
          "1772",
          "1963",
          "1981",
          "1928",
          "1929",
          "1994",
          "1991",
          "1882",
          "1759",
          "1537",
          "1582",
          "1574",
          "1875",
          "1973",
          "1995",
          "1594",
          "1816",
          "1953",
          "1597",
          "1993",
          "1997",
          "1986",
          "1507",
          "1515"
         ],
         "xaxis": "x",
         "y": [
          1,
          0,
          0,
          1,
          0,
          0,
          0,
          0,
          0,
          0,
          0,
          0,
          0,
          0,
          0,
          1,
          0,
          0,
          0,
          0,
          0,
          0,
          0,
          0,
          0,
          0,
          0,
          0,
          0,
          0,
          0,
          0,
          0,
          0,
          0,
          0,
          0,
          0,
          0,
          0,
          0,
          0,
          0,
          0,
          0,
          0,
          0
         ],
         "yaxis": "y"
        },
        {
         "alignmentgroup": "True",
         "hovertemplate": "oper=33<br>idTerminal=%{x}<br>count=%{y}<extra></extra>",
         "legendgroup": "33",
         "marker": {
          "color": "#FFA15A",
          "pattern": {
           "shape": ""
          }
         },
         "name": "33",
         "offsetgroup": "33",
         "orientation": "v",
         "showlegend": true,
         "textposition": "auto",
         "type": "bar",
         "x": [
          "1774",
          "1908",
          "1964",
          "1910",
          "1980",
          "1741",
          "1593",
          "1824",
          "1864",
          "1946",
          "1896",
          "1944",
          "1805",
          "1575",
          "1746",
          "1828",
          "1577",
          "1987",
          "1971",
          "1996",
          "1827",
          "1919",
          "1922",
          "1772",
          "1963",
          "1981",
          "1928",
          "1929",
          "1994",
          "1991",
          "1882",
          "1759",
          "1537",
          "1582",
          "1574",
          "1875",
          "1973",
          "1995",
          "1594",
          "1816",
          "1953",
          "1597",
          "1993",
          "1997",
          "1986",
          "1507",
          "1515"
         ],
         "xaxis": "x",
         "y": [
          0,
          1,
          0,
          0,
          0,
          0,
          0,
          0,
          0,
          0,
          0,
          0,
          0,
          0,
          0,
          0,
          0,
          0,
          0,
          0,
          0,
          0,
          0,
          0,
          0,
          0,
          0,
          0,
          0,
          0,
          0,
          0,
          0,
          0,
          0,
          0,
          0,
          0,
          0,
          0,
          0,
          0,
          0,
          0,
          0,
          0,
          0
         ],
         "yaxis": "y"
        },
        {
         "alignmentgroup": "True",
         "hovertemplate": "oper=45<br>idTerminal=%{x}<br>count=%{y}<extra></extra>",
         "legendgroup": "45",
         "marker": {
          "color": "#19d3f3",
          "pattern": {
           "shape": ""
          }
         },
         "name": "45",
         "offsetgroup": "45",
         "orientation": "v",
         "showlegend": true,
         "textposition": "auto",
         "type": "bar",
         "x": [
          "1774",
          "1908",
          "1964",
          "1910",
          "1980",
          "1741",
          "1593",
          "1824",
          "1864",
          "1946",
          "1896",
          "1944",
          "1805",
          "1575",
          "1746",
          "1828",
          "1577",
          "1987",
          "1971",
          "1996",
          "1827",
          "1919",
          "1922",
          "1772",
          "1963",
          "1981",
          "1928",
          "1929",
          "1994",
          "1991",
          "1882",
          "1759",
          "1537",
          "1582",
          "1574",
          "1875",
          "1973",
          "1995",
          "1594",
          "1816",
          "1953",
          "1597",
          "1993",
          "1997",
          "1986",
          "1507",
          "1515"
         ],
         "xaxis": "x",
         "y": [
          0,
          0,
          0,
          0,
          0,
          0,
          0,
          0,
          0,
          0,
          0,
          0,
          0,
          0,
          0,
          0,
          0,
          0,
          0,
          0,
          0,
          0,
          0,
          0,
          0,
          0,
          0,
          0,
          0,
          0,
          0,
          0,
          0,
          0,
          0,
          0,
          1,
          0,
          0,
          0,
          0,
          0,
          0,
          0,
          0,
          0,
          0
         ],
         "yaxis": "y"
        }
       ],
       "layout": {
        "barmode": "stack",
        "legend": {
         "title": {
          "text": "oper"
         },
         "tracegroupgap": 0
        },
        "template": {
         "data": {
          "bar": [
           {
            "error_x": {
             "color": "#2a3f5f"
            },
            "error_y": {
             "color": "#2a3f5f"
            },
            "marker": {
             "line": {
              "color": "#E5ECF6",
              "width": 0.5
             },
             "pattern": {
              "fillmode": "overlay",
              "size": 10,
              "solidity": 0.2
             }
            },
            "type": "bar"
           }
          ],
          "barpolar": [
           {
            "marker": {
             "line": {
              "color": "#E5ECF6",
              "width": 0.5
             },
             "pattern": {
              "fillmode": "overlay",
              "size": 10,
              "solidity": 0.2
             }
            },
            "type": "barpolar"
           }
          ],
          "carpet": [
           {
            "aaxis": {
             "endlinecolor": "#2a3f5f",
             "gridcolor": "white",
             "linecolor": "white",
             "minorgridcolor": "white",
             "startlinecolor": "#2a3f5f"
            },
            "baxis": {
             "endlinecolor": "#2a3f5f",
             "gridcolor": "white",
             "linecolor": "white",
             "minorgridcolor": "white",
             "startlinecolor": "#2a3f5f"
            },
            "type": "carpet"
           }
          ],
          "choropleth": [
           {
            "colorbar": {
             "outlinewidth": 0,
             "ticks": ""
            },
            "type": "choropleth"
           }
          ],
          "contour": [
           {
            "colorbar": {
             "outlinewidth": 0,
             "ticks": ""
            },
            "colorscale": [
             [
              0,
              "#0d0887"
             ],
             [
              0.1111111111111111,
              "#46039f"
             ],
             [
              0.2222222222222222,
              "#7201a8"
             ],
             [
              0.3333333333333333,
              "#9c179e"
             ],
             [
              0.4444444444444444,
              "#bd3786"
             ],
             [
              0.5555555555555556,
              "#d8576b"
             ],
             [
              0.6666666666666666,
              "#ed7953"
             ],
             [
              0.7777777777777778,
              "#fb9f3a"
             ],
             [
              0.8888888888888888,
              "#fdca26"
             ],
             [
              1,
              "#f0f921"
             ]
            ],
            "type": "contour"
           }
          ],
          "contourcarpet": [
           {
            "colorbar": {
             "outlinewidth": 0,
             "ticks": ""
            },
            "type": "contourcarpet"
           }
          ],
          "heatmap": [
           {
            "colorbar": {
             "outlinewidth": 0,
             "ticks": ""
            },
            "colorscale": [
             [
              0,
              "#0d0887"
             ],
             [
              0.1111111111111111,
              "#46039f"
             ],
             [
              0.2222222222222222,
              "#7201a8"
             ],
             [
              0.3333333333333333,
              "#9c179e"
             ],
             [
              0.4444444444444444,
              "#bd3786"
             ],
             [
              0.5555555555555556,
              "#d8576b"
             ],
             [
              0.6666666666666666,
              "#ed7953"
             ],
             [
              0.7777777777777778,
              "#fb9f3a"
             ],
             [
              0.8888888888888888,
              "#fdca26"
             ],
             [
              1,
              "#f0f921"
             ]
            ],
            "type": "heatmap"
           }
          ],
          "heatmapgl": [
           {
            "colorbar": {
             "outlinewidth": 0,
             "ticks": ""
            },
            "colorscale": [
             [
              0,
              "#0d0887"
             ],
             [
              0.1111111111111111,
              "#46039f"
             ],
             [
              0.2222222222222222,
              "#7201a8"
             ],
             [
              0.3333333333333333,
              "#9c179e"
             ],
             [
              0.4444444444444444,
              "#bd3786"
             ],
             [
              0.5555555555555556,
              "#d8576b"
             ],
             [
              0.6666666666666666,
              "#ed7953"
             ],
             [
              0.7777777777777778,
              "#fb9f3a"
             ],
             [
              0.8888888888888888,
              "#fdca26"
             ],
             [
              1,
              "#f0f921"
             ]
            ],
            "type": "heatmapgl"
           }
          ],
          "histogram": [
           {
            "marker": {
             "pattern": {
              "fillmode": "overlay",
              "size": 10,
              "solidity": 0.2
             }
            },
            "type": "histogram"
           }
          ],
          "histogram2d": [
           {
            "colorbar": {
             "outlinewidth": 0,
             "ticks": ""
            },
            "colorscale": [
             [
              0,
              "#0d0887"
             ],
             [
              0.1111111111111111,
              "#46039f"
             ],
             [
              0.2222222222222222,
              "#7201a8"
             ],
             [
              0.3333333333333333,
              "#9c179e"
             ],
             [
              0.4444444444444444,
              "#bd3786"
             ],
             [
              0.5555555555555556,
              "#d8576b"
             ],
             [
              0.6666666666666666,
              "#ed7953"
             ],
             [
              0.7777777777777778,
              "#fb9f3a"
             ],
             [
              0.8888888888888888,
              "#fdca26"
             ],
             [
              1,
              "#f0f921"
             ]
            ],
            "type": "histogram2d"
           }
          ],
          "histogram2dcontour": [
           {
            "colorbar": {
             "outlinewidth": 0,
             "ticks": ""
            },
            "colorscale": [
             [
              0,
              "#0d0887"
             ],
             [
              0.1111111111111111,
              "#46039f"
             ],
             [
              0.2222222222222222,
              "#7201a8"
             ],
             [
              0.3333333333333333,
              "#9c179e"
             ],
             [
              0.4444444444444444,
              "#bd3786"
             ],
             [
              0.5555555555555556,
              "#d8576b"
             ],
             [
              0.6666666666666666,
              "#ed7953"
             ],
             [
              0.7777777777777778,
              "#fb9f3a"
             ],
             [
              0.8888888888888888,
              "#fdca26"
             ],
             [
              1,
              "#f0f921"
             ]
            ],
            "type": "histogram2dcontour"
           }
          ],
          "mesh3d": [
           {
            "colorbar": {
             "outlinewidth": 0,
             "ticks": ""
            },
            "type": "mesh3d"
           }
          ],
          "parcoords": [
           {
            "line": {
             "colorbar": {
              "outlinewidth": 0,
              "ticks": ""
             }
            },
            "type": "parcoords"
           }
          ],
          "pie": [
           {
            "automargin": true,
            "type": "pie"
           }
          ],
          "scatter": [
           {
            "fillpattern": {
             "fillmode": "overlay",
             "size": 10,
             "solidity": 0.2
            },
            "type": "scatter"
           }
          ],
          "scatter3d": [
           {
            "line": {
             "colorbar": {
              "outlinewidth": 0,
              "ticks": ""
             }
            },
            "marker": {
             "colorbar": {
              "outlinewidth": 0,
              "ticks": ""
             }
            },
            "type": "scatter3d"
           }
          ],
          "scattercarpet": [
           {
            "marker": {
             "colorbar": {
              "outlinewidth": 0,
              "ticks": ""
             }
            },
            "type": "scattercarpet"
           }
          ],
          "scattergeo": [
           {
            "marker": {
             "colorbar": {
              "outlinewidth": 0,
              "ticks": ""
             }
            },
            "type": "scattergeo"
           }
          ],
          "scattergl": [
           {
            "marker": {
             "colorbar": {
              "outlinewidth": 0,
              "ticks": ""
             }
            },
            "type": "scattergl"
           }
          ],
          "scattermapbox": [
           {
            "marker": {
             "colorbar": {
              "outlinewidth": 0,
              "ticks": ""
             }
            },
            "type": "scattermapbox"
           }
          ],
          "scatterpolar": [
           {
            "marker": {
             "colorbar": {
              "outlinewidth": 0,
              "ticks": ""
             }
            },
            "type": "scatterpolar"
           }
          ],
          "scatterpolargl": [
           {
            "marker": {
             "colorbar": {
              "outlinewidth": 0,
              "ticks": ""
             }
            },
            "type": "scatterpolargl"
           }
          ],
          "scatterternary": [
           {
            "marker": {
             "colorbar": {
              "outlinewidth": 0,
              "ticks": ""
             }
            },
            "type": "scatterternary"
           }
          ],
          "surface": [
           {
            "colorbar": {
             "outlinewidth": 0,
             "ticks": ""
            },
            "colorscale": [
             [
              0,
              "#0d0887"
             ],
             [
              0.1111111111111111,
              "#46039f"
             ],
             [
              0.2222222222222222,
              "#7201a8"
             ],
             [
              0.3333333333333333,
              "#9c179e"
             ],
             [
              0.4444444444444444,
              "#bd3786"
             ],
             [
              0.5555555555555556,
              "#d8576b"
             ],
             [
              0.6666666666666666,
              "#ed7953"
             ],
             [
              0.7777777777777778,
              "#fb9f3a"
             ],
             [
              0.8888888888888888,
              "#fdca26"
             ],
             [
              1,
              "#f0f921"
             ]
            ],
            "type": "surface"
           }
          ],
          "table": [
           {
            "cells": {
             "fill": {
              "color": "#EBF0F8"
             },
             "line": {
              "color": "white"
             }
            },
            "header": {
             "fill": {
              "color": "#C8D4E3"
             },
             "line": {
              "color": "white"
             }
            },
            "type": "table"
           }
          ]
         },
         "layout": {
          "annotationdefaults": {
           "arrowcolor": "#2a3f5f",
           "arrowhead": 0,
           "arrowwidth": 1
          },
          "autotypenumbers": "strict",
          "coloraxis": {
           "colorbar": {
            "outlinewidth": 0,
            "ticks": ""
           }
          },
          "colorscale": {
           "diverging": [
            [
             0,
             "#8e0152"
            ],
            [
             0.1,
             "#c51b7d"
            ],
            [
             0.2,
             "#de77ae"
            ],
            [
             0.3,
             "#f1b6da"
            ],
            [
             0.4,
             "#fde0ef"
            ],
            [
             0.5,
             "#f7f7f7"
            ],
            [
             0.6,
             "#e6f5d0"
            ],
            [
             0.7,
             "#b8e186"
            ],
            [
             0.8,
             "#7fbc41"
            ],
            [
             0.9,
             "#4d9221"
            ],
            [
             1,
             "#276419"
            ]
           ],
           "sequential": [
            [
             0,
             "#0d0887"
            ],
            [
             0.1111111111111111,
             "#46039f"
            ],
            [
             0.2222222222222222,
             "#7201a8"
            ],
            [
             0.3333333333333333,
             "#9c179e"
            ],
            [
             0.4444444444444444,
             "#bd3786"
            ],
            [
             0.5555555555555556,
             "#d8576b"
            ],
            [
             0.6666666666666666,
             "#ed7953"
            ],
            [
             0.7777777777777778,
             "#fb9f3a"
            ],
            [
             0.8888888888888888,
             "#fdca26"
            ],
            [
             1,
             "#f0f921"
            ]
           ],
           "sequentialminus": [
            [
             0,
             "#0d0887"
            ],
            [
             0.1111111111111111,
             "#46039f"
            ],
            [
             0.2222222222222222,
             "#7201a8"
            ],
            [
             0.3333333333333333,
             "#9c179e"
            ],
            [
             0.4444444444444444,
             "#bd3786"
            ],
            [
             0.5555555555555556,
             "#d8576b"
            ],
            [
             0.6666666666666666,
             "#ed7953"
            ],
            [
             0.7777777777777778,
             "#fb9f3a"
            ],
            [
             0.8888888888888888,
             "#fdca26"
            ],
            [
             1,
             "#f0f921"
            ]
           ]
          },
          "colorway": [
           "#636efa",
           "#EF553B",
           "#00cc96",
           "#ab63fa",
           "#FFA15A",
           "#19d3f3",
           "#FF6692",
           "#B6E880",
           "#FF97FF",
           "#FECB52"
          ],
          "font": {
           "color": "#2a3f5f"
          },
          "geo": {
           "bgcolor": "white",
           "lakecolor": "white",
           "landcolor": "#E5ECF6",
           "showlakes": true,
           "showland": true,
           "subunitcolor": "white"
          },
          "hoverlabel": {
           "align": "left"
          },
          "hovermode": "closest",
          "mapbox": {
           "style": "light"
          },
          "paper_bgcolor": "white",
          "plot_bgcolor": "#E5ECF6",
          "polar": {
           "angularaxis": {
            "gridcolor": "white",
            "linecolor": "white",
            "ticks": ""
           },
           "bgcolor": "#E5ECF6",
           "radialaxis": {
            "gridcolor": "white",
            "linecolor": "white",
            "ticks": ""
           }
          },
          "scene": {
           "xaxis": {
            "backgroundcolor": "#E5ECF6",
            "gridcolor": "white",
            "gridwidth": 2,
            "linecolor": "white",
            "showbackground": true,
            "ticks": "",
            "zerolinecolor": "white"
           },
           "yaxis": {
            "backgroundcolor": "#E5ECF6",
            "gridcolor": "white",
            "gridwidth": 2,
            "linecolor": "white",
            "showbackground": true,
            "ticks": "",
            "zerolinecolor": "white"
           },
           "zaxis": {
            "backgroundcolor": "#E5ECF6",
            "gridcolor": "white",
            "gridwidth": 2,
            "linecolor": "white",
            "showbackground": true,
            "ticks": "",
            "zerolinecolor": "white"
           }
          },
          "shapedefaults": {
           "line": {
            "color": "#2a3f5f"
           }
          },
          "ternary": {
           "aaxis": {
            "gridcolor": "white",
            "linecolor": "white",
            "ticks": ""
           },
           "baxis": {
            "gridcolor": "white",
            "linecolor": "white",
            "ticks": ""
           },
           "bgcolor": "#E5ECF6",
           "caxis": {
            "gridcolor": "white",
            "linecolor": "white",
            "ticks": ""
           }
          },
          "title": {
           "x": 0.05
          },
          "xaxis": {
           "automargin": true,
           "gridcolor": "white",
           "linecolor": "white",
           "ticks": "",
           "title": {
            "standoff": 15
           },
           "zerolinecolor": "white",
           "zerolinewidth": 2
          },
          "yaxis": {
           "automargin": true,
           "gridcolor": "white",
           "linecolor": "white",
           "ticks": "",
           "title": {
            "standoff": 15
           },
           "zerolinecolor": "white",
           "zerolinewidth": 2
          }
         }
        },
        "title": {
         "text": "Transacciones por terminal y tipo de operación"
        },
        "xaxis": {
         "anchor": "y",
         "domain": [
          0,
          1
         ],
         "title": {
          "text": "idTerminal"
         }
        },
        "yaxis": {
         "anchor": "x",
         "domain": [
          0,
          1
         ],
         "title": {
          "text": "count"
         }
        }
       }
      }
     },
     "metadata": {},
     "output_type": "display_data"
    }
   ],
   "source": [
    "pivot_table = pivot_table.reset_index()\n",
    "df_long = pd.melt(pivot_table, id_vars=['idTerminal'], var_name='oper', value_name='count')\n",
    "fig = px.bar(df_long, x='idTerminal', y='count', color='oper', barmode='stack', title=\"Transacciones por terminal y tipo de operación\")\n",
    "fig.show()"
   ]
  },
  {
   "cell_type": "markdown",
   "metadata": {},
   "source": [
    "Al obervar el volumen transaccional se observa que a nivel general las terminales cuentan con la capacidad de atender todos los tipos de operaciones. \n",
    "Además, se destaca como en la mayoria de estas terminales predominan las operaciones _0_, _3_, _1_, _7_ y _4_, las cuales como vimos anteriormente representan el 92.5% del total. Además, se observa como el resto de operaciones tienen un volumen considerablemente bajo en todas las terminales."
   ]
  },
  {
   "cell_type": "code",
   "execution_count": 101,
   "metadata": {},
   "outputs": [
    {
     "name": "stderr",
     "output_type": "stream",
     "text": [
      "c:\\Users\\jmoncada43\\OneDrive - Cementos Argos S.A\\Documentos\\Platzi\\DataScience\\Prueba\\env\\Lib\\site-packages\\plotly\\express\\_core.py:2065: FutureWarning:\n",
      "\n",
      "When grouping with a length-1 list-like, you will need to pass a length-1 tuple to get_group in a future version of pandas. Pass `(name,)` instead of `name` to silence this warning.\n",
      "\n"
     ]
    },
    {
     "data": {
      "application/vnd.plotly.v1+json": {
       "config": {
        "plotlyServerURL": "https://plot.ly"
       },
       "data": [
        {
         "alignmentgroup": "True",
         "hovertemplate": "oper=0<br>idTerminal=%{x}<br>count=%{y}<extra></extra>",
         "legendgroup": "0",
         "marker": {
          "color": "#636efa",
          "pattern": {
           "shape": ""
          }
         },
         "name": "0",
         "offsetgroup": "0",
         "orientation": "v",
         "showlegend": true,
         "textposition": "auto",
         "type": "bar",
         "x": [
          "1774",
          "1908",
          "1964",
          "1910",
          "1980",
          "1741",
          "1593",
          "1824",
          "1864",
          "1946",
          "1896",
          "1944",
          "1805",
          "1575",
          "1746",
          "1828",
          "1577",
          "1987",
          "1971",
          "1996",
          "1827",
          "1919",
          "1922",
          "1772",
          "1963",
          "1981",
          "1928",
          "1929",
          "1994",
          "1991",
          "1882",
          "1759",
          "1537",
          "1582",
          "1574",
          "1875",
          "1973",
          "1995",
          "1594",
          "1816",
          "1953",
          "1597",
          "1993",
          "1997",
          "1986",
          "1507",
          "1515"
         ],
         "xaxis": "x",
         "y": [
          17790,
          15868,
          15620,
          16395,
          12266,
          11266,
          12420,
          11388,
          10379,
          11160,
          13521,
          10562,
          9615,
          11402,
          12271,
          10810,
          13628,
          11072,
          10073,
          10523,
          9895,
          9116,
          8349,
          10654,
          11896,
          7270,
          7987,
          8690,
          8054,
          7116,
          7217,
          5343,
          5953,
          6363,
          5770,
          5738,
          6137,
          4652,
          5515,
          6148,
          4865,
          5383,
          5077,
          3932,
          3421,
          2068,
          3291
         ],
         "yaxis": "y"
        },
        {
         "alignmentgroup": "True",
         "hovertemplate": "oper=3<br>idTerminal=%{x}<br>count=%{y}<extra></extra>",
         "legendgroup": "3",
         "marker": {
          "color": "#EF553B",
          "pattern": {
           "shape": ""
          }
         },
         "name": "3",
         "offsetgroup": "3",
         "orientation": "v",
         "showlegend": true,
         "textposition": "auto",
         "type": "bar",
         "x": [
          "1774",
          "1908",
          "1964",
          "1910",
          "1980",
          "1741",
          "1593",
          "1824",
          "1864",
          "1946",
          "1896",
          "1944",
          "1805",
          "1575",
          "1746",
          "1828",
          "1577",
          "1987",
          "1971",
          "1996",
          "1827",
          "1919",
          "1922",
          "1772",
          "1963",
          "1981",
          "1928",
          "1929",
          "1994",
          "1991",
          "1882",
          "1759",
          "1537",
          "1582",
          "1574",
          "1875",
          "1973",
          "1995",
          "1594",
          "1816",
          "1953",
          "1597",
          "1993",
          "1997",
          "1986",
          "1507",
          "1515"
         ],
         "xaxis": "x",
         "y": [
          6647,
          6348,
          6413,
          3781,
          3380,
          5576,
          3475,
          4875,
          4340,
          3831,
          2514,
          3978,
          4518,
          4131,
          3536,
          2617,
          2132,
          2321,
          2463,
          2270,
          3560,
          2763,
          2940,
          1759,
          1556,
          3487,
          2400,
          2126,
          2098,
          2014,
          1796,
          1308,
          2058,
          1749,
          1548,
          1457,
          1483,
          1151,
          1384,
          1088,
          1936,
          1381,
          717,
          2026,
          1651,
          679,
          138
         ],
         "yaxis": "y"
        },
        {
         "alignmentgroup": "True",
         "hovertemplate": "oper=1<br>idTerminal=%{x}<br>count=%{y}<extra></extra>",
         "legendgroup": "1",
         "marker": {
          "color": "#00cc96",
          "pattern": {
           "shape": ""
          }
         },
         "name": "1",
         "offsetgroup": "1",
         "orientation": "v",
         "showlegend": true,
         "textposition": "auto",
         "type": "bar",
         "x": [
          "1774",
          "1908",
          "1964",
          "1910",
          "1980",
          "1741",
          "1593",
          "1824",
          "1864",
          "1946",
          "1896",
          "1944",
          "1805",
          "1575",
          "1746",
          "1828",
          "1577",
          "1987",
          "1971",
          "1996",
          "1827",
          "1919",
          "1922",
          "1772",
          "1963",
          "1981",
          "1928",
          "1929",
          "1994",
          "1991",
          "1882",
          "1759",
          "1537",
          "1582",
          "1574",
          "1875",
          "1973",
          "1995",
          "1594",
          "1816",
          "1953",
          "1597",
          "1993",
          "1997",
          "1986",
          "1507",
          "1515"
         ],
         "xaxis": "x",
         "y": [
          3397,
          2447,
          3317,
          1888,
          4159,
          2341,
          2773,
          2087,
          1839,
          1767,
          1999,
          1894,
          1907,
          2047,
          1705,
          3524,
          981,
          2071,
          2054,
          1224,
          1810,
          1500,
          1267,
          1415,
          691,
          1437,
          1440,
          1836,
          2185,
          1461,
          1463,
          1679,
          1185,
          1258,
          1193,
          1750,
          1046,
          1611,
          1437,
          893,
          792,
          969,
          908,
          912,
          965,
          515,
          156
         ],
         "yaxis": "y"
        },
        {
         "alignmentgroup": "True",
         "hovertemplate": "oper=7<br>idTerminal=%{x}<br>count=%{y}<extra></extra>",
         "legendgroup": "7",
         "marker": {
          "color": "#ab63fa",
          "pattern": {
           "shape": ""
          }
         },
         "name": "7",
         "offsetgroup": "7",
         "orientation": "v",
         "showlegend": true,
         "textposition": "auto",
         "type": "bar",
         "x": [
          "1774",
          "1908",
          "1964",
          "1910",
          "1980",
          "1741",
          "1593",
          "1824",
          "1864",
          "1946",
          "1896",
          "1944",
          "1805",
          "1575",
          "1746",
          "1828",
          "1577",
          "1987",
          "1971",
          "1996",
          "1827",
          "1919",
          "1922",
          "1772",
          "1963",
          "1981",
          "1928",
          "1929",
          "1994",
          "1991",
          "1882",
          "1759",
          "1537",
          "1582",
          "1574",
          "1875",
          "1973",
          "1995",
          "1594",
          "1816",
          "1953",
          "1597",
          "1993",
          "1997",
          "1986",
          "1507",
          "1515"
         ],
         "xaxis": "x",
         "y": [
          1284,
          1984,
          1173,
          2279,
          1657,
          1129,
          1526,
          860,
          2154,
          1281,
          1444,
          1766,
          1381,
          805,
          891,
          725,
          897,
          1157,
          1507,
          1762,
          593,
          1387,
          1281,
          824,
          591,
          1794,
          1237,
          1503,
          774,
          541,
          910,
          1248,
          612,
          863,
          1126,
          705,
          699,
          1133,
          573,
          673,
          499,
          396,
          673,
          716,
          860,
          582,
          207
         ],
         "yaxis": "y"
        },
        {
         "alignmentgroup": "True",
         "hovertemplate": "oper=4<br>idTerminal=%{x}<br>count=%{y}<extra></extra>",
         "legendgroup": "4",
         "marker": {
          "color": "#FFA15A",
          "pattern": {
           "shape": ""
          }
         },
         "name": "4",
         "offsetgroup": "4",
         "orientation": "v",
         "showlegend": true,
         "textposition": "auto",
         "type": "bar",
         "x": [
          "1774",
          "1908",
          "1964",
          "1910",
          "1980",
          "1741",
          "1593",
          "1824",
          "1864",
          "1946",
          "1896",
          "1944",
          "1805",
          "1575",
          "1746",
          "1828",
          "1577",
          "1987",
          "1971",
          "1996",
          "1827",
          "1919",
          "1922",
          "1772",
          "1963",
          "1981",
          "1928",
          "1929",
          "1994",
          "1991",
          "1882",
          "1759",
          "1537",
          "1582",
          "1574",
          "1875",
          "1973",
          "1995",
          "1594",
          "1816",
          "1953",
          "1597",
          "1993",
          "1997",
          "1986",
          "1507",
          "1515"
         ],
         "xaxis": "x",
         "y": [
          1243,
          2409,
          1864,
          870,
          695,
          1537,
          785,
          1664,
          1183,
          1804,
          544,
          1107,
          1537,
          636,
          773,
          602,
          409,
          707,
          518,
          671,
          762,
          768,
          1318,
          827,
          607,
          1077,
          820,
          580,
          509,
          804,
          652,
          369,
          543,
          266,
          239,
          273,
          508,
          448,
          326,
          413,
          578,
          345,
          327,
          251,
          361,
          142,
          146
         ],
         "yaxis": "y"
        },
        {
         "alignmentgroup": "True",
         "hovertemplate": "oper=otros<br>idTerminal=%{x}<br>count=%{y}<extra></extra>",
         "legendgroup": "otros",
         "marker": {
          "color": "#19d3f3",
          "pattern": {
           "shape": ""
          }
         },
         "name": "otros",
         "offsetgroup": "otros",
         "orientation": "v",
         "showlegend": true,
         "textposition": "auto",
         "type": "bar",
         "x": [
          "1774",
          "1908",
          "1964",
          "1910",
          "1980",
          "1741",
          "1593",
          "1824",
          "1864",
          "1946",
          "1896",
          "1944",
          "1805",
          "1575",
          "1746",
          "1828",
          "1577",
          "1987",
          "1971",
          "1996",
          "1827",
          "1919",
          "1922",
          "1772",
          "1963",
          "1981",
          "1928",
          "1929",
          "1994",
          "1991",
          "1882",
          "1759",
          "1537",
          "1582",
          "1574",
          "1875",
          "1973",
          "1995",
          "1594",
          "1816",
          "1953",
          "1597",
          "1993",
          "1997",
          "1986",
          "1507",
          "1515",
          "1774",
          "1908",
          "1964",
          "1910",
          "1980",
          "1741",
          "1593",
          "1824",
          "1864",
          "1946",
          "1896",
          "1944",
          "1805",
          "1575",
          "1746",
          "1828",
          "1577",
          "1987",
          "1971",
          "1996",
          "1827",
          "1919",
          "1922",
          "1772",
          "1963",
          "1981",
          "1928",
          "1929",
          "1994",
          "1991",
          "1882",
          "1759",
          "1537",
          "1582",
          "1574",
          "1875",
          "1973",
          "1995",
          "1594",
          "1816",
          "1953",
          "1597",
          "1993",
          "1997",
          "1986",
          "1507",
          "1515",
          "1774",
          "1908",
          "1964",
          "1910",
          "1980",
          "1741",
          "1593",
          "1824",
          "1864",
          "1946",
          "1896",
          "1944",
          "1805",
          "1575",
          "1746",
          "1828",
          "1577",
          "1987",
          "1971",
          "1996",
          "1827",
          "1919",
          "1922",
          "1772",
          "1963",
          "1981",
          "1928",
          "1929",
          "1994",
          "1991",
          "1882",
          "1759",
          "1537",
          "1582",
          "1574",
          "1875",
          "1973",
          "1995",
          "1594",
          "1816",
          "1953",
          "1597",
          "1993",
          "1997",
          "1986",
          "1507",
          "1515",
          "1774",
          "1908",
          "1964",
          "1910",
          "1980",
          "1741",
          "1593",
          "1824",
          "1864",
          "1946",
          "1896",
          "1944",
          "1805",
          "1575",
          "1746",
          "1828",
          "1577",
          "1987",
          "1971",
          "1996",
          "1827",
          "1919",
          "1922",
          "1772",
          "1963",
          "1981",
          "1928",
          "1929",
          "1994",
          "1991",
          "1882",
          "1759",
          "1537",
          "1582",
          "1574",
          "1875",
          "1973",
          "1995",
          "1594",
          "1816",
          "1953",
          "1597",
          "1993",
          "1997",
          "1986",
          "1507",
          "1515",
          "1774",
          "1908",
          "1964",
          "1910",
          "1980",
          "1741",
          "1593",
          "1824",
          "1864",
          "1946",
          "1896",
          "1944",
          "1805",
          "1575",
          "1746",
          "1828",
          "1577",
          "1987",
          "1971",
          "1996",
          "1827",
          "1919",
          "1922",
          "1772",
          "1963",
          "1981",
          "1928",
          "1929",
          "1994",
          "1991",
          "1882",
          "1759",
          "1537",
          "1582",
          "1574",
          "1875",
          "1973",
          "1995",
          "1594",
          "1816",
          "1953",
          "1597",
          "1993",
          "1997",
          "1986",
          "1507",
          "1515",
          "1774",
          "1908",
          "1964",
          "1910",
          "1980",
          "1741",
          "1593",
          "1824",
          "1864",
          "1946",
          "1896",
          "1944",
          "1805",
          "1575",
          "1746",
          "1828",
          "1577",
          "1987",
          "1971",
          "1996",
          "1827",
          "1919",
          "1922",
          "1772",
          "1963",
          "1981",
          "1928",
          "1929",
          "1994",
          "1991",
          "1882",
          "1759",
          "1537",
          "1582",
          "1574",
          "1875",
          "1973",
          "1995",
          "1594",
          "1816",
          "1953",
          "1597",
          "1993",
          "1997",
          "1986",
          "1507",
          "1515",
          "1774",
          "1908",
          "1964",
          "1910",
          "1980",
          "1741",
          "1593",
          "1824",
          "1864",
          "1946",
          "1896",
          "1944",
          "1805",
          "1575",
          "1746",
          "1828",
          "1577",
          "1987",
          "1971",
          "1996",
          "1827",
          "1919",
          "1922",
          "1772",
          "1963",
          "1981",
          "1928",
          "1929",
          "1994",
          "1991",
          "1882",
          "1759",
          "1537",
          "1582",
          "1574",
          "1875",
          "1973",
          "1995",
          "1594",
          "1816",
          "1953",
          "1597",
          "1993",
          "1997",
          "1986",
          "1507",
          "1515",
          "1774",
          "1908",
          "1964",
          "1910",
          "1980",
          "1741",
          "1593",
          "1824",
          "1864",
          "1946",
          "1896",
          "1944",
          "1805",
          "1575",
          "1746",
          "1828",
          "1577",
          "1987",
          "1971",
          "1996",
          "1827",
          "1919",
          "1922",
          "1772",
          "1963",
          "1981",
          "1928",
          "1929",
          "1994",
          "1991",
          "1882",
          "1759",
          "1537",
          "1582",
          "1574",
          "1875",
          "1973",
          "1995",
          "1594",
          "1816",
          "1953",
          "1597",
          "1993",
          "1997",
          "1986",
          "1507",
          "1515",
          "1774",
          "1908",
          "1964",
          "1910",
          "1980",
          "1741",
          "1593",
          "1824",
          "1864",
          "1946",
          "1896",
          "1944",
          "1805",
          "1575",
          "1746",
          "1828",
          "1577",
          "1987",
          "1971",
          "1996",
          "1827",
          "1919",
          "1922",
          "1772",
          "1963",
          "1981",
          "1928",
          "1929",
          "1994",
          "1991",
          "1882",
          "1759",
          "1537",
          "1582",
          "1574",
          "1875",
          "1973",
          "1995",
          "1594",
          "1816",
          "1953",
          "1597",
          "1993",
          "1997",
          "1986",
          "1507",
          "1515",
          "1774",
          "1908",
          "1964",
          "1910",
          "1980",
          "1741",
          "1593",
          "1824",
          "1864",
          "1946",
          "1896",
          "1944",
          "1805",
          "1575",
          "1746",
          "1828",
          "1577",
          "1987",
          "1971",
          "1996",
          "1827",
          "1919",
          "1922",
          "1772",
          "1963",
          "1981",
          "1928",
          "1929",
          "1994",
          "1991",
          "1882",
          "1759",
          "1537",
          "1582",
          "1574",
          "1875",
          "1973",
          "1995",
          "1594",
          "1816",
          "1953",
          "1597",
          "1993",
          "1997",
          "1986",
          "1507",
          "1515",
          "1774",
          "1908",
          "1964",
          "1910",
          "1980",
          "1741",
          "1593",
          "1824",
          "1864",
          "1946",
          "1896",
          "1944",
          "1805",
          "1575",
          "1746",
          "1828",
          "1577",
          "1987",
          "1971",
          "1996",
          "1827",
          "1919",
          "1922",
          "1772",
          "1963",
          "1981",
          "1928",
          "1929",
          "1994",
          "1991",
          "1882",
          "1759",
          "1537",
          "1582",
          "1574",
          "1875",
          "1973",
          "1995",
          "1594",
          "1816",
          "1953",
          "1597",
          "1993",
          "1997",
          "1986",
          "1507",
          "1515",
          "1774",
          "1908",
          "1964",
          "1910",
          "1980",
          "1741",
          "1593",
          "1824",
          "1864",
          "1946",
          "1896",
          "1944",
          "1805",
          "1575",
          "1746",
          "1828",
          "1577",
          "1987",
          "1971",
          "1996",
          "1827",
          "1919",
          "1922",
          "1772",
          "1963",
          "1981",
          "1928",
          "1929",
          "1994",
          "1991",
          "1882",
          "1759",
          "1537",
          "1582",
          "1574",
          "1875",
          "1973",
          "1995",
          "1594",
          "1816",
          "1953",
          "1597",
          "1993",
          "1997",
          "1986",
          "1507",
          "1515",
          "1774",
          "1908",
          "1964",
          "1910",
          "1980",
          "1741",
          "1593",
          "1824",
          "1864",
          "1946",
          "1896",
          "1944",
          "1805",
          "1575",
          "1746",
          "1828",
          "1577",
          "1987",
          "1971",
          "1996",
          "1827",
          "1919",
          "1922",
          "1772",
          "1963",
          "1981",
          "1928",
          "1929",
          "1994",
          "1991",
          "1882",
          "1759",
          "1537",
          "1582",
          "1574",
          "1875",
          "1973",
          "1995",
          "1594",
          "1816",
          "1953",
          "1597",
          "1993",
          "1997",
          "1986",
          "1507",
          "1515",
          "1774",
          "1908",
          "1964",
          "1910",
          "1980",
          "1741",
          "1593",
          "1824",
          "1864",
          "1946",
          "1896",
          "1944",
          "1805",
          "1575",
          "1746",
          "1828",
          "1577",
          "1987",
          "1971",
          "1996",
          "1827",
          "1919",
          "1922",
          "1772",
          "1963",
          "1981",
          "1928",
          "1929",
          "1994",
          "1991",
          "1882",
          "1759",
          "1537",
          "1582",
          "1574",
          "1875",
          "1973",
          "1995",
          "1594",
          "1816",
          "1953",
          "1597",
          "1993",
          "1997",
          "1986",
          "1507",
          "1515",
          "1774",
          "1908",
          "1964",
          "1910",
          "1980",
          "1741",
          "1593",
          "1824",
          "1864",
          "1946",
          "1896",
          "1944",
          "1805",
          "1575",
          "1746",
          "1828",
          "1577",
          "1987",
          "1971",
          "1996",
          "1827",
          "1919",
          "1922",
          "1772",
          "1963",
          "1981",
          "1928",
          "1929",
          "1994",
          "1991",
          "1882",
          "1759",
          "1537",
          "1582",
          "1574",
          "1875",
          "1973",
          "1995",
          "1594",
          "1816",
          "1953",
          "1597",
          "1993",
          "1997",
          "1986",
          "1507",
          "1515",
          "1774",
          "1908",
          "1964",
          "1910",
          "1980",
          "1741",
          "1593",
          "1824",
          "1864",
          "1946",
          "1896",
          "1944",
          "1805",
          "1575",
          "1746",
          "1828",
          "1577",
          "1987",
          "1971",
          "1996",
          "1827",
          "1919",
          "1922",
          "1772",
          "1963",
          "1981",
          "1928",
          "1929",
          "1994",
          "1991",
          "1882",
          "1759",
          "1537",
          "1582",
          "1574",
          "1875",
          "1973",
          "1995",
          "1594",
          "1816",
          "1953",
          "1597",
          "1993",
          "1997",
          "1986",
          "1507",
          "1515",
          "1774",
          "1908",
          "1964",
          "1910",
          "1980",
          "1741",
          "1593",
          "1824",
          "1864",
          "1946",
          "1896",
          "1944",
          "1805",
          "1575",
          "1746",
          "1828",
          "1577",
          "1987",
          "1971",
          "1996",
          "1827",
          "1919",
          "1922",
          "1772",
          "1963",
          "1981",
          "1928",
          "1929",
          "1994",
          "1991",
          "1882",
          "1759",
          "1537",
          "1582",
          "1574",
          "1875",
          "1973",
          "1995",
          "1594",
          "1816",
          "1953",
          "1597",
          "1993",
          "1997",
          "1986",
          "1507",
          "1515",
          "1774",
          "1908",
          "1964",
          "1910",
          "1980",
          "1741",
          "1593",
          "1824",
          "1864",
          "1946",
          "1896",
          "1944",
          "1805",
          "1575",
          "1746",
          "1828",
          "1577",
          "1987",
          "1971",
          "1996",
          "1827",
          "1919",
          "1922",
          "1772",
          "1963",
          "1981",
          "1928",
          "1929",
          "1994",
          "1991",
          "1882",
          "1759",
          "1537",
          "1582",
          "1574",
          "1875",
          "1973",
          "1995",
          "1594",
          "1816",
          "1953",
          "1597",
          "1993",
          "1997",
          "1986",
          "1507",
          "1515",
          "1774",
          "1908",
          "1964",
          "1910",
          "1980",
          "1741",
          "1593",
          "1824",
          "1864",
          "1946",
          "1896",
          "1944",
          "1805",
          "1575",
          "1746",
          "1828",
          "1577",
          "1987",
          "1971",
          "1996",
          "1827",
          "1919",
          "1922",
          "1772",
          "1963",
          "1981",
          "1928",
          "1929",
          "1994",
          "1991",
          "1882",
          "1759",
          "1537",
          "1582",
          "1574",
          "1875",
          "1973",
          "1995",
          "1594",
          "1816",
          "1953",
          "1597",
          "1993",
          "1997",
          "1986",
          "1507",
          "1515",
          "1774",
          "1908",
          "1964",
          "1910",
          "1980",
          "1741",
          "1593",
          "1824",
          "1864",
          "1946",
          "1896",
          "1944",
          "1805",
          "1575",
          "1746",
          "1828",
          "1577",
          "1987",
          "1971",
          "1996",
          "1827",
          "1919",
          "1922",
          "1772",
          "1963",
          "1981",
          "1928",
          "1929",
          "1994",
          "1991",
          "1882",
          "1759",
          "1537",
          "1582",
          "1574",
          "1875",
          "1973",
          "1995",
          "1594",
          "1816",
          "1953",
          "1597",
          "1993",
          "1997",
          "1986",
          "1507",
          "1515",
          "1774",
          "1908",
          "1964",
          "1910",
          "1980",
          "1741",
          "1593",
          "1824",
          "1864",
          "1946",
          "1896",
          "1944",
          "1805",
          "1575",
          "1746",
          "1828",
          "1577",
          "1987",
          "1971",
          "1996",
          "1827",
          "1919",
          "1922",
          "1772",
          "1963",
          "1981",
          "1928",
          "1929",
          "1994",
          "1991",
          "1882",
          "1759",
          "1537",
          "1582",
          "1574",
          "1875",
          "1973",
          "1995",
          "1594",
          "1816",
          "1953",
          "1597",
          "1993",
          "1997",
          "1986",
          "1507",
          "1515",
          "1774",
          "1908",
          "1964",
          "1910",
          "1980",
          "1741",
          "1593",
          "1824",
          "1864",
          "1946",
          "1896",
          "1944",
          "1805",
          "1575",
          "1746",
          "1828",
          "1577",
          "1987",
          "1971",
          "1996",
          "1827",
          "1919",
          "1922",
          "1772",
          "1963",
          "1981",
          "1928",
          "1929",
          "1994",
          "1991",
          "1882",
          "1759",
          "1537",
          "1582",
          "1574",
          "1875",
          "1973",
          "1995",
          "1594",
          "1816",
          "1953",
          "1597",
          "1993",
          "1997",
          "1986",
          "1507",
          "1515",
          "1774",
          "1908",
          "1964",
          "1910",
          "1980",
          "1741",
          "1593",
          "1824",
          "1864",
          "1946",
          "1896",
          "1944",
          "1805",
          "1575",
          "1746",
          "1828",
          "1577",
          "1987",
          "1971",
          "1996",
          "1827",
          "1919",
          "1922",
          "1772",
          "1963",
          "1981",
          "1928",
          "1929",
          "1994",
          "1991",
          "1882",
          "1759",
          "1537",
          "1582",
          "1574",
          "1875",
          "1973",
          "1995",
          "1594",
          "1816",
          "1953",
          "1597",
          "1993",
          "1997",
          "1986",
          "1507",
          "1515",
          "1774",
          "1908",
          "1964",
          "1910",
          "1980",
          "1741",
          "1593",
          "1824",
          "1864",
          "1946",
          "1896",
          "1944",
          "1805",
          "1575",
          "1746",
          "1828",
          "1577",
          "1987",
          "1971",
          "1996",
          "1827",
          "1919",
          "1922",
          "1772",
          "1963",
          "1981",
          "1928",
          "1929",
          "1994",
          "1991",
          "1882",
          "1759",
          "1537",
          "1582",
          "1574",
          "1875",
          "1973",
          "1995",
          "1594",
          "1816",
          "1953",
          "1597",
          "1993",
          "1997",
          "1986",
          "1507",
          "1515",
          "1774",
          "1908",
          "1964",
          "1910",
          "1980",
          "1741",
          "1593",
          "1824",
          "1864",
          "1946",
          "1896",
          "1944",
          "1805",
          "1575",
          "1746",
          "1828",
          "1577",
          "1987",
          "1971",
          "1996",
          "1827",
          "1919",
          "1922",
          "1772",
          "1963",
          "1981",
          "1928",
          "1929",
          "1994",
          "1991",
          "1882",
          "1759",
          "1537",
          "1582",
          "1574",
          "1875",
          "1973",
          "1995",
          "1594",
          "1816",
          "1953",
          "1597",
          "1993",
          "1997",
          "1986",
          "1507",
          "1515",
          "1774",
          "1908",
          "1964",
          "1910",
          "1980",
          "1741",
          "1593",
          "1824",
          "1864",
          "1946",
          "1896",
          "1944",
          "1805",
          "1575",
          "1746",
          "1828",
          "1577",
          "1987",
          "1971",
          "1996",
          "1827",
          "1919",
          "1922",
          "1772",
          "1963",
          "1981",
          "1928",
          "1929",
          "1994",
          "1991",
          "1882",
          "1759",
          "1537",
          "1582",
          "1574",
          "1875",
          "1973",
          "1995",
          "1594",
          "1816",
          "1953",
          "1597",
          "1993",
          "1997",
          "1986",
          "1507",
          "1515",
          "1774",
          "1908",
          "1964",
          "1910",
          "1980",
          "1741",
          "1593",
          "1824",
          "1864",
          "1946",
          "1896",
          "1944",
          "1805",
          "1575",
          "1746",
          "1828",
          "1577",
          "1987",
          "1971",
          "1996",
          "1827",
          "1919",
          "1922",
          "1772",
          "1963",
          "1981",
          "1928",
          "1929",
          "1994",
          "1991",
          "1882",
          "1759",
          "1537",
          "1582",
          "1574",
          "1875",
          "1973",
          "1995",
          "1594",
          "1816",
          "1953",
          "1597",
          "1993",
          "1997",
          "1986",
          "1507",
          "1515",
          "1774",
          "1908",
          "1964",
          "1910",
          "1980",
          "1741",
          "1593",
          "1824",
          "1864",
          "1946",
          "1896",
          "1944",
          "1805",
          "1575",
          "1746",
          "1828",
          "1577",
          "1987",
          "1971",
          "1996",
          "1827",
          "1919",
          "1922",
          "1772",
          "1963",
          "1981",
          "1928",
          "1929",
          "1994",
          "1991",
          "1882",
          "1759",
          "1537",
          "1582",
          "1574",
          "1875",
          "1973",
          "1995",
          "1594",
          "1816",
          "1953",
          "1597",
          "1993",
          "1997",
          "1986",
          "1507",
          "1515",
          "1774",
          "1908",
          "1964",
          "1910",
          "1980",
          "1741",
          "1593",
          "1824",
          "1864",
          "1946",
          "1896",
          "1944",
          "1805",
          "1575",
          "1746",
          "1828",
          "1577",
          "1987",
          "1971",
          "1996",
          "1827",
          "1919",
          "1922",
          "1772",
          "1963",
          "1981",
          "1928",
          "1929",
          "1994",
          "1991",
          "1882",
          "1759",
          "1537",
          "1582",
          "1574",
          "1875",
          "1973",
          "1995",
          "1594",
          "1816",
          "1953",
          "1597",
          "1993",
          "1997",
          "1986",
          "1507",
          "1515",
          "1774",
          "1908",
          "1964",
          "1910",
          "1980",
          "1741",
          "1593",
          "1824",
          "1864",
          "1946",
          "1896",
          "1944",
          "1805",
          "1575",
          "1746",
          "1828",
          "1577",
          "1987",
          "1971",
          "1996",
          "1827",
          "1919",
          "1922",
          "1772",
          "1963",
          "1981",
          "1928",
          "1929",
          "1994",
          "1991",
          "1882",
          "1759",
          "1537",
          "1582",
          "1574",
          "1875",
          "1973",
          "1995",
          "1594",
          "1816",
          "1953",
          "1597",
          "1993",
          "1997",
          "1986",
          "1507",
          "1515",
          "1774",
          "1908",
          "1964",
          "1910",
          "1980",
          "1741",
          "1593",
          "1824",
          "1864",
          "1946",
          "1896",
          "1944",
          "1805",
          "1575",
          "1746",
          "1828",
          "1577",
          "1987",
          "1971",
          "1996",
          "1827",
          "1919",
          "1922",
          "1772",
          "1963",
          "1981",
          "1928",
          "1929",
          "1994",
          "1991",
          "1882",
          "1759",
          "1537",
          "1582",
          "1574",
          "1875",
          "1973",
          "1995",
          "1594",
          "1816",
          "1953",
          "1597",
          "1993",
          "1997",
          "1986",
          "1507",
          "1515",
          "1774",
          "1908",
          "1964",
          "1910",
          "1980",
          "1741",
          "1593",
          "1824",
          "1864",
          "1946",
          "1896",
          "1944",
          "1805",
          "1575",
          "1746",
          "1828",
          "1577",
          "1987",
          "1971",
          "1996",
          "1827",
          "1919",
          "1922",
          "1772",
          "1963",
          "1981",
          "1928",
          "1929",
          "1994",
          "1991",
          "1882",
          "1759",
          "1537",
          "1582",
          "1574",
          "1875",
          "1973",
          "1995",
          "1594",
          "1816",
          "1953",
          "1597",
          "1993",
          "1997",
          "1986",
          "1507",
          "1515",
          "1774",
          "1908",
          "1964",
          "1910",
          "1980",
          "1741",
          "1593",
          "1824",
          "1864",
          "1946",
          "1896",
          "1944",
          "1805",
          "1575",
          "1746",
          "1828",
          "1577",
          "1987",
          "1971",
          "1996",
          "1827",
          "1919",
          "1922",
          "1772",
          "1963",
          "1981",
          "1928",
          "1929",
          "1994",
          "1991",
          "1882",
          "1759",
          "1537",
          "1582",
          "1574",
          "1875",
          "1973",
          "1995",
          "1594",
          "1816",
          "1953",
          "1597",
          "1993",
          "1997",
          "1986",
          "1507",
          "1515",
          "1774",
          "1908",
          "1964",
          "1910",
          "1980",
          "1741",
          "1593",
          "1824",
          "1864",
          "1946",
          "1896",
          "1944",
          "1805",
          "1575",
          "1746",
          "1828",
          "1577",
          "1987",
          "1971",
          "1996",
          "1827",
          "1919",
          "1922",
          "1772",
          "1963",
          "1981",
          "1928",
          "1929",
          "1994",
          "1991",
          "1882",
          "1759",
          "1537",
          "1582",
          "1574",
          "1875",
          "1973",
          "1995",
          "1594",
          "1816",
          "1953",
          "1597",
          "1993",
          "1997",
          "1986",
          "1507",
          "1515",
          "1774",
          "1908",
          "1964",
          "1910",
          "1980",
          "1741",
          "1593",
          "1824",
          "1864",
          "1946",
          "1896",
          "1944",
          "1805",
          "1575",
          "1746",
          "1828",
          "1577",
          "1987",
          "1971",
          "1996",
          "1827",
          "1919",
          "1922",
          "1772",
          "1963",
          "1981",
          "1928",
          "1929",
          "1994",
          "1991",
          "1882",
          "1759",
          "1537",
          "1582",
          "1574",
          "1875",
          "1973",
          "1995",
          "1594",
          "1816",
          "1953",
          "1597",
          "1993",
          "1997",
          "1986",
          "1507",
          "1515",
          "1774",
          "1908",
          "1964",
          "1910",
          "1980",
          "1741",
          "1593",
          "1824",
          "1864",
          "1946",
          "1896",
          "1944",
          "1805",
          "1575",
          "1746",
          "1828",
          "1577",
          "1987",
          "1971",
          "1996",
          "1827",
          "1919",
          "1922",
          "1772",
          "1963",
          "1981",
          "1928",
          "1929",
          "1994",
          "1991",
          "1882",
          "1759",
          "1537",
          "1582",
          "1574",
          "1875",
          "1973",
          "1995",
          "1594",
          "1816",
          "1953",
          "1597",
          "1993",
          "1997",
          "1986",
          "1507",
          "1515",
          "1774",
          "1908",
          "1964",
          "1910",
          "1980",
          "1741",
          "1593",
          "1824",
          "1864",
          "1946",
          "1896",
          "1944",
          "1805",
          "1575",
          "1746",
          "1828",
          "1577",
          "1987",
          "1971",
          "1996",
          "1827",
          "1919",
          "1922",
          "1772",
          "1963",
          "1981",
          "1928",
          "1929",
          "1994",
          "1991",
          "1882",
          "1759",
          "1537",
          "1582",
          "1574",
          "1875",
          "1973",
          "1995",
          "1594",
          "1816",
          "1953",
          "1597",
          "1993",
          "1997",
          "1986",
          "1507",
          "1515",
          "1774",
          "1908",
          "1964",
          "1910",
          "1980",
          "1741",
          "1593",
          "1824",
          "1864",
          "1946",
          "1896",
          "1944",
          "1805",
          "1575",
          "1746",
          "1828",
          "1577",
          "1987",
          "1971",
          "1996",
          "1827",
          "1919",
          "1922",
          "1772",
          "1963",
          "1981",
          "1928",
          "1929",
          "1994",
          "1991",
          "1882",
          "1759",
          "1537",
          "1582",
          "1574",
          "1875",
          "1973",
          "1995",
          "1594",
          "1816",
          "1953",
          "1597",
          "1993",
          "1997",
          "1986",
          "1507",
          "1515",
          "1774",
          "1908",
          "1964",
          "1910",
          "1980",
          "1741",
          "1593",
          "1824",
          "1864",
          "1946",
          "1896",
          "1944",
          "1805",
          "1575",
          "1746",
          "1828",
          "1577",
          "1987",
          "1971",
          "1996",
          "1827",
          "1919",
          "1922",
          "1772",
          "1963",
          "1981",
          "1928",
          "1929",
          "1994",
          "1991",
          "1882",
          "1759",
          "1537",
          "1582",
          "1574",
          "1875",
          "1973",
          "1995",
          "1594",
          "1816",
          "1953",
          "1597",
          "1993",
          "1997",
          "1986",
          "1507",
          "1515",
          "1774",
          "1908",
          "1964",
          "1910",
          "1980",
          "1741",
          "1593",
          "1824",
          "1864",
          "1946",
          "1896",
          "1944",
          "1805",
          "1575",
          "1746",
          "1828",
          "1577",
          "1987",
          "1971",
          "1996",
          "1827",
          "1919",
          "1922",
          "1772",
          "1963",
          "1981",
          "1928",
          "1929",
          "1994",
          "1991",
          "1882",
          "1759",
          "1537",
          "1582",
          "1574",
          "1875",
          "1973",
          "1995",
          "1594",
          "1816",
          "1953",
          "1597",
          "1993",
          "1997",
          "1986",
          "1507",
          "1515",
          "1774",
          "1908",
          "1964",
          "1910",
          "1980",
          "1741",
          "1593",
          "1824",
          "1864",
          "1946",
          "1896",
          "1944",
          "1805",
          "1575",
          "1746",
          "1828",
          "1577",
          "1987",
          "1971",
          "1996",
          "1827",
          "1919",
          "1922",
          "1772",
          "1963",
          "1981",
          "1928",
          "1929",
          "1994",
          "1991",
          "1882",
          "1759",
          "1537",
          "1582",
          "1574",
          "1875",
          "1973",
          "1995",
          "1594",
          "1816",
          "1953",
          "1597",
          "1993",
          "1997",
          "1986",
          "1507",
          "1515"
         ],
         "xaxis": "x",
         "y": [
          169,
          394,
          279,
          502,
          430,
          375,
          777,
          364,
          501,
          511,
          302,
          507,
          547,
          421,
          180,
          480,
          143,
          526,
          346,
          351,
          98,
          530,
          194,
          304,
          651,
          370,
          597,
          291,
          308,
          306,
          110,
          521,
          483,
          241,
          393,
          258,
          181,
          307,
          321,
          155,
          99,
          195,
          353,
          253,
          194,
          157,
          149,
          29,
          22,
          354,
          84,
          1815,
          303,
          126,
          45,
          13,
          27,
          354,
          58,
          3,
          101,
          73,
          112,
          20,
          33,
          326,
          148,
          1,
          49,
          59,
          140,
          33,
          62,
          943,
          138,
          562,
          82,
          131,
          180,
          32,
          36,
          35,
          95,
          8,
          324,
          110,
          33,
          25,
          79,
          257,
          4,
          55,
          7,
          0,
          139,
          469,
          157,
          224,
          127,
          134,
          306,
          139,
          341,
          205,
          125,
          299,
          204,
          131,
          93,
          96,
          98,
          144,
          166,
          221,
          67,
          218,
          225,
          93,
          59,
          239,
          146,
          161,
          72,
          76,
          99,
          212,
          98,
          94,
          127,
          85,
          115,
          200,
          63,
          92,
          64,
          73,
          86,
          118,
          159,
          121,
          8,
          354,
          357,
          293,
          143,
          133,
          269,
          186,
          320,
          253,
          193,
          49,
          180,
          230,
          89,
          63,
          176,
          42,
          144,
          85,
          84,
          88,
          123,
          164,
          64,
          42,
          199,
          51,
          110,
          123,
          154,
          81,
          127,
          93,
          41,
          34,
          50,
          115,
          109,
          84,
          43,
          110,
          63,
          58,
          88,
          133,
          69,
          7,
          210,
          189,
          159,
          142,
          102,
          141,
          96,
          137,
          168,
          151,
          94,
          180,
          155,
          184,
          126,
          89,
          86,
          75,
          83,
          84,
          72,
          121,
          126,
          66,
          47,
          115,
          92,
          73,
          84,
          56,
          80,
          45,
          97,
          70,
          46,
          48,
          33,
          67,
          58,
          56,
          70,
          66,
          43,
          69,
          190,
          50,
          9,
          131,
          120,
          143,
          89,
          77,
          78,
          177,
          87,
          183,
          169,
          47,
          57,
          147,
          114,
          109,
          74,
          74,
          155,
          59,
          73,
          79,
          53,
          106,
          75,
          90,
          64,
          53,
          71,
          62,
          132,
          70,
          66,
          61,
          48,
          37,
          38,
          61,
          34,
          73,
          42,
          33,
          34,
          31,
          22,
          34,
          19,
          23,
          462,
          109,
          65,
          28,
          137,
          50,
          37,
          162,
          53,
          49,
          39,
          31,
          42,
          236,
          77,
          53,
          62,
          31,
          127,
          26,
          40,
          24,
          423,
          39,
          19,
          34,
          130,
          75,
          89,
          136,
          46,
          9,
          17,
          21,
          25,
          30,
          14,
          89,
          43,
          37,
          59,
          37,
          57,
          18,
          28,
          4,
          116,
          23,
          81,
          25,
          167,
          24,
          41,
          189,
          18,
          127,
          61,
          93,
          112,
          91,
          41,
          44,
          30,
          53,
          60,
          124,
          146,
          71,
          115,
          90,
          35,
          32,
          115,
          43,
          144,
          18,
          36,
          46,
          150,
          52,
          61,
          105,
          45,
          64,
          97,
          59,
          38,
          34,
          24,
          80,
          48,
          66,
          53,
          21,
          38,
          7,
          24,
          66,
          19,
          1,
          16,
          50,
          10,
          25,
          78,
          3,
          13,
          11,
          21,
          32,
          231,
          16,
          42,
          88,
          71,
          3,
          26,
          124,
          34,
          10,
          4,
          65,
          18,
          28,
          17,
          93,
          9,
          34,
          55,
          24,
          30,
          16,
          66,
          10,
          15,
          77,
          61,
          8,
          7,
          2,
          12,
          27,
          38,
          29,
          18,
          28,
          12,
          36,
          7,
          16,
          29,
          17,
          16,
          39,
          14,
          24,
          54,
          6,
          30,
          11,
          7,
          8,
          15,
          30,
          17,
          32,
          22,
          7,
          24,
          39,
          29,
          65,
          38,
          29,
          20,
          11,
          7,
          11,
          10,
          60,
          6,
          6,
          15,
          4,
          17,
          14,
          16,
          6,
          77,
          12,
          30,
          13,
          101,
          12,
          6,
          31,
          9,
          9,
          16,
          7,
          5,
          42,
          9,
          8,
          5,
          6,
          24,
          4,
          9,
          8,
          68,
          9,
          2,
          4,
          36,
          5,
          27,
          27,
          9,
          3,
          1,
          5,
          4,
          13,
          2,
          22,
          10,
          4,
          14,
          7,
          10,
          2,
          0,
          0,
          6,
          16,
          41,
          16,
          10,
          5,
          3,
          37,
          20,
          28,
          58,
          5,
          36,
          36,
          14,
          14,
          11,
          16,
          28,
          11,
          10,
          1,
          27,
          12,
          8,
          6,
          8,
          18,
          9,
          18,
          11,
          22,
          35,
          10,
          6,
          4,
          4,
          8,
          12,
          17,
          22,
          15,
          4,
          13,
          4,
          13,
          6,
          1,
          5,
          3,
          3,
          8,
          0,
          0,
          7,
          1,
          7,
          13,
          18,
          7,
          0,
          8,
          16,
          17,
          34,
          14,
          17,
          34,
          11,
          0,
          13,
          5,
          10,
          0,
          0,
          6,
          4,
          3,
          3,
          23,
          0,
          13,
          6,
          25,
          4,
          4,
          23,
          0,
          0,
          12,
          0,
          2,
          8,
          0,
          4,
          25,
          9,
          7,
          0,
          51,
          3,
          2,
          16,
          9,
          2,
          10,
          2,
          5,
          11,
          1,
          2,
          3,
          3,
          7,
          4,
          1,
          3,
          44,
          0,
          2,
          5,
          27,
          7,
          3,
          11,
          4,
          2,
          2,
          0,
          1,
          5,
          1,
          13,
          1,
          1,
          3,
          3,
          10,
          2,
          12,
          0,
          6,
          19,
          4,
          6,
          6,
          11,
          4,
          4,
          4,
          4,
          12,
          14,
          1,
          13,
          0,
          11,
          9,
          4,
          8,
          9,
          11,
          5,
          2,
          5,
          12,
          3,
          0,
          6,
          9,
          18,
          21,
          18,
          7,
          1,
          1,
          6,
          6,
          5,
          4,
          3,
          19,
          4,
          2,
          5,
          3,
          1,
          0,
          13,
          2,
          3,
          3,
          6,
          0,
          0,
          4,
          0,
          6,
          13,
          13,
          7,
          0,
          6,
          11,
          11,
          29,
          7,
          8,
          22,
          10,
          1,
          11,
          5,
          11,
          1,
          0,
          5,
          3,
          5,
          0,
          24,
          0,
          9,
          6,
          19,
          3,
          4,
          13,
          0,
          0,
          7,
          2,
          0,
          8,
          0,
          2,
          6,
          13,
          6,
          5,
          3,
          2,
          15,
          4,
          11,
          21,
          1,
          10,
          11,
          2,
          8,
          5,
          5,
          6,
          5,
          2,
          0,
          12,
          7,
          3,
          0,
          6,
          11,
          5,
          5,
          2,
          3,
          6,
          1,
          5,
          1,
          1,
          4,
          7,
          3,
          7,
          1,
          1,
          4,
          1,
          3,
          2,
          0,
          11,
          0,
          5,
          19,
          2,
          0,
          5,
          3,
          7,
          5,
          26,
          1,
          0,
          1,
          2,
          8,
          10,
          5,
          4,
          17,
          3,
          4,
          8,
          4,
          1,
          0,
          0,
          10,
          2,
          0,
          2,
          2,
          6,
          10,
          1,
          1,
          3,
          2,
          1,
          5,
          7,
          2,
          4,
          0,
          0,
          0,
          1,
          1,
          0,
          3,
          6,
          15,
          0,
          1,
          7,
          1,
          0,
          27,
          1,
          0,
          0,
          0,
          6,
          5,
          1,
          5,
          4,
          2,
          0,
          3,
          3,
          4,
          1,
          1,
          4,
          1,
          1,
          0,
          5,
          0,
          3,
          4,
          5,
          0,
          5,
          0,
          0,
          1,
          3,
          0,
          0,
          0,
          0,
          0,
          7,
          0,
          0,
          12,
          1,
          0,
          0,
          0,
          0,
          0,
          17,
          1,
          1,
          0,
          0,
          3,
          11,
          2,
          1,
          9,
          1,
          1,
          1,
          1,
          3,
          0,
          0,
          1,
          1,
          2,
          0,
          0,
          0,
          2,
          2,
          4,
          2,
          3,
          1,
          2,
          0,
          6,
          5,
          0,
          0,
          0,
          0,
          3,
          0,
          0,
          11,
          0,
          0,
          3,
          1,
          1,
          3,
          6,
          3,
          0,
          0,
          2,
          6,
          1,
          3,
          0,
          8,
          0,
          3,
          4,
          3,
          2,
          0,
          0,
          4,
          4,
          0,
          0,
          0,
          2,
          0,
          0,
          0,
          2,
          0,
          1,
          7,
          1,
          1,
          2,
          0,
          0,
          0,
          1,
          0,
          2,
          0,
          0,
          0,
          0,
          3,
          3,
          2,
          1,
          0,
          5,
          3,
          0,
          2,
          8,
          0,
          2,
          1,
          0,
          0,
          4,
          0,
          1,
          0,
          1,
          0,
          1,
          15,
          0,
          4,
          0,
          0,
          0,
          2,
          4,
          1,
          8,
          1,
          0,
          0,
          0,
          2,
          0,
          0,
          1,
          0,
          1,
          0,
          0,
          6,
          1,
          0,
          1,
          0,
          1,
          3,
          6,
          0,
          0,
          0,
          1,
          1,
          1,
          0,
          2,
          2,
          0,
          0,
          0,
          0,
          0,
          0,
          0,
          0,
          0,
          0,
          0,
          0,
          0,
          0,
          0,
          0,
          0,
          0,
          1,
          0,
          0,
          0,
          0,
          0,
          0,
          0,
          2,
          1,
          0,
          1,
          3,
          1,
          0,
          0,
          0,
          0,
          1,
          4,
          0,
          0,
          0,
          1,
          2,
          2,
          2,
          0,
          0,
          0,
          0,
          1,
          1,
          1,
          0,
          0,
          1,
          1,
          0,
          0,
          0,
          0,
          2,
          2,
          0,
          0,
          0,
          1,
          0,
          0,
          0,
          0,
          0,
          0,
          0,
          0,
          0,
          0,
          0,
          0,
          0,
          0,
          0,
          0,
          0,
          1,
          2,
          0,
          0,
          0,
          0,
          2,
          0,
          0,
          0,
          0,
          0,
          2,
          0,
          0,
          1,
          1,
          0,
          0,
          0,
          3,
          0,
          3,
          0,
          2,
          3,
          2,
          0,
          0,
          2,
          0,
          0,
          2,
          2,
          0,
          0,
          0,
          0,
          0,
          0,
          1,
          0,
          0,
          1,
          0,
          0,
          0,
          0,
          2,
          0,
          0,
          0,
          1,
          0,
          0,
          2,
          0,
          0,
          0,
          0,
          0,
          2,
          2,
          1,
          0,
          0,
          0,
          0,
          1,
          0,
          0,
          0,
          0,
          1,
          0,
          2,
          2,
          0,
          0,
          0,
          2,
          0,
          0,
          3,
          0,
          1,
          0,
          1,
          0,
          0,
          0,
          0,
          0,
          2,
          0,
          2,
          0,
          0,
          0,
          1,
          1,
          1,
          1,
          1,
          2,
          0,
          0,
          2,
          0,
          0,
          0,
          0,
          1,
          0,
          0,
          0,
          3,
          0,
          0,
          1,
          0,
          0,
          1,
          1,
          0,
          0,
          1,
          0,
          0,
          0,
          0,
          0,
          1,
          1,
          0,
          0,
          0,
          0,
          0,
          1,
          0,
          0,
          0,
          0,
          1,
          0,
          0,
          1,
          0,
          0,
          0,
          2,
          0,
          1,
          0,
          0,
          0,
          0,
          0,
          0,
          9,
          0,
          0,
          1,
          0,
          0,
          0,
          0,
          0,
          0,
          0,
          0,
          0,
          0,
          0,
          0,
          0,
          0,
          0,
          1,
          1,
          0,
          0,
          0,
          0,
          0,
          0,
          0,
          0,
          6,
          0,
          0,
          0,
          0,
          0,
          2,
          0,
          0,
          2,
          1,
          4,
          0,
          1,
          0,
          0,
          0,
          0,
          0,
          0,
          0,
          0,
          0,
          0,
          0,
          0,
          0,
          0,
          0,
          0,
          0,
          0,
          0,
          0,
          0,
          0,
          0,
          0,
          0,
          0,
          0,
          0,
          0,
          0,
          0,
          0,
          0,
          0,
          0,
          0,
          0,
          0,
          0,
          2,
          2,
          2,
          6,
          0,
          0,
          0,
          0,
          0,
          0,
          0,
          0,
          0,
          0,
          0,
          0,
          0,
          0,
          2,
          0,
          1,
          0,
          0,
          0,
          0,
          0,
          0,
          2,
          0,
          0,
          0,
          0,
          0,
          1,
          5,
          0,
          0,
          0,
          0,
          0,
          0,
          3,
          0,
          0,
          0,
          1,
          0,
          1,
          0,
          0,
          0,
          0,
          0,
          1,
          0,
          1,
          0,
          0,
          0,
          1,
          0,
          0,
          0,
          1,
          0,
          0,
          0,
          0,
          0,
          0,
          0,
          0,
          0,
          1,
          0,
          0,
          0,
          0,
          1,
          1,
          0,
          2,
          0,
          0,
          0,
          0,
          1,
          0,
          1,
          0,
          0,
          0,
          0,
          0,
          2,
          0,
          0,
          0,
          0,
          6,
          0,
          0,
          0,
          0,
          0,
          0,
          0,
          1,
          0,
          0,
          0,
          0,
          0,
          0,
          0,
          0,
          1,
          0,
          0,
          0,
          0,
          0,
          0,
          0,
          0,
          0,
          0,
          0,
          0,
          0,
          0,
          1,
          1,
          0,
          0,
          3,
          0,
          0,
          1,
          0,
          0,
          0,
          1,
          0,
          1,
          0,
          0,
          0,
          0,
          0,
          0,
          0,
          0,
          0,
          0,
          0,
          0,
          0,
          1,
          0,
          0,
          0,
          0,
          3,
          0,
          0,
          0,
          0,
          0,
          0,
          0,
          0,
          0,
          0,
          0,
          0,
          0,
          0,
          0,
          0,
          0,
          0,
          1,
          0,
          0,
          0,
          0,
          0,
          2,
          0,
          0,
          1,
          0,
          2,
          0,
          0,
          0,
          0,
          0,
          0,
          0,
          0,
          0,
          0,
          0,
          0,
          0,
          0,
          0,
          0,
          0,
          0,
          0,
          0,
          0,
          0,
          0,
          0,
          0,
          0,
          0,
          0,
          0,
          0,
          0,
          0,
          0,
          0,
          0,
          0,
          0,
          0,
          0,
          0,
          0,
          0,
          0,
          0,
          0,
          0,
          0,
          0,
          0,
          0,
          0,
          0,
          0,
          0,
          1,
          0,
          0,
          0,
          0,
          2,
          2,
          0,
          0,
          1,
          0,
          0,
          0,
          0,
          0,
          0,
          0,
          0,
          0,
          0,
          0,
          0,
          0,
          0,
          0,
          0,
          0,
          0,
          0,
          0,
          0,
          0,
          0,
          0,
          0,
          0,
          0,
          0,
          0,
          0,
          0,
          0,
          0,
          0,
          0,
          1,
          0,
          2,
          0,
          1,
          0,
          0,
          0,
          0,
          1,
          0,
          0,
          0,
          0,
          0,
          0,
          0,
          0,
          0,
          0,
          0,
          0,
          0,
          0,
          3,
          0,
          0,
          0,
          0,
          0,
          0,
          0,
          0,
          0,
          0,
          0,
          0,
          0,
          0,
          0,
          0,
          0,
          0,
          0,
          0,
          0,
          0,
          0,
          1,
          0,
          0,
          0,
          0,
          0,
          0,
          0,
          0,
          0,
          0,
          0,
          0,
          0,
          0,
          0,
          0,
          0,
          0,
          0,
          0,
          1,
          0,
          0,
          0,
          0,
          0,
          0,
          0,
          0,
          0,
          0,
          0,
          0,
          0,
          0,
          0,
          0,
          1,
          0,
          0,
          0,
          0,
          0,
          0,
          0,
          0,
          0,
          0,
          0,
          0,
          0,
          0,
          0,
          0,
          0,
          0,
          0,
          0,
          1,
          0,
          0,
          0,
          0,
          0,
          0,
          1,
          0,
          0,
          1,
          0,
          0,
          0,
          0,
          0,
          0,
          0,
          0,
          0,
          0,
          0,
          1,
          0,
          0,
          0,
          0,
          0,
          0,
          0,
          0,
          0,
          0,
          0,
          0,
          0,
          0,
          0,
          0,
          0,
          0,
          0,
          0,
          0,
          0,
          0,
          0,
          0,
          0,
          0,
          0,
          0,
          0,
          0,
          0,
          1,
          0,
          0,
          0,
          0,
          0,
          0,
          0,
          0,
          0,
          0,
          0,
          0,
          0,
          0,
          0,
          0,
          0,
          0,
          0,
          0,
          0,
          0,
          0,
          0,
          0,
          0,
          0,
          0,
          0,
          0,
          0,
          0,
          0,
          0,
          0,
          0,
          0,
          0,
          0,
          0,
          0,
          0,
          0,
          0,
          0,
          0,
          0,
          0,
          0,
          0,
          0,
          0,
          0,
          0,
          0,
          0,
          0,
          0,
          0,
          0,
          0,
          0,
          0,
          0,
          0,
          0,
          0,
          0,
          0,
          0,
          0,
          0,
          0,
          0,
          0,
          0,
          0,
          0,
          0,
          0,
          0,
          1,
          0,
          0,
          0,
          0,
          0,
          0,
          0,
          0,
          0,
          0
         ],
         "yaxis": "y"
        }
       ],
       "layout": {
        "barmode": "stack",
        "legend": {
         "title": {
          "text": "oper"
         },
         "tracegroupgap": 0
        },
        "margin": {
         "t": 60
        },
        "template": {
         "data": {
          "bar": [
           {
            "error_x": {
             "color": "#2a3f5f"
            },
            "error_y": {
             "color": "#2a3f5f"
            },
            "marker": {
             "line": {
              "color": "#E5ECF6",
              "width": 0.5
             },
             "pattern": {
              "fillmode": "overlay",
              "size": 10,
              "solidity": 0.2
             }
            },
            "type": "bar"
           }
          ],
          "barpolar": [
           {
            "marker": {
             "line": {
              "color": "#E5ECF6",
              "width": 0.5
             },
             "pattern": {
              "fillmode": "overlay",
              "size": 10,
              "solidity": 0.2
             }
            },
            "type": "barpolar"
           }
          ],
          "carpet": [
           {
            "aaxis": {
             "endlinecolor": "#2a3f5f",
             "gridcolor": "white",
             "linecolor": "white",
             "minorgridcolor": "white",
             "startlinecolor": "#2a3f5f"
            },
            "baxis": {
             "endlinecolor": "#2a3f5f",
             "gridcolor": "white",
             "linecolor": "white",
             "minorgridcolor": "white",
             "startlinecolor": "#2a3f5f"
            },
            "type": "carpet"
           }
          ],
          "choropleth": [
           {
            "colorbar": {
             "outlinewidth": 0,
             "ticks": ""
            },
            "type": "choropleth"
           }
          ],
          "contour": [
           {
            "colorbar": {
             "outlinewidth": 0,
             "ticks": ""
            },
            "colorscale": [
             [
              0,
              "#0d0887"
             ],
             [
              0.1111111111111111,
              "#46039f"
             ],
             [
              0.2222222222222222,
              "#7201a8"
             ],
             [
              0.3333333333333333,
              "#9c179e"
             ],
             [
              0.4444444444444444,
              "#bd3786"
             ],
             [
              0.5555555555555556,
              "#d8576b"
             ],
             [
              0.6666666666666666,
              "#ed7953"
             ],
             [
              0.7777777777777778,
              "#fb9f3a"
             ],
             [
              0.8888888888888888,
              "#fdca26"
             ],
             [
              1,
              "#f0f921"
             ]
            ],
            "type": "contour"
           }
          ],
          "contourcarpet": [
           {
            "colorbar": {
             "outlinewidth": 0,
             "ticks": ""
            },
            "type": "contourcarpet"
           }
          ],
          "heatmap": [
           {
            "colorbar": {
             "outlinewidth": 0,
             "ticks": ""
            },
            "colorscale": [
             [
              0,
              "#0d0887"
             ],
             [
              0.1111111111111111,
              "#46039f"
             ],
             [
              0.2222222222222222,
              "#7201a8"
             ],
             [
              0.3333333333333333,
              "#9c179e"
             ],
             [
              0.4444444444444444,
              "#bd3786"
             ],
             [
              0.5555555555555556,
              "#d8576b"
             ],
             [
              0.6666666666666666,
              "#ed7953"
             ],
             [
              0.7777777777777778,
              "#fb9f3a"
             ],
             [
              0.8888888888888888,
              "#fdca26"
             ],
             [
              1,
              "#f0f921"
             ]
            ],
            "type": "heatmap"
           }
          ],
          "heatmapgl": [
           {
            "colorbar": {
             "outlinewidth": 0,
             "ticks": ""
            },
            "colorscale": [
             [
              0,
              "#0d0887"
             ],
             [
              0.1111111111111111,
              "#46039f"
             ],
             [
              0.2222222222222222,
              "#7201a8"
             ],
             [
              0.3333333333333333,
              "#9c179e"
             ],
             [
              0.4444444444444444,
              "#bd3786"
             ],
             [
              0.5555555555555556,
              "#d8576b"
             ],
             [
              0.6666666666666666,
              "#ed7953"
             ],
             [
              0.7777777777777778,
              "#fb9f3a"
             ],
             [
              0.8888888888888888,
              "#fdca26"
             ],
             [
              1,
              "#f0f921"
             ]
            ],
            "type": "heatmapgl"
           }
          ],
          "histogram": [
           {
            "marker": {
             "pattern": {
              "fillmode": "overlay",
              "size": 10,
              "solidity": 0.2
             }
            },
            "type": "histogram"
           }
          ],
          "histogram2d": [
           {
            "colorbar": {
             "outlinewidth": 0,
             "ticks": ""
            },
            "colorscale": [
             [
              0,
              "#0d0887"
             ],
             [
              0.1111111111111111,
              "#46039f"
             ],
             [
              0.2222222222222222,
              "#7201a8"
             ],
             [
              0.3333333333333333,
              "#9c179e"
             ],
             [
              0.4444444444444444,
              "#bd3786"
             ],
             [
              0.5555555555555556,
              "#d8576b"
             ],
             [
              0.6666666666666666,
              "#ed7953"
             ],
             [
              0.7777777777777778,
              "#fb9f3a"
             ],
             [
              0.8888888888888888,
              "#fdca26"
             ],
             [
              1,
              "#f0f921"
             ]
            ],
            "type": "histogram2d"
           }
          ],
          "histogram2dcontour": [
           {
            "colorbar": {
             "outlinewidth": 0,
             "ticks": ""
            },
            "colorscale": [
             [
              0,
              "#0d0887"
             ],
             [
              0.1111111111111111,
              "#46039f"
             ],
             [
              0.2222222222222222,
              "#7201a8"
             ],
             [
              0.3333333333333333,
              "#9c179e"
             ],
             [
              0.4444444444444444,
              "#bd3786"
             ],
             [
              0.5555555555555556,
              "#d8576b"
             ],
             [
              0.6666666666666666,
              "#ed7953"
             ],
             [
              0.7777777777777778,
              "#fb9f3a"
             ],
             [
              0.8888888888888888,
              "#fdca26"
             ],
             [
              1,
              "#f0f921"
             ]
            ],
            "type": "histogram2dcontour"
           }
          ],
          "mesh3d": [
           {
            "colorbar": {
             "outlinewidth": 0,
             "ticks": ""
            },
            "type": "mesh3d"
           }
          ],
          "parcoords": [
           {
            "line": {
             "colorbar": {
              "outlinewidth": 0,
              "ticks": ""
             }
            },
            "type": "parcoords"
           }
          ],
          "pie": [
           {
            "automargin": true,
            "type": "pie"
           }
          ],
          "scatter": [
           {
            "fillpattern": {
             "fillmode": "overlay",
             "size": 10,
             "solidity": 0.2
            },
            "type": "scatter"
           }
          ],
          "scatter3d": [
           {
            "line": {
             "colorbar": {
              "outlinewidth": 0,
              "ticks": ""
             }
            },
            "marker": {
             "colorbar": {
              "outlinewidth": 0,
              "ticks": ""
             }
            },
            "type": "scatter3d"
           }
          ],
          "scattercarpet": [
           {
            "marker": {
             "colorbar": {
              "outlinewidth": 0,
              "ticks": ""
             }
            },
            "type": "scattercarpet"
           }
          ],
          "scattergeo": [
           {
            "marker": {
             "colorbar": {
              "outlinewidth": 0,
              "ticks": ""
             }
            },
            "type": "scattergeo"
           }
          ],
          "scattergl": [
           {
            "marker": {
             "colorbar": {
              "outlinewidth": 0,
              "ticks": ""
             }
            },
            "type": "scattergl"
           }
          ],
          "scattermapbox": [
           {
            "marker": {
             "colorbar": {
              "outlinewidth": 0,
              "ticks": ""
             }
            },
            "type": "scattermapbox"
           }
          ],
          "scatterpolar": [
           {
            "marker": {
             "colorbar": {
              "outlinewidth": 0,
              "ticks": ""
             }
            },
            "type": "scatterpolar"
           }
          ],
          "scatterpolargl": [
           {
            "marker": {
             "colorbar": {
              "outlinewidth": 0,
              "ticks": ""
             }
            },
            "type": "scatterpolargl"
           }
          ],
          "scatterternary": [
           {
            "marker": {
             "colorbar": {
              "outlinewidth": 0,
              "ticks": ""
             }
            },
            "type": "scatterternary"
           }
          ],
          "surface": [
           {
            "colorbar": {
             "outlinewidth": 0,
             "ticks": ""
            },
            "colorscale": [
             [
              0,
              "#0d0887"
             ],
             [
              0.1111111111111111,
              "#46039f"
             ],
             [
              0.2222222222222222,
              "#7201a8"
             ],
             [
              0.3333333333333333,
              "#9c179e"
             ],
             [
              0.4444444444444444,
              "#bd3786"
             ],
             [
              0.5555555555555556,
              "#d8576b"
             ],
             [
              0.6666666666666666,
              "#ed7953"
             ],
             [
              0.7777777777777778,
              "#fb9f3a"
             ],
             [
              0.8888888888888888,
              "#fdca26"
             ],
             [
              1,
              "#f0f921"
             ]
            ],
            "type": "surface"
           }
          ],
          "table": [
           {
            "cells": {
             "fill": {
              "color": "#EBF0F8"
             },
             "line": {
              "color": "white"
             }
            },
            "header": {
             "fill": {
              "color": "#C8D4E3"
             },
             "line": {
              "color": "white"
             }
            },
            "type": "table"
           }
          ]
         },
         "layout": {
          "annotationdefaults": {
           "arrowcolor": "#2a3f5f",
           "arrowhead": 0,
           "arrowwidth": 1
          },
          "autotypenumbers": "strict",
          "coloraxis": {
           "colorbar": {
            "outlinewidth": 0,
            "ticks": ""
           }
          },
          "colorscale": {
           "diverging": [
            [
             0,
             "#8e0152"
            ],
            [
             0.1,
             "#c51b7d"
            ],
            [
             0.2,
             "#de77ae"
            ],
            [
             0.3,
             "#f1b6da"
            ],
            [
             0.4,
             "#fde0ef"
            ],
            [
             0.5,
             "#f7f7f7"
            ],
            [
             0.6,
             "#e6f5d0"
            ],
            [
             0.7,
             "#b8e186"
            ],
            [
             0.8,
             "#7fbc41"
            ],
            [
             0.9,
             "#4d9221"
            ],
            [
             1,
             "#276419"
            ]
           ],
           "sequential": [
            [
             0,
             "#0d0887"
            ],
            [
             0.1111111111111111,
             "#46039f"
            ],
            [
             0.2222222222222222,
             "#7201a8"
            ],
            [
             0.3333333333333333,
             "#9c179e"
            ],
            [
             0.4444444444444444,
             "#bd3786"
            ],
            [
             0.5555555555555556,
             "#d8576b"
            ],
            [
             0.6666666666666666,
             "#ed7953"
            ],
            [
             0.7777777777777778,
             "#fb9f3a"
            ],
            [
             0.8888888888888888,
             "#fdca26"
            ],
            [
             1,
             "#f0f921"
            ]
           ],
           "sequentialminus": [
            [
             0,
             "#0d0887"
            ],
            [
             0.1111111111111111,
             "#46039f"
            ],
            [
             0.2222222222222222,
             "#7201a8"
            ],
            [
             0.3333333333333333,
             "#9c179e"
            ],
            [
             0.4444444444444444,
             "#bd3786"
            ],
            [
             0.5555555555555556,
             "#d8576b"
            ],
            [
             0.6666666666666666,
             "#ed7953"
            ],
            [
             0.7777777777777778,
             "#fb9f3a"
            ],
            [
             0.8888888888888888,
             "#fdca26"
            ],
            [
             1,
             "#f0f921"
            ]
           ]
          },
          "colorway": [
           "#636efa",
           "#EF553B",
           "#00cc96",
           "#ab63fa",
           "#FFA15A",
           "#19d3f3",
           "#FF6692",
           "#B6E880",
           "#FF97FF",
           "#FECB52"
          ],
          "font": {
           "color": "#2a3f5f"
          },
          "geo": {
           "bgcolor": "white",
           "lakecolor": "white",
           "landcolor": "#E5ECF6",
           "showlakes": true,
           "showland": true,
           "subunitcolor": "white"
          },
          "hoverlabel": {
           "align": "left"
          },
          "hovermode": "closest",
          "mapbox": {
           "style": "light"
          },
          "paper_bgcolor": "white",
          "plot_bgcolor": "#E5ECF6",
          "polar": {
           "angularaxis": {
            "gridcolor": "white",
            "linecolor": "white",
            "ticks": ""
           },
           "bgcolor": "#E5ECF6",
           "radialaxis": {
            "gridcolor": "white",
            "linecolor": "white",
            "ticks": ""
           }
          },
          "scene": {
           "xaxis": {
            "backgroundcolor": "#E5ECF6",
            "gridcolor": "white",
            "gridwidth": 2,
            "linecolor": "white",
            "showbackground": true,
            "ticks": "",
            "zerolinecolor": "white"
           },
           "yaxis": {
            "backgroundcolor": "#E5ECF6",
            "gridcolor": "white",
            "gridwidth": 2,
            "linecolor": "white",
            "showbackground": true,
            "ticks": "",
            "zerolinecolor": "white"
           },
           "zaxis": {
            "backgroundcolor": "#E5ECF6",
            "gridcolor": "white",
            "gridwidth": 2,
            "linecolor": "white",
            "showbackground": true,
            "ticks": "",
            "zerolinecolor": "white"
           }
          },
          "shapedefaults": {
           "line": {
            "color": "#2a3f5f"
           }
          },
          "ternary": {
           "aaxis": {
            "gridcolor": "white",
            "linecolor": "white",
            "ticks": ""
           },
           "baxis": {
            "gridcolor": "white",
            "linecolor": "white",
            "ticks": ""
           },
           "bgcolor": "#E5ECF6",
           "caxis": {
            "gridcolor": "white",
            "linecolor": "white",
            "ticks": ""
           }
          },
          "title": {
           "x": 0.05
          },
          "xaxis": {
           "automargin": true,
           "gridcolor": "white",
           "linecolor": "white",
           "ticks": "",
           "title": {
            "standoff": 15
           },
           "zerolinecolor": "white",
           "zerolinewidth": 2
          },
          "yaxis": {
           "automargin": true,
           "gridcolor": "white",
           "linecolor": "white",
           "ticks": "",
           "title": {
            "standoff": 15
           },
           "zerolinecolor": "white",
           "zerolinewidth": 2
          }
         }
        },
        "xaxis": {
         "anchor": "y",
         "domain": [
          0,
          1
         ],
         "title": {
          "text": "idTerminal"
         }
        },
        "yaxis": {
         "anchor": "x",
         "domain": [
          0,
          1
         ],
         "title": {
          "text": "count"
         }
        }
       }
      }
     },
     "metadata": {},
     "output_type": "display_data"
    }
   ],
   "source": [
    "opers = [\"0\", \"1\", \"3\", \"4\", \"7\"]\n",
    "df_long['oper'] = df_long['oper'].apply(lambda x: x if x in opers else 'otros')\n",
    "fig = px.bar(df_long, x='idTerminal', y='count', color='oper', barmode='stack')\n",
    "fig.show()"
   ]
  },
  {
   "cell_type": "markdown",
   "metadata": {},
   "source": [
    "Al generar un agrupamiento de las operaciones con bajo volumen transaccional, se destaca aun mejor la importancia que tienen las operaciones _0_, _3_, _1_, _7_, especialemnte la primera, la cual predomina en todas las terminales."
   ]
  },
  {
   "cell_type": "markdown",
   "metadata": {},
   "source": [
    "# Conclusión"
   ]
  },
  {
   "cell_type": "markdown",
   "metadata": {},
   "source": [
    "En resumen, se observa una serie de operaciones que tinen un volumen transaccional muy superior a las demás, estas son: \n",
    "_0_, _3_, _1_, _7_.\n",
    "\n",
    "Además, se destaca como estas predominan en todas las terminales, incluidas las terminales con mayor demanda:\n",
    "_1774_, _1908_, _1964_, _1910_ y _1980_.\n",
    "\n",
    "En consecuencia, aportaria un gran valor a la organización establecer un pronostico que aproxime la demanda por estas operaciones dentro de las terminales en mención, con la idea de establecer las estrategias correspondientes para garantizar un adecuado funcionamiento de las terminales y sus modulos de servicio."
   ]
  },
  {
   "cell_type": "markdown",
   "metadata": {},
   "source": [
    "# Observaciones sobre la calidad y cantidad de los datos"
   ]
  },
  {
   "cell_type": "markdown",
   "metadata": {},
   "source": [
    "### Calidad:\n",
    "De acuerdo con el análisis, se observa que se cuenta con una base de datos sencilla, con 3 campos que no cuentan con campos vacíos o nulos. Se observ además que los registros son consistentes, es decir, manejan una estructura definida que evita varios pasos de pre-procesamiento y pasar al modelamiento mucho más rapido. Como posible mejora se podria agregar un mejor contexto respecto al escenario en que los datos son obtenidos.\n",
    "\n",
    "### Cantidad:\n",
    "Si bien se cuenta con un amplio volumen de transacciones, considero que se hace necesario tener información con un lapso de tiempo mucho más amplio, esto con la idea de identificar si el comportamiento transaccional está sujeto a alguna estacionalidad de mediano o largo plazo, lo cual permitiria tener un pronostico más exacto y que tenga en cuenta periodos de crecimiento o decrecimiento transaccional (p.e: diciembre y enero, respectivamente). Además, dado que el propósito es establecer el pronostico para cada terminal, cuando se termina haciendo el agrupamiento de datos se termina contando con pocos registros para cada terminal, lo cual influye significativamente en el desempeño de los modelos.\n",
    "Una mayor ventana temporal permitira ejecutar modelos de series de tiempo que pueden llegar a tener un muy buen desempeño como los ARIMA o SARIMA.\n",
    "\n",
    "### Modelos seleccionados\n",
    "Para la realización del pronostico se tuvieron en cuenta inicialmente 4 modelos:\n",
    "\n",
    "- SARIMA\n",
    "- Random Forest\n",
    "- Support Vector Machine\n",
    "- Gradient Boosting\n",
    "\n",
    "No obstante, el modelo SARIMA fue descartado por las restricciones comentadas anteriormente. Se decidio mantener los modelos de Random Forest y Gradient Boosting debido a que su estructura de ensamble es una herramienta poderosa para tener resultados más precisos. El modelo SVM se considera especialmente por su función de kernel y la flexibilidad para modelar relaciones lineales y no lineales.\n",
    "\n",
    "Los resultados de los modelos, así como el pronóstico son expuestos en el cuaderno ___model.ipynb___ "
   ]
  }
 ],
 "metadata": {
  "kernelspec": {
   "display_name": "env",
   "language": "python",
   "name": "python3"
  },
  "language_info": {
   "codemirror_mode": {
    "name": "ipython",
    "version": 3
   },
   "file_extension": ".py",
   "mimetype": "text/x-python",
   "name": "python",
   "nbconvert_exporter": "python",
   "pygments_lexer": "ipython3",
   "version": "3.12.1"
  }
 },
 "nbformat": 4,
 "nbformat_minor": 2
}
